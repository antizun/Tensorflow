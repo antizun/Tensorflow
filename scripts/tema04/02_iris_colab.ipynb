{
  "nbformat": 4,
  "nbformat_minor": 0,
  "metadata": {
    "colab": {
      "name": "02-iris_colab.ipynb",
      "provenance": [],
      "collapsed_sections": []
    },
    "kernelspec": {
      "display_name": "Python 3",
      "language": "python",
      "name": "python3"
    },
    "language_info": {
      "codemirror_mode": {
        "name": "ipython",
        "version": 3
      },
      "file_extension": ".py",
      "mimetype": "text/x-python",
      "name": "python",
      "nbconvert_exporter": "python",
      "pygments_lexer": "ipython3",
      "version": "3.8.3"
    },
    "accelerator": "GPU"
  },
  "cells": [
    {
      "cell_type": "markdown",
      "metadata": {
        "colab_type": "text",
        "id": "KdUFcDsdzRyw"
      },
      "source": [
        "# Clonamos el repositorio para obtener los dataSet"
      ]
    },
    {
      "cell_type": "code",
      "metadata": {
        "colab_type": "code",
        "id": "mHReFf3_y9ms",
        "colab": {}
      },
      "source": [
        "!git clone https://github.com/joanby/tensorflow.git"
      ],
      "execution_count": null,
      "outputs": []
    },
    {
      "cell_type": "markdown",
      "metadata": {
        "colab_type": "text",
        "id": "vNKZXgtKzU2x"
      },
      "source": [
        "# Damos acceso a nuestro Drive"
      ]
    },
    {
      "cell_type": "code",
      "metadata": {
        "colab_type": "code",
        "id": "5gu7KWnzzUQ0",
        "colab": {}
      },
      "source": [
        "from google.colab import drive\n",
        "drive.mount('/content/drive')"
      ],
      "execution_count": null,
      "outputs": []
    },
    {
      "cell_type": "markdown",
      "metadata": {
        "colab_type": "text",
        "id": "1gUxIkHWzfHV"
      },
      "source": [
        "# Test it"
      ]
    },
    {
      "cell_type": "code",
      "metadata": {
        "colab_type": "code",
        "id": "mIQt3jBMzYRE",
        "colab": {}
      },
      "source": [
        "!ls '/content/drive/My Drive' "
      ],
      "execution_count": null,
      "outputs": []
    },
    {
      "cell_type": "markdown",
      "metadata": {
        "colab_type": "text",
        "id": "mHsK36uN0XB-"
      },
      "source": [
        "# Google colab tools"
      ]
    },
    {
      "cell_type": "code",
      "metadata": {
        "colab_type": "code",
        "id": "kTzwfUPWzrm4",
        "colab": {}
      },
      "source": [
        "from google.colab import files # Para manejar los archivos y, por ejemplo, exportar a su navegador\n",
        "import glob # Para manejar los archivos y, por ejemplo, exportar a su navegador\n",
        "from google.colab import drive # Montar tu Google drive"
      ],
      "execution_count": 1,
      "outputs": []
    },
    {
      "cell_type": "markdown",
      "metadata": {
        "id": "yQQ8nLiMY6wM",
        "colab_type": "text"
      },
      "source": [
        "##Especificando la versión de TensorFlow\n",
        "\n",
        "Ejecutando \"importar tensorflow\" importará la versión por defecto (actualmente 2.x). Puedes usar la 1.x ejecutando una celda con la \"versión mágica de tensorflow\" **antes de ejecutar \"importar tensorflow\".\n",
        "\n",
        "### Si no funciona hacer el pip install\n"
      ]
    },
    {
      "cell_type": "code",
      "metadata": {
        "id": "1j---G3ZY6wN",
        "colab_type": "code",
        "colab": {
          "base_uri": "https://localhost:8080/",
          "height": 34
        },
        "outputId": "05abac25-8e51-46a3-ea05-e7642cb53235"
      },
      "source": [
        "#!pip install tensorflow==1.14\n",
        "%tensorflow_version 1.x"
      ],
      "execution_count": 2,
      "outputs": [
        {
          "output_type": "stream",
          "text": [
            "TensorFlow 1.x selected.\n"
          ],
          "name": "stdout"
        }
      ]
    },
    {
      "cell_type": "markdown",
      "metadata": {
        "id": "S-OIfuWLujbt",
        "colab_type": "text"
      },
      "source": [
        "# Importar Tensorflow"
      ]
    },
    {
      "cell_type": "code",
      "metadata": {
        "id": "OPSus73fumtP",
        "colab_type": "code",
        "colab": {
          "base_uri": "https://localhost:8080/",
          "height": 34
        },
        "outputId": "e22af1fe-a39e-4993-f5a8-c5714fe0c2ac"
      },
      "source": [
        "import tensorflow as tf\n",
        "print(tf.__version__)\n",
        "import matplotlib.pyplot as plt"
      ],
      "execution_count": 3,
      "outputs": [
        {
          "output_type": "stream",
          "text": [
            "1.15.2\n"
          ],
          "name": "stdout"
        }
      ]
    },
    {
      "cell_type": "code",
      "metadata": {
        "id": "VQheSGsEBdD3",
        "colab_type": "code",
        "colab": {}
      },
      "source": [
        "session = tf.Session()"
      ],
      "execution_count": 4,
      "outputs": []
    },
    {
      "cell_type": "markdown",
      "metadata": {
        "id": "qzlBylUEmQJ0",
        "colab_type": "text"
      },
      "source": [
        "# Predicción de la longitud del sépalo en función de la anchura del pétalo "
      ]
    },
    {
      "cell_type": "code",
      "metadata": {
        "id": "AwPNJepKmJAJ",
        "colab_type": "code",
        "colab": {}
      },
      "source": [
        "import matplotlib.pyplot as plt\n",
        "import numpy as np\n",
        "from sklearn import datasets"
      ],
      "execution_count": 17,
      "outputs": []
    },
    {
      "cell_type": "code",
      "metadata": {
        "id": "FvgbwHq3mbJv",
        "colab_type": "code",
        "colab": {}
      },
      "source": [
        "iris = datasets.load_iris()"
      ],
      "execution_count": 18,
      "outputs": []
    },
    {
      "cell_type": "code",
      "metadata": {
        "id": "OkJtEI9hEuu0",
        "colab_type": "code",
        "colab": {}
      },
      "source": [
        "x_vals = np.array([x[3] for x in iris.data])\n",
        "y_vals = np.array([x[0] for x in iris.data])"
      ],
      "execution_count": 19,
      "outputs": []
    },
    {
      "cell_type": "code",
      "metadata": {
        "id": "Aqfzx5TPPKBT",
        "colab_type": "code",
        "colab": {
          "base_uri": "https://localhost:8080/",
          "height": 282
        },
        "outputId": "59e4e5d4-f83c-486e-b5b9-8e050c0d4992"
      },
      "source": [
        "plt.plot(x_vals, y_vals, 'o', label = \"Datos\")"
      ],
      "execution_count": 20,
      "outputs": [
        {
          "output_type": "execute_result",
          "data": {
            "text/plain": [
              "[<matplotlib.lines.Line2D at 0x7f1ccd7308d0>]"
            ]
          },
          "metadata": {
            "tags": []
          },
          "execution_count": 20
        },
        {
          "output_type": "display_data",
          "data": {
            "image/png": "[encoded data removed]",
            "text/plain": [
              "<Figure size 432x288 with 1 Axes>"
            ]
          },
          "metadata": {
            "tags": [],
            "needs_background": "light"
          }
        }
      ]
    },
    {
      "cell_type": "code",
      "metadata": {
        "id": "KaWS5fKCPMTy",
        "colab_type": "code",
        "colab": {}
      },
      "source": [
        "learning_rate = 0.05\n",
        "batch_size = 25\n",
        "x_data = tf.placeholder(shape=[None, 1], dtype=tf.float32)\n",
        "y_target = tf.placeholder(shape=[None, 1], dtype = tf.float32)\n",
        "A = tf.Variable(tf.random_normal(shape=[1,1]))\n",
        "b = tf.Variable(tf.random_normal(shape=[1,1]))"
      ],
      "execution_count": 21,
      "outputs": []
    },
    {
      "cell_type": "markdown",
      "metadata": {
        "id": "QY1eEgaW9-H1",
        "colab_type": "text"
      },
      "source": [
        "$$y = Ax+b$$"
      ]
    },
    {
      "cell_type": "code",
      "metadata": {
        "id": "JSVevVFAmoue",
        "colab_type": "code",
        "colab": {}
      },
      "source": [
        "y_predict = tf.add(tf.matmul(x_data, A), b)"
      ],
      "execution_count": 22,
      "outputs": []
    },
    {
      "cell_type": "code",
      "metadata": {
        "id": "onQN1h1qB11F",
        "colab_type": "code",
        "colab": {}
      },
      "source": [
        "loss_l2 = tf.reduce_mean(tf.square(y_target-y_predict))\n",
        "my_optim = tf.train.GradientDescentOptimizer(learning_rate=learning_rate)\n",
        "train_step = my_optim.minimize(loss_l2)\n",
        "init = tf.global_variables_initializer()\n",
        "session.run(init)"
      ],
      "execution_count": 23,
      "outputs": []
    },
    {
      "cell_type": "code",
      "metadata": {
        "id": "Q9V3JA_4AYq7",
        "colab_type": "code",
        "colab": {
          "base_uri": "https://localhost:8080/",
          "height": 187
        },
        "outputId": "ad8c1eeb-8078-403d-cfd2-d51efa51bf8a"
      },
      "source": [
        "loss_vect_l2 = []\n",
        "for i in range(100):\n",
        "    rand_idx = np.random.choice(len(x_vals), size = batch_size)\n",
        "    rand_x = np.transpose([x_vals[rand_idx]])\n",
        "    rand_y = np.transpose([y_vals[rand_idx]])\n",
        "\n",
        "    session.run(train_step, feed_dict={x_data: rand_x, y_target: rand_y})\n",
        "    temp_loss = session.run(loss_l2, feed_dict={x_data:rand_x, y_target: rand_y})\n",
        "    loss_vect_l2.append(temp_loss)\n",
        "    if(i+1)%10==0:\n",
        "        print(\"Paso #\"+str(i+1)+\", A=\"+str(session.run(A))+\", b=\"+str(session.run(b))+\n",
        "             \", Loss = \"+str(temp_loss))"
      ],
      "execution_count": 24,
      "outputs": [
        {
          "output_type": "stream",
          "text": [
            "Paso #10, A=[[2.5702639]], b=[[1.8940201]], Loss = 2.238242\n",
            "Paso #20, A=[[2.443565]], b=[[2.546067]], Loss = 1.6046851\n",
            "Paso #30, A=[[2.0648012]], b=[[2.9470484]], Loss = 0.90077937\n",
            "Paso #40, A=[[1.9316216]], b=[[3.3213344]], Loss = 1.0937263\n",
            "Paso #50, A=[[1.6970257]], b=[[3.5994139]], Loss = 0.60091\n",
            "Paso #60, A=[[1.5318245]], b=[[3.7921991]], Loss = 0.49860883\n",
            "Paso #70, A=[[1.4156036]], b=[[3.9803624]], Loss = 0.416111\n",
            "Paso #80, A=[[1.3282495]], b=[[4.1564927]], Loss = 0.3479068\n",
            "Paso #90, A=[[1.264422]], b=[[4.271212]], Loss = 0.23886634\n",
            "Paso #100, A=[[1.2179828]], b=[[4.3918557]], Loss = 0.25204197\n"
          ],
          "name": "stdout"
        }
      ]
    },
    {
      "cell_type": "code",
      "metadata": {
        "id": "7L3w47a13T0N",
        "colab_type": "code",
        "colab": {}
      },
      "source": [
        "[[slope]] = session.run(A)\n",
        "[[intercept]] = session.run(b)"
      ],
      "execution_count": 25,
      "outputs": []
    },
    {
      "cell_type": "code",
      "metadata": {
        "id": "0i7Vcc083U7X",
        "colab_type": "code",
        "colab": {
          "base_uri": "https://localhost:8080/",
          "height": 34
        },
        "outputId": "f7b4c835-548f-47e8-c07b-60fdf49ef9e6"
      },
      "source": [
        "print(str(slope)+\"x+\"+str(intercept))"
      ],
      "execution_count": 26,
      "outputs": [
        {
          "output_type": "stream",
          "text": [
            "1.2179828x+4.3918557\n"
          ],
          "name": "stdout"
        }
      ]
    },
    {
      "cell_type": "code",
      "metadata": {
        "id": "VxrVnxRU3XPL",
        "colab_type": "code",
        "colab": {}
      },
      "source": [
        "best_fit = []\n",
        "for i in x_vals:\n",
        "    best_fit.append(slope*i+intercept)"
      ],
      "execution_count": 27,
      "outputs": []
    },
    {
      "cell_type": "code",
      "metadata": {
        "id": "z6mQRX6a_lCS",
        "colab_type": "code",
        "colab": {}
      },
      "source": [
        "A_tensor = tf.constant(A)\n",
        "b_tensor = tf.constant(b)"
      ],
      "execution_count": null,
      "outputs": []
    },
    {
      "cell_type": "code",
      "metadata": {
        "id": "HLH3ctU4AmV4",
        "colab_type": "code",
        "colab": {
          "base_uri": "https://localhost:8080/",
          "height": 295
        },
        "outputId": "b5e7c35a-85ce-4031-bff4-1d1c5641fc6a"
      },
      "source": [
        "plt.plot(x_vals, y_vals, 'o', label = \"Datos\")\n",
        "plt.plot(x_vals, best_fit, 'r-', label=\"Recta de regresión con TF\", linewidth=3)\n",
        "plt.legend(loc = \"upper left\")\n",
        "plt.title(\"Longitud de sépalos vs Anchura de Pétalos\")\n",
        "plt.xlabel(\"Anchura del Pétalo\")\n",
        "plt.ylabel(\"Longitud del Sépalo\")\n",
        "plt.show()"
      ],
      "execution_count": 28,
      "outputs": [
        {
          "output_type": "display_data",
          "data": {
            "image/png": "[encoded data removed]",
            "text/plain": [
              "<Figure size 432x288 with 1 Axes>"
            ]
          },
          "metadata": {
            "tags": [],
            "needs_background": "light"
          }
        }
      ]
    },
    {
      "cell_type": "code",
      "metadata": {
        "id": "K0wQBE9rAnWw",
        "colab_type": "code",
        "colab": {
          "base_uri": "https://localhost:8080/",
          "height": 296
        },
        "outputId": "7c250a20-b7e2-4b9e-e1af-c1f5452f69fc"
      },
      "source": [
        "plt.plot(loss_vect_l2, \"k-\")\n",
        "plt.title(\"Función de pérdidas con L2\")\n",
        "plt.xlabel(\"Iteración del algoritmo\")\n",
        "plt.ylabel(\"Medida de L2\")\n",
        "plt.show()"
      ],
      "execution_count": 29,
      "outputs": [
        {
          "output_type": "display_data",
          "data": {
            "image/png": "[encoded data removed]",
            "text/plain": [
              "<Figure size 432x288 with 1 Axes>"
            ]
          },
          "metadata": {
            "tags": [],
            "needs_background": "light"
          }
        }
      ]
    },
    {
      "cell_type": "code",
      "metadata": {
        "id": "tUs90_oMAoR0",
        "colab_type": "code",
        "colab": {}
      },
      "source": [
        "from tensorflow.python.framework import ops\n",
        "ops.reset_default_graph()\n",
        "session = tf.Session()"
      ],
      "execution_count": 30,
      "outputs": []
    },
    {
      "cell_type": "code",
      "metadata": {
        "id": "N8B5rVT7ApsH",
        "colab_type": "code",
        "colab": {}
      },
      "source": [
        "x_data = tf.placeholder(shape=[None, 1], dtype=tf.float32)\n",
        "y_target = tf.placeholder(shape=[None, 1], dtype = tf.float32)\n",
        "A = tf.Variable(tf.random_normal(shape=[1,1]))\n",
        "b = tf.Variable(tf.random_normal(shape=[1,1]))"
      ],
      "execution_count": 31,
      "outputs": []
    },
    {
      "cell_type": "code",
      "metadata": {
        "id": "4LdooxiUAq3I",
        "colab_type": "code",
        "colab": {}
      },
      "source": [
        "y_predict = tf.add(tf.matmul(x_data, A), b)"
      ],
      "execution_count": 32,
      "outputs": []
    },
    {
      "cell_type": "code",
      "metadata": {
        "id": "LWHbsPX6K8bW",
        "colab_type": "code",
        "colab": {}
      },
      "source": [
        "loss_l1 = tf.reduce_mean(tf.abs(y_target-y_predict))\n",
        "my_optim = tf.train.GradientDescentOptimizer(learning_rate=learning_rate)\n",
        "train_step = my_optim.minimize(loss_l1)\n",
        "init = tf.global_variables_initializer()\n",
        "session.run(init)"
      ],
      "execution_count": 33,
      "outputs": []
    },
    {
      "cell_type": "code",
      "metadata": {
        "id": "9MVwfYmx-dcs",
        "colab_type": "code",
        "colab": {
          "base_uri": "https://localhost:8080/",
          "height": 1000
        },
        "outputId": "d52916d9-82b8-48f1-936a-7db41a37448e"
      },
      "source": [
        "loss_vect_l1 = []\n",
        "for i in range(1000):\n",
        "    rand_idx = np.random.choice(len(x_vals), size = batch_size)\n",
        "    rand_x = np.transpose([x_vals[rand_idx]])\n",
        "    rand_y = np.transpose([y_vals[rand_idx]])\n",
        "\n",
        "    session.run(train_step, feed_dict={x_data: rand_x, y_target: rand_y})\n",
        "    temp_loss = session.run(loss_l1, feed_dict={x_data:rand_x, y_target: rand_y})\n",
        "    loss_vect_l1.append(temp_loss)\n",
        "    if(i+1)%10==0:\n",
        "        print(\"Paso #\"+str(i+1)+\", A=\"+str(session.run(A))+\", b=\"+str(session.run(b))+\n",
        "             \", Loss = \"+str(temp_loss))"
      ],
      "execution_count": 34,
      "outputs": [
        {
          "output_type": "stream",
          "text": [
            "Paso #10, A=[[-0.68044317]], b=[[0.4101694]], Loss = 6.098814\n",
            "Paso #20, A=[[-0.06924318]], b=[[0.9101695]], Loss = 5.282063\n",
            "Paso #30, A=[[0.55795676]], b=[[1.4101691]], Loss = 3.8800235\n",
            "Paso #40, A=[[1.1767567]], b=[[1.9101686]], Loss = 2.6108954\n",
            "Paso #50, A=[[1.7673566]], b=[[2.3981683]], Loss = 1.2578897\n",
            "Paso #60, A=[[2.0065567]], b=[[2.730168]], Loss = 0.8926019\n",
            "Paso #70, A=[[2.0241568]], b=[[2.942168]], Loss = 0.818137\n",
            "Paso #80, A=[[1.9581567]], b=[[3.098168]], Loss = 0.8434971\n",
            "Paso #90, A=[[1.8269566]], b=[[3.2181678]], Loss = 0.73853385\n",
            "Paso #100, A=[[1.7341566]], b=[[3.3421674]], Loss = 0.7229905\n",
            "Paso #110, A=[[1.6783565]], b=[[3.4901671]], Loss = 0.7740648\n",
            "Paso #120, A=[[1.6171564]], b=[[3.618167]], Loss = 0.6119963\n",
            "Paso #130, A=[[1.4913564]], b=[[3.722167]], Loss = 0.6798033\n",
            "Paso #140, A=[[1.4779564]], b=[[3.8741667]], Loss = 0.49725068\n",
            "Paso #150, A=[[1.3627564]], b=[[3.9661665]], Loss = 0.46410087\n",
            "Paso #160, A=[[1.2995563]], b=[[4.106167]], Loss = 0.47439674\n",
            "Paso #170, A=[[1.220756]], b=[[4.2021675]], Loss = 0.42782333\n",
            "Paso #180, A=[[1.1495559]], b=[[4.2941675]], Loss = 0.41829652\n",
            "Paso #190, A=[[1.111156]], b=[[4.3741684]], Loss = 0.3067914\n",
            "Paso #200, A=[[1.0955558]], b=[[4.434169]], Loss = 0.38953492\n",
            "Paso #210, A=[[1.0551558]], b=[[4.50617]], Loss = 0.3912021\n",
            "Paso #220, A=[[1.0267558]], b=[[4.558171]], Loss = 0.34660178\n",
            "Paso #230, A=[[1.0191557]], b=[[4.6021705]], Loss = 0.38192093\n",
            "Paso #240, A=[[0.9999557]], b=[[4.650171]], Loss = 0.35794517\n",
            "Paso #250, A=[[0.90895575]], b=[[4.626171]], Loss = 0.3719556\n",
            "Paso #260, A=[[0.9023556]], b=[[4.6901712]], Loss = 0.2842801\n",
            "Paso #270, A=[[0.8631556]], b=[[4.706171]], Loss = 0.38624343\n",
            "Paso #280, A=[[0.84255564]], b=[[4.7181706]], Loss = 0.3300338\n",
            "Paso #290, A=[[0.83395565]], b=[[4.766171]], Loss = 0.3748256\n",
            "Paso #300, A=[[0.8981555]], b=[[4.8141713]], Loss = 0.31682292\n",
            "Paso #310, A=[[0.9055554]], b=[[4.8061705]], Loss = 0.46716118\n",
            "Paso #320, A=[[0.86595535]], b=[[4.794171]], Loss = 0.29110256\n",
            "Paso #330, A=[[0.8419553]], b=[[4.7781715]], Loss = 0.34533775\n",
            "Paso #340, A=[[0.87195534]], b=[[4.818172]], Loss = 0.37798485\n",
            "Paso #350, A=[[0.8327554]], b=[[4.7901716]], Loss = 0.39480674\n",
            "Paso #360, A=[[0.8489554]], b=[[4.7821717]], Loss = 0.32621402\n",
            "Paso #370, A=[[0.8781555]], b=[[4.798172]], Loss = 0.2689191\n",
            "Paso #380, A=[[0.8473556]], b=[[4.786172]], Loss = 0.2564565\n",
            "Paso #390, A=[[0.8471556]], b=[[4.8021717]], Loss = 0.31462252\n",
            "Paso #400, A=[[0.8579556]], b=[[4.822171]], Loss = 0.2531346\n",
            "Paso #410, A=[[0.8207556]], b=[[4.7861714]], Loss = 0.34054145\n",
            "Paso #420, A=[[0.8177556]], b=[[4.806172]], Loss = 0.33216447\n",
            "Paso #430, A=[[0.8673556]], b=[[4.8141713]], Loss = 0.37251782\n",
            "Paso #440, A=[[0.8293556]], b=[[4.798171]], Loss = 0.33144942\n",
            "Paso #450, A=[[0.8199556]], b=[[4.794172]], Loss = 0.30168644\n",
            "Paso #460, A=[[0.8431555]], b=[[4.8061724]], Loss = 0.31117034\n",
            "Paso #470, A=[[0.86395556]], b=[[4.8181725]], Loss = 0.29431942\n",
            "Paso #480, A=[[0.8451556]], b=[[4.8141727]], Loss = 0.23953122\n",
            "Paso #490, A=[[0.82155555]], b=[[4.8021727]], Loss = 0.36894798\n",
            "Paso #500, A=[[0.80675566]], b=[[4.782172]], Loss = 0.3244136\n",
            "Paso #510, A=[[0.85255563]], b=[[4.8301725]], Loss = 0.36266693\n",
            "Paso #520, A=[[0.8205555]], b=[[4.7981725]], Loss = 0.32581535\n",
            "Paso #530, A=[[0.8483556]], b=[[4.7981725]], Loss = 0.45520583\n",
            "Paso #540, A=[[0.8845556]], b=[[4.8261733]], Loss = 0.4532029\n",
            "Paso #550, A=[[0.84555554]], b=[[4.778173]], Loss = 0.42150813\n",
            "Paso #560, A=[[0.8663555]], b=[[4.782173]], Loss = 0.47904944\n",
            "Paso #570, A=[[0.8481555]], b=[[4.7701726]], Loss = 0.39834708\n",
            "Paso #580, A=[[0.89035547]], b=[[4.806173]], Loss = 0.3693075\n",
            "Paso #590, A=[[0.8723554]], b=[[4.8061724]], Loss = 0.29677147\n",
            "Paso #600, A=[[0.8473554]], b=[[4.8061714]], Loss = 0.36512345\n",
            "Paso #610, A=[[0.8587554]], b=[[4.8101707]], Loss = 0.24447493\n",
            "Paso #620, A=[[0.8659554]], b=[[4.8021708]], Loss = 0.41833207\n",
            "Paso #630, A=[[0.8503554]], b=[[4.7861705]], Loss = 0.43649635\n",
            "Paso #640, A=[[0.8547554]], b=[[4.7861705]], Loss = 0.36753616\n",
            "Paso #650, A=[[0.8393554]], b=[[4.7701707]], Loss = 0.37381077\n",
            "Paso #660, A=[[0.84295535]], b=[[4.7701707]], Loss = 0.39907768\n",
            "Paso #670, A=[[0.86795545]], b=[[4.78217]], Loss = 0.37781373\n",
            "Paso #680, A=[[0.8431554]], b=[[4.7661695]], Loss = 0.39362776\n",
            "Paso #690, A=[[0.84955543]], b=[[4.782171]], Loss = 0.33806932\n",
            "Paso #700, A=[[0.84995544]], b=[[4.7901707]], Loss = 0.39661834\n",
            "Paso #710, A=[[0.8579554]], b=[[4.8101707]], Loss = 0.3587795\n",
            "Paso #720, A=[[0.7987554]], b=[[4.7541704]], Loss = 0.29353133\n",
            "Paso #730, A=[[0.84735537]], b=[[4.8181705]], Loss = 0.33367363\n",
            "Paso #740, A=[[0.85155535]], b=[[4.798171]], Loss = 0.48203117\n",
            "Paso #750, A=[[0.8687553]], b=[[4.834172]], Loss = 0.3567389\n",
            "Paso #760, A=[[0.90455526]], b=[[4.814172]], Loss = 0.29120758\n",
            "Paso #770, A=[[0.86315525]], b=[[4.8101726]], Loss = 0.33831447\n",
            "Paso #780, A=[[0.8189552]], b=[[4.822172]], Loss = 0.369636\n",
            "Paso #790, A=[[0.8427552]], b=[[4.826172]], Loss = 0.29003084\n",
            "Paso #800, A=[[0.8095552]], b=[[4.802171]], Loss = 0.39398047\n",
            "Paso #810, A=[[0.8299553]], b=[[4.822171]], Loss = 0.41178536\n",
            "Paso #820, A=[[0.8133552]], b=[[4.7981715]], Loss = 0.37285653\n",
            "Paso #830, A=[[0.83755517]], b=[[4.822172]], Loss = 0.30700648\n",
            "Paso #840, A=[[0.8467552]], b=[[4.8341722]], Loss = 0.3327449\n",
            "Paso #850, A=[[0.84135514]], b=[[4.8101726]], Loss = 0.36167604\n",
            "Paso #860, A=[[0.84975505]], b=[[4.810172]], Loss = 0.33300194\n",
            "Paso #870, A=[[0.84795517]], b=[[4.8181715]], Loss = 0.43866113\n",
            "Paso #880, A=[[0.8421551]], b=[[4.814171]], Loss = 0.38525707\n",
            "Paso #890, A=[[0.848955]], b=[[4.8261704]], Loss = 0.35466033\n",
            "Paso #900, A=[[0.79715496]], b=[[4.8141713]], Loss = 0.43216884\n",
            "Paso #910, A=[[0.852955]], b=[[4.822171]], Loss = 0.4518148\n",
            "Paso #920, A=[[0.836755]], b=[[4.8181705]], Loss = 0.4020202\n",
            "Paso #930, A=[[0.769955]], b=[[4.786171]], Loss = 0.30926487\n",
            "Paso #940, A=[[0.854555]], b=[[4.8261714]], Loss = 0.34696704\n",
            "Paso #950, A=[[0.8405549]], b=[[4.8181715]], Loss = 0.28137028\n",
            "Paso #960, A=[[0.86095494]], b=[[4.798172]], Loss = 0.31094363\n",
            "Paso #970, A=[[0.80415505]], b=[[4.782172]], Loss = 0.30473146\n",
            "Paso #980, A=[[0.83275497]], b=[[4.7941723]], Loss = 0.38364196\n",
            "Paso #990, A=[[0.8559549]], b=[[4.7861714]], Loss = 0.27704236\n",
            "Paso #1000, A=[[0.8271549]], b=[[4.7741714]], Loss = 0.39996088\n"
          ],
          "name": "stdout"
        }
      ]
    },
    {
      "cell_type": "code",
      "metadata": {
        "id": "z0ycZ6GT-elJ",
        "colab_type": "code",
        "colab": {}
      },
      "source": [
        "[[slope]] = session.run(A)\n",
        "[[intercept]] = session.run(b)"
      ],
      "execution_count": 35,
      "outputs": []
    },
    {
      "cell_type": "code",
      "metadata": {
        "id": "_7wIUbQg-fyS",
        "colab_type": "code",
        "colab": {
          "base_uri": "https://localhost:8080/",
          "height": 34
        },
        "outputId": "59f36b18-aa66-45fc-f6ff-0806f1feeae0"
      },
      "source": [
        "print(str(slope)+\"x+\"+str(intercept))"
      ],
      "execution_count": 36,
      "outputs": [
        {
          "output_type": "stream",
          "text": [
            "0.8271549x+4.7741714\n"
          ],
          "name": "stdout"
        }
      ]
    },
    {
      "cell_type": "code",
      "metadata": {
        "id": "RMITOHvK-gy0",
        "colab_type": "code",
        "colab": {}
      },
      "source": [
        "best_fit = []\n",
        "for i in x_vals:\n",
        "    best_fit.append(slope*i+intercept)"
      ],
      "execution_count": 37,
      "outputs": []
    },
    {
      "cell_type": "code",
      "metadata": {
        "id": "lM4E0oAa-h7v",
        "colab_type": "code",
        "colab": {
          "base_uri": "https://localhost:8080/",
          "height": 295
        },
        "outputId": "c1b63255-fa12-43ef-978b-572e22247d4d"
      },
      "source": [
        "plt.plot(x_vals, y_vals, 'o', label = \"Datos\")\n",
        "plt.plot(x_vals, best_fit, 'r-', label=\"Recta de regresión con TF\", linewidth=3)\n",
        "plt.legend(loc = \"upper left\")\n",
        "plt.title(\"Longitud de sépalos vs Anchura de Pétalos\")\n",
        "plt.xlabel(\"Anchura del Pétalo\")\n",
        "plt.ylabel(\"Longitud del Sépalo\")\n",
        "plt.show()"
      ],
      "execution_count": 38,
      "outputs": [
        {
          "output_type": "display_data",
          "data": {
            "image/png": "[encoded data removed]",
            "text/plain": [
              "<Figure size 432x288 with 1 Axes>"
            ]
          },
          "metadata": {
            "tags": [],
            "needs_background": "light"
          }
        }
      ]
    },
    {
      "cell_type": "code",
      "metadata": {
        "id": "vkf9ublw-jOx",
        "colab_type": "code",
        "colab": {
          "base_uri": "https://localhost:8080/",
          "height": 295
        },
        "outputId": "b9fa64d0-62f1-40d9-ad5e-732744915a2b"
      },
      "source": [
        "plt.plot(loss_vect_l1, 'r-', label = \"L1\")\n",
        "plt.plot(loss_vect_l2, 'g--', label = \"L2\")\n",
        "plt.title(\"Funciones de pérdida para regresión lineal\")\n",
        "plt.xlabel(\"Iteraciones\")\n",
        "plt.ylabel(\"Pérdida\")\n",
        "plt.legend(loc = \"upper right\")\n",
        "plt.show()"
      ],
      "execution_count": 39,
      "outputs": [
        {
          "output_type": "display_data",
          "data": {
            "image/png": "[encoded data removed]",
            "text/plain": [
              "<Figure size 432x288 with 1 Axes>"
            ]
          },
          "metadata": {
            "tags": [],
            "needs_background": "light"
          }
        }
      ]
    },
    {
      "cell_type": "code",
      "metadata": {
        "id": "9L-SxPdQ-kly",
        "colab_type": "code",
        "colab": {
          "base_uri": "https://localhost:8080/",
          "height": 34
        },
        "outputId": "e78a41a8-6883-403a-a3e7-024f4a07cf3b"
      },
      "source": [
        "slope*np.mean(x_vals)+intercept"
      ],
      "execution_count": 40,
      "outputs": [
        {
          "output_type": "execute_result",
          "data": {
            "text/plain": [
              "5.766205765565236"
            ]
          },
          "metadata": {
            "tags": []
          },
          "execution_count": 40
        }
      ]
    },
    {
      "cell_type": "code",
      "metadata": {
        "id": "7MoLkg5R-ljV",
        "colab_type": "code",
        "colab": {
          "base_uri": "https://localhost:8080/",
          "height": 34
        },
        "outputId": "7ba29793-3da5-4f7b-a310-45d45ccd63e9"
      },
      "source": [
        "intercept"
      ],
      "execution_count": 41,
      "outputs": [
        {
          "output_type": "execute_result",
          "data": {
            "text/plain": [
              "4.7741714"
            ]
          },
          "metadata": {
            "tags": []
          },
          "execution_count": 41
        }
      ]
    },
    {
      "cell_type": "code",
      "metadata": {
        "id": "aQLX5NL--mnR",
        "colab_type": "code",
        "colab": {
          "base_uri": "https://localhost:8080/",
          "height": 34
        },
        "outputId": "495fdc0f-1cfc-45d7-bc18-a855c4cd6431"
      },
      "source": [
        "np.mean(y_vals)"
      ],
      "execution_count": 42,
      "outputs": [
        {
          "output_type": "execute_result",
          "data": {
            "text/plain": [
              "5.843333333333334"
            ]
          },
          "metadata": {
            "tags": []
          },
          "execution_count": 42
        }
      ]
    },
    {
      "cell_type": "code",
      "metadata": {
        "id": "3dWiXMPk-oUW",
        "colab_type": "code",
        "colab": {}
      },
      "source": [
        ""
      ],
      "execution_count": null,
      "outputs": []
    }
  ]
}