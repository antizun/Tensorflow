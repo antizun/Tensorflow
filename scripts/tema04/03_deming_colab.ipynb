{
  "nbformat": 4,
  "nbformat_minor": 0,
  "metadata": {
    "colab": {
      "name": "03-deming_colab.ipynb",
      "provenance": [],
      "collapsed_sections": []
    },
    "kernelspec": {
      "display_name": "Python 3",
      "language": "python",
      "name": "python3"
    },
    "language_info": {
      "codemirror_mode": {
        "name": "ipython",
        "version": 3
      },
      "file_extension": ".py",
      "mimetype": "text/x-python",
      "name": "python",
      "nbconvert_exporter": "python",
      "pygments_lexer": "ipython3",
      "version": "3.8.3"
    },
    "accelerator": "GPU"
  },
  "cells": [
    {
      "cell_type": "markdown",
      "metadata": {
        "colab_type": "text",
        "id": "KdUFcDsdzRyw"
      },
      "source": [
        "# Clonamos el repositorio para obtener los dataSet"
      ]
    },
    {
      "cell_type": "code",
      "metadata": {
        "colab_type": "code",
        "id": "mHReFf3_y9ms",
        "colab": {}
      },
      "source": [
        "!git clone https://github.com/joanby/tensorflow.git"
      ],
      "execution_count": null,
      "outputs": []
    },
    {
      "cell_type": "markdown",
      "metadata": {
        "colab_type": "text",
        "id": "vNKZXgtKzU2x"
      },
      "source": [
        "# Damos acceso a nuestro Drive"
      ]
    },
    {
      "cell_type": "code",
      "metadata": {
        "colab_type": "code",
        "id": "5gu7KWnzzUQ0",
        "colab": {}
      },
      "source": [
        "from google.colab import drive\n",
        "drive.mount('/content/drive')"
      ],
      "execution_count": null,
      "outputs": []
    },
    {
      "cell_type": "markdown",
      "metadata": {
        "colab_type": "text",
        "id": "1gUxIkHWzfHV"
      },
      "source": [
        "# Test it"
      ]
    },
    {
      "cell_type": "code",
      "metadata": {
        "colab_type": "code",
        "id": "mIQt3jBMzYRE",
        "colab": {}
      },
      "source": [
        "!ls '/content/drive/My Drive' "
      ],
      "execution_count": null,
      "outputs": []
    },
    {
      "cell_type": "markdown",
      "metadata": {
        "colab_type": "text",
        "id": "mHsK36uN0XB-"
      },
      "source": [
        "# Google colab tools"
      ]
    },
    {
      "cell_type": "code",
      "metadata": {
        "colab_type": "code",
        "id": "kTzwfUPWzrm4",
        "colab": {}
      },
      "source": [
        "from google.colab import files # Para manejar los archivos y, por ejemplo, exportar a su navegador\n",
        "import glob # Para manejar los archivos y, por ejemplo, exportar a su navegador\n",
        "from google.colab import drive # Montar tu Google drive"
      ],
      "execution_count": 1,
      "outputs": []
    },
    {
      "cell_type": "markdown",
      "metadata": {
        "id": "yQQ8nLiMY6wM",
        "colab_type": "text"
      },
      "source": [
        "##Especificando la versión de TensorFlow\n",
        "\n",
        "Ejecutando \"importar tensorflow\" importará la versión por defecto (actualmente 2.x). Puedes usar la 1.x ejecutando una celda con la \"versión mágica de tensorflow\" **antes de ejecutar \"importar tensorflow\".\n",
        "\n",
        "### Si no funciona hacer el pip install\n"
      ]
    },
    {
      "cell_type": "code",
      "metadata": {
        "id": "1j---G3ZY6wN",
        "colab_type": "code",
        "colab": {
          "base_uri": "https://localhost:8080/",
          "height": 34
        },
        "outputId": "05abac25-8e51-46a3-ea05-e7642cb53235"
      },
      "source": [
        "#!pip install tensorflow==1.14\n",
        "%tensorflow_version 1.x"
      ],
      "execution_count": 2,
      "outputs": [
        {
          "output_type": "stream",
          "text": [
            "TensorFlow 1.x selected.\n"
          ],
          "name": "stdout"
        }
      ]
    },
    {
      "cell_type": "markdown",
      "metadata": {
        "id": "S-OIfuWLujbt",
        "colab_type": "text"
      },
      "source": [
        "# Importar Tensorflow"
      ]
    },
    {
      "cell_type": "code",
      "metadata": {
        "id": "OPSus73fumtP",
        "colab_type": "code",
        "colab": {
          "base_uri": "https://localhost:8080/",
          "height": 34
        },
        "outputId": "e22af1fe-a39e-4993-f5a8-c5714fe0c2ac"
      },
      "source": [
        "import tensorflow as tf\n",
        "print(tf.__version__)\n",
        "import matplotlib.pyplot as plt"
      ],
      "execution_count": 3,
      "outputs": [
        {
          "output_type": "stream",
          "text": [
            "1.15.2\n"
          ],
          "name": "stdout"
        }
      ]
    },
    {
      "cell_type": "code",
      "metadata": {
        "id": "VQheSGsEBdD3",
        "colab_type": "code",
        "colab": {}
      },
      "source": [
        "session = tf.Session()"
      ],
      "execution_count": 4,
      "outputs": []
    },
    {
      "cell_type": "markdown",
      "metadata": {
        "id": "qzlBylUEmQJ0",
        "colab_type": "text"
      },
      "source": [
        "# Regresión de la distancia ortogonal"
      ]
    },
    {
      "cell_type": "code",
      "metadata": {
        "id": "AwPNJepKmJAJ",
        "colab_type": "code",
        "colab": {}
      },
      "source": [
        "import matplotlib.pyplot as plt\n",
        "import numpy as np\n",
        "from sklearn import datasets"
      ],
      "execution_count": 17,
      "outputs": []
    },
    {
      "cell_type": "markdown",
      "metadata": {
        "id": "xPVi9OnY-6Fj",
        "colab_type": "text"
      },
      "source": [
        "$$y = mx +n $$\n",
        "Dado $(x_0,y_0)$, se define la distancia entre el punto y la recta anterior como:\n",
        "$$d=\\frac{|y_0-(mx_0+b)|}{\\sqrt{m^2+1}}$$"
      ]
    },
    {
      "cell_type": "code",
      "metadata": {
        "id": "FvgbwHq3mbJv",
        "colab_type": "code",
        "colab": {}
      },
      "source": [
        "iris = datasets.load_iris()"
      ],
      "execution_count": 18,
      "outputs": []
    },
    {
      "cell_type": "code",
      "metadata": {
        "id": "OkJtEI9hEuu0",
        "colab_type": "code",
        "colab": {}
      },
      "source": [
        "x_vals = np.array([x[3] for x in iris.data])\n",
        "y_vals = np.array([x[0] for x in iris.data])"
      ],
      "execution_count": 19,
      "outputs": []
    },
    {
      "cell_type": "code",
      "metadata": {
        "id": "Aqfzx5TPPKBT",
        "colab_type": "code",
        "colab": {}
      },
      "source": [
        "batch_size = 50\n",
        "learning_rate = 0.1"
      ],
      "execution_count": 43,
      "outputs": []
    },
    {
      "cell_type": "code",
      "metadata": {
        "id": "KaWS5fKCPMTy",
        "colab_type": "code",
        "colab": {}
      },
      "source": [
        "x_data = tf.placeholder(shape=[None, 1], dtype=tf.float32)\n",
        "y_target = tf.placeholder(shape=[None, 1], dtype = tf.float32)\n",
        "m = tf.Variable(tf.random_normal(shape=[1,1]))\n",
        "n = tf.Variable(tf.random_normal(shape=[1,1]))"
      ],
      "execution_count": 44,
      "outputs": []
    },
    {
      "cell_type": "code",
      "metadata": {
        "id": "JSVevVFAmoue",
        "colab_type": "code",
        "colab": {}
      },
      "source": [
        "y_predict = tf.add(tf.matmul(x_data, m), n)"
      ],
      "execution_count": 45,
      "outputs": []
    },
    {
      "cell_type": "code",
      "metadata": {
        "id": "onQN1h1qB11F",
        "colab_type": "code",
        "colab": {}
      },
      "source": [
        "deming_num = tf.abs(tf.subtract(y_target, tf.add(tf.matmul(x_data,m), n)))\n",
        "demin_den = tf.sqrt(tf.add(tf.square(m), 1.0))\n",
        "deming_loss = tf.reduce_mean(tf.truediv(deming_num, demin_den))"
      ],
      "execution_count": 46,
      "outputs": []
    },
    {
      "cell_type": "code",
      "metadata": {
        "id": "Q9V3JA_4AYq7",
        "colab_type": "code",
        "colab": {}
      },
      "source": [
        "init = tf.global_variables_initializer()\n",
        "session.run(init)"
      ],
      "execution_count": 47,
      "outputs": []
    },
    {
      "cell_type": "code",
      "metadata": {
        "id": "7L3w47a13T0N",
        "colab_type": "code",
        "colab": {}
      },
      "source": [
        "my_optim = tf.train.GradientDescentOptimizer(learning_rate=learning_rate)\n",
        "train_step = my_optim.minimize(deming_loss)"
      ],
      "execution_count": 48,
      "outputs": []
    },
    {
      "cell_type": "code",
      "metadata": {
        "id": "0i7Vcc083U7X",
        "colab_type": "code",
        "colab": {
          "base_uri": "https://localhost:8080/",
          "height": 272
        },
        "outputId": "78d738b0-2dd8-4c3d-8877-1884bc1b6ae7"
      },
      "source": [
        "loss_vect = []\n",
        "for i in range(300):\n",
        "    rand_idx = np.random.choice(len(x_vals), size = batch_size)\n",
        "    rand_x = np.transpose([x_vals[rand_idx]])\n",
        "    rand_y = np.transpose([y_vals[rand_idx]])\n",
        "    session.run(train_step, feed_dict={x_data : rand_x, y_target: rand_y})\n",
        "    temp_loss = session.run(deming_loss, feed_dict={x_data: rand_x, y_target: rand_y})\n",
        "    loss_vect.append(temp_loss)\n",
        "    if(i+1)%20==0:\n",
        "        print(\"Paso #\"+str(i+1)+\", m = \"+str(session.run(m))+\", n = \"+str(session.run(n))+\n",
        "             \"Loss: \"+str(temp_loss))"
      ],
      "execution_count": 49,
      "outputs": [
        {
          "output_type": "stream",
          "text": [
            "Paso #20, m = [[2.5655084]], n = [[1.3551813]]Loss: 0.655898\n",
            "Paso #40, m = [[2.9702253]], n = [[1.6806308]]Loss: 0.47024342\n",
            "Paso #60, m = [[3.0164723]], n = [[1.7958388]]Loss: 0.41988862\n",
            "Paso #80, m = [[2.9753373]], n = [[1.855397]]Loss: 0.45499367\n",
            "Paso #100, m = [[2.977797]], n = [[1.9473468]]Loss: 0.41593292\n",
            "Paso #120, m = [[2.891134]], n = [[1.9745002]]Loss: 0.39346603\n",
            "Paso #140, m = [[2.8595881]], n = [[2.0416582]]Loss: 0.47336754\n",
            "Paso #160, m = [[2.813157]], n = [[2.1002223]]Loss: 0.42140323\n",
            "Paso #180, m = [[2.7910624]], n = [[2.1746404]]Loss: 0.42626816\n",
            "Paso #200, m = [[2.7229323]], n = [[2.2154887]]Loss: 0.37063637\n",
            "Paso #220, m = [[2.6833353]], n = [[2.2806666]]Loss: 0.37134707\n",
            "Paso #240, m = [[2.6571546]], n = [[2.3594327]]Loss: 0.3982284\n",
            "Paso #260, m = [[2.6121037]], n = [[2.4259253]]Loss: 0.38646835\n",
            "Paso #280, m = [[2.553083]], n = [[2.487557]]Loss: 0.44166252\n",
            "Paso #300, m = [[2.5112743]], n = [[2.564989]]Loss: 0.34520698\n"
          ],
          "name": "stdout"
        }
      ]
    },
    {
      "cell_type": "code",
      "metadata": {
        "id": "VxrVnxRU3XPL",
        "colab_type": "code",
        "colab": {
          "base_uri": "https://localhost:8080/",
          "height": 34
        },
        "outputId": "bdd869c1-90f4-412b-a06c-e05902032746"
      },
      "source": [
        "[[slope]] = session.run(m)\n",
        "[[intercept]] = session.run(n)\n",
        "print(str(slope)+\"x+\"+str(intercept))"
      ],
      "execution_count": 50,
      "outputs": [
        {
          "output_type": "stream",
          "text": [
            "2.5112743x+2.564989\n"
          ],
          "name": "stdout"
        }
      ]
    },
    {
      "cell_type": "code",
      "metadata": {
        "id": "z6mQRX6a_lCS",
        "colab_type": "code",
        "colab": {}
      },
      "source": [
        "best_fit = []\n",
        "for i in x_vals: \n",
        "    best_fit.append(slope * i +intercept)"
      ],
      "execution_count": 51,
      "outputs": []
    },
    {
      "cell_type": "code",
      "metadata": {
        "id": "HLH3ctU4AmV4",
        "colab_type": "code",
        "colab": {
          "base_uri": "https://localhost:8080/",
          "height": 296
        },
        "outputId": "2fa253b2-5a41-4b81-95c4-bb13894cf23a"
      },
      "source": [
        "plt.plot(x_vals, y_vals, 'o', label = \"Iris Data\")\n",
        "plt.plot(x_vals, best_fit, 'r-', label = \"Best Deming Regression\", linewidth = 3)\n",
        "plt.legend(loc = \"upper left\")\n",
        "plt.title(\"Regresion Deming\")\n",
        "plt.xlabel(\"Anchura de pétalos\")\n",
        "plt.ylabel(\"Longitud de Sépalos\")\n",
        "plt.show()"
      ],
      "execution_count": 52,
      "outputs": [
        {
          "output_type": "display_data",
          "data": {
            "image/png": "[encoded data removed]",
            "text/plain": [
              "<Figure size 432x288 with 1 Axes>"
            ]
          },
          "metadata": {
            "tags": [],
            "needs_background": "light"
          }
        }
      ]
    },
    {
      "cell_type": "code",
      "metadata": {
        "id": "K0wQBE9rAnWw",
        "colab_type": "code",
        "colab": {
          "base_uri": "https://localhost:8080/",
          "height": 282
        },
        "outputId": "ab4d45ea-e290-48ba-b755-8154ab9d8fe4"
      },
      "source": [
        "plt.plot(loss_vect, 'k-', label=\"Función de pérdidas\")"
      ],
      "execution_count": 53,
      "outputs": [
        {
          "output_type": "execute_result",
          "data": {
            "text/plain": [
              "[<matplotlib.lines.Line2D at 0x7f1ccc339128>]"
            ]
          },
          "metadata": {
            "tags": []
          },
          "execution_count": 53
        },
        {
          "output_type": "display_data",
          "data": {
            "image/png": "[encoded data removed]",
            "text/plain": [
              "<Figure size 432x288 with 1 Axes>"
            ]
          },
          "metadata": {
            "tags": [],
            "needs_background": "light"
          }
        }
      ]
    }
  ]
}