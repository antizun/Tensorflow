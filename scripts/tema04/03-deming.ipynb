{
 "cells": [
  {
   "cell_type": "markdown",
   "metadata": {},
   "source": [
    "# Regresión de la distancia ortogonal"
   ]
  },
  {
   "cell_type": "markdown",
   "metadata": {},
   "source": [
    "$$y = mx +n $$\n",
    "Dado $(x_0,y_0)$, se define la distancia entre el punto y la recta anterior como:\n",
    "$$d=\\frac{|y_0-(mx_0+b)|}{\\sqrt{m^2+1}}$$"
   ]
  },
  {
   "cell_type": "code",
   "execution_count": 70,
   "metadata": {},
   "outputs": [],
   "source": [
    "import matplotlib.pyplot as plt\n",
    "import numpy as np\n",
    "import tensorflow as tf\n",
    "from sklearn import datasets\n",
    "\n",
    "session = tf.Session()\n",
    "iris = datasets.load_iris()"
   ]
  },
  {
   "cell_type": "code",
   "execution_count": 71,
   "metadata": {},
   "outputs": [],
   "source": [
    "x_vals = np.array([x[3] for x in iris.data])\n",
    "y_vals = np.array([x[0] for x in iris.data])"
   ]
  },
  {
   "cell_type": "code",
   "execution_count": 72,
   "metadata": {},
   "outputs": [],
   "source": [
    "batch_size = 50\n",
    "learning_rate = 0.1"
   ]
  },
  {
   "cell_type": "code",
   "execution_count": 73,
   "metadata": {},
   "outputs": [],
   "source": [
    "x_data = tf.placeholder(shape=[None, 1], dtype=tf.float32)\n",
    "y_target = tf.placeholder(shape=[None, 1], dtype = tf.float32)\n",
    "m = tf.Variable(tf.random_normal(shape=[1,1]))\n",
    "n = tf.Variable(tf.random_normal(shape=[1,1]))"
   ]
  },
  {
   "cell_type": "code",
   "execution_count": 74,
   "metadata": {},
   "outputs": [],
   "source": [
    "y_predict = tf.add(tf.matmul(x_data, m), n)"
   ]
  },
  {
   "cell_type": "code",
   "execution_count": 75,
   "metadata": {},
   "outputs": [],
   "source": [
    "deming_num = tf.abs(tf.subtract(y_target, tf.add(tf.matmul(x_data,m), n)))\n",
    "demin_den = tf.sqrt(tf.add(tf.square(m), 1.0))\n",
    "deming_loss = tf.reduce_mean(tf.truediv(deming_num, demin_den))"
   ]
  },
  {
   "cell_type": "code",
   "execution_count": 76,
   "metadata": {},
   "outputs": [],
   "source": [
    "init = tf.global_variables_initializer()\n",
    "session.run(init)"
   ]
  },
  {
   "cell_type": "code",
   "execution_count": 77,
   "metadata": {},
   "outputs": [],
   "source": [
    "my_optim = tf.train.GradientDescentOptimizer(learning_rate=learning_rate)\n",
    "train_step = my_optim.minimize(deming_loss)"
   ]
  },
  {
   "cell_type": "code",
   "execution_count": 78,
   "metadata": {},
   "outputs": [
    {
     "name": "stdout",
     "output_type": "stream",
     "text": [
      "Paso #20, m = [[3.1753333]], n = [[-0.55475116]]Loss: 0.8028523\n",
      "Paso #40, m = [[3.7387345]], n = [[-0.20804235]]Loss: 0.61211854\n",
      "Paso #60, m = [[3.972806]], n = [[-0.01420544]]Loss: 0.53143466\n",
      "Paso #80, m = [[4.074711]], n = [[0.10932745]]Loss: 0.53627986\n",
      "Paso #100, m = [[4.096793]], n = [[0.17601275]]Loss: 0.51940346\n",
      "Paso #120, m = [[4.1326537]], n = [[0.25160775]]Loss: 0.43380386\n",
      "Paso #140, m = [[4.1218925]], n = [[0.29672754]]Loss: 0.40051937\n",
      "Paso #160, m = [[4.127445]], n = [[0.3512653]]Loss: 0.4438797\n",
      "Paso #180, m = [[4.086156]], n = [[0.37406585]]Loss: 0.5141621\n",
      "Paso #200, m = [[4.0610056]], n = [[0.40744737]]Loss: 0.57654077\n",
      "Paso #220, m = [[4.028671]], n = [[0.43813798]]Loss: 0.4845584\n",
      "Paso #240, m = [[4.00139]], n = [[0.4738068]]Loss: 0.43204126\n",
      "Paso #260, m = [[3.9969363]], n = [[0.5271341]]Loss: 0.48472646\n",
      "Paso #280, m = [[3.978062]], n = [[0.5728057]]Loss: 0.54430467\n",
      "Paso #300, m = [[3.9326694]], n = [[0.5975965]]Loss: 0.4714843\n"
     ]
    }
   ],
   "source": [
    "loss_vect = []\n",
    "for i in range(300):\n",
    "    rand_idx = np.random.choice(len(x_vals), size = batch_size)\n",
    "    rand_x = np.transpose([x_vals[rand_idx]])\n",
    "    rand_y = np.transpose([y_vals[rand_idx]])\n",
    "    session.run(train_step, feed_dict={x_data : rand_x, y_target: rand_y})\n",
    "    temp_loss = session.run(deming_loss, feed_dict={x_data: rand_x, y_target: rand_y})\n",
    "    loss_vect.append(temp_loss)\n",
    "    if(i+1)%20==0:\n",
    "        print(\"Paso #\"+str(i+1)+\", m = \"+str(session.run(m))+\", n = \"+str(session.run(n))+\n",
    "             \"Loss: \"+str(temp_loss))"
   ]
  },
  {
   "cell_type": "code",
   "execution_count": 79,
   "metadata": {},
   "outputs": [
    {
     "name": "stdout",
     "output_type": "stream",
     "text": [
      "3.9326694x+0.5975965\n"
     ]
    }
   ],
   "source": [
    "[[slope]] = session.run(m)\n",
    "[[intercept]] = session.run(n)\n",
    "print(str(slope)+\"x+\"+str(intercept))"
   ]
  },
  {
   "cell_type": "code",
   "execution_count": 80,
   "metadata": {},
   "outputs": [],
   "source": [
    "best_fit = []\n",
    "for i in x_vals: \n",
    "    best_fit.append(slope * i +intercept)"
   ]
  },
  {
   "cell_type": "code",
   "execution_count": 81,
   "metadata": {},
   "outputs": [
    {
     "data": {
      "image/png": "[encoded data removed]",
      "text/plain": [
       "<Figure size 432x288 with 1 Axes>"
      ]
     },
     "metadata": {
      "needs_background": "light"
     },
     "output_type": "display_data"
    }
   ],
   "source": [
    "plt.plot(x_vals, y_vals, 'o', label = \"Iris Data\")\n",
    "plt.plot(x_vals, best_fit, 'r-', label = \"Best Deming Regression\", linewidth = 3)\n",
    "plt.legend(loc = \"upper left\")\n",
    "plt.title(\"Regresion Deming\")\n",
    "plt.xlabel(\"Anchura de pétalos\")\n",
    "plt.ylabel(\"Longitud de Sépalos\")\n",
    "plt.show()"
   ]
  },
  {
   "cell_type": "code",
   "execution_count": 82,
   "metadata": {},
   "outputs": [
    {
     "data": {
      "text/plain": [
       "[<matplotlib.lines.Line2D at 0x1a296d0b38>]"
      ]
     },
     "execution_count": 82,
     "metadata": {},
     "output_type": "execute_result"
    },
    {
     "data": {
      "image/png": "[encoded data removed]",
      "text/plain": [
       "<Figure size 432x288 with 1 Axes>"
      ]
     },
     "metadata": {
      "needs_background": "light"
     },
     "output_type": "display_data"
    }
   ],
   "source": [
    "plt.plot(loss_vect, 'k-', label=\"Función de pérdidas\")"
   ]
  },
  {
   "cell_type": "code",
   "execution_count": null,
   "metadata": {},
   "outputs": [],
   "source": []
  }
 ],
 "metadata": {
  "kernelspec": {
   "display_name": "Python 3",
   "language": "python",
   "name": "python3"
  },
  "language_info": {
   "codemirror_mode": {
    "name": "ipython",
    "version": 3
   },
   "file_extension": ".py",
   "mimetype": "text/x-python",
   "name": "python",
   "nbconvert_exporter": "python",
   "pygments_lexer": "ipython3",
   "version": "3.5.5"
  }
 },
 "nbformat": 4,
 "nbformat_minor": 2
}
