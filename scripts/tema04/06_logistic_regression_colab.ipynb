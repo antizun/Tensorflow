{
  "nbformat": 4,
  "nbformat_minor": 0,
  "metadata": {
    "colab": {
      "name": "06-logistic-regression_colab.ipynb",
      "provenance": [],
      "collapsed_sections": [],
      "toc_visible": true
    },
    "kernelspec": {
      "display_name": "Python 3",
      "language": "python",
      "name": "python3"
    },
    "language_info": {
      "codemirror_mode": {
        "name": "ipython",
        "version": 3
      },
      "file_extension": ".py",
      "mimetype": "text/x-python",
      "name": "python",
      "nbconvert_exporter": "python",
      "pygments_lexer": "ipython3",
      "version": "3.8.3"
    },
    "accelerator": "GPU"
  },
  "cells": [
    {
      "cell_type": "markdown",
      "metadata": {
        "colab_type": "text",
        "id": "KdUFcDsdzRyw"
      },
      "source": [
        "# Clonamos el repositorio para obtener los dataSet"
      ]
    },
    {
      "cell_type": "code",
      "metadata": {
        "colab_type": "code",
        "id": "mHReFf3_y9ms",
        "colab": {
          "base_uri": "https://localhost:8080/",
          "height": 153
        },
        "outputId": "6b2f123d-3a40-4d7a-e901-7d3b0a9c50b0"
      },
      "source": [
        "!git clone https://github.com/joanby/tensorflow.git"
      ],
      "execution_count": 1,
      "outputs": [
        {
          "output_type": "stream",
          "text": [
            "Cloning into 'tensorflow'...\n",
            "remote: Enumerating objects: 51, done.\u001b[K\n",
            "remote: Counting objects: 100% (51/51), done.\u001b[K\n",
            "remote: Compressing objects: 100% (28/28), done.\u001b[K\n",
            "remote: Total 60311 (delta 32), reused 37 (delta 23), pack-reused 60260\u001b[K\n",
            "Receiving objects: 100% (60311/60311), 442.46 MiB | 14.79 MiB/s, done.\n",
            "Resolving deltas: 100% (82/82), done.\n",
            "Checking out files: 100% (60225/60225), done.\n"
          ],
          "name": "stdout"
        }
      ]
    },
    {
      "cell_type": "markdown",
      "metadata": {
        "colab_type": "text",
        "id": "vNKZXgtKzU2x"
      },
      "source": [
        "# Damos acceso a nuestro Drive"
      ]
    },
    {
      "cell_type": "code",
      "metadata": {
        "colab_type": "code",
        "id": "5gu7KWnzzUQ0",
        "colab": {}
      },
      "source": [
        "from google.colab import drive\n",
        "drive.mount('/content/drive')"
      ],
      "execution_count": null,
      "outputs": []
    },
    {
      "cell_type": "markdown",
      "metadata": {
        "colab_type": "text",
        "id": "1gUxIkHWzfHV"
      },
      "source": [
        "# Test it"
      ]
    },
    {
      "cell_type": "code",
      "metadata": {
        "colab_type": "code",
        "id": "mIQt3jBMzYRE",
        "colab": {}
      },
      "source": [
        "!ls '/content/drive/My Drive' "
      ],
      "execution_count": null,
      "outputs": []
    },
    {
      "cell_type": "markdown",
      "metadata": {
        "colab_type": "text",
        "id": "mHsK36uN0XB-"
      },
      "source": [
        "# Google colab tools"
      ]
    },
    {
      "cell_type": "code",
      "metadata": {
        "colab_type": "code",
        "id": "kTzwfUPWzrm4",
        "colab": {}
      },
      "source": [
        "from google.colab import files # Para manejar los archivos y, por ejemplo, exportar a su navegador\n",
        "import glob # Para manejar los archivos y, por ejemplo, exportar a su navegador\n",
        "from google.colab import drive # Montar tu Google drive"
      ],
      "execution_count": null,
      "outputs": []
    },
    {
      "cell_type": "markdown",
      "metadata": {
        "id": "yQQ8nLiMY6wM",
        "colab_type": "text"
      },
      "source": [
        "##Especificando la versión de TensorFlow\n",
        "\n",
        "Ejecutando \"importar tensorflow\" importará la versión por defecto (actualmente 2.x). Puedes usar la 1.x ejecutando una celda con la \"versión mágica de tensorflow\" **antes de ejecutar \"importar tensorflow\".\n",
        "\n",
        "### Si no funciona hacer el pip install\n"
      ]
    },
    {
      "cell_type": "code",
      "metadata": {
        "id": "1j---G3ZY6wN",
        "colab_type": "code",
        "colab": {
          "base_uri": "https://localhost:8080/",
          "height": 34
        },
        "outputId": "f76fce82-5cdc-427f-d04d-25bc932bb1d4"
      },
      "source": [
        "#!pip install tensorflow==1.14\n",
        "%tensorflow_version 1.x"
      ],
      "execution_count": 3,
      "outputs": [
        {
          "output_type": "stream",
          "text": [
            "TensorFlow 1.x selected.\n"
          ],
          "name": "stdout"
        }
      ]
    },
    {
      "cell_type": "markdown",
      "metadata": {
        "id": "S-OIfuWLujbt",
        "colab_type": "text"
      },
      "source": [
        "# Importar Tensorflow"
      ]
    },
    {
      "cell_type": "code",
      "metadata": {
        "id": "OPSus73fumtP",
        "colab_type": "code",
        "colab": {
          "base_uri": "https://localhost:8080/",
          "height": 34
        },
        "outputId": "dd34a273-22fc-4869-e6d6-7a8f22b081f7"
      },
      "source": [
        "import tensorflow as tf\n",
        "print(tf.__version__)\n",
        "import matplotlib.pyplot as plt"
      ],
      "execution_count": 51,
      "outputs": [
        {
          "output_type": "stream",
          "text": [
            "1.15.2\n"
          ],
          "name": "stdout"
        }
      ]
    },
    {
      "cell_type": "code",
      "metadata": {
        "id": "VQheSGsEBdD3",
        "colab_type": "code",
        "colab": {}
      },
      "source": [
        "session = tf.Session()"
      ],
      "execution_count": 52,
      "outputs": []
    },
    {
      "cell_type": "markdown",
      "metadata": {
        "id": "qzlBylUEmQJ0",
        "colab_type": "text"
      },
      "source": [
        "# Regresión logística"
      ]
    },
    {
      "cell_type": "code",
      "metadata": {
        "id": "AwPNJepKmJAJ",
        "colab_type": "code",
        "colab": {}
      },
      "source": [
        "import matplotlib.pyplot as plt\n",
        "import numpy as np\n",
        "import requests\n",
        "from sklearn.preprocessing import normalize"
      ],
      "execution_count": 53,
      "outputs": []
    },
    {
      "cell_type": "code",
      "metadata": {
        "id": "FvgbwHq3mbJv",
        "colab_type": "code",
        "colab": {}
      },
      "source": [
        "url = \"https://raw.githubusercontent.com/joanby/tensorflow/master/datasets/birthweight.dat?token=AMRAeMNwZBLC86UzdMdxEuhlGPMufKa5ks5cVIdzwA%3D%3D\"\n",
        "birth_file = requests.get(url)\n",
        "birth_data = birth_file.text.split('\\r\\n')\n",
        "\n",
        "birth_header = birth_data[0].split('\\t')\n",
        "birth_data = [[float(x) for x in y.split('\\t') if len(x)>=1] for y in birth_data[1:] if len(y)>=1]"
      ],
      "execution_count": 54,
      "outputs": []
    },
    {
      "cell_type": "code",
      "metadata": {
        "id": "OkJtEI9hEuu0",
        "colab_type": "code",
        "colab": {}
      },
      "source": [
        "import os.path\n",
        "import csv\n",
        "\n",
        "birthweight_file_name = \"/content/tensorflow/datasets/birthweight.csv\"\n",
        "if not os.path.exists(birthweight_file_name):\n",
        "    with open(birthweight_file_name, 'w', newline='') as f:\n",
        "        writer = csv.writer(f)\n",
        "        writer.writerow(birth_header)\n",
        "        writer.writerows(birth_data)\n",
        "        f.close()"
      ],
      "execution_count": 55,
      "outputs": []
    },
    {
      "cell_type": "code",
      "metadata": {
        "id": "Aqfzx5TPPKBT",
        "colab_type": "code",
        "colab": {}
      },
      "source": [
        "birth_data = []\n",
        "with open(birthweight_file_name, newline='') as csvfile:\n",
        "    csv_reader = csv.reader(csvfile)\n",
        "    birth_header = next(csv_reader)\n",
        "    for row in csv_reader:\n",
        "        birth_data.append(row)"
      ],
      "execution_count": 56,
      "outputs": []
    },
    {
      "cell_type": "code",
      "metadata": {
        "id": "KaWS5fKCPMTy",
        "colab_type": "code",
        "colab": {
          "base_uri": "https://localhost:8080/",
          "height": 34
        },
        "outputId": "e98ab1bc-7882-40c7-c438-0fc1d2f8f130"
      },
      "source": [
        "birth_header"
      ],
      "execution_count": 57,
      "outputs": [
        {
          "output_type": "execute_result",
          "data": {
            "text/plain": [
              "['LOW', 'AGE', 'LWT', 'RACE', 'SMOKE', 'PTL', 'HT', 'UI', 'BWT']"
            ]
          },
          "metadata": {
            "tags": []
          },
          "execution_count": 57
        }
      ]
    },
    {
      "cell_type": "code",
      "metadata": {
        "id": "JSVevVFAmoue",
        "colab_type": "code",
        "colab": {
          "base_uri": "https://localhost:8080/",
          "height": 34
        },
        "outputId": "101fba57-ced6-440d-dab7-e4c0d435df3d"
      },
      "source": [
        "birth_data[0]"
      ],
      "execution_count": 58,
      "outputs": [
        {
          "output_type": "execute_result",
          "data": {
            "text/plain": [
              "['1.0', '28.0', '113.0', '1.0', '1.0', '1.0', '0.0', '1.0', '709.0']"
            ]
          },
          "metadata": {
            "tags": []
          },
          "execution_count": 58
        }
      ]
    },
    {
      "cell_type": "code",
      "metadata": {
        "id": "onQN1h1qB11F",
        "colab_type": "code",
        "colab": {}
      },
      "source": [
        "birth_data = [[float(x) for x in row] for row in birth_data]"
      ],
      "execution_count": 59,
      "outputs": []
    },
    {
      "cell_type": "code",
      "metadata": {
        "id": "Q9V3JA_4AYq7",
        "colab_type": "code",
        "colab": {
          "base_uri": "https://localhost:8080/",
          "height": 34
        },
        "outputId": "614c502c-6a54-4eb2-df57-f36726d09694"
      },
      "source": [
        "birth_data[0]"
      ],
      "execution_count": 60,
      "outputs": [
        {
          "output_type": "execute_result",
          "data": {
            "text/plain": [
              "[1.0, 28.0, 113.0, 1.0, 1.0, 1.0, 0.0, 1.0, 709.0]"
            ]
          },
          "metadata": {
            "tags": []
          },
          "execution_count": 60
        }
      ]
    },
    {
      "cell_type": "code",
      "metadata": {
        "id": "7L3w47a13T0N",
        "colab_type": "code",
        "colab": {}
      },
      "source": [
        "y_vals = np.array([x[0] for x in birth_data])\n",
        "x_vals = np.array([x[1:8] for x in birth_data])"
      ],
      "execution_count": 61,
      "outputs": []
    },
    {
      "cell_type": "markdown",
      "metadata": {
        "id": "h5yzKEsqB11I",
        "colab_type": "text"
      },
      "source": [
        "### Dividir en entrenamiento y test"
      ]
    },
    {
      "cell_type": "code",
      "metadata": {
        "id": "0i7Vcc083U7X",
        "colab_type": "code",
        "colab": {}
      },
      "source": [
        "train_idx =np.random.choice(len(x_vals), size=round(len(x_vals)*0.8), replace=False)\n",
        "test_idx = np.array(list(set(range(len(x_vals)))-set(train_idx)))"
      ],
      "execution_count": 62,
      "outputs": []
    },
    {
      "cell_type": "code",
      "metadata": {
        "id": "VxrVnxRU3XPL",
        "colab_type": "code",
        "colab": {}
      },
      "source": [
        "x_vals_train = x_vals[train_idx]\n",
        "y_vals_train = y_vals[train_idx]\n",
        "\n",
        "x_vals_test = x_vals[test_idx]\n",
        "y_vals_test = y_vals[test_idx]"
      ],
      "execution_count": 63,
      "outputs": []
    },
    {
      "cell_type": "markdown",
      "metadata": {
        "id": "fwHtuiYZB5w6",
        "colab_type": "text"
      },
      "source": [
        "### Normalización"
      ]
    },
    {
      "cell_type": "code",
      "metadata": {
        "id": "tQnuSp5XB6CP",
        "colab_type": "code",
        "colab": {}
      },
      "source": [
        "def normalize_cols(m, col_min = np.array([None]), col_max=np.array([None])):\n",
        "    if not col_min[0]:\n",
        "        col_min = m.min(axis=0)\n",
        "    if not col_max[0]:\n",
        "        col_max = m.max(axis=0)\n",
        "    return (m-col_min)/(col_max-col_min), col_min, col_max"
      ],
      "execution_count": 64,
      "outputs": []
    },
    {
      "cell_type": "code",
      "metadata": {
        "id": "UlTvWpSmB9UB",
        "colab_type": "code",
        "colab": {}
      },
      "source": [
        "x_vals_train, train_min, train_max = np.nan_to_num(normalize_cols(x_vals_train))"
      ],
      "execution_count": 65,
      "outputs": []
    },
    {
      "cell_type": "code",
      "metadata": {
        "id": "JtZaIGL7B9Bb",
        "colab_type": "code",
        "colab": {
          "base_uri": "https://localhost:8080/",
          "height": 51
        },
        "outputId": "b9abd041-89c9-447e-b32f-23baa081b747"
      },
      "source": [
        "x_vals_train[0]"
      ],
      "execution_count": 66,
      "outputs": [
        {
          "output_type": "execute_result",
          "data": {
            "text/plain": [
              "array([0.40909091, 0.78676471, 1.        , 1.        , 0.        ,\n",
              "       0.        , 0.        ])"
            ]
          },
          "metadata": {
            "tags": []
          },
          "execution_count": 66
        }
      ]
    },
    {
      "cell_type": "code",
      "metadata": {
        "id": "D0jXtCFqB9Fe",
        "colab_type": "code",
        "colab": {
          "base_uri": "https://localhost:8080/",
          "height": 34
        },
        "outputId": "f8cf0b4d-5af5-431c-ba23-532e934c4330"
      },
      "source": [
        "train_min"
      ],
      "execution_count": 67,
      "outputs": [
        {
          "output_type": "execute_result",
          "data": {
            "text/plain": [
              "array([14., 80.,  0.,  0.,  0.,  0.,  0.])"
            ]
          },
          "metadata": {
            "tags": []
          },
          "execution_count": 67
        }
      ]
    },
    {
      "cell_type": "code",
      "metadata": {
        "id": "UkcOASK9B8sE",
        "colab_type": "code",
        "colab": {
          "base_uri": "https://localhost:8080/",
          "height": 34
        },
        "outputId": "3a1d75fe-56c2-4762-d532-611943cf29a7"
      },
      "source": [
        "train_max "
      ],
      "execution_count": 68,
      "outputs": [
        {
          "output_type": "execute_result",
          "data": {
            "text/plain": [
              "array([ 36., 216.,   1.,   1.,   1.,   1.,   1.])"
            ]
          },
          "metadata": {
            "tags": []
          },
          "execution_count": 68
        }
      ]
    },
    {
      "cell_type": "code",
      "metadata": {
        "id": "vexgoswpB8g6",
        "colab_type": "code",
        "colab": {}
      },
      "source": [
        "x_vals_test = np.nan_to_num(normalize_cols(x_vals_test, col_min=train_min, col_max=train_max))"
      ],
      "execution_count": 69,
      "outputs": []
    },
    {
      "cell_type": "markdown",
      "metadata": {
        "id": "7bH0wBP0CGhM",
        "colab_type": "text"
      },
      "source": [
        "### Modelo de regresión logística"
      ]
    },
    {
      "cell_type": "markdown",
      "metadata": {
        "id": "uihDObNzCINk",
        "colab_type": "text"
      },
      "source": [
        "- $x \\in \\mathbb R^7$\n",
        "- $A \\in \\mathbb R_{7\\times 1}$\n",
        "- $b \\in \\mathbb R$\n",
        "- $y = Ax+b\\in \\mathbb R$\n",
        "- $\\hat{y} = sigmoid(y)\\in (0,1) $"
      ]
    },
    {
      "cell_type": "code",
      "metadata": {
        "id": "2Pj3KhPpCG64",
        "colab_type": "code",
        "colab": {}
      },
      "source": [
        "batch_size = 25\n",
        "x_data = tf.placeholder(shape=[None, 7], dtype = tf.float32)\n",
        "y_target = tf.placeholder(shape = [None, 1], dtype=tf.float32)\n",
        "A = tf.Variable(tf.random_normal(shape=[7,1]))\n",
        "b = tf.Variable(tf.random_normal(shape=[1,1]))\n",
        "y_pred = tf.add(tf.matmul(x_data, A), b)"
      ],
      "execution_count": 70,
      "outputs": []
    },
    {
      "cell_type": "code",
      "metadata": {
        "id": "iR6kvCBxKwCB",
        "colab_type": "code",
        "colab": {}
      },
      "source": [
        "loss = tf.reduce_mean(tf.nn.sigmoid_cross_entropy_with_logits(logits=y_pred, labels= y_target))\n",
        "init = tf.global_variables_initializer()\n",
        "session.run(init)\n",
        "my_optim = tf.train.GradientDescentOptimizer(learning_rate=0.01)\n",
        "train_step = my_optim.minimize(loss)"
      ],
      "execution_count": 71,
      "outputs": []
    },
    {
      "cell_type": "code",
      "metadata": {
        "id": "Bd2eLItACKq4",
        "colab_type": "code",
        "colab": {}
      },
      "source": [
        "classification_lr = tf.round(tf.sigmoid(y_pred))\n",
        "correct_classification = tf.cast(tf.equal(classification_lr, y_target), tf.float32)\n",
        "accuracy = tf.reduce_mean(correct_classification)"
      ],
      "execution_count": 72,
      "outputs": []
    },
    {
      "cell_type": "code",
      "metadata": {
        "id": "EPGGAoTKCK3c",
        "colab_type": "code",
        "colab": {
          "base_uri": "https://localhost:8080/",
          "height": 357
        },
        "outputId": "d96bff05-297f-4e07-bd02-4a62d71d94a2"
      },
      "source": [
        "loss_vec = []\n",
        "train_acc = []\n",
        "test_acc = []\n",
        "for i in range(2000):\n",
        "    rand_idx = np.random.choice(len(x_vals_train), size=batch_size)\n",
        "    rand_x = x_vals_train[rand_idx]\n",
        "    rand_y = np.transpose([y_vals_train[rand_idx]])\n",
        "    session.run(train_step, feed_dict={x_data: rand_x, y_target: rand_y})\n",
        "    temp_loss = session.run(loss, feed_dict={x_data: rand_x, y_target: rand_y})\n",
        "    loss_vec.append(temp_loss)\n",
        "    temp_acc_train = session.run(accuracy, \n",
        "                                 feed_dict={x_data: x_vals_train, y_target: np.transpose([y_vals_train])})\n",
        "    train_acc.append(temp_acc_train)\n",
        "    temp_acc_test = session.run(accuracy, \n",
        "                                feed_dict={x_data: x_vals_test[0], y_target: np.transpose([y_vals_test])})\n",
        "    test_acc.append(temp_acc_test)\n",
        "    if(i+1)%100==0:\n",
        "        print(\"Loss: \"+str(temp_loss))"
      ],
      "execution_count": 73,
      "outputs": [
        {
          "output_type": "stream",
          "text": [
            "Loss: 0.5465503\n",
            "Loss: 0.71014816\n",
            "Loss: 0.5814389\n",
            "Loss: 0.66572195\n",
            "Loss: 0.603824\n",
            "Loss: 0.630647\n",
            "Loss: 0.5895803\n",
            "Loss: 0.6444476\n",
            "Loss: 0.53522295\n",
            "Loss: 0.58255225\n",
            "Loss: 0.63940024\n",
            "Loss: 0.58640754\n",
            "Loss: 0.54262817\n",
            "Loss: 0.5233861\n",
            "Loss: 0.692682\n",
            "Loss: 0.605213\n",
            "Loss: 0.51437473\n",
            "Loss: 0.64759517\n",
            "Loss: 0.5571482\n",
            "Loss: 0.71908236\n"
          ],
          "name": "stdout"
        }
      ]
    },
    {
      "cell_type": "code",
      "metadata": {
        "id": "wrlismNfCKv-",
        "colab_type": "code",
        "colab": {
          "base_uri": "https://localhost:8080/",
          "height": 295
        },
        "outputId": "9087f5c8-1f1a-49a5-dca4-fb90520ee214"
      },
      "source": [
        "plt.plot(loss_vec, 'k-')\n",
        "plt.title(\"Función de pérdidas por iteración\")\n",
        "plt.xlabel(\"Iteración\")\n",
        "plt.ylabel(\"Pérdida\")\n",
        "plt.ylim([0,2])\n",
        "plt.show()"
      ],
      "execution_count": 74,
      "outputs": [
        {
          "output_type": "display_data",
          "data": {
            "image/png": "[encoded data removed]",
            "text/plain": [
              "<Figure size 432x288 with 1 Axes>"
            ]
          },
          "metadata": {
            "tags": [],
            "needs_background": "light"
          }
        }
      ]
    },
    {
      "cell_type": "code",
      "metadata": {
        "id": "PY-kzry4CKTP",
        "colab_type": "code",
        "colab": {
          "base_uri": "https://localhost:8080/",
          "height": 296
        },
        "outputId": "3656f019-29d3-4987-e818-f33ff5000c7a"
      },
      "source": [
        "plt.plot(train_acc, 'b-', label = \"Precisión conjunto entrenamiento\")\n",
        "plt.plot(test_acc, 'r--', label = \"Precisión conjunto de pruebas\")\n",
        "plt.title(\"Precisión en entrenamiento y testing\")\n",
        "plt.xlabel(\"Iteración del algoritmo\")\n",
        "plt.ylabel(\"Precisión (proporción de clasifición OK)\")\n",
        "plt.legend(loc = 'lower right')\n",
        "plt.show()"
      ],
      "execution_count": 75,
      "outputs": [
        {
          "output_type": "display_data",
          "data": {
            "image/png": "[encoded data removed]",
            "text/plain": [
              "<Figure size 432x288 with 1 Axes>"
            ]
          },
          "metadata": {
            "tags": [],
            "needs_background": "light"
          }
        }
      ]
    }
  ]
}