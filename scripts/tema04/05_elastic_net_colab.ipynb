{
  "nbformat": 4,
  "nbformat_minor": 0,
  "metadata": {
    "colab": {
      "name": "05-elastic-net_colab.ipynb",
      "provenance": [],
      "collapsed_sections": []
    },
    "kernelspec": {
      "display_name": "Python 3",
      "language": "python",
      "name": "python3"
    },
    "language_info": {
      "codemirror_mode": {
        "name": "ipython",
        "version": 3
      },
      "file_extension": ".py",
      "mimetype": "text/x-python",
      "name": "python",
      "nbconvert_exporter": "python",
      "pygments_lexer": "ipython3",
      "version": "3.8.3"
    },
    "accelerator": "GPU"
  },
  "cells": [
    {
      "cell_type": "markdown",
      "metadata": {
        "colab_type": "text",
        "id": "KdUFcDsdzRyw"
      },
      "source": [
        "# Clonamos el repositorio para obtener los dataSet"
      ]
    },
    {
      "cell_type": "code",
      "metadata": {
        "colab_type": "code",
        "id": "mHReFf3_y9ms",
        "colab": {}
      },
      "source": [
        "!git clone https://github.com/joanby/tensorflow.git"
      ],
      "execution_count": null,
      "outputs": []
    },
    {
      "cell_type": "markdown",
      "metadata": {
        "colab_type": "text",
        "id": "vNKZXgtKzU2x"
      },
      "source": [
        "# Damos acceso a nuestro Drive"
      ]
    },
    {
      "cell_type": "code",
      "metadata": {
        "colab_type": "code",
        "id": "5gu7KWnzzUQ0",
        "colab": {}
      },
      "source": [
        "from google.colab import drive\n",
        "drive.mount('/content/drive')"
      ],
      "execution_count": null,
      "outputs": []
    },
    {
      "cell_type": "markdown",
      "metadata": {
        "colab_type": "text",
        "id": "1gUxIkHWzfHV"
      },
      "source": [
        "# Test it"
      ]
    },
    {
      "cell_type": "code",
      "metadata": {
        "colab_type": "code",
        "id": "mIQt3jBMzYRE",
        "colab": {}
      },
      "source": [
        "!ls '/content/drive/My Drive' "
      ],
      "execution_count": null,
      "outputs": []
    },
    {
      "cell_type": "markdown",
      "metadata": {
        "colab_type": "text",
        "id": "mHsK36uN0XB-"
      },
      "source": [
        "# Google colab tools"
      ]
    },
    {
      "cell_type": "code",
      "metadata": {
        "colab_type": "code",
        "id": "kTzwfUPWzrm4",
        "colab": {}
      },
      "source": [
        "from google.colab import files # Para manejar los archivos y, por ejemplo, exportar a su navegador\n",
        "import glob # Para manejar los archivos y, por ejemplo, exportar a su navegador\n",
        "from google.colab import drive # Montar tu Google drive"
      ],
      "execution_count": 1,
      "outputs": []
    },
    {
      "cell_type": "markdown",
      "metadata": {
        "id": "yQQ8nLiMY6wM",
        "colab_type": "text"
      },
      "source": [
        "##Especificando la versión de TensorFlow\n",
        "\n",
        "Ejecutando \"importar tensorflow\" importará la versión por defecto (actualmente 2.x). Puedes usar la 1.x ejecutando una celda con la \"versión mágica de tensorflow\" **antes de ejecutar \"importar tensorflow\".\n",
        "\n",
        "### Si no funciona hacer el pip install\n"
      ]
    },
    {
      "cell_type": "code",
      "metadata": {
        "id": "1j---G3ZY6wN",
        "colab_type": "code",
        "colab": {
          "base_uri": "https://localhost:8080/",
          "height": 34
        },
        "outputId": "05abac25-8e51-46a3-ea05-e7642cb53235"
      },
      "source": [
        "#!pip install tensorflow==1.14\n",
        "%tensorflow_version 1.x"
      ],
      "execution_count": 2,
      "outputs": [
        {
          "output_type": "stream",
          "text": [
            "TensorFlow 1.x selected.\n"
          ],
          "name": "stdout"
        }
      ]
    },
    {
      "cell_type": "markdown",
      "metadata": {
        "id": "S-OIfuWLujbt",
        "colab_type": "text"
      },
      "source": [
        "# Importar Tensorflow"
      ]
    },
    {
      "cell_type": "code",
      "metadata": {
        "id": "OPSus73fumtP",
        "colab_type": "code",
        "colab": {
          "base_uri": "https://localhost:8080/",
          "height": 34
        },
        "outputId": "e22af1fe-a39e-4993-f5a8-c5714fe0c2ac"
      },
      "source": [
        "import tensorflow as tf\n",
        "print(tf.__version__)\n",
        "import matplotlib.pyplot as plt"
      ],
      "execution_count": 3,
      "outputs": [
        {
          "output_type": "stream",
          "text": [
            "1.15.2\n"
          ],
          "name": "stdout"
        }
      ]
    },
    {
      "cell_type": "code",
      "metadata": {
        "id": "VQheSGsEBdD3",
        "colab_type": "code",
        "colab": {}
      },
      "source": [
        "session = tf.Session()"
      ],
      "execution_count": 4,
      "outputs": []
    },
    {
      "cell_type": "markdown",
      "metadata": {
        "id": "qzlBylUEmQJ0",
        "colab_type": "text"
      },
      "source": [
        "# Elastic Net"
      ]
    },
    {
      "cell_type": "code",
      "metadata": {
        "id": "AwPNJepKmJAJ",
        "colab_type": "code",
        "colab": {}
      },
      "source": [
        "import matplotlib.pyplot as plt\n",
        "import numpy as np\n",
        "from sklearn import datasets"
      ],
      "execution_count": 65,
      "outputs": []
    },
    {
      "cell_type": "code",
      "metadata": {
        "id": "FvgbwHq3mbJv",
        "colab_type": "code",
        "colab": {}
      },
      "source": [
        "iris = datasets.load_iris()"
      ],
      "execution_count": 70,
      "outputs": []
    },
    {
      "cell_type": "code",
      "metadata": {
        "id": "OkJtEI9hEuu0",
        "colab_type": "code",
        "colab": {}
      },
      "source": [
        "x_vals = np.array([[x[1], x[2], x[3]] for x in iris.data])\n",
        "y_vals = np.array([x[0] for x in iris.data])"
      ],
      "execution_count": 71,
      "outputs": []
    },
    {
      "cell_type": "markdown",
      "metadata": {
        "id": "aXDjvoQjAT36",
        "colab_type": "text"
      },
      "source": [
        "- $x\\in\\mathbb R^3$\n",
        "- $A \\in \\mathbb R_{3\\times 1}$\n",
        "- $y = Ax+b\\in \\mathbb R$"
      ]
    },
    {
      "cell_type": "code",
      "metadata": {
        "id": "Aqfzx5TPPKBT",
        "colab_type": "code",
        "colab": {}
      },
      "source": [
        "batch_size = 50\n",
        "learning_rate = 0.001\n",
        "x_data = tf.placeholder(shape=[None, 3], dtype = tf.float32)\n",
        "y_target = tf.placeholder(shape = [None, 1], dtype = tf.float32)\n",
        "A = tf.Variable(tf.random_normal(shape = [3,1]))\n",
        "b = tf.Variable(tf.random_normal(shape = [1,1]))\n",
        "y_pred = tf.add(tf.matmul(x_data, A), b)"
      ],
      "execution_count": 72,
      "outputs": []
    },
    {
      "cell_type": "markdown",
      "metadata": {
        "id": "0E4NSAXtATC3",
        "colab_type": "text"
      },
      "source": [
        "$$Loss = \\sum\\frac{(y_r-y_p)^2}{n} + \\alpha \\cdot |A| + \\beta \\cdot A^2$$"
      ]
    },
    {
      "cell_type": "code",
      "metadata": {
        "id": "KaWS5fKCPMTy",
        "colab_type": "code",
        "colab": {}
      },
      "source": [
        "elastic_param1 = tf.constant(1.0)\n",
        "elastic_param2 = tf.constant(1.0)\n",
        "l1_a_loss = tf.reduce_mean(tf.abs(A))\n",
        "l2_a_loss = tf.reduce_mean(tf.square(A))\n",
        "e1_term = tf.multiply(elastic_param1, l1_a_loss)\n",
        "e2_term = tf.multiply(elastic_param2, l2_a_loss)\n",
        "loss = tf.expand_dims(tf.add(tf.add(tf.reduce_mean(tf.square(y_target- y_pred)),e1_term), e2_term), 0)"
      ],
      "execution_count": 73,
      "outputs": []
    },
    {
      "cell_type": "code",
      "metadata": {
        "id": "JSVevVFAmoue",
        "colab_type": "code",
        "colab": {}
      },
      "source": [
        "init = tf.global_variables_initializer()\n",
        "session.run(init)"
      ],
      "execution_count": 74,
      "outputs": []
    },
    {
      "cell_type": "code",
      "metadata": {
        "id": "onQN1h1qB11F",
        "colab_type": "code",
        "colab": {}
      },
      "source": [
        "init = tf.global_variables_initializer()\n",
        "session.run(init)"
      ],
      "execution_count": 57,
      "outputs": []
    },
    {
      "cell_type": "code",
      "metadata": {
        "id": "Q9V3JA_4AYq7",
        "colab_type": "code",
        "colab": {}
      },
      "source": [
        "my_opt = tf.train.GradientDescentOptimizer(learning_rate=learning_rate)\n",
        "train_step = my_opt.minimize(loss)"
      ],
      "execution_count": 75,
      "outputs": []
    },
    {
      "cell_type": "code",
      "metadata": {
        "id": "7L3w47a13T0N",
        "colab_type": "code",
        "colab": {
          "base_uri": "https://localhost:8080/",
          "height": 527
        },
        "outputId": "175d06c6-e4cd-4fa8-9bb8-2220f4f5d3a0"
      },
      "source": [
        "loss_vec = []\n",
        "for i in range(1000):\n",
        "    rand_idx = np.random.choice(len(x_vals), size=batch_size)\n",
        "    rand_x = x_vals[rand_idx]\n",
        "    rand_y = np.transpose([y_vals[rand_idx]])\n",
        "    session.run(train_step, feed_dict={x_data : rand_x, y_target: rand_y})\n",
        "    temp_loss = session.run(loss, feed_dict={x_data: rand_x, y_target: rand_y})\n",
        "    loss_vec.append(temp_loss[0])\n",
        "    if(i+1)%100==0:\n",
        "        print(\"Paso #\"+str(i+1)+\"A = \"+str(session.run(A))+\", b = \"+str(session.run(b))+\n",
        "             \"Loss: \"+str(temp_loss))"
      ],
      "execution_count": 76,
      "outputs": [
        {
          "output_type": "stream",
          "text": [
            "Paso #100A = [[ 0.59217376]\n",
            " [ 1.1427814 ]\n",
            " [-1.153307  ]], b = [[0.9547456]]Loss: [2.1923075]\n",
            "Paso #200A = [[ 0.63630587]\n",
            " [ 1.0622405 ]\n",
            " [-1.0437446 ]], b = [[0.9890005]]Loss: [1.9612145]\n",
            "Paso #300A = [[ 0.670142  ]\n",
            " [ 0.99894047]\n",
            " [-0.93642527]], b = [[1.0218096]]Loss: [1.8057163]\n",
            "Paso #400A = [[ 0.68993944]\n",
            " [ 0.93879247]\n",
            " [-0.8366211 ]], b = [[1.0514381]]Loss: [1.7085485]\n",
            "Paso #500A = [[ 0.7061365]\n",
            " [ 0.890093 ]\n",
            " [-0.7404171]], b = [[1.0809444]]Loss: [1.5399883]\n",
            "Paso #600A = [[ 0.7159894]\n",
            " [ 0.846138 ]\n",
            " [-0.6504693]], b = [[1.1092469]]Loss: [1.4162672]\n",
            "Paso #700A = [[ 0.72372514]\n",
            " [ 0.8097494 ]\n",
            " [-0.5649811 ]], b = [[1.1373476]]Loss: [1.3622898]\n",
            "Paso #800A = [[ 0.7297128 ]\n",
            " [ 0.77189285]\n",
            " [-0.48738965]], b = [[1.1648781]]Loss: [1.2731462]\n",
            "Paso #900A = [[ 0.7296779 ]\n",
            " [ 0.74012804]\n",
            " [-0.4133764 ]], b = [[1.1912152]]Loss: [1.1870682]\n",
            "Paso #1000A = [[ 0.7339644 ]\n",
            " [ 0.70961684]\n",
            " [-0.3451671 ]], b = [[1.2186198]]Loss: [1.086648]\n"
          ],
          "name": "stdout"
        }
      ]
    },
    {
      "cell_type": "code",
      "metadata": {
        "id": "0i7Vcc083U7X",
        "colab_type": "code",
        "colab": {
          "base_uri": "https://localhost:8080/",
          "height": 34
        },
        "outputId": "ca632511-19e8-4129-a38d-08c9c704df4f"
      },
      "source": [
        "slope = session.run(A)\n",
        "[[intercept]] = session.run(b)\n",
        "print(\"y=\"+str(slope[0][0])+\"x1+\"+str(slope[1][0])+\"x2+\"+str(slope[2][0])+\"x3+\"+str(intercept))"
      ],
      "execution_count": 77,
      "outputs": [
        {
          "output_type": "stream",
          "text": [
            "y=0.7339644x1+0.70961684x2+-0.3451671x3+1.2186198\n"
          ],
          "name": "stdout"
        }
      ]
    },
    {
      "cell_type": "code",
      "metadata": {
        "id": "VxrVnxRU3XPL",
        "colab_type": "code",
        "colab": {
          "base_uri": "https://localhost:8080/",
          "height": 295
        },
        "outputId": "b7b46bbd-ad8b-4e01-d68e-4a241c34aa93"
      },
      "source": [
        "plt.plot(loss_vec, 'k-')\n",
        "plt.title(\"Regresión de la Red Elástica\")\n",
        "plt.xlabel(\"Iteración\")\n",
        "plt.ylabel(\"Pérdida\")\n",
        "plt.show()"
      ],
      "execution_count": 78,
      "outputs": [
        {
          "output_type": "display_data",
          "data": {
            "image/png": "[encoded data removed]",
            "text/plain": [
              "<Figure size 432x288 with 1 Axes>"
            ]
          },
          "metadata": {
            "tags": [],
            "needs_background": "light"
          }
        }
      ]
    }
  ]
}