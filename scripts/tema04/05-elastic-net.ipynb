{
 "cells": [
  {
   "cell_type": "markdown",
   "metadata": {},
   "source": [
    "# Elastic Net"
   ]
  },
  {
   "cell_type": "code",
   "execution_count": 2,
   "metadata": {},
   "outputs": [],
   "source": [
    "import matplotlib.pyplot as plt\n",
    "import numpy as np\n",
    "import tensorflow as tf\n",
    "from sklearn import datasets\n",
    "session = tf.Session()\n",
    "iris = datasets.load_iris()"
   ]
  },
  {
   "cell_type": "code",
   "execution_count": 4,
   "metadata": {},
   "outputs": [],
   "source": [
    "x_vals = np.array([[x[1], x[2], x[3]] for x in iris.data])\n",
    "y_vals = np.array([x[0] for x in iris.data])"
   ]
  },
  {
   "cell_type": "markdown",
   "metadata": {},
   "source": [
    "- $x\\in\\mathbb R^3$\n",
    "- $A \\in \\mathbb R_{3\\times 1}$\n",
    "- $y = Ax+b\\in \\mathbb R$"
   ]
  },
  {
   "cell_type": "code",
   "execution_count": 5,
   "metadata": {},
   "outputs": [],
   "source": [
    "batch_size = 50\n",
    "learning_rate = 0.001\n",
    "x_data = tf.placeholder(shape=[None, 3], dtype = tf.float32)\n",
    "y_target = tf.placeholder(shape = [None, 1], dtype = tf.float32)\n",
    "A = tf.Variable(tf.random_normal(shape = [3,1]))\n",
    "b = tf.Variable(tf.random_normal(shape = [1,1]))\n",
    "y_pred = tf.add(tf.matmul(x_data, A), b)"
   ]
  },
  {
   "cell_type": "markdown",
   "metadata": {},
   "source": [
    "$$Loss = \\sum\\frac{(y_r-y_p)^2}{n} + \\alpha \\cdot |A| + \\beta \\cdot A^2$$"
   ]
  },
  {
   "cell_type": "code",
   "execution_count": 6,
   "metadata": {},
   "outputs": [],
   "source": [
    "elastic_param1 = tf.constant(1.0)\n",
    "elastic_param2 = tf.constant(1.0)\n",
    "l1_a_loss = tf.reduce_mean(tf.abs(A))\n",
    "l2_a_loss = tf.reduce_mean(tf.square(A))\n",
    "e1_term = tf.multiply(elastic_param1, l1_a_loss)\n",
    "e2_term = tf.multiply(elastic_param2, l2_a_loss)\n",
    "loss = tf.expand_dims(tf.add(tf.add(tf.reduce_mean(tf.square(y_target- y_pred)),e1_term), e2_term), 0)"
   ]
  },
  {
   "cell_type": "code",
   "execution_count": 7,
   "metadata": {},
   "outputs": [],
   "source": [
    "init = tf.global_variables_initializer()\n",
    "session.run(init)"
   ]
  },
  {
   "cell_type": "code",
   "execution_count": 8,
   "metadata": {},
   "outputs": [],
   "source": [
    "my_opt = tf.train.GradientDescentOptimizer(learning_rate=learning_rate)\n",
    "train_step = my_opt.minimize(loss)"
   ]
  },
  {
   "cell_type": "code",
   "execution_count": 9,
   "metadata": {},
   "outputs": [
    {
     "name": "stdout",
     "output_type": "stream",
     "text": [
      "Paso #100A = [[0.74697614]\n",
      " [0.5154729 ]\n",
      " [1.2540225 ]], b = [[-0.25254747]]Loss: [3.0685976]\n",
      "Paso #200A = [[0.8936755 ]\n",
      " [0.43354434]\n",
      " [1.0941019 ]], b = [[-0.18169326]]Loss: [2.401432]\n",
      "Paso #300A = [[0.9933284 ]\n",
      " [0.39666912]\n",
      " [0.96595615]], b = [[-0.11994478]]Loss: [2.0156589]\n",
      "Paso #400A = [[1.0505579 ]\n",
      " [0.3800822 ]\n",
      " [0.85715294]], b = [[-0.06807189]]Loss: [1.9624405]\n",
      "Paso #500A = [[1.0870284 ]\n",
      " [0.38038838]\n",
      " [0.7642895 ]], b = [[-0.02056528]]Loss: [1.6867502]\n",
      "Paso #600A = [[1.1021223 ]\n",
      " [0.38159966]\n",
      " [0.68053514]], b = [[0.02128363]]Loss: [1.664568]\n",
      "Paso #700A = [[1.1104743 ]\n",
      " [0.39101171]\n",
      " [0.6068288 ]], b = [[0.06163171]]Loss: [1.5249285]\n",
      "Paso #800A = [[1.1113749]\n",
      " [0.4059172]\n",
      " [0.5414247]], b = [[0.1001628]]Loss: [1.5240486]\n",
      "Paso #900A = [[1.1040583 ]\n",
      " [0.4191634 ]\n",
      " [0.48143983]], b = [[0.13660221]]Loss: [1.3970176]\n",
      "Paso #1000A = [[1.0975734 ]\n",
      " [0.43407416]\n",
      " [0.42631954]], b = [[0.17288697]]Loss: [1.4293066]\n"
     ]
    }
   ],
   "source": [
    "loss_vec = []\n",
    "for i in range(1000):\n",
    "    rand_idx = np.random.choice(len(x_vals), size=batch_size)\n",
    "    rand_x = x_vals[rand_idx]\n",
    "    rand_y = np.transpose([y_vals[rand_idx]])\n",
    "    session.run(train_step, feed_dict={x_data : rand_x, y_target: rand_y})\n",
    "    temp_loss = session.run(loss, feed_dict={x_data: rand_x, y_target: rand_y})\n",
    "    loss_vec.append(temp_loss[0])\n",
    "    if(i+1)%100==0:\n",
    "        print(\"Paso #\"+str(i+1)+\"A = \"+str(session.run(A))+\", b = \"+str(session.run(b))+\n",
    "             \"Loss: \"+str(temp_loss))"
   ]
  },
  {
   "cell_type": "code",
   "execution_count": 21,
   "metadata": {},
   "outputs": [
    {
     "name": "stdout",
     "output_type": "stream",
     "text": [
      "y=1.0975734x1+0.43407416x2+0.42631954x3+0.17288697\n"
     ]
    }
   ],
   "source": [
    "slope = session.run(A)\n",
    "[[intercept]] = session.run(b)\n",
    "print(\"y=\"+str(slope[0][0])+\"x1+\"+str(slope[1][0])+\"x2+\"+str(slope[2][0])+\"x3+\"+str(intercept))"
   ]
  },
  {
   "cell_type": "code",
   "execution_count": 22,
   "metadata": {},
   "outputs": [
    {
     "data": {
      "image/png": "[encoded data removed]",
      "text/plain": [
       "<Figure size 432x288 with 1 Axes>"
      ]
     },
     "metadata": {
      "needs_background": "light"
     },
     "output_type": "display_data"
    }
   ],
   "source": [
    "plt.plot(loss_vec, 'k-')\n",
    "plt.title(\"Regresión de la Red Elástica\")\n",
    "plt.xlabel(\"Iteración\")\n",
    "plt.ylabel(\"Pérdida\")\n",
    "plt.show()"
   ]
  },
  {
   "cell_type": "code",
   "execution_count": null,
   "metadata": {},
   "outputs": [],
   "source": []
  }
 ],
 "metadata": {
  "kernelspec": {
   "display_name": "Python 3",
   "language": "python",
   "name": "python3"
  },
  "language_info": {
   "codemirror_mode": {
    "name": "ipython",
    "version": 3
   },
   "file_extension": ".py",
   "mimetype": "text/x-python",
   "name": "python",
   "nbconvert_exporter": "python",
   "pygments_lexer": "ipython3",
   "version": "3.5.5"
  }
 },
 "nbformat": 4,
 "nbformat_minor": 2
}
