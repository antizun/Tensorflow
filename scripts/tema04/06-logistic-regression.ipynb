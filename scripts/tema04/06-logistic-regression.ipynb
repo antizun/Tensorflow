{
 "cells": [
  {
   "cell_type": "markdown",
   "metadata": {},
   "source": [
    "# Regresión logística"
   ]
  },
  {
   "cell_type": "code",
   "execution_count": 2,
   "metadata": {},
   "outputs": [],
   "source": [
    "import matplotlib.pyplot as plt\n",
    "import numpy as np\n",
    "import tensorflow as tf\n",
    "import requests\n",
    "from sklearn.preprocessing import normalize"
   ]
  },
  {
   "cell_type": "code",
   "execution_count": 3,
   "metadata": {},
   "outputs": [],
   "source": [
    "session = tf.Session()"
   ]
  },
  {
   "cell_type": "code",
   "execution_count": 4,
   "metadata": {},
   "outputs": [],
   "source": [
    "url = \"https://raw.githubusercontent.com/joanby/tensorflow/master/datasets/birthweight.dat?token=AMRAeMNwZBLC86UzdMdxEuhlGPMufKa5ks5cVIdzwA%3D%3D\"\n",
    "birth_file = requests.get(url)\n",
    "birth_data = birth_file.text.split('\\r\\n')\n",
    "\n",
    "birth_header = birth_data[0].split('\\t')\n",
    "birth_data = [[float(x) for x in y.split('\\t') if len(x)>=1] for y in birth_data[1:] if len(y)>=1]"
   ]
  },
  {
   "cell_type": "code",
   "execution_count": 5,
   "metadata": {},
   "outputs": [],
   "source": [
    "import os.path\n",
    "import csv\n",
    "\n",
    "birthweight_file_name = \"../../datasets/birthweight.csv\"\n",
    "if not os.path.exists(birthweight_file_name):\n",
    "    with open(birthweight_file_name, 'w', newline='') as f:\n",
    "        writer = csv.writer(f)\n",
    "        writer.writerow(birth_header)\n",
    "        writer.writerows(birth_data)\n",
    "        f.close()"
   ]
  },
  {
   "cell_type": "code",
   "execution_count": 7,
   "metadata": {},
   "outputs": [],
   "source": [
    "birth_data = []\n",
    "with open(birthweight_file_name, newline='') as csvfile:\n",
    "    csv_reader = csv.reader(csvfile)\n",
    "    birth_header = next(csv_reader)\n",
    "    for row in csv_reader:\n",
    "        birth_data.append(row)"
   ]
  },
  {
   "cell_type": "code",
   "execution_count": 8,
   "metadata": {},
   "outputs": [
    {
     "data": {
      "text/plain": [
       "['LOW', 'AGE', 'LWT', 'RACE', 'SMOKE', 'PTL', 'HT', 'UI', 'BWT']"
      ]
     },
     "execution_count": 8,
     "metadata": {},
     "output_type": "execute_result"
    }
   ],
   "source": [
    "birth_header"
   ]
  },
  {
   "cell_type": "code",
   "execution_count": 9,
   "metadata": {},
   "outputs": [
    {
     "data": {
      "text/plain": [
       "['1.0', '28.0', '113.0', '1.0', '1.0', '1.0', '0.0', '1.0', '709.0']"
      ]
     },
     "execution_count": 9,
     "metadata": {},
     "output_type": "execute_result"
    }
   ],
   "source": [
    "birth_data[0]"
   ]
  },
  {
   "cell_type": "code",
   "execution_count": 10,
   "metadata": {},
   "outputs": [],
   "source": [
    "birth_data = [[float(x) for x in row] for row in birth_data]"
   ]
  },
  {
   "cell_type": "code",
   "execution_count": 11,
   "metadata": {},
   "outputs": [
    {
     "data": {
      "text/plain": [
       "[1.0, 28.0, 113.0, 1.0, 1.0, 1.0, 0.0, 1.0, 709.0]"
      ]
     },
     "execution_count": 11,
     "metadata": {},
     "output_type": "execute_result"
    }
   ],
   "source": [
    "birth_data[0]"
   ]
  },
  {
   "cell_type": "code",
   "execution_count": 12,
   "metadata": {},
   "outputs": [],
   "source": [
    "y_vals = np.array([x[0] for x in birth_data])\n",
    "x_vals = np.array([x[1:8] for x in birth_data])"
   ]
  },
  {
   "cell_type": "markdown",
   "metadata": {},
   "source": [
    "### Dividir en entrenamiento y test"
   ]
  },
  {
   "cell_type": "code",
   "execution_count": 13,
   "metadata": {},
   "outputs": [],
   "source": [
    "train_idx =np.random.choice(len(x_vals), size=round(len(x_vals)*0.8), replace=False)\n",
    "test_idx = np.array(list(set(range(len(x_vals)))-set(train_idx)))"
   ]
  },
  {
   "cell_type": "code",
   "execution_count": 14,
   "metadata": {},
   "outputs": [],
   "source": [
    "x_vals_train = x_vals[train_idx]\n",
    "y_vals_train = y_vals[train_idx]\n",
    "\n",
    "x_vals_test = x_vals[test_idx]\n",
    "y_vals_test = y_vals[test_idx]"
   ]
  },
  {
   "cell_type": "markdown",
   "metadata": {},
   "source": [
    "### Normalización"
   ]
  },
  {
   "cell_type": "code",
   "execution_count": 15,
   "metadata": {},
   "outputs": [],
   "source": [
    "def normalize_cols(m, col_min = np.array([None]), col_max=np.array([None])):\n",
    "    if not col_min[0]:\n",
    "        col_min = m.min(axis=0)\n",
    "    if not col_max[0]:\n",
    "        col_max = m.max(axis=0)\n",
    "    return (m-col_min)/(col_max-col_min), col_min, col_max"
   ]
  },
  {
   "cell_type": "code",
   "execution_count": 16,
   "metadata": {},
   "outputs": [],
   "source": [
    "x_vals_train, train_min, train_max = np.nan_to_num(normalize_cols(x_vals_train))"
   ]
  },
  {
   "cell_type": "code",
   "execution_count": 17,
   "metadata": {},
   "outputs": [
    {
     "data": {
      "text/plain": [
       "array([0.35483871, 0.23529412, 1.        , 0.        , 0.        ,\n",
       "       0.        , 1.        ])"
      ]
     },
     "execution_count": 17,
     "metadata": {},
     "output_type": "execute_result"
    }
   ],
   "source": [
    "x_vals_train[0]"
   ]
  },
  {
   "cell_type": "code",
   "execution_count": 18,
   "metadata": {},
   "outputs": [
    {
     "data": {
      "text/plain": [
       "array([14., 80.,  0.,  0.,  0.,  0.,  0.])"
      ]
     },
     "execution_count": 18,
     "metadata": {},
     "output_type": "execute_result"
    }
   ],
   "source": [
    "train_min"
   ]
  },
  {
   "cell_type": "code",
   "execution_count": 19,
   "metadata": {},
   "outputs": [
    {
     "data": {
      "text/plain": [
       "array([ 45., 250.,   1.,   1.,   1.,   1.,   1.])"
      ]
     },
     "execution_count": 19,
     "metadata": {},
     "output_type": "execute_result"
    }
   ],
   "source": [
    "train_max "
   ]
  },
  {
   "cell_type": "code",
   "execution_count": 20,
   "metadata": {},
   "outputs": [],
   "source": [
    "x_vals_test = np.nan_to_num(normalize_cols(x_vals_test, col_min=train_min, col_max=train_max))"
   ]
  },
  {
   "cell_type": "markdown",
   "metadata": {},
   "source": [
    "### Modelo de regresión logística"
   ]
  },
  {
   "cell_type": "markdown",
   "metadata": {},
   "source": [
    "- $x \\in \\mathbb R^7$\n",
    "- $A \\in \\mathbb R_{7\\times 1}$\n",
    "- $b \\in \\mathbb R$\n",
    "- $y = Ax+b\\in \\mathbb R$\n",
    "- $\\hat{y} = sigmoid(y)\\in (0,1) $"
   ]
  },
  {
   "cell_type": "code",
   "execution_count": 21,
   "metadata": {},
   "outputs": [],
   "source": [
    "batch_size = 25\n",
    "x_data = tf.placeholder(shape=[None, 7], dtype = tf.float32)\n",
    "y_target = tf.placeholder(shape = [None, 1], dtype=tf.float32)\n",
    "A = tf.Variable(tf.random_normal(shape=[7,1]))\n",
    "b = tf.Variable(tf.random_normal(shape=[1,1]))\n",
    "y_pred = tf.add(tf.matmul(x_data, A), b)"
   ]
  },
  {
   "cell_type": "code",
   "execution_count": 22,
   "metadata": {},
   "outputs": [],
   "source": [
    "loss = tf.reduce_mean(tf.nn.sigmoid_cross_entropy_with_logits(logits=y_pred, labels= y_target))\n",
    "init = tf.global_variables_initializer()\n",
    "session.run(init)\n",
    "my_optim = tf.train.GradientDescentOptimizer(learning_rate=0.01)\n",
    "train_step = my_optim.minimize(loss)"
   ]
  },
  {
   "cell_type": "code",
   "execution_count": 23,
   "metadata": {},
   "outputs": [],
   "source": [
    "classification_lr = tf.round(tf.sigmoid(y_pred))\n",
    "correct_classification = tf.cast(tf.equal(classification_lr, y_target), tf.float32)\n",
    "accuracy = tf.reduce_mean(correct_classification)"
   ]
  },
  {
   "cell_type": "code",
   "execution_count": 35,
   "metadata": {},
   "outputs": [
    {
     "name": "stdout",
     "output_type": "stream",
     "text": [
      "Loss: 0.8223665\n",
      "Loss: 0.90686965\n",
      "Loss: 0.789581\n",
      "Loss: 0.70289403\n",
      "Loss: 0.63892907\n",
      "Loss: 0.6800371\n",
      "Loss: 0.5581609\n",
      "Loss: 0.56668055\n",
      "Loss: 0.6484476\n",
      "Loss: 0.50390255\n",
      "Loss: 0.58853453\n",
      "Loss: 0.55440134\n",
      "Loss: 0.5234635\n",
      "Loss: 0.60233164\n",
      "Loss: 0.57033193\n",
      "Loss: 0.5491144\n",
      "Loss: 0.6528093\n",
      "Loss: 0.5738398\n",
      "Loss: 0.6555701\n",
      "Loss: 0.6534678\n"
     ]
    }
   ],
   "source": [
    "loss_vec = []\n",
    "train_acc = []\n",
    "test_acc = []\n",
    "for i in range(2000):\n",
    "    rand_idx = np.random.choice(len(x_vals_train), size=batch_size)\n",
    "    rand_x = x_vals_train[rand_idx]\n",
    "    rand_y = np.transpose([y_vals_train[rand_idx]])\n",
    "    session.run(train_step, feed_dict={x_data: rand_x, y_target: rand_y})\n",
    "    temp_loss = session.run(loss, feed_dict={x_data: rand_x, y_target: rand_y})\n",
    "    loss_vec.append(temp_loss)\n",
    "    temp_acc_train = session.run(accuracy, \n",
    "                                 feed_dict={x_data: x_vals_train, y_target: np.transpose([y_vals_train])})\n",
    "    train_acc.append(temp_acc_train)\n",
    "    temp_acc_test = session.run(accuracy, \n",
    "                                feed_dict={x_data: x_vals_test[0], y_target: np.transpose([y_vals_test])})\n",
    "    test_acc.append(temp_acc_test)\n",
    "    if(i+1)%100==0:\n",
    "        print(\"Loss: \"+str(temp_loss))"
   ]
  },
  {
   "cell_type": "code",
   "execution_count": 37,
   "metadata": {},
   "outputs": [
    {
     "data": {
      "image/png": "[encoded data removed]",
      "text/plain": [
       "<Figure size 432x288 with 1 Axes>"
      ]
     },
     "metadata": {
      "needs_background": "light"
     },
     "output_type": "display_data"
    }
   ],
   "source": [
    "plt.plot(loss_vec, 'k-')\n",
    "plt.title(\"Función de pérdidas por iteración\")\n",
    "plt.xlabel(\"Iteración\")\n",
    "plt.ylabel(\"Pérdida\")\n",
    "plt.ylim([0,2])\n",
    "plt.show()"
   ]
  },
  {
   "cell_type": "code",
   "execution_count": 38,
   "metadata": {},
   "outputs": [
    {
     "data": {
      "image/png": "[encoded data removed]",
      "text/plain": [
       "<Figure size 432x288 with 1 Axes>"
      ]
     },
     "metadata": {
      "needs_background": "light"
     },
     "output_type": "display_data"
    }
   ],
   "source": [
    "plt.plot(train_acc, 'b-', label = \"Precisión conjunto entrenamiento\")\n",
    "plt.plot(test_acc, 'r--', label = \"Precisión conjunto de pruebas\")\n",
    "plt.title(\"Precisión en entrenamiento y testing\")\n",
    "plt.xlabel(\"Iteración del algoritmo\")\n",
    "plt.ylabel(\"Precisión (proporción de clasifición OK)\")\n",
    "plt.legend(loc = 'lower right')\n",
    "plt.show()"
   ]
  },
  {
   "cell_type": "code",
   "execution_count": null,
   "metadata": {},
   "outputs": [],
   "source": []
  }
 ],
 "metadata": {
  "kernelspec": {
   "display_name": "Python 3",
   "language": "python",
   "name": "python3"
  },
  "language_info": {
   "codemirror_mode": {
    "name": "ipython",
    "version": 3
   },
   "file_extension": ".py",
   "mimetype": "text/x-python",
   "name": "python",
   "nbconvert_exporter": "python",
   "pygments_lexer": "ipython3",
   "version": "3.5.5"
  }
 },
 "nbformat": 4,
 "nbformat_minor": 2
}
