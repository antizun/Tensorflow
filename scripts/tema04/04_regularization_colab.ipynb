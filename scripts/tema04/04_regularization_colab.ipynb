{
  "nbformat": 4,
  "nbformat_minor": 0,
  "metadata": {
    "colab": {
      "name": "04-regularization_colab.ipynb",
      "provenance": [],
      "collapsed_sections": []
    },
    "kernelspec": {
      "display_name": "Python 3",
      "language": "python",
      "name": "python3"
    },
    "language_info": {
      "codemirror_mode": {
        "name": "ipython",
        "version": 3
      },
      "file_extension": ".py",
      "mimetype": "text/x-python",
      "name": "python",
      "nbconvert_exporter": "python",
      "pygments_lexer": "ipython3",
      "version": "3.8.3"
    },
    "accelerator": "GPU"
  },
  "cells": [
    {
      "cell_type": "markdown",
      "metadata": {
        "colab_type": "text",
        "id": "KdUFcDsdzRyw"
      },
      "source": [
        "# Clonamos el repositorio para obtener los dataSet"
      ]
    },
    {
      "cell_type": "code",
      "metadata": {
        "colab_type": "code",
        "id": "mHReFf3_y9ms",
        "colab": {}
      },
      "source": [
        "!git clone https://github.com/joanby/tensorflow.git"
      ],
      "execution_count": null,
      "outputs": []
    },
    {
      "cell_type": "markdown",
      "metadata": {
        "colab_type": "text",
        "id": "vNKZXgtKzU2x"
      },
      "source": [
        "# Damos acceso a nuestro Drive"
      ]
    },
    {
      "cell_type": "code",
      "metadata": {
        "colab_type": "code",
        "id": "5gu7KWnzzUQ0",
        "colab": {}
      },
      "source": [
        "from google.colab import drive\n",
        "drive.mount('/content/drive')"
      ],
      "execution_count": null,
      "outputs": []
    },
    {
      "cell_type": "markdown",
      "metadata": {
        "colab_type": "text",
        "id": "1gUxIkHWzfHV"
      },
      "source": [
        "# Test it"
      ]
    },
    {
      "cell_type": "code",
      "metadata": {
        "colab_type": "code",
        "id": "mIQt3jBMzYRE",
        "colab": {}
      },
      "source": [
        "!ls '/content/drive/My Drive' "
      ],
      "execution_count": null,
      "outputs": []
    },
    {
      "cell_type": "markdown",
      "metadata": {
        "colab_type": "text",
        "id": "mHsK36uN0XB-"
      },
      "source": [
        "# Google colab tools"
      ]
    },
    {
      "cell_type": "code",
      "metadata": {
        "colab_type": "code",
        "id": "kTzwfUPWzrm4",
        "colab": {}
      },
      "source": [
        "from google.colab import files # Para manejar los archivos y, por ejemplo, exportar a su navegador\n",
        "import glob # Para manejar los archivos y, por ejemplo, exportar a su navegador\n",
        "from google.colab import drive # Montar tu Google drive"
      ],
      "execution_count": 1,
      "outputs": []
    },
    {
      "cell_type": "markdown",
      "metadata": {
        "id": "yQQ8nLiMY6wM",
        "colab_type": "text"
      },
      "source": [
        "##Especificando la versión de TensorFlow\n",
        "\n",
        "Ejecutando \"importar tensorflow\" importará la versión por defecto (actualmente 2.x). Puedes usar la 1.x ejecutando una celda con la \"versión mágica de tensorflow\" **antes de ejecutar \"importar tensorflow\".\n",
        "\n",
        "### Si no funciona hacer el pip install\n"
      ]
    },
    {
      "cell_type": "code",
      "metadata": {
        "id": "1j---G3ZY6wN",
        "colab_type": "code",
        "colab": {
          "base_uri": "https://localhost:8080/",
          "height": 34
        },
        "outputId": "05abac25-8e51-46a3-ea05-e7642cb53235"
      },
      "source": [
        "#!pip install tensorflow==1.14\n",
        "%tensorflow_version 1.x"
      ],
      "execution_count": 2,
      "outputs": [
        {
          "output_type": "stream",
          "text": [
            "TensorFlow 1.x selected.\n"
          ],
          "name": "stdout"
        }
      ]
    },
    {
      "cell_type": "markdown",
      "metadata": {
        "id": "S-OIfuWLujbt",
        "colab_type": "text"
      },
      "source": [
        "# Importar Tensorflow"
      ]
    },
    {
      "cell_type": "code",
      "metadata": {
        "id": "OPSus73fumtP",
        "colab_type": "code",
        "colab": {
          "base_uri": "https://localhost:8080/",
          "height": 34
        },
        "outputId": "e22af1fe-a39e-4993-f5a8-c5714fe0c2ac"
      },
      "source": [
        "import tensorflow as tf\n",
        "print(tf.__version__)\n",
        "import matplotlib.pyplot as plt"
      ],
      "execution_count": 3,
      "outputs": [
        {
          "output_type": "stream",
          "text": [
            "1.15.2\n"
          ],
          "name": "stdout"
        }
      ]
    },
    {
      "cell_type": "code",
      "metadata": {
        "id": "VQheSGsEBdD3",
        "colab_type": "code",
        "colab": {}
      },
      "source": [
        "session = tf.Session()"
      ],
      "execution_count": 4,
      "outputs": []
    },
    {
      "cell_type": "markdown",
      "metadata": {
        "id": "qzlBylUEmQJ0",
        "colab_type": "text"
      },
      "source": [
        "# Regresión Lasso y Ridge"
      ]
    },
    {
      "cell_type": "code",
      "metadata": {
        "id": "AwPNJepKmJAJ",
        "colab_type": "code",
        "colab": {}
      },
      "source": [
        "import matplotlib.pyplot as plt\n",
        "import numpy as np\n",
        "from sklearn import datasets"
      ],
      "execution_count": 17,
      "outputs": []
    },
    {
      "cell_type": "markdown",
      "metadata": {
        "id": "xPVi9OnY-6Fj",
        "colab_type": "text"
      },
      "source": [
        "$$y = Ax + b$$"
      ]
    },
    {
      "cell_type": "code",
      "metadata": {
        "id": "FvgbwHq3mbJv",
        "colab_type": "code",
        "colab": {}
      },
      "source": [
        "iris = datasets.load_iris()"
      ],
      "execution_count": 18,
      "outputs": []
    },
    {
      "cell_type": "code",
      "metadata": {
        "id": "OkJtEI9hEuu0",
        "colab_type": "code",
        "colab": {}
      },
      "source": [
        "x_vals = np.array([x[3] for x in iris.data])\n",
        "y_vals = np.array([x[0] for x in iris.data])"
      ],
      "execution_count": 19,
      "outputs": []
    },
    {
      "cell_type": "code",
      "metadata": {
        "id": "Aqfzx5TPPKBT",
        "colab_type": "code",
        "colab": {}
      },
      "source": [
        "batch_size = 50\n",
        "learning_rate = 0.001"
      ],
      "execution_count": 54,
      "outputs": []
    },
    {
      "cell_type": "code",
      "metadata": {
        "id": "KaWS5fKCPMTy",
        "colab_type": "code",
        "colab": {}
      },
      "source": [
        "x_data = tf.placeholder(shape = [None, 1], dtype=tf.float32)\n",
        "y_target = tf.placeholder(shape=[None, 1], dtype = tf.float32)\n",
        "A = tf.Variable(tf.random_normal(shape=[1,1]))\n",
        "b = tf.Variable(tf.random_normal(shape=[1,1]))\n",
        "y_pred = tf.add(tf.matmul(x_data, A), b)"
      ],
      "execution_count": 55,
      "outputs": []
    },
    {
      "cell_type": "markdown",
      "metadata": {
        "id": "qMWtHxvL_rOn",
        "colab_type": "text"
      },
      "source": [
        "$$\\sum\\frac{(y_r-y_p)^2}{n} \\frac{99.0}{1+e^{-100(A-0.9)}}$$"
      ]
    },
    {
      "cell_type": "code",
      "metadata": {
        "id": "JSVevVFAmoue",
        "colab_type": "code",
        "colab": {}
      },
      "source": [
        "lasso_param = tf.constant(0.9)\n",
        "heavyside_step = tf.truediv(1.0, tf.add(1.0, tf.exp(tf.multiply(-100.0, tf.subtract(A, lasso_param)))))\n",
        "regularization_params = tf.multiply(heavyside_step, 99.0)\n",
        "loss = tf.add(tf.reduce_mean(tf.square(y_target - y_pred)), regularization_params)"
      ],
      "execution_count": 56,
      "outputs": []
    },
    {
      "cell_type": "code",
      "metadata": {
        "id": "onQN1h1qB11F",
        "colab_type": "code",
        "colab": {}
      },
      "source": [
        "init = tf.global_variables_initializer()\n",
        "session.run(init)"
      ],
      "execution_count": 57,
      "outputs": []
    },
    {
      "cell_type": "code",
      "metadata": {
        "id": "Q9V3JA_4AYq7",
        "colab_type": "code",
        "colab": {}
      },
      "source": [
        "my_optim = tf.train.GradientDescentOptimizer(learning_rate=learning_rate)\n",
        "train_step = my_optim.minimize(loss)"
      ],
      "execution_count": 58,
      "outputs": []
    },
    {
      "cell_type": "code",
      "metadata": {
        "id": "7L3w47a13T0N",
        "colab_type": "code",
        "colab": {
          "base_uri": "https://localhost:8080/",
          "height": 357
        },
        "outputId": "90c5e3fd-0a2a-48b0-e639-58ed8ec55e50"
      },
      "source": [
        "loss_vec = []\n",
        "for i in range(2000):\n",
        "    rand_idx = np.random.choice(len(x_vals), size = batch_size)\n",
        "    rand_x = np.transpose([x_vals[rand_idx]])\n",
        "    rand_y = np.transpose([y_vals[rand_idx]])\n",
        "    session.run(train_step, feed_dict = {x_data: rand_x, y_target: rand_y})\n",
        "    temp_loss = session.run(loss, feed_dict={x_data: rand_x, y_target: rand_y})\n",
        "    loss_vec.append(temp_loss[0])\n",
        "    if(i+1)%100 == 0:\n",
        "        print(\"Paso #\"+str(i+1)+\"A = \"+str(session.run(A))+\", b = \"+str(session.run(b))+\n",
        "             \"Loss: \"+str(temp_loss))"
      ],
      "execution_count": 59,
      "outputs": [
        {
          "output_type": "stream",
          "text": [
            "Paso #100A = [[0.8329593]], b = [[0.37387386]]Loss: [[21.064001]]\n",
            "Paso #200A = [[0.82976735]], b = [[1.1841542]]Loss: [[13.508418]]\n",
            "Paso #300A = [[0.8282176]], b = [[1.8475507]]Loss: [[10.175077]]\n",
            "Paso #400A = [[0.8253774]], b = [[2.393418]]Loss: [[5.7700033]]\n",
            "Paso #500A = [[0.82373935]], b = [[2.8382256]]Loss: [[4.087232]]\n",
            "Paso #600A = [[0.82253945]], b = [[3.2045174]]Loss: [[3.0805383]]\n",
            "Paso #700A = [[0.8197698]], b = [[3.505182]]Loss: [[2.2970717]]\n",
            "Paso #800A = [[0.8186082]], b = [[3.752896]]Loss: [[1.8312922]]\n",
            "Paso #900A = [[0.81750834]], b = [[3.9537292]]Loss: [[1.4096655]]\n",
            "Paso #1000A = [[0.8138684]], b = [[4.118099]]Loss: [[0.7305082]]\n",
            "Paso #1100A = [[0.8123454]], b = [[4.2552524]]Loss: [[0.6635394]]\n",
            "Paso #1200A = [[0.81024915]], b = [[4.3684697]]Loss: [[0.42617893]]\n",
            "Paso #1300A = [[0.8088029]], b = [[4.460141]]Loss: [[0.5147079]]\n",
            "Paso #1400A = [[0.8066791]], b = [[4.5343122]]Loss: [[0.4240558]]\n",
            "Paso #1500A = [[0.8066837]], b = [[4.597366]]Loss: [[0.44809842]]\n",
            "Paso #1600A = [[0.80383646]], b = [[4.6481996]]Loss: [[0.27297193]]\n",
            "Paso #1700A = [[0.8026819]], b = [[4.690598]]Loss: [[0.2789129]]\n",
            "Paso #1800A = [[0.79998076]], b = [[4.7244697]]Loss: [[0.3570741]]\n",
            "Paso #1900A = [[0.7991852]], b = [[4.7546067]]Loss: [[0.22454765]]\n",
            "Paso #2000A = [[0.79876506]], b = [[4.7805963]]Loss: [[0.22211562]]\n"
          ],
          "name": "stdout"
        }
      ]
    },
    {
      "cell_type": "code",
      "metadata": {
        "id": "0i7Vcc083U7X",
        "colab_type": "code",
        "colab": {
          "base_uri": "https://localhost:8080/",
          "height": 282
        },
        "outputId": "73697eab-8bef-4e8b-8d2a-75ad92d1ac87"
      },
      "source": [
        "plt.plot(loss_vec, 'k-')"
      ],
      "execution_count": 60,
      "outputs": [
        {
          "output_type": "execute_result",
          "data": {
            "text/plain": [
              "[<matplotlib.lines.Line2D at 0x7f1ccc23aac8>]"
            ]
          },
          "metadata": {
            "tags": []
          },
          "execution_count": 60
        },
        {
          "output_type": "display_data",
          "data": {
            "image/png": "[encoded data removed]",
            "text/plain": [
              "<Figure size 432x288 with 1 Axes>"
            ]
          },
          "metadata": {
            "tags": [],
            "needs_background": "light"
          }
        }
      ]
    },
    {
      "cell_type": "code",
      "metadata": {
        "id": "VxrVnxRU3XPL",
        "colab_type": "code",
        "colab": {
          "base_uri": "https://localhost:8080/",
          "height": 34
        },
        "outputId": "5abc8c35-de42-4af2-bc84-5e52dec97d01"
      },
      "source": [
        "[[slope]] = session.run(A)\n",
        "[[intercept]] = session.run(b)\n",
        "print(str(slope) + \"x+\"+str(intercept))"
      ],
      "execution_count": 61,
      "outputs": [
        {
          "output_type": "stream",
          "text": [
            "0.79876506x+4.7805963\n"
          ],
          "name": "stdout"
        }
      ]
    },
    {
      "cell_type": "code",
      "metadata": {
        "id": "z6mQRX6a_lCS",
        "colab_type": "code",
        "colab": {}
      },
      "source": [
        "best_fit = []\n",
        "for i in x_vals:\n",
        "    best_fit.append(slope*i+intercept)"
      ],
      "execution_count": 62,
      "outputs": []
    },
    {
      "cell_type": "code",
      "metadata": {
        "id": "HLH3ctU4AmV4",
        "colab_type": "code",
        "colab": {
          "base_uri": "https://localhost:8080/",
          "height": 295
        },
        "outputId": "19164eee-6e65-423e-dd09-7f0844a57974"
      },
      "source": [
        "plt.plot(x_vals, y_vals, 'o', label = \"Datos\")\n",
        "plt.plot(x_vals, best_fit, 'r-', label=\"Recta de regresión lasso\", linewidth=3)\n",
        "plt.legend(loc = \"upper left\")\n",
        "plt.title(\"Longitud de sépalos vs Anchura de Pétalos\")\n",
        "plt.xlabel(\"Anchura del Pétalo\")\n",
        "plt.ylabel(\"Longitud del Sépalo\")\n",
        "plt.show()"
      ],
      "execution_count": 63,
      "outputs": [
        {
          "output_type": "display_data",
          "data": {
            "image/png": "[encoded data removed]",
            "text/plain": [
              "<Figure size 432x288 with 1 Axes>"
            ]
          },
          "metadata": {
            "tags": [],
            "needs_background": "light"
          }
        }
      ]
    },
    {
      "cell_type": "markdown",
      "metadata": {
        "id": "_KlnaNmr_62X",
        "colab_type": "text"
      },
      "source": [
        "## Ejercicio: Regresión Ridge"
      ]
    },
    {
      "cell_type": "markdown",
      "metadata": {
        "id": "erMdt2r8_-6d",
        "colab_type": "text"
      },
      "source": [
        "$$\\sum\\frac{(y_r-y_p)^2}{n}+ridge_p\\cdot A^2$$"
      ]
    },
    {
      "cell_type": "code",
      "metadata": {
        "id": "K0wQBE9rAnWw",
        "colab_type": "code",
        "colab": {}
      },
      "source": [
        "ridge_params = tf.constant(1.0)\n",
        "ridge_loss = tf.reduce_mean(tf.square(A))\n",
        "loss = tf.expand_dims(tf.add(tf.reduce_mean(tf.square(y_target-y_pred)), tf.multiply(ridge_params, ridge_loss)),0)"
      ],
      "execution_count": 64,
      "outputs": []
    }
  ]
}