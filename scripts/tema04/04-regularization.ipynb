{
 "cells": [
  {
   "cell_type": "markdown",
   "metadata": {},
   "source": [
    "# Regresión Lasso y Ridge"
   ]
  },
  {
   "cell_type": "markdown",
   "metadata": {},
   "source": [
    "$$y = Ax + b$$"
   ]
  },
  {
   "cell_type": "code",
   "execution_count": 14,
   "metadata": {},
   "outputs": [],
   "source": [
    "import matplotlib.pyplot as plt\n",
    "import numpy as np\n",
    "import tensorflow as tf\n",
    "from sklearn import datasets"
   ]
  },
  {
   "cell_type": "code",
   "execution_count": 15,
   "metadata": {},
   "outputs": [],
   "source": [
    "session = tf.Session()\n",
    "iris = datasets.load_iris()"
   ]
  },
  {
   "cell_type": "code",
   "execution_count": 16,
   "metadata": {},
   "outputs": [],
   "source": [
    "x_vals = np.array([x[3] for x in iris.data])\n",
    "y_vals = np.array([x[0] for x in iris.data])"
   ]
  },
  {
   "cell_type": "code",
   "execution_count": 17,
   "metadata": {},
   "outputs": [],
   "source": [
    "batch_size = 50\n",
    "learning_rate = 0.001"
   ]
  },
  {
   "cell_type": "code",
   "execution_count": 18,
   "metadata": {},
   "outputs": [],
   "source": [
    "x_data = tf.placeholder(shape = [None, 1], dtype=tf.float32)\n",
    "y_target = tf.placeholder(shape=[None, 1], dtype = tf.float32)\n",
    "A = tf.Variable(tf.random_normal(shape=[1,1]))\n",
    "b = tf.Variable(tf.random_normal(shape=[1,1]))\n",
    "y_pred = tf.add(tf.matmul(x_data, A), b)"
   ]
  },
  {
   "cell_type": "markdown",
   "metadata": {},
   "source": [
    "$$\\sum\\frac{(y_r-y_p)^2}{n} \\frac{99.0}{1+e^{-100(A-0.9)}}$$"
   ]
  },
  {
   "cell_type": "code",
   "execution_count": 19,
   "metadata": {},
   "outputs": [],
   "source": [
    "lasso_param = tf.constant(0.9)\n",
    "heavyside_step = tf.truediv(1.0, tf.add(1.0, tf.exp(tf.multiply(-100.0, tf.subtract(A, lasso_param)))))\n",
    "regularization_params = tf.multiply(heavyside_step, 99.0)\n",
    "loss = tf.add(tf.reduce_mean(tf.square(y_target - y_pred)), regularization_params)"
   ]
  },
  {
   "cell_type": "code",
   "execution_count": 20,
   "metadata": {},
   "outputs": [],
   "source": [
    "init = tf.global_variables_initializer()\n",
    "session.run(init)"
   ]
  },
  {
   "cell_type": "code",
   "execution_count": 21,
   "metadata": {},
   "outputs": [],
   "source": [
    "my_optim = tf.train.GradientDescentOptimizer(learning_rate=learning_rate)\n",
    "train_step = my_optim.minimize(loss)"
   ]
  },
  {
   "cell_type": "code",
   "execution_count": 22,
   "metadata": {},
   "outputs": [
    {
     "name": "stdout",
     "output_type": "stream",
     "text": [
      "Paso #100A = [[0.8304682]], b = [[0.7241594]]Loss: [[17.920986]]\n",
      "Paso #200A = [[0.82946855]], b = [[1.4720707]]Loss: [[12.4110565]]\n",
      "Paso #300A = [[0.826139]], b = [[2.0831578]]Loss: [[7.6003747]]\n",
      "Paso #400A = [[0.8253051]], b = [[2.5865479]]Loss: [[6.0451307]]\n",
      "Paso #500A = [[0.8228841]], b = [[2.9960406]]Loss: [[4.132208]]\n",
      "Paso #600A = [[0.82098705]], b = [[3.3337257]]Loss: [[2.4873269]]\n",
      "Paso #700A = [[0.81905735]], b = [[3.6102118]]Loss: [[1.5592192]]\n",
      "Paso #800A = [[0.8175513]], b = [[3.8360791]]Loss: [[1.3149165]]\n",
      "Paso #900A = [[0.81583214]], b = [[4.020879]]Loss: [[0.9648617]]\n",
      "Paso #1000A = [[0.81360847]], b = [[4.173214]]Loss: [[0.663441]]\n",
      "Paso #1100A = [[0.81164044]], b = [[4.2995734]]Loss: [[0.5606561]]\n",
      "Paso #1200A = [[0.8101692]], b = [[4.402304]]Loss: [[0.44992754]]\n",
      "Paso #1300A = [[0.8072971]], b = [[4.4864597]]Loss: [[0.4360022]]\n",
      "Paso #1400A = [[0.80692494]], b = [[4.5587764]]Loss: [[0.37694833]]\n",
      "Paso #1500A = [[0.80461615]], b = [[4.6173306]]Loss: [[0.29246995]]\n",
      "Paso #1600A = [[0.804063]], b = [[4.663118]]Loss: [[0.41469085]]\n",
      "Paso #1700A = [[0.80072504]], b = [[4.701631]]Loss: [[0.2270857]]\n",
      "Paso #1800A = [[0.7999351]], b = [[4.7337704]]Loss: [[0.33739847]]\n",
      "Paso #1900A = [[0.79767585]], b = [[4.759911]]Loss: [[0.2216993]]\n",
      "Paso #2000A = [[0.7963831]], b = [[4.7811656]]Loss: [[0.21609779]]\n"
     ]
    }
   ],
   "source": [
    "loss_vec = []\n",
    "for i in range(2000):\n",
    "    rand_idx = np.random.choice(len(x_vals), size = batch_size)\n",
    "    rand_x = np.transpose([x_vals[rand_idx]])\n",
    "    rand_y = np.transpose([y_vals[rand_idx]])\n",
    "    session.run(train_step, feed_dict = {x_data: rand_x, y_target: rand_y})\n",
    "    temp_loss = session.run(loss, feed_dict={x_data: rand_x, y_target: rand_y})\n",
    "    loss_vec.append(temp_loss[0])\n",
    "    if(i+1)%100 == 0:\n",
    "        print(\"Paso #\"+str(i+1)+\"A = \"+str(session.run(A))+\", b = \"+str(session.run(b))+\n",
    "             \"Loss: \"+str(temp_loss))"
   ]
  },
  {
   "cell_type": "code",
   "execution_count": 23,
   "metadata": {},
   "outputs": [
    {
     "data": {
      "text/plain": [
       "[<matplotlib.lines.Line2D at 0x1a21f9a8d0>]"
      ]
     },
     "execution_count": 23,
     "metadata": {},
     "output_type": "execute_result"
    },
    {
     "data": {
      "image/png": "[encoded data removed]",
      "text/plain": [
       "<Figure size 432x288 with 1 Axes>"
      ]
     },
     "metadata": {
      "needs_background": "light"
     },
     "output_type": "display_data"
    }
   ],
   "source": [
    "plt.plot(loss_vec, 'k-')"
   ]
  },
  {
   "cell_type": "code",
   "execution_count": 27,
   "metadata": {},
   "outputs": [
    {
     "name": "stdout",
     "output_type": "stream",
     "text": [
      "0.7963831x+4.7811656\n"
     ]
    }
   ],
   "source": [
    "[[slope]] = session.run(A)\n",
    "[[intercept]] = session.run(b)\n",
    "print(str(slope) + \"x+\"+str(intercept))"
   ]
  },
  {
   "cell_type": "code",
   "execution_count": 28,
   "metadata": {},
   "outputs": [],
   "source": [
    "best_fit = []\n",
    "for i in x_vals:\n",
    "    best_fit.append(slope*i+intercept)"
   ]
  },
  {
   "cell_type": "code",
   "execution_count": 30,
   "metadata": {},
   "outputs": [
    {
     "data": {
      "image/png": "[encoded data removed]",
      "text/plain": [
       "<Figure size 432x288 with 1 Axes>"
      ]
     },
     "metadata": {
      "needs_background": "light"
     },
     "output_type": "display_data"
    }
   ],
   "source": [
    "plt.plot(x_vals, y_vals, 'o', label = \"Datos\")\n",
    "plt.plot(x_vals, best_fit, 'r-', label=\"Recta de regresión lasso\", linewidth=3)\n",
    "plt.legend(loc = \"upper left\")\n",
    "plt.title(\"Longitud de sépalos vs Anchura de Pétalos\")\n",
    "plt.xlabel(\"Anchura del Pétalo\")\n",
    "plt.ylabel(\"Longitud del Sépalo\")\n",
    "plt.show()"
   ]
  },
  {
   "cell_type": "markdown",
   "metadata": {},
   "source": [
    "## Ejercicio: Regresión Ridge"
   ]
  },
  {
   "cell_type": "markdown",
   "metadata": {},
   "source": [
    "$$\\sum\\frac{(y_r-y_p)^2}{n}+ridge_p\\cdot A^2$$"
   ]
  },
  {
   "cell_type": "code",
   "execution_count": 32,
   "metadata": {},
   "outputs": [],
   "source": [
    "ridge_params = tf.constant(1.0)\n",
    "ridge_loss = tf.reduce_mean(tf.square(A))\n",
    "loss = tf.expand_dims(tf.add(tf.reduce_mean(tf.square(y_target-y_pred)), tf.multiply(ridge_params, ridge_loss)),0)"
   ]
  },
  {
   "cell_type": "code",
   "execution_count": null,
   "metadata": {},
   "outputs": [],
   "source": []
  }
 ],
 "metadata": {
  "kernelspec": {
   "display_name": "Python 3",
   "language": "python",
   "name": "python3"
  },
  "language_info": {
   "codemirror_mode": {
    "name": "ipython",
    "version": 3
   },
   "file_extension": ".py",
   "mimetype": "text/x-python",
   "name": "python",
   "nbconvert_exporter": "python",
   "pygments_lexer": "ipython3",
   "version": "3.5.5"
  }
 },
 "nbformat": 4,
 "nbformat_minor": 2
}
