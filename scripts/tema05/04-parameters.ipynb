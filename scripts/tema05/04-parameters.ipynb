{
 "cells": [
  {
   "cell_type": "markdown",
   "metadata": {},
   "source": [
    "# Parámetros de un nucleo gaussiano"
   ]
  },
  {
   "cell_type": "code",
   "execution_count": 2,
   "metadata": {},
   "outputs": [],
   "source": [
    "import matplotlib.pyplot as plt\n",
    "import numpy as np\n",
    "import tensorflow as tf\n",
    "from sklearn  import datasets"
   ]
  },
  {
   "cell_type": "code",
   "execution_count": 3,
   "metadata": {},
   "outputs": [],
   "source": [
    "session = tf.Session()"
   ]
  },
  {
   "cell_type": "code",
   "execution_count": 4,
   "metadata": {},
   "outputs": [],
   "source": [
    "iris = datasets.load_iris()\n",
    "x_vals = np.array([[x[0], x[3]] for x in iris.data])\n",
    "y_vals = np.array([1 if y==0 else -1 for y in iris.target])\n",
    "\n",
    "class1_x = [x[0] for i,x in enumerate(x_vals) if y_vals[i]==1]\n",
    "class1_y = [x[1] for i,x in enumerate(x_vals) if y_vals[i]==1]\n",
    "class2_x = [x[0] for i,x in enumerate(x_vals) if y_vals[i]==-1]\n",
    "class2_y = [x[1] for i,x in enumerate(x_vals) if y_vals[i]==-1]"
   ]
  },
  {
   "cell_type": "code",
   "execution_count": 8,
   "metadata": {},
   "outputs": [],
   "source": [
    "batch_size = 150\n",
    "\n",
    "x_data = tf.placeholder(shape=[None, 2], dtype=tf.float32)\n",
    "y_target = tf.placeholder(shape=[None, 1], dtype=tf.float32)\n",
    "\n",
    "prediction_grid = tf.placeholder(shape=[None,2], dtype=tf.float32)\n",
    "\n",
    "b = tf.Variable(tf.random_normal(shape=[1, batch_size]))"
   ]
  },
  {
   "cell_type": "code",
   "execution_count": 6,
   "metadata": {},
   "outputs": [],
   "source": [
    "gammas = [1.0, 10.0, 25.0, 100.0]"
   ]
  },
  {
   "cell_type": "code",
   "execution_count": 29,
   "metadata": {},
   "outputs": [
    {
     "name": "stdout",
     "output_type": "stream",
     "text": [
      "Paso #50, Pérdida = 16.130962, Precisión = 0.73333335\n",
      "Paso #100, Pérdida = -0.16087055, Precisión = 0.88\n",
      "Paso #150, Pérdida = -1.5168262, Precisión = 0.91333336\n",
      "Paso #200, Pérdida = -1.6983969, Precisión = 1.0\n",
      "Paso #250, Pérdida = -2.050642, Precisión = 1.0\n",
      "Paso #300, Pérdida = -2.0212767, Precisión = 0.9866667\n",
      "Paso #350, Pérdida = -2.1015916, Precisión = 0.98\n",
      "Paso #400, Pérdida = -1.9267904, Precisión = 0.96666664\n"
     ]
    }
   ],
   "source": [
    "gamma = tf.constant(-5.0)\n",
    "\n",
    "dist = tf.reduce_sum(tf.square(x_data), 1)\n",
    "dist = tf.reshape(dist, [-1,1])\n",
    "sq_distance = tf.add(tf.subtract(dist, tf.multiply(2.0, tf.matmul(x_data, tf.transpose(x_data)))), \n",
    "                     tf.transpose(dist))\n",
    "my_kernel = tf.exp(tf.multiply(gamma, tf.abs(sq_distance)))\n",
    "\n",
    "first_sum = tf.reduce_sum(b)\n",
    "b_vect_cross = tf.matmul(tf.transpose(b), b)\n",
    "y_target_cross = tf.matmul(y_target, tf.transpose(y_target))\n",
    "second_sum = tf.reduce_sum(tf.multiply(my_kernel, tf.multiply(b_vect_cross, y_target_cross)))\n",
    "loss = tf.negative(tf.subtract(first_sum, second_sum))\n",
    "\n",
    "rA = tf.reshape(tf.reduce_sum(tf.square(x_data), 1), [-1, 1])\n",
    "rB = tf.reshape(tf.reduce_sum(tf.square(prediction_grid),1), [-1,1])\n",
    "\n",
    "pred_sq_dist = tf.add(tf.subtract(rA, tf.multiply(2.0, tf.matmul(x_data, tf.transpose(prediction_grid)))), \n",
    "                      tf.transpose(rB))\n",
    "pred_kernel = tf.exp(tf.multiply(gamma, tf.abs(pred_sq_dist)))\n",
    "\n",
    "prediction_output = tf.matmul(tf.multiply(tf.transpose(y_target), b), pred_kernel)\n",
    "prediction = tf.sign(prediction_output - tf.reduce_mean(prediction_output))\n",
    "\n",
    "accuracy = tf.reduce_mean(tf.cast(tf.equal(tf.squeeze(prediction), tf.squeeze(y_target)), tf.float32))\n",
    "\n",
    "my_optim = tf.train.GradientDescentOptimizer(0.01)\n",
    "train_step = my_optim.minimize(loss)\n",
    "init = tf.global_variables_initializer()\n",
    "session.run(init)\n",
    "\n",
    "loss_vect = []\n",
    "batch_acc = []\n",
    "for i in range(400):\n",
    "    rand_idx = np.random.choice(len(x_vals), size=batch_size)\n",
    "    rand_x = x_vals[rand_idx]\n",
    "    rand_y = np.transpose([y_vals[rand_idx]])\n",
    "    session.run(train_step, feed_dict={x_data: rand_x, y_target: rand_y})\n",
    "    \n",
    "    temp_loss = session.run(loss, feed_dict={x_data: rand_x, y_target: rand_y})\n",
    "    loss_vect.append(temp_loss)\n",
    "    \n",
    "    \n",
    "    acc_temp = session.run(accuracy, feed_dict={x_data: rand_x, y_target: rand_y, prediction_grid:rand_x})\n",
    "    batch_acc.append(acc_temp)\n",
    "    \n",
    "    if(i+1)%50==0:\n",
    "        print(\"Paso #\"+str(i+1)+ \", Pérdida = \"+str(temp_loss)+\", Precisión = \"+str(acc_temp))\n",
    "        \n",
    "        \n",
    "x_min, x_max = x_vals[:,0].min()-1, x_vals[:,0].max()+1\n",
    "y_min, y_max = x_vals[:,1].min()-1, x_vals[:,1].max()+1\n",
    "\n",
    "xx, yy = np.meshgrid(np.arange(x_min, x_max, 0.02), np.arange(y_min, y_max, 0.02))\n",
    "\n",
    "grid_points = np.c_[xx.ravel(), yy.ravel()]\n",
    "\n",
    "[grid_predictions] = session.run(prediction, feed_dict={x_data: x_vals,\n",
    "                                                   y_target: np.transpose([y_vals]),\n",
    "                                                   prediction_grid: grid_points})\n",
    "\n",
    "grid_predictions = grid_predictions.reshape(xx.shape)"
   ]
  },
  {
   "cell_type": "code",
   "execution_count": 30,
   "metadata": {},
   "outputs": [
    {
     "data": {
      "image/png": "[encoded data removed]",
      "text/plain": [
       "<Figure size 432x288 with 1 Axes>"
      ]
     },
     "metadata": {
      "needs_background": "light"
     },
     "output_type": "display_data"
    }
   ],
   "source": [
    "plt.contourf(xx, yy, grid_predictions, cmap = plt.cm.Paired, alpha = 0.7)\n",
    "plt.plot(class1_x, class1_y, 'ro', label = \"Iris Setosa\")\n",
    "plt.plot(class2_x, class2_y, 'bx', label = \"Iris no Setosa\")\n",
    "plt.title(\"SVM Gaussiano con Gamma = \"+str(-session.run(gamma)))\n",
    "plt.xlabel(\"Longitud de Pétalos\")\n",
    "plt.ylabel(\"Anchura de Sépalos\")\n",
    "plt.legend(loc=\"lower right\")\n",
    "plt.show()"
   ]
  }
 ],
 "metadata": {
  "kernelspec": {
   "display_name": "Python 3",
   "language": "python",
   "name": "python3"
  },
  "language_info": {
   "codemirror_mode": {
    "name": "ipython",
    "version": 3
   },
   "file_extension": ".py",
   "mimetype": "text/x-python",
   "name": "python",
   "nbconvert_exporter": "python",
   "pygments_lexer": "ipython3",
   "version": "3.5.5"
  }
 },
 "nbformat": 4,
 "nbformat_minor": 2
}
