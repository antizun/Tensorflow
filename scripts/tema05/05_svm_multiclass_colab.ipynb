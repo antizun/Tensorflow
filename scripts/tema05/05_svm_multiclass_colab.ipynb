{
  "nbformat": 4,
  "nbformat_minor": 0,
  "metadata": {
    "colab": {
      "name": "05-svm-multiclass_colab.ipynb",
      "provenance": [],
      "collapsed_sections": []
    },
    "kernelspec": {
      "display_name": "Python 3",
      "language": "python",
      "name": "python3"
    },
    "language_info": {
      "codemirror_mode": {
        "name": "ipython",
        "version": 3
      },
      "file_extension": ".py",
      "mimetype": "text/x-python",
      "name": "python",
      "nbconvert_exporter": "python",
      "pygments_lexer": "ipython3",
      "version": "3.8.3"
    },
    "accelerator": "GPU"
  },
  "cells": [
    {
      "cell_type": "markdown",
      "metadata": {
        "colab_type": "text",
        "id": "KdUFcDsdzRyw"
      },
      "source": [
        "# Clonamos el repositorio para obtener los dataSet"
      ]
    },
    {
      "cell_type": "code",
      "metadata": {
        "colab_type": "code",
        "id": "mHReFf3_y9ms",
        "colab": {
          "base_uri": "https://localhost:8080/",
          "height": 153
        },
        "outputId": "6b2f123d-3a40-4d7a-e901-7d3b0a9c50b0"
      },
      "source": [
        "!git clone https://github.com/joanby/tensorflow.git"
      ],
      "execution_count": null,
      "outputs": [
        {
          "output_type": "stream",
          "text": [
            "Cloning into 'tensorflow'...\n",
            "remote: Enumerating objects: 51, done.\u001b[K\n",
            "remote: Counting objects: 100% (51/51), done.\u001b[K\n",
            "remote: Compressing objects: 100% (28/28), done.\u001b[K\n",
            "remote: Total 60311 (delta 32), reused 37 (delta 23), pack-reused 60260\u001b[K\n",
            "Receiving objects: 100% (60311/60311), 442.46 MiB | 14.79 MiB/s, done.\n",
            "Resolving deltas: 100% (82/82), done.\n",
            "Checking out files: 100% (60225/60225), done.\n"
          ],
          "name": "stdout"
        }
      ]
    },
    {
      "cell_type": "markdown",
      "metadata": {
        "colab_type": "text",
        "id": "vNKZXgtKzU2x"
      },
      "source": [
        "# Damos acceso a nuestro Drive"
      ]
    },
    {
      "cell_type": "code",
      "metadata": {
        "colab_type": "code",
        "id": "5gu7KWnzzUQ0",
        "colab": {}
      },
      "source": [
        "from google.colab import drive\n",
        "drive.mount('/content/drive')"
      ],
      "execution_count": null,
      "outputs": []
    },
    {
      "cell_type": "markdown",
      "metadata": {
        "colab_type": "text",
        "id": "1gUxIkHWzfHV"
      },
      "source": [
        "# Test it"
      ]
    },
    {
      "cell_type": "code",
      "metadata": {
        "colab_type": "code",
        "id": "mIQt3jBMzYRE",
        "colab": {}
      },
      "source": [
        "!ls '/content/drive/My Drive' "
      ],
      "execution_count": null,
      "outputs": []
    },
    {
      "cell_type": "markdown",
      "metadata": {
        "colab_type": "text",
        "id": "mHsK36uN0XB-"
      },
      "source": [
        "# Google colab tools"
      ]
    },
    {
      "cell_type": "code",
      "metadata": {
        "colab_type": "code",
        "id": "kTzwfUPWzrm4",
        "colab": {}
      },
      "source": [
        "from google.colab import files # Para manejar los archivos y, por ejemplo, exportar a su navegador\n",
        "import glob # Para manejar los archivos y, por ejemplo, exportar a su navegador\n",
        "from google.colab import drive # Montar tu Google drive"
      ],
      "execution_count": 1,
      "outputs": []
    },
    {
      "cell_type": "markdown",
      "metadata": {
        "id": "yQQ8nLiMY6wM",
        "colab_type": "text"
      },
      "source": [
        "##Especificando la versión de TensorFlow\n",
        "\n",
        "Ejecutando \"importar tensorflow\" importará la versión por defecto (actualmente 2.x). Puedes usar la 1.x ejecutando una celda con la \"versión mágica de tensorflow\" **antes de ejecutar \"importar tensorflow\".\n",
        "\n",
        "### Si no funciona hacer el pip install\n"
      ]
    },
    {
      "cell_type": "code",
      "metadata": {
        "id": "1j---G3ZY6wN",
        "colab_type": "code",
        "colab": {
          "base_uri": "https://localhost:8080/",
          "height": 34
        },
        "outputId": "f363a778-c70c-4292-b3c6-5024ef8c2657"
      },
      "source": [
        "#!pip install tensorflow==1.14\n",
        "%tensorflow_version 1.x"
      ],
      "execution_count": 2,
      "outputs": [
        {
          "output_type": "stream",
          "text": [
            "TensorFlow 1.x selected.\n"
          ],
          "name": "stdout"
        }
      ]
    },
    {
      "cell_type": "markdown",
      "metadata": {
        "id": "S-OIfuWLujbt",
        "colab_type": "text"
      },
      "source": [
        "# Importar Tensorflow"
      ]
    },
    {
      "cell_type": "code",
      "metadata": {
        "id": "OPSus73fumtP",
        "colab_type": "code",
        "colab": {
          "base_uri": "https://localhost:8080/",
          "height": 34
        },
        "outputId": "2091392c-b46b-4e22-86d7-9a58d3b5b444"
      },
      "source": [
        "import tensorflow as tf\n",
        "print(tf.__version__)\n",
        "import matplotlib.pyplot as plt"
      ],
      "execution_count": 3,
      "outputs": [
        {
          "output_type": "stream",
          "text": [
            "1.15.2\n"
          ],
          "name": "stdout"
        }
      ]
    },
    {
      "cell_type": "code",
      "metadata": {
        "id": "VQheSGsEBdD3",
        "colab_type": "code",
        "colab": {}
      },
      "source": [
        "session = tf.Session()"
      ],
      "execution_count": 4,
      "outputs": []
    },
    {
      "cell_type": "markdown",
      "metadata": {
        "id": "qzlBylUEmQJ0",
        "colab_type": "text"
      },
      "source": [
        "# SVM Multi Clase"
      ]
    },
    {
      "cell_type": "markdown",
      "metadata": {
        "id": "5cr0GUtz4dsr",
        "colab_type": "text"
      },
      "source": [
        "- Una contra una: si tenemos $k$ categorías, entonces hay que crear ${k\\choose 2} = \\frac{k!}{(k-2)!2!}$ clasificadores"
      ]
    },
    {
      "cell_type": "markdown",
      "metadata": {
        "id": "H6-KyVbZ4fSj",
        "colab_type": "text"
      },
      "source": [
        "- Una contra todas: si tenemos $k$ categorías, hay que crear exactamente $k$ clasificadores, uno o no uno; dos o no dos, tres o no tres,... k o no k."
      ]
    },
    {
      "cell_type": "code",
      "metadata": {
        "id": "AwPNJepKmJAJ",
        "colab_type": "code",
        "colab": {}
      },
      "source": [
        "import matplotlib.pyplot as plt\n",
        "import numpy as np\n",
        "import requests\n",
        "from sklearn import datasets"
      ],
      "execution_count": 32,
      "outputs": []
    },
    {
      "cell_type": "code",
      "metadata": {
        "id": "FvgbwHq3mbJv",
        "colab_type": "code",
        "colab": {}
      },
      "source": [
        "iris = datasets.load_iris()\n",
        "x_vals = np.array([[x[0], x[3]] for x in iris.data])\n",
        "y_vals1 = np.array([1 if y == 0 else -1 for y in iris.target])\n",
        "y_vals2 = np.array([1 if y == 1 else -1 for y in iris.target])\n",
        "y_vals3 = np.array([1 if y == 2 else -1 for y in iris.target])\n",
        "\n",
        "class1_x = [x[0] for i,x in enumerate(x_vals) if iris.target[i]==0]\n",
        "class1_y = [x[1] for i,x in enumerate(x_vals) if iris.target[i]==0]\n",
        "class2_x = [x[0] for i,x in enumerate(x_vals) if iris.target[i]==1]\n",
        "class2_y = [x[1] for i,x in enumerate(x_vals) if iris.target[i]==1]\n",
        "class3_x = [x[0] for i,x in enumerate(x_vals) if iris.target[i]==2]\n",
        "class3_y = [x[1] for i,x in enumerate(x_vals) if iris.target[i]==2]\n",
        "\n",
        "y_vals = np.array([y_vals1, y_vals2, y_vals3])"
      ],
      "execution_count": 72,
      "outputs": []
    },
    {
      "cell_type": "code",
      "metadata": {
        "id": "OkJtEI9hEuu0",
        "colab_type": "code",
        "colab": {
          "base_uri": "https://localhost:8080/",
          "height": 265
        },
        "outputId": "fadf3dce-b61f-4c3b-b495-807ebac85dfc"
      },
      "source": [
        "plt.plot(class1_x, class1_y, 'ro', label = \"Setosa\")\n",
        "plt.plot(class2_x, class2_y, 'bx', label = \"Versicolor\")\n",
        "plt.plot(class3_x, class3_y, 'gv', label = \"Virginica\")\n",
        "plt.show()"
      ],
      "execution_count": 73,
      "outputs": [
        {
          "output_type": "display_data",
          "data": {
            "image/png": "[encoded data removed]",
            "text/plain": [
              "<Figure size 432x288 with 1 Axes>"
            ]
          },
          "metadata": {
            "tags": [],
            "needs_background": "light"
          }
        }
      ]
    },
    {
      "cell_type": "code",
      "metadata": {
        "id": "Aqfzx5TPPKBT",
        "colab_type": "code",
        "colab": {}
      },
      "source": [
        "batch_size = 150\n",
        "\n",
        "x_data = tf.placeholder(shape=[None, 2], dtype=tf.float32)\n",
        "y_target = tf.placeholder(shape=[3, None], dtype=tf.float32)\n",
        "prediction_grid = tf.placeholder(shape = [None, 2], dtype=tf.float32)\n",
        "\n",
        "b = tf.Variable(tf.random_normal(shape=[3,batch_size]))"
      ],
      "execution_count": 74,
      "outputs": []
    },
    {
      "cell_type": "code",
      "metadata": {
        "id": "6HylUhW635iP",
        "colab_type": "code",
        "colab": {}
      },
      "source": [
        "gamma = tf.constant(-10.0)\n",
        "dist = tf.reduce_sum(tf.square(x_data),1)\n",
        "dist = tf.reshape(dist, [-1,1])\n",
        "sq_dist = tf.add(tf.subtract(dist, tf.multiply(2.0, tf.matmul(x_data, tf.transpose(x_data)))), tf.transpose(dist))\n",
        "my_kernel = tf.exp(tf.multiply(gamma, tf.abs(sq_dist)))"
      ],
      "execution_count": 75,
      "outputs": []
    },
    {
      "cell_type": "markdown",
      "metadata": {
        "id": "8dnqmKNm4p52",
        "colab_type": "text"
      },
      "source": [
        "Antes podíamos hacer $x^T\\cdot x$"
      ]
    },
    {
      "cell_type": "code",
      "metadata": {
        "id": "8g6xwTU1384Z",
        "colab_type": "code",
        "colab": {}
      },
      "source": [
        "def reshape_matmul(mat):\n",
        "    v1 = tf.expand_dims(mat, 1)\n",
        "    v2 = tf.reshape(v1, [3, batch_size, 1])\n",
        "    return tf.matmul(v2, v1)"
      ],
      "execution_count": 76,
      "outputs": []
    },
    {
      "cell_type": "code",
      "metadata": {
        "id": "0DUaCW2m3_u9",
        "colab_type": "code",
        "colab": {}
      },
      "source": [
        "first_term = tf.reduce_sum(b)\n",
        "b_vec_cross = tf.matmul(tf.transpose(b),b)\n",
        "y_target_cross = reshape_matmul(y_target)\n",
        "\n",
        "second_term = tf.reduce_sum(tf.multiply(my_kernel, tf.multiply(b_vec_cross, y_target_cross)), [1,2])\n",
        "loss = tf.reduce_sum(tf.negative(tf.subtract(first_term, second_term)))"
      ],
      "execution_count": 77,
      "outputs": []
    },
    {
      "cell_type": "code",
      "metadata": {
        "id": "OOtCoKGD4EhS",
        "colab_type": "code",
        "colab": {}
      },
      "source": [
        "rA = tf.reshape(tf.reduce_sum(tf.square(x_data), 1), [-1,1])\n",
        "rB = tf.reshape(tf.reduce_sum(tf.square(prediction_grid), 1), [-1,1])\n",
        "\n",
        "pred_sq_dist = tf.add(tf.subtract(rA, tf.multiply(2.0, tf.matmul(x_data, tf.transpose(prediction_grid)))),\n",
        "                      tf.transpose(rB))\n",
        "pred_kernel = tf.exp(tf.multiply(gamma, tf.abs(pred_sq_dist)))"
      ],
      "execution_count": 78,
      "outputs": []
    },
    {
      "cell_type": "code",
      "metadata": {
        "id": "rt8drtMx4HHR",
        "colab_type": "code",
        "colab": {}
      },
      "source": [
        "prediction_output = tf.matmul(tf.multiply(y_target, b), pred_kernel)\n",
        "prediction = tf.argmax(prediction_output-tf.expand_dims(tf.reduce_mean(prediction_output, 1), 1), 0)"
      ],
      "execution_count": 79,
      "outputs": []
    },
    {
      "cell_type": "code",
      "metadata": {
        "id": "yQDeeEkN4KV8",
        "colab_type": "code",
        "colab": {}
      },
      "source": [
        "accuracy = tf.reduce_mean(tf.cast(tf.equal(prediction, tf.argmax(y_target,0)),tf.float32))"
      ],
      "execution_count": 80,
      "outputs": []
    },
    {
      "cell_type": "code",
      "metadata": {
        "id": "2Oo8k6qC4I9E",
        "colab_type": "code",
        "colab": {}
      },
      "source": [
        "my_optim = tf.train.GradientDescentOptimizer(0.01)\n",
        "train_step = my_optim.minimize(loss)\n",
        "init = tf.global_variables_initializer()\n",
        "session.run(init)"
      ],
      "execution_count": 81,
      "outputs": []
    },
    {
      "cell_type": "code",
      "metadata": {
        "id": "KaWS5fKCPMTy",
        "colab_type": "code",
        "colab": {
          "base_uri": "https://localhost:8080/",
          "height": 153
        },
        "outputId": "91a1249c-9818-487f-e6c3-4877f380c13d"
      },
      "source": [
        "loss_vect = []\n",
        "batch_acc = []\n",
        "for i in range(200):\n",
        "    rand_idx = np.random.choice(len(x_vals), size=batch_size)\n",
        "    rand_x = x_vals[rand_idx]\n",
        "    rand_y = y_vals[:,rand_idx]\n",
        "    session.run(train_step, feed_dict={x_data: rand_x, y_target: rand_y})\n",
        "    \n",
        "    temp_loss = session.run(loss, feed_dict={x_data: rand_x, y_target: rand_y})\n",
        "    loss_vect.append(temp_loss)\n",
        "    \n",
        "    acc_temp = session.run(accuracy, feed_dict={x_data:rand_x, y_target: rand_y, prediction_grid: rand_x})\n",
        "    batch_acc.append(acc_temp)\n",
        "    \n",
        "    if(i+1)%25==0:\n",
        "        print(\"Paso #\"+str(i+1)+\", Pérdida: \"+str(temp_loss)+\", Precisión: \"+str(acc_temp))"
      ],
      "execution_count": 82,
      "outputs": [
        {
          "output_type": "stream",
          "text": [
            "Paso #25, Pérdida: 29.249086, Precisión: 0.82\n",
            "Paso #50, Pérdida: -22.089394, Precisión: 0.91333336\n",
            "Paso #75, Pérdida: -28.606087, Precisión: 0.96\n",
            "Paso #100, Pérdida: -34.868294, Precisión: 0.93333334\n",
            "Paso #125, Pérdida: -32.452785, Precisión: 0.97333336\n",
            "Paso #150, Pérdida: -37.570408, Precisión: 0.97333336\n",
            "Paso #175, Pérdida: -32.72823, Precisión: 0.96\n",
            "Paso #200, Pérdida: -36.91939, Precisión: 0.96666664\n"
          ],
          "name": "stdout"
        }
      ]
    },
    {
      "cell_type": "code",
      "metadata": {
        "id": "zWkavwh64QY9",
        "colab_type": "code",
        "colab": {}
      },
      "source": [
        "x_min, x_max = x_vals[:,0].min()-1, x_vals[:,0].max()+1\n",
        "y_min, y_max = x_vals[:,1].min()-1, x_vals[:,1].max()+1\n",
        "\n",
        "xx, yy = np.meshgrid(np.arange(x_min, x_max, 0.02), np.arange(y_min, y_max, 0.02))\n",
        "grid_points = np.c_[xx.ravel(), yy.ravel()]\n",
        "\n",
        "grid_predictions = session.run(prediction, feed_dict={x_data:rand_x, y_target:rand_y, prediction_grid: grid_points})\n",
        "grid_predictions = grid_predictions.reshape(xx.shape)"
      ],
      "execution_count": 83,
      "outputs": []
    },
    {
      "cell_type": "code",
      "metadata": {
        "id": "JSVevVFAmoue",
        "colab_type": "code",
        "colab": {
          "base_uri": "https://localhost:8080/",
          "height": 296
        },
        "outputId": "48bf4eb8-5091-4f08-f12e-197c3ddf9358"
      },
      "source": [
        "plt.contourf(xx,yy, grid_predictions, cmap = plt.cm.Paired, alpha = 0.8)\n",
        "plt.plot(class1_x, class1_y, 'ro', label = \"Setosa\")\n",
        "plt.plot(class2_x, class2_y, 'bx', label = \"Versicolor\")\n",
        "plt.plot(class3_x, class3_y, 'gv', label = \"Virginica\")\n",
        "plt.title(\"SVM Gausiano para clasificar Iris DataSet\")\n",
        "plt.xlabel(\"Longitud de Pétalos\")\n",
        "plt.ylabel(\"Anchura de Sépalos\")\n",
        "plt.legend(loc=\"lower right\")\n",
        "plt.xlim([3.5,8.5])\n",
        "plt.ylim([-0.5, 3.0])\n",
        "plt.show()"
      ],
      "execution_count": 84,
      "outputs": [
        {
          "output_type": "display_data",
          "data": {
            "image/png": "[encoded data removed]",
            "text/plain": [
              "<Figure size 432x288 with 1 Axes>"
            ]
          },
          "metadata": {
            "tags": [],
            "needs_background": "light"
          }
        }
      ]
    },
    {
      "cell_type": "code",
      "metadata": {
        "id": "Or_QnpM646-S",
        "colab_type": "code",
        "colab": {
          "base_uri": "https://localhost:8080/",
          "height": 281
        },
        "outputId": "6e2536f1-3cd0-4258-c091-1a8165e322dc"
      },
      "source": [
        "plt.plot(loss_vect, 'k-')\n",
        "plt.title(\"Pérdidas por iteración\")\n",
        "plt.show()"
      ],
      "execution_count": 85,
      "outputs": [
        {
          "output_type": "display_data",
          "data": {
            "image/png": "[encoded data removed]",
            "text/plain": [
              "<Figure size 432x288 with 1 Axes>"
            ]
          },
          "metadata": {
            "tags": [],
            "needs_background": "light"
          }
        }
      ]
    },
    {
      "cell_type": "code",
      "metadata": {
        "id": "5YSvqVPr48ht",
        "colab_type": "code",
        "colab": {
          "base_uri": "https://localhost:8080/",
          "height": 281
        },
        "outputId": "5f3a55ce-74f5-4eec-8555-2f471244d8a7"
      },
      "source": [
        "plt.plot(batch_acc, 'k-')\n",
        "plt.title(\"Precisión\")\n",
        "plt.ylim([0,1])\n",
        "plt.show()"
      ],
      "execution_count": 86,
      "outputs": [
        {
          "output_type": "display_data",
          "data": {
            "image/png": "[encoded data removed]",
            "text/plain": [
              "<Figure size 432x288 with 1 Axes>"
            ]
          },
          "metadata": {
            "tags": [],
            "needs_background": "light"
          }
        }
      ]
    }
  ]
}