{
  "nbformat": 4,
  "nbformat_minor": 0,
  "metadata": {
    "colab": {
      "name": "02-SVM-regresion_colab.ipynb",
      "provenance": [],
      "collapsed_sections": []
    },
    "kernelspec": {
      "display_name": "Python 3",
      "language": "python",
      "name": "python3"
    },
    "language_info": {
      "codemirror_mode": {
        "name": "ipython",
        "version": 3
      },
      "file_extension": ".py",
      "mimetype": "text/x-python",
      "name": "python",
      "nbconvert_exporter": "python",
      "pygments_lexer": "ipython3",
      "version": "3.8.3"
    },
    "accelerator": "GPU"
  },
  "cells": [
    {
      "cell_type": "markdown",
      "metadata": {
        "colab_type": "text",
        "id": "KdUFcDsdzRyw"
      },
      "source": [
        "# Clonamos el repositorio para obtener los dataSet"
      ]
    },
    {
      "cell_type": "code",
      "metadata": {
        "colab_type": "code",
        "id": "mHReFf3_y9ms",
        "colab": {
          "base_uri": "https://localhost:8080/",
          "height": 153
        },
        "outputId": "6b2f123d-3a40-4d7a-e901-7d3b0a9c50b0"
      },
      "source": [
        "!git clone https://github.com/joanby/tensorflow.git"
      ],
      "execution_count": null,
      "outputs": [
        {
          "output_type": "stream",
          "text": [
            "Cloning into 'tensorflow'...\n",
            "remote: Enumerating objects: 51, done.\u001b[K\n",
            "remote: Counting objects: 100% (51/51), done.\u001b[K\n",
            "remote: Compressing objects: 100% (28/28), done.\u001b[K\n",
            "remote: Total 60311 (delta 32), reused 37 (delta 23), pack-reused 60260\u001b[K\n",
            "Receiving objects: 100% (60311/60311), 442.46 MiB | 14.79 MiB/s, done.\n",
            "Resolving deltas: 100% (82/82), done.\n",
            "Checking out files: 100% (60225/60225), done.\n"
          ],
          "name": "stdout"
        }
      ]
    },
    {
      "cell_type": "markdown",
      "metadata": {
        "colab_type": "text",
        "id": "vNKZXgtKzU2x"
      },
      "source": [
        "# Damos acceso a nuestro Drive"
      ]
    },
    {
      "cell_type": "code",
      "metadata": {
        "colab_type": "code",
        "id": "5gu7KWnzzUQ0",
        "colab": {}
      },
      "source": [
        "from google.colab import drive\n",
        "drive.mount('/content/drive')"
      ],
      "execution_count": null,
      "outputs": []
    },
    {
      "cell_type": "markdown",
      "metadata": {
        "colab_type": "text",
        "id": "1gUxIkHWzfHV"
      },
      "source": [
        "# Test it"
      ]
    },
    {
      "cell_type": "code",
      "metadata": {
        "colab_type": "code",
        "id": "mIQt3jBMzYRE",
        "colab": {}
      },
      "source": [
        "!ls '/content/drive/My Drive' "
      ],
      "execution_count": null,
      "outputs": []
    },
    {
      "cell_type": "markdown",
      "metadata": {
        "colab_type": "text",
        "id": "mHsK36uN0XB-"
      },
      "source": [
        "# Google colab tools"
      ]
    },
    {
      "cell_type": "code",
      "metadata": {
        "colab_type": "code",
        "id": "kTzwfUPWzrm4",
        "colab": {}
      },
      "source": [
        "from google.colab import files # Para manejar los archivos y, por ejemplo, exportar a su navegador\n",
        "import glob # Para manejar los archivos y, por ejemplo, exportar a su navegador\n",
        "from google.colab import drive # Montar tu Google drive"
      ],
      "execution_count": 1,
      "outputs": []
    },
    {
      "cell_type": "markdown",
      "metadata": {
        "id": "yQQ8nLiMY6wM",
        "colab_type": "text"
      },
      "source": [
        "##Especificando la versión de TensorFlow\n",
        "\n",
        "Ejecutando \"importar tensorflow\" importará la versión por defecto (actualmente 2.x). Puedes usar la 1.x ejecutando una celda con la \"versión mágica de tensorflow\" **antes de ejecutar \"importar tensorflow\".\n",
        "\n",
        "### Si no funciona hacer el pip install\n"
      ]
    },
    {
      "cell_type": "code",
      "metadata": {
        "id": "1j---G3ZY6wN",
        "colab_type": "code",
        "colab": {
          "base_uri": "https://localhost:8080/",
          "height": 34
        },
        "outputId": "f363a778-c70c-4292-b3c6-5024ef8c2657"
      },
      "source": [
        "#!pip install tensorflow==1.14\n",
        "%tensorflow_version 1.x"
      ],
      "execution_count": 2,
      "outputs": [
        {
          "output_type": "stream",
          "text": [
            "TensorFlow 1.x selected.\n"
          ],
          "name": "stdout"
        }
      ]
    },
    {
      "cell_type": "markdown",
      "metadata": {
        "id": "S-OIfuWLujbt",
        "colab_type": "text"
      },
      "source": [
        "# Importar Tensorflow"
      ]
    },
    {
      "cell_type": "code",
      "metadata": {
        "id": "OPSus73fumtP",
        "colab_type": "code",
        "colab": {
          "base_uri": "https://localhost:8080/",
          "height": 34
        },
        "outputId": "2091392c-b46b-4e22-86d7-9a58d3b5b444"
      },
      "source": [
        "import tensorflow as tf\n",
        "print(tf.__version__)\n",
        "import matplotlib.pyplot as plt"
      ],
      "execution_count": 3,
      "outputs": [
        {
          "output_type": "stream",
          "text": [
            "1.15.2\n"
          ],
          "name": "stdout"
        }
      ]
    },
    {
      "cell_type": "code",
      "metadata": {
        "id": "VQheSGsEBdD3",
        "colab_type": "code",
        "colab": {}
      },
      "source": [
        "session = tf.Session()"
      ],
      "execution_count": 4,
      "outputs": []
    },
    {
      "cell_type": "markdown",
      "metadata": {
        "id": "qzlBylUEmQJ0",
        "colab_type": "text"
      },
      "source": [
        "# SVM para problemas de regresión"
      ]
    },
    {
      "cell_type": "markdown",
      "metadata": {
        "id": "m_GdEFSc1SnZ",
        "colab_type": "text"
      },
      "source": [
        "$$loss = \\frac{1}{n}\\sum_{i=1}^n\\max(0,|y_i-(Ax_i+b)|-\\varepsilon)$$"
      ]
    },
    {
      "cell_type": "markdown",
      "metadata": {
        "id": "C-NVKnmw1Wxj",
        "colab_type": "text"
      },
      "source": [
        "- $\\varepsilon$: la mitad del margen, que fuerza a que la función loss sea cero para todos los puntos dentro del corredor"
      ]
    },
    {
      "cell_type": "code",
      "metadata": {
        "id": "AwPNJepKmJAJ",
        "colab_type": "code",
        "colab": {}
      },
      "source": [
        "import matplotlib.pyplot as plt\n",
        "import numpy as np\n",
        "import requests\n",
        "from sklearn import datasets"
      ],
      "execution_count": 7,
      "outputs": []
    },
    {
      "cell_type": "code",
      "metadata": {
        "id": "FvgbwHq3mbJv",
        "colab_type": "code",
        "colab": {}
      },
      "source": [
        "iris = datasets.load_iris()\n",
        "x_vals = np.array([x[3] for x in iris.data])\n",
        "y_vals = np.array([y[0] for y in iris.data])"
      ],
      "execution_count": 20,
      "outputs": []
    },
    {
      "cell_type": "code",
      "metadata": {
        "id": "OkJtEI9hEuu0",
        "colab_type": "code",
        "colab": {
          "base_uri": "https://localhost:8080/",
          "height": 265
        },
        "outputId": "ed20e825-f656-413e-b41b-d3f76428f139"
      },
      "source": [
        "plt.plot(x_vals, y_vals, 'o')\n",
        "plt.show()"
      ],
      "execution_count": 21,
      "outputs": [
        {
          "output_type": "display_data",
          "data": {
            "image/png": "[encoded data removed]",
            "text/plain": [
              "<Figure size 432x288 with 1 Axes>"
            ]
          },
          "metadata": {
            "tags": [],
            "needs_background": "light"
          }
        }
      ]
    },
    {
      "cell_type": "code",
      "metadata": {
        "id": "Aqfzx5TPPKBT",
        "colab_type": "code",
        "colab": {}
      },
      "source": [
        "train_idx = np.random.choice(len(x_vals), round(len(x_vals)*0.8), replace=False)\n",
        "test_idx = np.array(list(set(range(len(x_vals)))-set(train_idx)))\n",
        "x_vals_train = x_vals[train_idx]\n",
        "x_vals_test = x_vals[test_idx]\n",
        "y_vals_train = y_vals[train_idx]\n",
        "y_vals_test = y_vals[test_idx]"
      ],
      "execution_count": 22,
      "outputs": []
    },
    {
      "cell_type": "code",
      "metadata": {
        "id": "KaWS5fKCPMTy",
        "colab_type": "code",
        "colab": {}
      },
      "source": [
        "batch_size = 50\n",
        "\n",
        "x_data = tf.placeholder(shape=[None, 1], dtype=tf.float32)\n",
        "y_target = tf.placeholder(shape=[None, 1], dtype=tf.float32)\n",
        "\n",
        "A = tf.Variable(tf.random_normal(shape=[1,1]))\n",
        "b = tf.Variable(tf.random_normal(shape=[1,1]))"
      ],
      "execution_count": 23,
      "outputs": []
    },
    {
      "cell_type": "code",
      "metadata": {
        "id": "JSVevVFAmoue",
        "colab_type": "code",
        "colab": {}
      },
      "source": [
        "model_output = tf.add(tf.matmul(x_data,A), b)"
      ],
      "execution_count": 24,
      "outputs": []
    },
    {
      "cell_type": "code",
      "metadata": {
        "id": "onQN1h1qB11F",
        "colab_type": "code",
        "colab": {}
      },
      "source": [
        "epsilon = tf.constant([0.5])\n",
        "loss = tf.reduce_mean(tf.maximum(0.0, tf.subtract(tf.abs(tf.subtract(model_output, y_target)), epsilon)))"
      ],
      "execution_count": 25,
      "outputs": []
    },
    {
      "cell_type": "code",
      "metadata": {
        "id": "Q9V3JA_4AYq7",
        "colab_type": "code",
        "colab": {}
      },
      "source": [
        "my_optim = tf.train.GradientDescentOptimizer(0.05)\n",
        "train_step = my_optim.minimize(loss)\n",
        "\n",
        "init = tf.global_variables_initializer()\n",
        "session.run(init)"
      ],
      "execution_count": 26,
      "outputs": []
    },
    {
      "cell_type": "code",
      "metadata": {
        "id": "7L3w47a13T0N",
        "colab_type": "code",
        "colab": {
          "base_uri": "https://localhost:8080/",
          "height": 221
        },
        "outputId": "0101951d-91ac-471f-d020-a922a6bcad39"
      },
      "source": [
        "train_loss = []\n",
        "test_loss = []\n",
        "\n",
        "for i in range(300):\n",
        "    rand_idx = np.random.choice(len(x_vals_train), size=batch_size)\n",
        "    rand_x = np.transpose([x_vals_train[rand_idx]])\n",
        "    rand_y = np.transpose([y_vals_train[rand_idx]])\n",
        "    session.run(train_step, feed_dict = {x_data: rand_x, y_target: rand_y})\n",
        "    \n",
        "    train_loss_temp = session.run(loss, feed_dict = {x_data: np.transpose([x_vals_train]),\n",
        "                                                     y_target: np.transpose([y_vals_train])})\n",
        "    train_loss.append(train_loss_temp)\n",
        "    \n",
        "    test_loss_temp = session.run(loss, feed_dict= {x_data: np.transpose([x_vals_test]),\n",
        "                                                   y_target: np.transpose([y_vals_test])})\n",
        "    test_loss.append(test_loss_temp)\n",
        "    \n",
        "    if(i+1)%50==0:\n",
        "        print(\"Paso #\"+str(i+1)+\", A = \"+str(session.run(A))+\", b = \"+str(session.run(b)))\n",
        "        print(\"Loss Train = \"+str(train_loss_temp)+ \", Loss Test = \"+str(test_loss_temp))"
      ],
      "execution_count": 27,
      "outputs": [
        {
          "output_type": "stream",
          "text": [
            "Paso #50, A = [[1.1618584]], b = [[2.8788617]]\n",
            "Loss Train = 1.1056172, Loss Test = 0.96349585\n",
            "Paso #100, A = [[1.5682586]], b = [[3.870862]]\n",
            "Loss Train = 0.18126054, Loss Test = 0.27893868\n",
            "Paso #150, A = [[1.3119589]], b = [[4.232863]]\n",
            "Loss Train = 0.10651733, Loss Test = 0.16667838\n",
            "Paso #200, A = [[1.2148585]], b = [[4.390862]]\n",
            "Loss Train = 0.090841725, Loss Test = 0.13677004\n",
            "Paso #250, A = [[1.0945586]], b = [[4.4568615]]\n",
            "Loss Train = 0.085250825, Loss Test = 0.11030256\n",
            "Paso #300, A = [[1.0547585]], b = [[4.5518627]]\n",
            "Loss Train = 0.07985409, Loss Test = 0.104736075\n"
          ],
          "name": "stdout"
        }
      ]
    },
    {
      "cell_type": "code",
      "metadata": {
        "id": "0i7Vcc083U7X",
        "colab_type": "code",
        "colab": {}
      },
      "source": [
        "[[slope]] = session.run(A)\n",
        "[[y_intercept]] = session.run(b)\n",
        "[width] = session.run(epsilon)\n",
        "\n",
        "best_fit = []\n",
        "best_fit_upper = []\n",
        "best_fit_lower = []\n",
        "for i in x_vals:\n",
        "    best_fit.append(slope*i+y_intercept)\n",
        "    best_fit_upper.append(slope*i+y_intercept+width)\n",
        "    best_fit_lower.append(slope*i+y_intercept-width)"
      ],
      "execution_count": 28,
      "outputs": []
    },
    {
      "cell_type": "code",
      "metadata": {
        "id": "VxrVnxRU3XPL",
        "colab_type": "code",
        "colab": {
          "base_uri": "https://localhost:8080/",
          "height": 295
        },
        "outputId": "40f7ef2b-8343-4e4a-bd1c-3cb794b4c962"
      },
      "source": [
        "plt.plot(x_vals, y_vals, 'o', label = \"Flores Iris\")\n",
        "plt.plot(x_vals, best_fit, 'r-', label = \"SVM Regresión Lineal\", linewidth=3)\n",
        "plt.plot(x_vals, best_fit_upper, 'r--', linewidth=1)\n",
        "plt.plot(x_vals, best_fit_lower, 'r--', linewidth=1)\n",
        "plt.ylim([0,10])\n",
        "plt.legend(loc=\"lower right\")\n",
        "plt.xlabel(\"Anchura de Pétalo\")\n",
        "plt.ylabel(\"Longitud de Sépalo\")\n",
        "plt.title(\"Predicción usando SVM\")\n",
        "plt.show()"
      ],
      "execution_count": 29,
      "outputs": [
        {
          "output_type": "display_data",
          "data": {
            "image/png": "[encoded data removed]",
            "text/plain": [
              "<Figure size 432x288 with 1 Axes>"
            ]
          },
          "metadata": {
            "tags": [],
            "needs_background": "light"
          }
        }
      ]
    },
    {
      "cell_type": "code",
      "metadata": {
        "id": "tQnuSp5XB6CP",
        "colab_type": "code",
        "colab": {
          "base_uri": "https://localhost:8080/",
          "height": 295
        },
        "outputId": "2e6668b9-beba-43a8-825e-641a59f6ee4b"
      },
      "source": [
        "plt.plot(train_loss, 'k-', label = \"Pérdidas en Entrenamiento\")\n",
        "plt.plot(test_loss, 'r--', label = \"Pérdidas en Test\")\n",
        "plt.title(\"Función de pérdidas L2 por iteración\")\n",
        "plt.xlabel(\"Número de iteración\")\n",
        "plt.ylabel(\"Función de Pérdidas en L2\")\n",
        "plt.legend(loc=\"upper right\")\n",
        "plt.show()"
      ],
      "execution_count": 30,
      "outputs": [
        {
          "output_type": "display_data",
          "data": {
            "image/png": "[encoded data removed]",
            "text/plain": [
              "<Figure size 432x288 with 1 Axes>"
            ]
          },
          "metadata": {
            "tags": [],
            "needs_background": "light"
          }
        }
      ]
    },
    {
      "cell_type": "code",
      "metadata": {
        "id": "UlTvWpSmB9UB",
        "colab_type": "code",
        "colab": {
          "base_uri": "https://localhost:8080/",
          "height": 295
        },
        "outputId": "8f5b51ef-6e56-452f-f87d-258fa9236540"
      },
      "source": [
        "plt.plot(loss_vect, 'k-')\n",
        "plt.title(\"Función de pérdida por iteración\")\n",
        "plt.xlabel(\"Número de iteración\")\n",
        "plt.ylabel(\"Función de Pérdidas\")\n",
        "plt.show()"
      ],
      "execution_count": 19,
      "outputs": [
        {
          "output_type": "display_data",
          "data": {
            "image/png": "[encoded data removed]",
            "text/plain": [
              "<Figure size 432x288 with 1 Axes>"
            ]
          },
          "metadata": {
            "tags": [],
            "needs_background": "light"
          }
        }
      ]
    }
  ]
}