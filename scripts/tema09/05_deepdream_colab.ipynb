{
  "nbformat": 4,
  "nbformat_minor": 0,
  "metadata": {
    "kernelspec": {
      "display_name": "Python 3",
      "language": "python",
      "name": "python3"
    },
    "language_info": {
      "codemirror_mode": {
        "name": "ipython",
        "version": 3
      },
      "file_extension": ".py",
      "mimetype": "text/x-python",
      "name": "python",
      "nbconvert_exporter": "python",
      "pygments_lexer": "ipython3",
      "version": "3.5.5"
    },
    "colab": {
      "name": "05-deepdream_colab.ipynb",
      "provenance": [],
      "collapsed_sections": []
    },
    "accelerator": "TPU"
  },
  "cells": [
    {
      "cell_type": "markdown",
      "metadata": {
        "id": "puKuhMTDYSOZ",
        "colab_type": "text"
      },
      "source": [
        "# Clonamos el repositorio para obtener los dataSet"
      ]
    },
    {
      "cell_type": "code",
      "metadata": {
        "id": "Uk7PbIdKYSIz",
        "colab_type": "code",
        "colab": {}
      },
      "source": [
        "!git clone https://github.com/joanby/tensorflow.git"
      ],
      "execution_count": null,
      "outputs": []
    },
    {
      "cell_type": "markdown",
      "metadata": {
        "id": "F9QCxSLWYSCo",
        "colab_type": "text"
      },
      "source": [
        "# Damos acceso a nuestro Drive"
      ]
    },
    {
      "cell_type": "code",
      "metadata": {
        "id": "JxP0rvkjYR85",
        "colab_type": "code",
        "colab": {}
      },
      "source": [
        "from google.colab import drive\n",
        "drive.mount('/content/drive')"
      ],
      "execution_count": null,
      "outputs": []
    },
    {
      "cell_type": "markdown",
      "metadata": {
        "id": "jeICtWYtYR3B",
        "colab_type": "text"
      },
      "source": [
        "# Test it"
      ]
    },
    {
      "cell_type": "code",
      "metadata": {
        "id": "5cxGKVrnYRxY",
        "colab_type": "code",
        "colab": {}
      },
      "source": [
        "!ls '/content/drive/My Drive' "
      ],
      "execution_count": null,
      "outputs": []
    },
    {
      "cell_type": "markdown",
      "metadata": {
        "id": "dbVO03VrYRrU",
        "colab_type": "text"
      },
      "source": [
        "# Google colab tools"
      ]
    },
    {
      "cell_type": "code",
      "metadata": {
        "id": "mMOsP11eYRls",
        "colab_type": "code",
        "colab": {}
      },
      "source": [
        "from google.colab import files # Para manejar los archivos y, por ejemplo, exportar a su navegador\n",
        "import glob # Para manejar los archivos y, por ejemplo, exportar a su navegador\n",
        "from google.colab import drive # Montar tu Google drive"
      ],
      "execution_count": null,
      "outputs": []
    },
    {
      "cell_type": "markdown",
      "metadata": {
        "id": "wia2XMYbYRe9",
        "colab_type": "text"
      },
      "source": [
        "##Especificando la versión de TensorFlow\n",
        "\n",
        "Ejecutando \"importar tensorflow\" importará la versión por defecto (actualmente 2.x). Puedes usar la 1.x ejecutando una celda con la \"versión mágica de tensorflow\" **antes de ejecutar \"importar tensorflow\".\n",
        "\n",
        "### Si no funciona hacer el pip install\n"
      ]
    },
    {
      "cell_type": "code",
      "metadata": {
        "id": "6dV7xAodYRZa",
        "colab_type": "code",
        "colab": {}
      },
      "source": [
        "#!pip install tensorflow==1.14\n",
        "%tensorflow_version 1.x"
      ],
      "execution_count": null,
      "outputs": []
    },
    {
      "cell_type": "markdown",
      "metadata": {
        "id": "AiaYvnX_YRSW",
        "colab_type": "text"
      },
      "source": [
        "# Importar Tensorflow"
      ]
    },
    {
      "cell_type": "code",
      "metadata": {
        "id": "abMGBtdEYRHB",
        "colab_type": "code",
        "colab": {}
      },
      "source": [
        "import tensorflow as tf\n",
        "print(tf.__version__)\n",
        "import matplotlib.pyplot as plt"
      ],
      "execution_count": null,
      "outputs": []
    },
    {
      "cell_type": "code",
      "metadata": {
        "id": "FRDE7bVrYREZ",
        "colab_type": "code",
        "colab": {}
      },
      "source": [
        "session = tf.Session()"
      ],
      "execution_count": null,
      "outputs": []
    },
    {
      "cell_type": "markdown",
      "metadata": {
        "id": "eaok0b6XYLpm",
        "colab_type": "text"
      },
      "source": [
        "# Deep Dream"
      ]
    },
    {
      "cell_type": "code",
      "metadata": {
        "id": "s0WulikhYLpo",
        "colab_type": "code",
        "colab": {}
      },
      "source": [
        "import os\n",
        "import matplotlib.pyplot as plt\n",
        "from IPython.display import clear_output, Image, display\n",
        "import numpy as np\n",
        "import PIL.Image\n",
        "import tensorflow as tf\n",
        "from io import BytesIO\n",
        "import urllib.request\n",
        "import zipfile"
      ],
      "execution_count": null,
      "outputs": []
    },
    {
      "cell_type": "code",
      "metadata": {
        "id": "-5OFCHwZYLpu",
        "colab_type": "code",
        "colab": {}
      },
      "source": [
        "graph = tf.Graph()\n",
        "session = tf.InteractiveSession(graph=graph)"
      ],
      "execution_count": null,
      "outputs": []
    },
    {
      "cell_type": "code",
      "metadata": {
        "id": "LdAS1k89alz2",
        "colab_type": "code",
        "colab": {}
      },
      "source": [
        "model_url = \"https://storage.googleapis.com/download.tensorflow.org/models/inception5h.zip\"\n",
        "data_dir = './datasets/model'\n",
        "if not os.path.isdir(data_dir):\n",
        "    os.makedirs(data_dir)\n",
        "\n",
        "target_file = os.path.join(data_dir, 'inception5h.zip')\n",
        "if not os.path.isfile(target_file):\n",
        "    print(\"inception5h.zip no descargado, vamos a bajarlo (Tamaño estimado =~ 55 Mb)\")\n",
        "    file, headers = urllib.request.urlretrieve(model_url, target_file)\n",
        "\n",
        "with zipfile.ZipFile(target_file,\"r\") as zip_ref:\n",
        "    zip_ref.extractall(data_dir)"
      ],
      "execution_count": null,
      "outputs": []
    },
    {
      "cell_type": "code",
      "metadata": {
        "id": "R6_Hn_8kYLp0",
        "colab_type": "code",
        "colab": {}
      },
      "source": [
        "filename = os.path.join(data_dir, 'tensorflow_inception_graph.pb')\n",
        "model_nn = filename\n",
        "with tf.gfile.FastGFile(model_nn, 'rb') as f:\n",
        "    graph_def = tf.GraphDef()\n",
        "    graph_def.ParseFromString(f.read())"
      ],
      "execution_count": null,
      "outputs": []
    },
    {
      "cell_type": "code",
      "metadata": {
        "id": "Gl5jqZLtYLp5",
        "colab_type": "code",
        "colab": {}
      },
      "source": [
        "t_input = tf.placeholder(np.float32, name='input')\n",
        "imagenet_mean = 117.0\n",
        "t_preprocessed = tf.expand_dims(t_input-imagenet_mean,0)\n",
        "tf.import_graph_def(graph_def, {'input':t_preprocessed})"
      ],
      "execution_count": null,
      "outputs": []
    },
    {
      "cell_type": "code",
      "metadata": {
        "id": "jnAwTbeHYLp9",
        "colab_type": "code",
        "colab": {}
      },
      "source": [
        "layers = [op.name for op in graph.get_operations() if op.type==\"Conv2D\" and \"import/\" in op.name]"
      ],
      "execution_count": null,
      "outputs": []
    },
    {
      "cell_type": "code",
      "metadata": {
        "id": "yNjS86ZZYLqD",
        "colab_type": "code",
        "colab": {}
      },
      "source": [
        "layers"
      ],
      "execution_count": null,
      "outputs": []
    },
    {
      "cell_type": "code",
      "metadata": {
        "id": "5NXR5UmmYLqH",
        "colab_type": "code",
        "colab": {}
      },
      "source": [
        "feature_num = [int(graph.get_tensor_by_name(name+':0').get_shape()[-1]) for name in layers]"
      ],
      "execution_count": null,
      "outputs": []
    },
    {
      "cell_type": "code",
      "metadata": {
        "id": "g2Gico1LYLqL",
        "colab_type": "code",
        "colab": {}
      },
      "source": [
        "feature_num"
      ],
      "execution_count": null,
      "outputs": []
    },
    {
      "cell_type": "code",
      "metadata": {
        "id": "Lq7RtytlYLqO",
        "colab_type": "code",
        "colab": {}
      },
      "source": [
        "layer = \"mixed4d_3x3_bottleneck_pre_relu\"\n",
        "channel = 139\n",
        "im_noise = np.random.uniform(size = (224,224,3))+100.0"
      ],
      "execution_count": null,
      "outputs": []
    },
    {
      "cell_type": "code",
      "metadata": {
        "id": "AdfbHxC2YLqS",
        "colab_type": "code",
        "colab": {}
      },
      "source": [
        "def show_array(a, fmt = \"jpeg\"):\n",
        "  a = np.uint8(np.clip(a,0,1)*255)\n",
        "  f = BytesIO()\n",
        "  PIL.Image.fromarray(a).save(f, fmt)\n",
        "  plt.imshow(a)"
      ],
      "execution_count": null,
      "outputs": []
    },
    {
      "cell_type": "code",
      "metadata": {
        "id": "ldLfAScdYLqV",
        "colab_type": "code",
        "colab": {}
      },
      "source": [
        "def T(layer):\n",
        "    return graph.get_tensor_by_name(\"import/%s:0\"%layer)"
      ],
      "execution_count": null,
      "outputs": []
    },
    {
      "cell_type": "code",
      "metadata": {
        "id": "f4hx8iU2YLqY",
        "colab_type": "code",
        "colab": {}
      },
      "source": [
        "def tf_func(*argtypes):\n",
        "    placeholders = list(map(tf.placeholder, argtypes))\n",
        "    def wrap(f):\n",
        "        out = f(*placeholders)\n",
        "        def wrapper(*args, **kw):\n",
        "            return out.eval(dict(zip(placeholders, args)), session=kw.get('session'))\n",
        "        return wrapper\n",
        "    return wrap"
      ],
      "execution_count": null,
      "outputs": []
    },
    {
      "cell_type": "code",
      "metadata": {
        "id": "pOnLi-NpYLqc",
        "colab_type": "code",
        "colab": {}
      },
      "source": [
        "def resize(img, size):\n",
        "    img = tf.expand_dims(img,0)\n",
        "    return tf.image.resize_bilinear(img, size)[0,:,:,:]"
      ],
      "execution_count": null,
      "outputs": []
    },
    {
      "cell_type": "code",
      "metadata": {
        "id": "sXLyy-X0YLqf",
        "colab_type": "code",
        "colab": {}
      },
      "source": [
        "def calc_grad_tiled(img, t_grad, tile_size=512):\n",
        "    sz = tile_size\n",
        "    h,w = img.shape[:2]\n",
        "    sx, sy = np.random.randint(sz,size = 2)\n",
        "    img_shift = np.roll(np.roll(img,sx,1),sy,0)\n",
        "    grad = np.zeros_like(img)\n",
        "    for y in range(0, max(h-sz//2, sz), sz):\n",
        "        for x in range(0, max(w-sz//2, sz), sz):\n",
        "            sub = img_shift[y:y+sz, x:x+sz]\n",
        "            g = session.run(t_grad, {t_input:sub})\n",
        "            grad[y:y+sz, x:x+sz] = g\n",
        "    return np.roll(np.roll(grad, -sx, 1), -sy,0)"
      ],
      "execution_count": null,
      "outputs": []
    },
    {
      "cell_type": "code",
      "metadata": {
        "id": "FdGEbJTBYLqh",
        "colab_type": "code",
        "colab": {}
      },
      "source": [
        "def render_deepdream(t_obj, img0=im_noise, iter_n = 10, step = 1.5, octave_n = 4, octave_scale = 1.4):\n",
        "    t_score = tf.reduce_mean(t_obj)\n",
        "    t_grad = tf.gradients(t_score, t_input)[0]\n",
        "    img = img0\n",
        "    octaves = []\n",
        "    for i in range(octave_n-1):\n",
        "        hw = img.shape[:2]\n",
        "        lo = resize(img, np.int32(np.float32(img.shape[:2])/octave_scale))\n",
        "        hi = img-resize(lo, hw)\n",
        "        img = lo\n",
        "        octaves.append(hi)\n",
        "    \n",
        "    for octave in range(octave_n):\n",
        "        if octave > 0:\n",
        "            hi = octaves[-octave]#empezamos desde el último octave la reconstrucción\n",
        "            img = resize(img, hi.shape[:2]) + hi\n",
        "        for i in range(iter_n):\n",
        "            g = calc_grad_tiled(img, t_grad)\n",
        "            img += g*(step / (np.abs(g).mean()+1e-7))\n",
        "            print(\".\", end=\" \")\n",
        "        show_array(img/255.0)"
      ],
      "execution_count": null,
      "outputs": []
    },
    {
      "cell_type": "code",
      "metadata": {
        "id": "-C79o5ToYLql",
        "colab_type": "code",
        "colab": {}
      },
      "source": [
        "resize = tf_func(np.float32, np.int32)(resize)"
      ],
      "execution_count": null,
      "outputs": []
    },
    {
      "cell_type": "code",
      "metadata": {
        "id": "CbequKo-dFgU",
        "colab_type": "code",
        "colab": {}
      },
      "source": [
        "img0 = PIL.Image.open(\"/content/tensorflow/datasets/stylenet/original_image.jpg\")\n",
        "img0 = np.float32(img0)"
      ],
      "execution_count": null,
      "outputs": []
    },
    {
      "cell_type": "code",
      "metadata": {
        "id": "sk88m4LhdTeL",
        "colab_type": "code",
        "colab": {}
      },
      "source": [
        "show_array(img0/255)"
      ],
      "execution_count": null,
      "outputs": []
    },
    {
      "cell_type": "markdown",
      "metadata": {
        "id": "TqBKACdJfH0u",
        "colab_type": "text"
      },
      "source": [
        "### 4) ¡Soñemos profundamente!\n",
        "\n",
        "Puedes ajustar los deslizadores para cambiar la fuerza del sueño profundo, y sobre cuántas escalas se aplica."
      ]
    },
    {
      "cell_type": "code",
      "metadata": {
        "id": "Hcnqgzsddcfh",
        "colab_type": "code",
        "colab": {}
      },
      "source": [
        "octave_n = 4 #@param {type:\"slider\", max: 10}\n",
        "octave_scale = 1.4 #@param {type:\"number\"}\n",
        "iter_n = 10 #@param {type:\"slider\", max: 50}\n",
        "strength = 200 #@param {type:\"slider\", max: 1000}\n",
        "layer = \"mixed4c\"  #@param [\"mixed3a\", \"mixed3b\", \"mixed4a\", \"mixed4c\", \"mixed5a\"]\n",
        "\n",
        "final = render_deepdream(tf.square(T(layer)), img0)"
      ],
      "execution_count": null,
      "outputs": []
    },
    {
      "cell_type": "markdown",
      "metadata": {
        "id": "W7nZkXRWfJ1u",
        "colab_type": "text"
      },
      "source": [
        "### 5) Las neuronas individuales\n",
        "\n",
        "También podemos tratar de optimizar no contra una capa entera sino contra la actividad de una sola neurona:"
      ]
    },
    {
      "cell_type": "code",
      "metadata": {
        "id": "0ufW9Zk9d0Ty",
        "colab_type": "code",
        "colab": {}
      },
      "source": [
        "feature_channel = 139 #@param {type:\"slider\", max: 512}\n",
        "layer = \"mixed4d_3x3_bottleneck_pre_relu\"  #@param [\"mixed4d_3x3_bottleneck_pre_relu\", \"mixed3a\", \"mixed3b\", \"mixed4a\", \"mixed4c\", \"mixed5a\"]\n",
        "if feature_channel >= T(layer).shape[3]:\n",
        "  print(\"Feature channel exceeds size of layer \", layer, \" feature space. \")\n",
        "  print(\"Choose a smaller channel number.\")\n",
        "else:\n",
        "  render_deepdream(T(layer)[:,:,:,feature_channel], img0)"
      ],
      "execution_count": null,
      "outputs": []
    }
  ]
}