{
 "cells": [
  {
   "cell_type": "markdown",
   "metadata": {},
   "source": [
    "# Deep Dream"
   ]
  },
  {
   "cell_type": "code",
   "execution_count": 2,
   "metadata": {},
   "outputs": [],
   "source": [
    "import os\n",
    "import matplotlib.pyplot as plt\n",
    "import numpy as np\n",
    "import PIL.Image\n",
    "import tensorflow as tf\n",
    "from io import BytesIO"
   ]
  },
  {
   "cell_type": "code",
   "execution_count": 3,
   "metadata": {},
   "outputs": [],
   "source": [
    "graph = tf.Graph()\n",
    "session = tf.InteractiveSession(graph=graph)"
   ]
  },
  {
   "cell_type": "code",
   "execution_count": 4,
   "metadata": {},
   "outputs": [],
   "source": [
    "model_nn = \"../../models/inception5h/tensorflow_inception_graph.pb\"\n",
    "with tf.gfile.FastGFile(model_nn, 'rb') as f:\n",
    "    graph_def = tf.GraphDef()\n",
    "    graph_def.ParseFromString(f.read())"
   ]
  },
  {
   "cell_type": "code",
   "execution_count": 6,
   "metadata": {},
   "outputs": [],
   "source": [
    "t_input = tf.placeholder(np.float32, name='input')\n",
    "imagenet_mean = 117.0\n",
    "t_preprocessed = tf.expand_dims(t_input-imagenet_mean,0)\n",
    "tf.import_graph_def(graph_def, {'input':t_preprocessed})"
   ]
  },
  {
   "cell_type": "code",
   "execution_count": 7,
   "metadata": {},
   "outputs": [],
   "source": [
    "layers = [op.name for op in graph.get_operations() if op.type==\"Conv2D\" and \"import/\" in op.name]"
   ]
  },
  {
   "cell_type": "code",
   "execution_count": 8,
   "metadata": {},
   "outputs": [
    {
     "data": {
      "text/plain": [
       "['import/conv2d0_pre_relu/conv',\n",
       " 'import/conv2d1_pre_relu/conv',\n",
       " 'import/conv2d2_pre_relu/conv',\n",
       " 'import/mixed3a_1x1_pre_relu/conv',\n",
       " 'import/mixed3a_3x3_bottleneck_pre_relu/conv',\n",
       " 'import/mixed3a_3x3_pre_relu/conv',\n",
       " 'import/mixed3a_5x5_bottleneck_pre_relu/conv',\n",
       " 'import/mixed3a_5x5_pre_relu/conv',\n",
       " 'import/mixed3a_pool_reduce_pre_relu/conv',\n",
       " 'import/mixed3b_1x1_pre_relu/conv',\n",
       " 'import/mixed3b_3x3_bottleneck_pre_relu/conv',\n",
       " 'import/mixed3b_3x3_pre_relu/conv',\n",
       " 'import/mixed3b_5x5_bottleneck_pre_relu/conv',\n",
       " 'import/mixed3b_5x5_pre_relu/conv',\n",
       " 'import/mixed3b_pool_reduce_pre_relu/conv',\n",
       " 'import/mixed4a_1x1_pre_relu/conv',\n",
       " 'import/mixed4a_3x3_bottleneck_pre_relu/conv',\n",
       " 'import/mixed4a_3x3_pre_relu/conv',\n",
       " 'import/mixed4a_5x5_bottleneck_pre_relu/conv',\n",
       " 'import/mixed4a_5x5_pre_relu/conv',\n",
       " 'import/mixed4a_pool_reduce_pre_relu/conv',\n",
       " 'import/mixed4b_1x1_pre_relu/conv',\n",
       " 'import/mixed4b_3x3_bottleneck_pre_relu/conv',\n",
       " 'import/mixed4b_3x3_pre_relu/conv',\n",
       " 'import/mixed4b_5x5_bottleneck_pre_relu/conv',\n",
       " 'import/mixed4b_5x5_pre_relu/conv',\n",
       " 'import/mixed4b_pool_reduce_pre_relu/conv',\n",
       " 'import/mixed4c_1x1_pre_relu/conv',\n",
       " 'import/mixed4c_3x3_bottleneck_pre_relu/conv',\n",
       " 'import/mixed4c_3x3_pre_relu/conv',\n",
       " 'import/mixed4c_5x5_bottleneck_pre_relu/conv',\n",
       " 'import/mixed4c_5x5_pre_relu/conv',\n",
       " 'import/mixed4c_pool_reduce_pre_relu/conv',\n",
       " 'import/mixed4d_1x1_pre_relu/conv',\n",
       " 'import/mixed4d_3x3_bottleneck_pre_relu/conv',\n",
       " 'import/mixed4d_3x3_pre_relu/conv',\n",
       " 'import/mixed4d_5x5_bottleneck_pre_relu/conv',\n",
       " 'import/mixed4d_5x5_pre_relu/conv',\n",
       " 'import/mixed4d_pool_reduce_pre_relu/conv',\n",
       " 'import/mixed4e_1x1_pre_relu/conv',\n",
       " 'import/mixed4e_3x3_bottleneck_pre_relu/conv',\n",
       " 'import/mixed4e_3x3_pre_relu/conv',\n",
       " 'import/mixed4e_5x5_bottleneck_pre_relu/conv',\n",
       " 'import/mixed4e_5x5_pre_relu/conv',\n",
       " 'import/mixed4e_pool_reduce_pre_relu/conv',\n",
       " 'import/mixed5a_1x1_pre_relu/conv',\n",
       " 'import/mixed5a_3x3_bottleneck_pre_relu/conv',\n",
       " 'import/mixed5a_3x3_pre_relu/conv',\n",
       " 'import/mixed5a_5x5_bottleneck_pre_relu/conv',\n",
       " 'import/mixed5a_5x5_pre_relu/conv',\n",
       " 'import/mixed5a_pool_reduce_pre_relu/conv',\n",
       " 'import/mixed5b_1x1_pre_relu/conv',\n",
       " 'import/mixed5b_3x3_bottleneck_pre_relu/conv',\n",
       " 'import/mixed5b_3x3_pre_relu/conv',\n",
       " 'import/mixed5b_5x5_bottleneck_pre_relu/conv',\n",
       " 'import/mixed5b_5x5_pre_relu/conv',\n",
       " 'import/mixed5b_pool_reduce_pre_relu/conv',\n",
       " 'import/head0_bottleneck_pre_relu/conv',\n",
       " 'import/head1_bottleneck_pre_relu/conv']"
      ]
     },
     "execution_count": 8,
     "metadata": {},
     "output_type": "execute_result"
    }
   ],
   "source": [
    "layers"
   ]
  },
  {
   "cell_type": "code",
   "execution_count": 9,
   "metadata": {},
   "outputs": [],
   "source": [
    "feature_num = [int(graph.get_tensor_by_name(name+':0').get_shape()[-1]) for name in layers]"
   ]
  },
  {
   "cell_type": "code",
   "execution_count": 10,
   "metadata": {},
   "outputs": [
    {
     "data": {
      "text/plain": [
       "[64,\n",
       " 64,\n",
       " 192,\n",
       " 64,\n",
       " 96,\n",
       " 128,\n",
       " 16,\n",
       " 32,\n",
       " 32,\n",
       " 128,\n",
       " 128,\n",
       " 192,\n",
       " 32,\n",
       " 96,\n",
       " 64,\n",
       " 192,\n",
       " 96,\n",
       " 204,\n",
       " 16,\n",
       " 48,\n",
       " 64,\n",
       " 160,\n",
       " 112,\n",
       " 224,\n",
       " 24,\n",
       " 64,\n",
       " 64,\n",
       " 128,\n",
       " 128,\n",
       " 256,\n",
       " 24,\n",
       " 64,\n",
       " 64,\n",
       " 112,\n",
       " 144,\n",
       " 288,\n",
       " 32,\n",
       " 64,\n",
       " 64,\n",
       " 256,\n",
       " 160,\n",
       " 320,\n",
       " 32,\n",
       " 128,\n",
       " 128,\n",
       " 256,\n",
       " 160,\n",
       " 320,\n",
       " 48,\n",
       " 128,\n",
       " 128,\n",
       " 384,\n",
       " 192,\n",
       " 384,\n",
       " 48,\n",
       " 128,\n",
       " 128,\n",
       " 128,\n",
       " 128]"
      ]
     },
     "execution_count": 10,
     "metadata": {},
     "output_type": "execute_result"
    }
   ],
   "source": [
    "feature_num"
   ]
  },
  {
   "cell_type": "code",
   "execution_count": 11,
   "metadata": {},
   "outputs": [],
   "source": [
    "layer = \"mixed4d_3x3_bottleneck_pre_relu\"\n",
    "channel = 139\n",
    "im_noise = np.random.uniform(size = (224,224,3))+100.0"
   ]
  },
  {
   "cell_type": "code",
   "execution_count": 12,
   "metadata": {},
   "outputs": [],
   "source": [
    "def show_array(a, fmt = \"jpeg\"):\n",
    "    a = np.uint8(np.clip(a,0,1)*255)\n",
    "    f = BytesIO()\n",
    "    PIL.Image.fromarray(a).save(f, fmt)\n",
    "    plt.imshow(a)"
   ]
  },
  {
   "cell_type": "code",
   "execution_count": 13,
   "metadata": {},
   "outputs": [],
   "source": [
    "def T(layer):\n",
    "    return graph.get_tensor_by_name(\"import/%s:0\"%layer)"
   ]
  },
  {
   "cell_type": "code",
   "execution_count": 15,
   "metadata": {},
   "outputs": [],
   "source": [
    "def tf_func(*argtypes):\n",
    "    placeholders = list(map(tf.placeholder, argtypes))\n",
    "    def wrap(f):\n",
    "        out = f(*placeholders)\n",
    "        def wrapper(*args, **kw):\n",
    "            return out.eval(dict(zip(placeholders, args)), session=kw.get('session'))\n",
    "        return wrapper\n",
    "    return wrap"
   ]
  },
  {
   "cell_type": "code",
   "execution_count": 16,
   "metadata": {},
   "outputs": [],
   "source": [
    "def resize(img, size):\n",
    "    img = tf.expand_dims(img,0)\n",
    "    return tf.image.resize_bilinear(img, size)[0,:,:,:]"
   ]
  },
  {
   "cell_type": "code",
   "execution_count": 17,
   "metadata": {},
   "outputs": [],
   "source": [
    "def calc_grad_tiled(img, t_grad, tile_size=512):\n",
    "    sz = tile_size\n",
    "    h,w = img.shape[:2]\n",
    "    sx, sy = np.random.randint(sz,size = 2)\n",
    "    img_shift = np.roll(np.roll(img,sx,1),sy,0)\n",
    "    grad = np.zeros_like(img)\n",
    "    for y in range(0, max(h-sz//2, sz), sz):\n",
    "        for x in range(0, max(w-sz//2, sz), sz):\n",
    "            sub = img_shift[y:y+sz, x:x+sz]\n",
    "            g = session.run(t_grad, {t_input:sub})\n",
    "            grad[y:y+sz, x:x+sz] = g\n",
    "    return np.roll(np.roll(grad, -sx, 1), -sy,0)"
   ]
  },
  {
   "cell_type": "code",
   "execution_count": 18,
   "metadata": {},
   "outputs": [],
   "source": [
    "def render_deepdream(t_obj, img0=im_noise, iter_n = 10, step = 1.5, octave_n = 4, octave_scale = 1.4):\n",
    "    t_score = tf.reduce_mean(t_obj)\n",
    "    t_grad = tf.gradients(t_score, t_input)[0]\n",
    "    img = img0\n",
    "    octaves = []\n",
    "    for i in range(octave_n-1):\n",
    "        hw = img.shape[:2]\n",
    "        lo = resize(img, np.int32(np.float(hw)/octave_scale))\n",
    "        hi = img-resize(lo, hw)\n",
    "        img = lo\n",
    "        octaves.append(hi)\n",
    "    \n",
    "    for octave in range(octave_n):\n",
    "        if octave > 0:\n",
    "            hi = octaves[-octave]#empezamos desde el último octave la reconstrucción\n",
    "            img = resize(img, hi.shape[:2]) + hi\n",
    "        for i in range(iter_n):\n",
    "            g = calc_grad_tiled(img, t_grad)\n",
    "            img += g*(step / (np.abs(g).mean()+1e-7))\n",
    "            print(\".\", end=\" \")\n",
    "        show_array(img/255.0)"
   ]
  },
  {
   "cell_type": "code",
   "execution_count": 19,
   "metadata": {},
   "outputs": [],
   "source": [
    "resize = tf_func(np.float32, np.int32)(resize)"
   ]
  },
  {
   "cell_type": "code",
   "execution_count": null,
   "metadata": {},
   "outputs": [],
   "source": []
  }
 ],
 "metadata": {
  "kernelspec": {
   "display_name": "Python 3",
   "language": "python",
   "name": "python3"
  },
  "language_info": {
   "codemirror_mode": {
    "name": "ipython",
    "version": 3
   },
   "file_extension": ".py",
   "mimetype": "text/x-python",
   "name": "python",
   "nbconvert_exporter": "python",
   "pygments_lexer": "ipython3",
   "version": "3.5.5"
  }
 },
 "nbformat": 4,
 "nbformat_minor": 2
}
