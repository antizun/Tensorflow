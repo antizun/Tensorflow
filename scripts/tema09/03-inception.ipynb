{
 "cells": [
  {
   "cell_type": "markdown",
   "metadata": {},
   "source": [
    "# Cómo entrenar con una red ya entrenada"
   ]
  },
  {
   "cell_type": "code",
   "execution_count": 2,
   "metadata": {},
   "outputs": [],
   "source": [
    "import os\n",
    "import tarfile\n",
    "import _pickle as cPickle\n",
    "import numpy as np\n",
    "import urllib.request\n",
    "import scipy.misc\n",
    "from imageio import imwrite"
   ]
  },
  {
   "cell_type": "code",
   "execution_count": 3,
   "metadata": {},
   "outputs": [],
   "source": [
    "cifar10_url = \"http://www.cs.toronto.edu/~kriz/cifar-10-binary.tar.gz\"\n",
    "data_dir = '../../datasets/cifar-10-temp'\n",
    "if not os.path.isdir(data_dir):\n",
    "    os.makedirs(data_dir)\n",
    "objects = [\"airplane\", \"automobile\", \"bird\", \"cat\", \"deer\", \"dog\", \"frog\", \"horse\", \"ship\", \"truck\"]\n",
    "objects_es = [\"avión\", \"coche\", \"pájaro\", \"gato\", \"ciervo\", \"perro\", \"rana\", \"caballo\", \"barco\", \"camión\"]"
   ]
  },
  {
   "cell_type": "code",
   "execution_count": 4,
   "metadata": {},
   "outputs": [
    {
     "name": "stdout",
     "output_type": "stream",
     "text": [
      "CIFAR 10 no descargado, vamos a bajarlo (Tamaño estimado =~ 170 Mb)\n"
     ]
    }
   ],
   "source": [
    "target_file = os.path.join(data_dir, 'cifar-10-python.tar.gz')\n",
    "if not os.path.isfile(target_file):\n",
    "    print(\"CIFAR 10 no descargado, vamos a bajarlo (Tamaño estimado =~ 170 Mb)\")\n",
    "    file, headers = urllib.request.urlretrieve(cifar10_url, target_file)"
   ]
  },
  {
   "cell_type": "code",
   "execution_count": 5,
   "metadata": {},
   "outputs": [],
   "source": [
    "tar = tarfile.open(target_file)\n",
    "tar.extractall(path=data_dir)\n",
    "tar.close()"
   ]
  },
  {
   "cell_type": "code",
   "execution_count": 6,
   "metadata": {},
   "outputs": [],
   "source": [
    "train_folder = \"train_dir\"\n",
    "if not os.path.isdir(os.path.join(data_dir, train_folder)):\n",
    "    for i in range(10):\n",
    "        folder = os.path.join(data_dir, train_folder, objects[i])\n",
    "        os.makedirs(folder)"
   ]
  },
  {
   "cell_type": "code",
   "execution_count": 7,
   "metadata": {},
   "outputs": [],
   "source": [
    "test_folder = \"test_dir\"\n",
    "if not os.path.isdir(os.path.join(data_dir, test_folder)):\n",
    "    for i in range(10):\n",
    "        folder = os.path.join(data_dir, test_folder, objects[i])\n",
    "        os.makedirs(folder)"
   ]
  },
  {
   "cell_type": "code",
   "execution_count": 8,
   "metadata": {},
   "outputs": [],
   "source": [
    "def load_batch_from_file(file):\n",
    "    file_conn = open(file, 'rb')\n",
    "    image_dictionary = cPickle.load(file_conn, encoding='latin1')\n",
    "    file_conn.close()\n",
    "    return image_dictionary"
   ]
  },
  {
   "cell_type": "code",
   "execution_count": 9,
   "metadata": {},
   "outputs": [],
   "source": [
    "def save_images_from_dict(image_dict, folder='data_dir'):\n",
    "    for ix, label in enumerate(image_dict['labels']):\n",
    "        folder_path = os.path.join(data_dir, folder, objects[label])\n",
    "        filename = image_dict['filenames'][ix]\n",
    "        image_array = image_dict['data'][ix]\n",
    "        image_array.resize([3,32,32])\n",
    "        ouput_loc = os.path.join(folder_path, filename)\n",
    "        imwrite(ouput_loc, image_array.transpose())"
   ]
  },
  {
   "cell_type": "code",
   "execution_count": 22,
   "metadata": {},
   "outputs": [],
   "source": [
    "data_location = os.path.join(\"../../datasets\", \"cifar-10-batches-py\")\n",
    "train_names = [\"data_batch_\"+str(x) for x in range(1,6)]\n",
    "test_names = [\"test_batch\"]"
   ]
  },
  {
   "cell_type": "code",
   "execution_count": 20,
   "metadata": {},
   "outputs": [
    {
     "name": "stdout",
     "output_type": "stream",
     "text": [
      "Guardando imágenes del fichero: data_batch_1\n",
      "Guardando imágenes del fichero: data_batch_2\n",
      "Guardando imágenes del fichero: data_batch_3\n",
      "Guardando imágenes del fichero: data_batch_4\n",
      "Guardando imágenes del fichero: data_batch_5\n"
     ]
    }
   ],
   "source": [
    "for file in train_names:\n",
    "    print(\"Guardando imágenes del fichero: {}\".format(file))\n",
    "    file_location = os.path.join(data_location, file)\n",
    "    image_dict = load_batch_from_file(file_location)\n",
    "    save_images_from_dict(image_dict, folder=train_folder)"
   ]
  },
  {
   "cell_type": "code",
   "execution_count": 23,
   "metadata": {},
   "outputs": [
    {
     "name": "stdout",
     "output_type": "stream",
     "text": [
      "Guardando imágenes del fichero: test_batch\n"
     ]
    }
   ],
   "source": [
    "for file in test_names:\n",
    "    print(\"Guardando imágenes del fichero: {}\".format(file))\n",
    "    file_location = os.path.join(data_location, file)\n",
    "    image_dict = load_batch_from_file(file_location)\n",
    "    save_images_from_dict(image_dict, folder=test_folder)"
   ]
  },
  {
   "cell_type": "code",
   "execution_count": 24,
   "metadata": {},
   "outputs": [
    {
     "name": "stdout",
     "output_type": "stream",
     "text": [
      "Guardando las etiquetas en el fichero: ../../datasets/cifar-10-temp/cifar10_labels.txt\n"
     ]
    }
   ],
   "source": [
    "cifar_labels_file = os.path.join(data_dir, 'cifar10_labels.txt')\n",
    "print(\"Guardando las etiquetas en el fichero: {}\".format(cifar_labels_file))\n",
    "with open(cifar_labels_file, 'w') as labels_file:\n",
    "    for item in objects:\n",
    "        labels_file.write(\"{}\\n\".format(item))"
   ]
  },
  {
   "cell_type": "code",
   "execution_count": null,
   "metadata": {},
   "outputs": [],
   "source": [
    "http://machinememos.com/python/artificial%20intelligence/machine%20learning/cifar10/neural%20networks/convolutional%20neural%20network/googlelenet/inception/tensorflow/dropout/image%20classification/2017/05/04/cnn-image-classification-cifar-10-inceptionV3.html"
   ]
  }
 ],
 "metadata": {
  "kernelspec": {
   "display_name": "Python 3",
   "language": "python",
   "name": "python3"
  },
  "language_info": {
   "codemirror_mode": {
    "name": "ipython",
    "version": 3
   },
   "file_extension": ".py",
   "mimetype": "text/x-python",
   "name": "python",
   "nbconvert_exporter": "python",
   "pygments_lexer": "ipython3",
   "version": "3.5.5"
  }
 },
 "nbformat": 4,
 "nbformat_minor": 2
}
