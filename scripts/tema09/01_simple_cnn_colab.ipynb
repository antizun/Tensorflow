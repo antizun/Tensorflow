{
  "nbformat": 4,
  "nbformat_minor": 0,
  "metadata": {
    "kernelspec": {
      "display_name": "Python 3",
      "language": "python",
      "name": "python3"
    },
    "language_info": {
      "codemirror_mode": {
        "name": "ipython",
        "version": 3
      },
      "file_extension": ".py",
      "mimetype": "text/x-python",
      "name": "python",
      "nbconvert_exporter": "python",
      "pygments_lexer": "ipython3",
      "version": "3.5.5"
    },
    "colab": {
      "name": "01-simple-cnn_colab.ipynb",
      "provenance": [],
      "collapsed_sections": [],
      "toc_visible": true
    },
    "accelerator": "GPU"
  },
  "cells": [
    {
      "cell_type": "markdown",
      "metadata": {
        "id": "sYYTzfrKQEXR",
        "colab_type": "text"
      },
      "source": [
        "# Clonamos el repositorio para obtener los dataSet"
      ]
    },
    {
      "cell_type": "code",
      "metadata": {
        "id": "X7lOuiR8QEQ0",
        "colab_type": "code",
        "colab": {
          "base_uri": "https://localhost:8080/",
          "height": 153
        },
        "outputId": "71422ad7-f9d0-4042-9a3e-ae0e9d8f375d"
      },
      "source": [
        "!git clone https://github.com/joanby/tensorflow.git"
      ],
      "execution_count": 1,
      "outputs": [
        {
          "output_type": "stream",
          "text": [
            "Cloning into 'tensorflow'...\n",
            "remote: Enumerating objects: 51, done.\u001b[K\n",
            "remote: Counting objects: 100% (51/51), done.\u001b[K\n",
            "remote: Compressing objects: 100% (28/28), done.\u001b[K\n",
            "remote: Total 60311 (delta 32), reused 37 (delta 23), pack-reused 60260\u001b[K\n",
            "Receiving objects: 100% (60311/60311), 442.46 MiB | 14.75 MiB/s, done.\n",
            "Resolving deltas: 100% (82/82), done.\n",
            "Checking out files: 100% (60225/60225), done.\n"
          ],
          "name": "stdout"
        }
      ]
    },
    {
      "cell_type": "markdown",
      "metadata": {
        "id": "MTZMF0GvQD59",
        "colab_type": "text"
      },
      "source": [
        "# Damos acceso a nuestro Drive"
      ]
    },
    {
      "cell_type": "code",
      "metadata": {
        "id": "HcO1WB-jQDy9",
        "colab_type": "code",
        "colab": {}
      },
      "source": [
        "from google.colab import drive\n",
        "drive.mount('/content/drive')"
      ],
      "execution_count": null,
      "outputs": []
    },
    {
      "cell_type": "markdown",
      "metadata": {
        "id": "zuFrOFm-QDsi",
        "colab_type": "text"
      },
      "source": [
        "# Test it"
      ]
    },
    {
      "cell_type": "code",
      "metadata": {
        "id": "kF1mrBATQDlx",
        "colab_type": "code",
        "colab": {}
      },
      "source": [
        "!ls '/content/drive/My Drive' "
      ],
      "execution_count": null,
      "outputs": []
    },
    {
      "cell_type": "markdown",
      "metadata": {
        "id": "gdr4J-uRQDem",
        "colab_type": "text"
      },
      "source": [
        "# Google colab tools"
      ]
    },
    {
      "cell_type": "code",
      "metadata": {
        "id": "MA6j6ibnQDXc",
        "colab_type": "code",
        "colab": {}
      },
      "source": [
        "from google.colab import files # Para manejar los archivos y, por ejemplo, exportar a su navegador\n",
        "import glob # Para manejar los archivos y, por ejemplo, exportar a su navegador\n",
        "from google.colab import drive # Montar tu Google drive"
      ],
      "execution_count": 2,
      "outputs": []
    },
    {
      "cell_type": "markdown",
      "metadata": {
        "id": "ZUCzc4xVQDQj",
        "colab_type": "text"
      },
      "source": [
        "##Especificando la versión de TensorFlow\n",
        "\n",
        "Ejecutando \"importar tensorflow\" importará la versión por defecto (actualmente 2.x). Puedes usar la 1.x ejecutando una celda con la \"versión mágica de tensorflow\" **antes de ejecutar \"importar tensorflow\".\n",
        "\n",
        "### Si no funciona hacer el pip install\n"
      ]
    },
    {
      "cell_type": "code",
      "metadata": {
        "id": "nCdPBksLQDIc",
        "colab_type": "code",
        "colab": {
          "base_uri": "https://localhost:8080/",
          "height": 34
        },
        "outputId": "a92b603c-8301-438d-91e3-e4779a8da83f"
      },
      "source": [
        "#!pip install tensorflow==1.14\n",
        "%tensorflow_version 1.x"
      ],
      "execution_count": 3,
      "outputs": [
        {
          "output_type": "stream",
          "text": [
            "TensorFlow 1.x selected.\n"
          ],
          "name": "stdout"
        }
      ]
    },
    {
      "cell_type": "markdown",
      "metadata": {
        "id": "O5OjiKxcQC_l",
        "colab_type": "text"
      },
      "source": [
        "# Importar Tensorflow"
      ]
    },
    {
      "cell_type": "code",
      "metadata": {
        "id": "le65NOJ_QCuY",
        "colab_type": "code",
        "colab": {
          "base_uri": "https://localhost:8080/",
          "height": 34
        },
        "outputId": "55665c89-02b6-4e47-e512-1ed679c18c03"
      },
      "source": [
        "import tensorflow as tf\n",
        "print(tf.__version__)\n",
        "import matplotlib.pyplot as plt"
      ],
      "execution_count": 6,
      "outputs": [
        {
          "output_type": "stream",
          "text": [
            "1.15.2\n"
          ],
          "name": "stdout"
        }
      ]
    },
    {
      "cell_type": "code",
      "metadata": {
        "id": "uK3AEd27QXle",
        "colab_type": "code",
        "colab": {}
      },
      "source": [
        "session = tf.Session()"
      ],
      "execution_count": 7,
      "outputs": []
    },
    {
      "cell_type": "markdown",
      "metadata": {
        "id": "cnn75G1YP-dj",
        "colab_type": "text"
      },
      "source": [
        "# Una red neuronal convolucional simple"
      ]
    },
    {
      "cell_type": "markdown",
      "metadata": {
        "id": "ZMQyvx7lP-dj",
        "colab_type": "text"
      },
      "source": [
        "- 2 capas de convolucion + ReLU + Max Pooling\n",
        "- 2 capas totalmente conectadas"
      ]
    },
    {
      "cell_type": "code",
      "metadata": {
        "id": "Ehy4l99kP-dk",
        "colab_type": "code",
        "colab": {}
      },
      "source": [
        "import matplotlib.pyplot as plt\n",
        "import numpy as np\n",
        "import tensorflow as tf\n",
        "from tensorflow.examples.tutorials.mnist import input_data\n",
        "from tensorflow.python.framework import ops\n",
        "\n",
        "ops.reset_default_graph()\n",
        "session = tf.Session()"
      ],
      "execution_count": 8,
      "outputs": []
    },
    {
      "cell_type": "code",
      "metadata": {
        "id": "NhfiBLxoP-dn",
        "colab_type": "code",
        "colab": {
          "base_uri": "https://localhost:8080/",
          "height": 85
        },
        "outputId": "70e28e9b-699b-4581-af35-74123e962272"
      },
      "source": [
        "data_dir = '/content/tensorflow/datasets/MNIST_data'\n",
        "mnist = input_data.read_data_sets(data_dir, one_hot=False)"
      ],
      "execution_count": 25,
      "outputs": [
        {
          "output_type": "stream",
          "text": [
            "Extracting /content/tensorflow/datasets/MNIST_data/train-images-idx3-ubyte.gz\n",
            "Extracting /content/tensorflow/datasets/MNIST_data/train-labels-idx1-ubyte.gz\n",
            "Extracting /content/tensorflow/datasets/MNIST_data/t10k-images-idx3-ubyte.gz\n",
            "Extracting /content/tensorflow/datasets/MNIST_data/t10k-labels-idx1-ubyte.gz\n"
          ],
          "name": "stdout"
        }
      ]
    },
    {
      "cell_type": "code",
      "metadata": {
        "id": "4wR5TFSqP-dq",
        "colab_type": "code",
        "colab": {}
      },
      "source": [
        "train_xdata = np.array([np.reshape(x, (28,28)) for x in mnist.train.images])\n",
        "test_xdata = np.array([np.reshape(x, (28,28)) for x in mnist.test.images])\n",
        "train_labels = mnist.train.labels\n",
        "test_labels = mnist.test.labels"
      ],
      "execution_count": 26,
      "outputs": []
    },
    {
      "cell_type": "code",
      "metadata": {
        "id": "WZBzIJnqP-ds",
        "colab_type": "code",
        "colab": {}
      },
      "source": [
        "batch_size = 100\n",
        "learning_rate = 0.005\n",
        "evaluation_size = 500\n",
        "image_width = train_xdata[0].shape[0]\n",
        "image_height = train_xdata[0].shape[1]\n",
        "target_size = max(train_labels)+1\n",
        "num_chanels = 1\n",
        "generations = 500\n",
        "eval_every = 5\n",
        "conv1_features = 25\n",
        "conv2_features = 50\n",
        "max_pool_size1 = 2\n",
        "max_pool_size2 = 2\n",
        "full_connected_size1 = 100"
      ],
      "execution_count": 27,
      "outputs": []
    },
    {
      "cell_type": "code",
      "metadata": {
        "id": "LePTsMnzP-du",
        "colab_type": "code",
        "colab": {}
      },
      "source": [
        "x_input_shape = (batch_size, image_width, image_height, num_chanels)\n",
        "x_input = tf.placeholder(tf.float32, shape = x_input_shape)\n",
        "y_target = tf.placeholder(tf.int32, shape=(batch_size))\n",
        "\n",
        "eval_input_shape = (evaluation_size, image_width, image_height, num_chanels)\n",
        "eval_input = tf.placeholder(tf.float32, shape=eval_input_shape)\n",
        "eval_target = tf.placeholder(tf.float32, shape = (evaluation_size))"
      ],
      "execution_count": 28,
      "outputs": []
    },
    {
      "cell_type": "code",
      "metadata": {
        "id": "fnLVmZa9P-dw",
        "colab_type": "code",
        "colab": {}
      },
      "source": [
        "conv1_weight = tf.Variable(tf.truncated_normal([4,4,num_chanels, conv1_features], stddev=0.1, dtype=tf.float32))\n",
        "conv1_bias = tf.Variable(tf.zeros([conv1_features], dtype=tf.float32))\n",
        "                    \n",
        "conv2_weight = tf.Variable(tf.truncated_normal([4,4,conv1_features, conv2_features], stddev=0.1, dtype=tf.float32))\n",
        "conv2_bias = tf.Variable(tf.zeros([conv2_features], dtype=tf.float32))"
      ],
      "execution_count": 29,
      "outputs": []
    },
    {
      "cell_type": "code",
      "metadata": {
        "id": "7BotWuSaP-dy",
        "colab_type": "code",
        "colab": {}
      },
      "source": [
        "resulting_width = image_width // (max_pool_size1*max_pool_size2)\n",
        "resulting_height = image_height // (max_pool_size1 * max_pool_size2)\n",
        "\n",
        "full1_input_size = resulting_width*resulting_height*conv2_features\n",
        "full1_weight = tf.Variable(tf.truncated_normal([full1_input_size, full_connected_size1], stddev=0.1, dtype=tf.float32))\n",
        "full1_bias = tf.Variable(tf.truncated_normal([full_connected_size1], stddev=0.1, dtype = tf.float32))\n",
        "\n",
        "full2_weight = tf.Variable(tf.truncated_normal([full_connected_size1, target_size], stddev=0.1, dtype=tf.float32))\n",
        "full2_bias = tf.Variable(tf.truncated_normal([target_size], stddev=0.1, dtype=tf.float32))"
      ],
      "execution_count": 30,
      "outputs": []
    },
    {
      "cell_type": "code",
      "metadata": {
        "id": "po_TdGbkP-d3",
        "colab_type": "code",
        "colab": {}
      },
      "source": [
        "def my_conv_neural_net(input_data):\n",
        "    ## Primera capa Conv+ReLU+Maxpool\n",
        "    conv1 = tf.nn.conv2d(input_data, conv1_weight, strides=[1,1,1,1], padding=\"SAME\")\n",
        "    relu1 = tf.nn.relu(tf.nn.bias_add(conv1, conv1_bias))\n",
        "    max_pool1 = tf.nn.max_pool(relu1, ksize=[1,max_pool_size1, max_pool_size1,1], \n",
        "                               strides=[1, max_pool_size1, max_pool_size1,1], padding=\"SAME\")\n",
        "    ## Segunda capa Conv+ReLU+Maxpool\n",
        "    conv2 = tf.nn.conv2d(max_pool1, conv2_weight, strides=[1,1,1,1], padding=\"SAME\")\n",
        "    relu2 = tf.nn.relu(tf.nn.bias_add(conv2, conv2_bias))\n",
        "    max_pool2 = tf.nn.max_pool(relu2, ksize=[1,max_pool_size2, max_pool_size2,1], \n",
        "                               strides=[1, max_pool_size2, max_pool_size2,1], padding=\"SAME\")\n",
        "    ## Operación de flattening para aplanar la imagen en un vector\n",
        "    final_conv_shape = max_pool2.get_shape().as_list()\n",
        "    final_shape = final_conv_shape[1]*final_conv_shape[2]*final_conv_shape[3]\n",
        "    flat_output = tf.reshape(max_pool2, [final_conv_shape[0], final_shape])\n",
        "    ## Tercera capa, totalmente conectada\n",
        "    fully_connected_1 = tf.nn.relu(tf.add(tf.matmul(flat_output, full1_weight), full1_bias))\n",
        "    ## Cuarta capa, totalmente conectada\n",
        "    fully_connected_2 = tf.add(tf.matmul(fully_connected_1, full2_weight), full2_bias)\n",
        "    return fully_connected_2"
      ],
      "execution_count": 31,
      "outputs": []
    },
    {
      "cell_type": "code",
      "metadata": {
        "id": "X3VUcaMvP-d6",
        "colab_type": "code",
        "colab": {}
      },
      "source": [
        "model_ouput = my_conv_neural_net(x_input)\n",
        "test_model_output = my_conv_neural_net(eval_input)"
      ],
      "execution_count": 32,
      "outputs": []
    },
    {
      "cell_type": "code",
      "metadata": {
        "id": "JSc8Qmd2P-d7",
        "colab_type": "code",
        "colab": {}
      },
      "source": [
        "loss = tf.reduce_mean(tf.nn.sparse_softmax_cross_entropy_with_logits(logits=model_ouput, labels = y_target))"
      ],
      "execution_count": 33,
      "outputs": []
    },
    {
      "cell_type": "code",
      "metadata": {
        "id": "n-T8UrIzP-d9",
        "colab_type": "code",
        "colab": {}
      },
      "source": [
        "prediction = tf.nn.softmax(model_ouput)\n",
        "test_prediction = tf.nn.softmax(test_model_output)\n",
        "\n",
        "def get_accuracy(logits, targets):\n",
        "    batch_predictions = np.argmax(logits, axis = 1)\n",
        "    num_corrects = np.sum(np.equal(batch_predictions, targets))\n",
        "    return 100.0*num_corrects/batch_predictions.shape[0]"
      ],
      "execution_count": 34,
      "outputs": []
    },
    {
      "cell_type": "code",
      "metadata": {
        "id": "FioXMhVJP-d_",
        "colab_type": "code",
        "colab": {}
      },
      "source": [
        "my_optim = tf.train.MomentumOptimizer(learning_rate=learning_rate,momentum=0.9)\n",
        "train_step = my_optim.minimize(loss)"
      ],
      "execution_count": 35,
      "outputs": []
    },
    {
      "cell_type": "code",
      "metadata": {
        "id": "d5hst_dcP-eC",
        "colab_type": "code",
        "colab": {}
      },
      "source": [
        "init = tf.global_variables_initializer()\n",
        "session.run(init)"
      ],
      "execution_count": 36,
      "outputs": []
    },
    {
      "cell_type": "code",
      "metadata": {
        "id": "miwWBR6WP-eE",
        "colab_type": "code",
        "colab": {
          "base_uri": "https://localhost:8080/",
          "height": 1000
        },
        "outputId": "cc3719d2-3e5e-4cfa-fe3d-fb1681d3cd07"
      },
      "source": [
        "train_loss = []\n",
        "train_acc = []\n",
        "test_acc = []\n",
        "i_vals = []\n",
        "for i in range(generations):\n",
        "    rand_idx = np.random.choice(len(train_xdata), size = batch_size)\n",
        "    rand_x = train_xdata[rand_idx]\n",
        "    rand_x = np.expand_dims(rand_x, 3)\n",
        "    rand_y = train_labels[rand_idx]\n",
        "    train_dict = {x_input:rand_x, y_target:rand_y}\n",
        "    session.run(train_step, feed_dict=train_dict)\n",
        "    temp_train_loss, temp_train_preds = session.run([loss, prediction], feed_dict=train_dict)\n",
        "    temp_train_acc = get_accuracy(temp_train_preds, rand_y)\n",
        "    \n",
        "    if(i+1) % eval_every == 0:\n",
        "        rand_idx_eval = np.random.choice(len(test_xdata), size = evaluation_size)\n",
        "        rand_x_eval = test_xdata[rand_idx_eval]\n",
        "        rand_x_eval = np.expand_dims(rand_x_eval, 3)\n",
        "        rand_y_eval = test_labels[rand_idx_eval]\n",
        "        test_dict = {eval_input:rand_x_eval, eval_target:rand_y_eval}\n",
        "\n",
        "        temp_test_preds = session.run( test_prediction, feed_dict=test_dict)\n",
        "        temp_test_acc = get_accuracy(temp_test_preds, rand_y_eval)\n",
        "        \n",
        "        i_vals.append(i+1)\n",
        "        train_loss.append(temp_train_loss)\n",
        "        train_acc.append(temp_train_acc)\n",
        "        test_acc.append(temp_test_acc)\n",
        " \n",
        "        acc_and_loss = [(i+1),temp_train_loss, temp_train_acc, temp_test_acc]\n",
        "        acc_and_loss = [np.round(x,3) for x in acc_and_loss]\n",
        "        print(\"Iteración {}. Train Loss: {:.3f}. Train Acc: {:.3f}. Test Acc: {:.3f}\".format(*acc_and_loss))"
      ],
      "execution_count": 37,
      "outputs": [
        {
          "output_type": "stream",
          "text": [
            "Iteración 5. Train Loss: 2.289. Train Acc: 11.000. Test Acc: 11.800\n",
            "Iteración 10. Train Loss: 2.158. Train Acc: 28.000. Test Acc: 23.400\n",
            "Iteración 15. Train Loss: 2.097. Train Acc: 32.000. Test Acc: 30.400\n",
            "Iteración 20. Train Loss: 2.005. Train Acc: 31.000. Test Acc: 45.000\n",
            "Iteración 25. Train Loss: 1.699. Train Acc: 62.000. Test Acc: 61.200\n",
            "Iteración 30. Train Loss: 1.501. Train Acc: 60.000. Test Acc: 61.400\n",
            "Iteración 35. Train Loss: 1.318. Train Acc: 62.000. Test Acc: 69.000\n",
            "Iteración 40. Train Loss: 0.924. Train Acc: 74.000. Test Acc: 75.600\n",
            "Iteración 45. Train Loss: 0.771. Train Acc: 78.000. Test Acc: 80.600\n",
            "Iteración 50. Train Loss: 0.675. Train Acc: 80.000. Test Acc: 81.200\n",
            "Iteración 55. Train Loss: 0.657. Train Acc: 82.000. Test Acc: 85.000\n",
            "Iteración 60. Train Loss: 0.464. Train Acc: 88.000. Test Acc: 79.400\n",
            "Iteración 65. Train Loss: 0.587. Train Acc: 86.000. Test Acc: 87.800\n",
            "Iteración 70. Train Loss: 0.304. Train Acc: 90.000. Test Acc: 88.800\n",
            "Iteración 75. Train Loss: 0.389. Train Acc: 90.000. Test Acc: 89.400\n",
            "Iteración 80. Train Loss: 0.345. Train Acc: 88.000. Test Acc: 90.600\n",
            "Iteración 85. Train Loss: 0.410. Train Acc: 86.000. Test Acc: 86.400\n",
            "Iteración 90. Train Loss: 0.529. Train Acc: 85.000. Test Acc: 89.800\n",
            "Iteración 95. Train Loss: 0.303. Train Acc: 91.000. Test Acc: 90.000\n",
            "Iteración 100. Train Loss: 0.356. Train Acc: 87.000. Test Acc: 92.000\n",
            "Iteración 105. Train Loss: 0.232. Train Acc: 93.000. Test Acc: 90.800\n",
            "Iteración 110. Train Loss: 0.423. Train Acc: 89.000. Test Acc: 89.800\n",
            "Iteración 115. Train Loss: 0.259. Train Acc: 95.000. Test Acc: 93.000\n",
            "Iteración 120. Train Loss: 0.242. Train Acc: 92.000. Test Acc: 93.800\n",
            "Iteración 125. Train Loss: 0.239. Train Acc: 93.000. Test Acc: 92.400\n",
            "Iteración 130. Train Loss: 0.347. Train Acc: 89.000. Test Acc: 91.800\n",
            "Iteración 135. Train Loss: 0.263. Train Acc: 92.000. Test Acc: 90.800\n",
            "Iteración 140. Train Loss: 0.133. Train Acc: 95.000. Test Acc: 92.000\n",
            "Iteración 145. Train Loss: 0.365. Train Acc: 90.000. Test Acc: 94.200\n",
            "Iteración 150. Train Loss: 0.188. Train Acc: 96.000. Test Acc: 94.400\n",
            "Iteración 155. Train Loss: 0.240. Train Acc: 94.000. Test Acc: 93.400\n",
            "Iteración 160. Train Loss: 0.204. Train Acc: 94.000. Test Acc: 93.200\n",
            "Iteración 165. Train Loss: 0.180. Train Acc: 94.000. Test Acc: 94.200\n",
            "Iteración 170. Train Loss: 0.224. Train Acc: 94.000. Test Acc: 93.000\n",
            "Iteración 175. Train Loss: 0.181. Train Acc: 94.000. Test Acc: 94.200\n",
            "Iteración 180. Train Loss: 0.145. Train Acc: 96.000. Test Acc: 93.000\n",
            "Iteración 185. Train Loss: 0.117. Train Acc: 97.000. Test Acc: 94.400\n",
            "Iteración 190. Train Loss: 0.381. Train Acc: 91.000. Test Acc: 94.400\n",
            "Iteración 195. Train Loss: 0.225. Train Acc: 92.000. Test Acc: 93.800\n",
            "Iteración 200. Train Loss: 0.089. Train Acc: 98.000. Test Acc: 94.000\n",
            "Iteración 205. Train Loss: 0.121. Train Acc: 96.000. Test Acc: 95.000\n",
            "Iteración 210. Train Loss: 0.138. Train Acc: 97.000. Test Acc: 94.200\n",
            "Iteración 215. Train Loss: 0.236. Train Acc: 93.000. Test Acc: 94.200\n",
            "Iteración 220. Train Loss: 0.181. Train Acc: 95.000. Test Acc: 93.800\n",
            "Iteración 225. Train Loss: 0.182. Train Acc: 95.000. Test Acc: 94.800\n",
            "Iteración 230. Train Loss: 0.263. Train Acc: 91.000. Test Acc: 94.000\n",
            "Iteración 235. Train Loss: 0.269. Train Acc: 92.000. Test Acc: 93.400\n",
            "Iteración 240. Train Loss: 0.134. Train Acc: 97.000. Test Acc: 94.000\n",
            "Iteración 245. Train Loss: 0.155. Train Acc: 96.000. Test Acc: 94.800\n",
            "Iteración 250. Train Loss: 0.144. Train Acc: 96.000. Test Acc: 93.600\n",
            "Iteración 255. Train Loss: 0.259. Train Acc: 94.000. Test Acc: 96.600\n",
            "Iteración 260. Train Loss: 0.131. Train Acc: 97.000. Test Acc: 95.200\n",
            "Iteración 265. Train Loss: 0.126. Train Acc: 97.000. Test Acc: 96.800\n",
            "Iteración 270. Train Loss: 0.214. Train Acc: 92.000. Test Acc: 95.800\n",
            "Iteración 275. Train Loss: 0.140. Train Acc: 97.000. Test Acc: 95.600\n",
            "Iteración 280. Train Loss: 0.109. Train Acc: 98.000. Test Acc: 94.600\n",
            "Iteración 285. Train Loss: 0.153. Train Acc: 95.000. Test Acc: 94.200\n",
            "Iteración 290. Train Loss: 0.148. Train Acc: 96.000. Test Acc: 93.800\n",
            "Iteración 295. Train Loss: 0.216. Train Acc: 94.000. Test Acc: 94.800\n",
            "Iteración 300. Train Loss: 0.153. Train Acc: 98.000. Test Acc: 92.600\n",
            "Iteración 305. Train Loss: 0.130. Train Acc: 97.000. Test Acc: 95.000\n",
            "Iteración 310. Train Loss: 0.244. Train Acc: 90.000. Test Acc: 93.600\n",
            "Iteración 315. Train Loss: 0.103. Train Acc: 98.000. Test Acc: 95.800\n",
            "Iteración 320. Train Loss: 0.107. Train Acc: 94.000. Test Acc: 95.600\n",
            "Iteración 325. Train Loss: 0.168. Train Acc: 94.000. Test Acc: 95.200\n",
            "Iteración 330. Train Loss: 0.171. Train Acc: 95.000. Test Acc: 95.200\n",
            "Iteración 335. Train Loss: 0.283. Train Acc: 96.000. Test Acc: 95.800\n",
            "Iteración 340. Train Loss: 0.075. Train Acc: 99.000. Test Acc: 95.200\n",
            "Iteración 345. Train Loss: 0.060. Train Acc: 98.000. Test Acc: 94.600\n",
            "Iteración 350. Train Loss: 0.119. Train Acc: 95.000. Test Acc: 95.400\n",
            "Iteración 355. Train Loss: 0.072. Train Acc: 98.000. Test Acc: 94.800\n",
            "Iteración 360. Train Loss: 0.219. Train Acc: 94.000. Test Acc: 95.200\n",
            "Iteración 365. Train Loss: 0.164. Train Acc: 95.000. Test Acc: 95.400\n",
            "Iteración 370. Train Loss: 0.218. Train Acc: 96.000. Test Acc: 96.200\n",
            "Iteración 375. Train Loss: 0.166. Train Acc: 94.000. Test Acc: 96.600\n",
            "Iteración 380. Train Loss: 0.068. Train Acc: 98.000. Test Acc: 96.600\n",
            "Iteración 385. Train Loss: 0.114. Train Acc: 97.000. Test Acc: 94.600\n",
            "Iteración 390. Train Loss: 0.129. Train Acc: 96.000. Test Acc: 96.400\n",
            "Iteración 395. Train Loss: 0.257. Train Acc: 91.000. Test Acc: 96.000\n",
            "Iteración 400. Train Loss: 0.128. Train Acc: 97.000. Test Acc: 95.400\n",
            "Iteración 405. Train Loss: 0.183. Train Acc: 95.000. Test Acc: 95.400\n",
            "Iteración 410. Train Loss: 0.143. Train Acc: 98.000. Test Acc: 95.000\n",
            "Iteración 415. Train Loss: 0.104. Train Acc: 98.000. Test Acc: 96.600\n",
            "Iteración 420. Train Loss: 0.123. Train Acc: 96.000. Test Acc: 96.200\n",
            "Iteración 425. Train Loss: 0.229. Train Acc: 94.000. Test Acc: 92.800\n",
            "Iteración 430. Train Loss: 0.111. Train Acc: 97.000. Test Acc: 95.600\n",
            "Iteración 435. Train Loss: 0.077. Train Acc: 97.000. Test Acc: 95.200\n",
            "Iteración 440. Train Loss: 0.054. Train Acc: 100.000. Test Acc: 96.000\n",
            "Iteración 445. Train Loss: 0.164. Train Acc: 95.000. Test Acc: 97.200\n",
            "Iteración 450. Train Loss: 0.254. Train Acc: 97.000. Test Acc: 97.400\n",
            "Iteración 455. Train Loss: 0.113. Train Acc: 95.000. Test Acc: 95.600\n",
            "Iteración 460. Train Loss: 0.084. Train Acc: 97.000. Test Acc: 97.200\n",
            "Iteración 465. Train Loss: 0.148. Train Acc: 96.000. Test Acc: 95.800\n",
            "Iteración 470. Train Loss: 0.110. Train Acc: 96.000. Test Acc: 97.600\n",
            "Iteración 475. Train Loss: 0.285. Train Acc: 95.000. Test Acc: 95.000\n",
            "Iteración 480. Train Loss: 0.121. Train Acc: 98.000. Test Acc: 96.600\n",
            "Iteración 485. Train Loss: 0.071. Train Acc: 98.000. Test Acc: 97.400\n",
            "Iteración 490. Train Loss: 0.057. Train Acc: 99.000. Test Acc: 94.600\n",
            "Iteración 495. Train Loss: 0.089. Train Acc: 97.000. Test Acc: 97.000\n",
            "Iteración 500. Train Loss: 0.257. Train Acc: 95.000. Test Acc: 96.400\n"
          ],
          "name": "stdout"
        }
      ]
    },
    {
      "cell_type": "markdown",
      "metadata": {
        "id": "HgFGn_r7P-eG",
        "colab_type": "text"
      },
      "source": [
        "## Evaluar la calidad de la red neuronal"
      ]
    },
    {
      "cell_type": "code",
      "metadata": {
        "id": "jfy2atXuP-eG",
        "colab_type": "code",
        "colab": {
          "base_uri": "https://localhost:8080/",
          "height": 295
        },
        "outputId": "e07e5f21-13f3-452a-e70b-1e4a3131b2e4"
      },
      "source": [
        "plt.plot(i_vals, train_loss, 'k-')\n",
        "plt.title(\"Softmax Loss para cada Iteración\")\n",
        "plt.xlabel(\"Iteración\")\n",
        "plt.ylabel(\"Pérdida Softmax\")\n",
        "plt.show()"
      ],
      "execution_count": 38,
      "outputs": [
        {
          "output_type": "display_data",
          "data": {
            "image/png": "[encoded data removed]",
            "text/plain": [
              "<Figure size 432x288 with 1 Axes>"
            ]
          },
          "metadata": {
            "tags": [],
            "needs_background": "light"
          }
        }
      ]
    },
    {
      "cell_type": "code",
      "metadata": {
        "id": "1JP5kawsP-eI",
        "colab_type": "code",
        "colab": {
          "base_uri": "https://localhost:8080/",
          "height": 295
        },
        "outputId": "71d56aa6-76e7-470e-8c65-ecd95b65a0da"
      },
      "source": [
        "plt.plot(i_vals, train_acc, 'r-', label=\"Precisión en entrenamiento\")\n",
        "plt.plot(i_vals, test_acc, 'b--', label=\"Precisión en testing\")\n",
        "plt.xlabel(\"Iteración\")\n",
        "plt.ylabel(\"Precisión\")\n",
        "plt.ylim([0,100])\n",
        "plt.title(\"Precisión en la predicción\")\n",
        "plt.legend(loc=\"lower right\")\n",
        "plt.show()"
      ],
      "execution_count": 39,
      "outputs": [
        {
          "output_type": "display_data",
          "data": {
            "image/png": "[encoded data removed]",
            "text/plain": [
              "<Figure size 432x288 with 1 Axes>"
            ]
          },
          "metadata": {
            "tags": [],
            "needs_background": "light"
          }
        }
      ]
    },
    {
      "cell_type": "code",
      "metadata": {
        "id": "hEneuvN6P-eK",
        "colab_type": "code",
        "colab": {
          "base_uri": "https://localhost:8080/",
          "height": 265
        },
        "outputId": "0b404003-4a9a-40f8-ddcb-f90adea8b31e"
      },
      "source": [
        "actuals = rand_y[0:6]\n",
        "predictions = np.argmax(temp_train_preds, axis=1)[0:6]\n",
        "images = np.squeeze(rand_x[0:6])\n",
        "nrows = 2\n",
        "ncols = 3\n",
        "for i in range(6):\n",
        "    plt.subplot(nrows, ncols, i+1)\n",
        "    plt.imshow(np.reshape(images[i], [28,28]), cmap=\"Greys_r\")\n",
        "    plt.title(\"Actual \"+str(actuals[i])+\" Predicción: \"+str(predictions[i]), fontsize = 10)\n",
        "    frame=plt.gca()\n",
        "    frame.axes.get_xaxis().set_visible(False)\n",
        "    frame.axes.get_yaxis().set_visible(False)"
      ],
      "execution_count": 40,
      "outputs": [
        {
          "output_type": "display_data",
          "data": {
            "image/png": "[encoded data removed]",
            "text/plain": [
              "<Figure size 432x288 with 6 Axes>"
            ]
          },
          "metadata": {
            "tags": [],
            "needs_background": "light"
          }
        }
      ]
    }
  ]
}