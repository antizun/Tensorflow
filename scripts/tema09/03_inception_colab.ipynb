{
  "nbformat": 4,
  "nbformat_minor": 0,
  "metadata": {
    "kernelspec": {
      "display_name": "Python 3",
      "language": "python",
      "name": "python3"
    },
    "language_info": {
      "codemirror_mode": {
        "name": "ipython",
        "version": 3
      },
      "file_extension": ".py",
      "mimetype": "text/x-python",
      "name": "python",
      "nbconvert_exporter": "python",
      "pygments_lexer": "ipython3",
      "version": "3.5.5"
    },
    "colab": {
      "name": "03-inception_colab.ipynb",
      "provenance": [],
      "collapsed_sections": [],
      "toc_visible": true
    },
    "accelerator": "GPU"
  },
  "cells": [
    {
      "cell_type": "markdown",
      "metadata": {
        "id": "W44ViU3rSCQF",
        "colab_type": "text"
      },
      "source": [
        "# Clonamos el repositorio para obtener los dataSet"
      ]
    },
    {
      "cell_type": "code",
      "metadata": {
        "id": "D5OGEd8iSCJF",
        "colab_type": "code",
        "colab": {
          "base_uri": "https://localhost:8080/",
          "height": 153
        },
        "outputId": "498eaf28-18e6-4011-b329-261db695bf8f"
      },
      "source": [
        "!git clone https://github.com/joanby/tensorflow.git"
      ],
      "execution_count": 1,
      "outputs": [
        {
          "output_type": "stream",
          "text": [
            "Cloning into 'tensorflow'...\n",
            "remote: Enumerating objects: 51, done.\u001b[K\n",
            "remote: Counting objects: 100% (51/51), done.\u001b[K\n",
            "remote: Compressing objects: 100% (28/28), done.\u001b[K\n",
            "remote: Total 60311 (delta 32), reused 37 (delta 23), pack-reused 60260\u001b[K\n",
            "Receiving objects: 100% (60311/60311), 442.46 MiB | 35.87 MiB/s, done.\n",
            "Resolving deltas: 100% (82/82), done.\n",
            "Checking out files: 100% (60225/60225), done.\n"
          ],
          "name": "stdout"
        }
      ]
    },
    {
      "cell_type": "markdown",
      "metadata": {
        "id": "ekNisuPNSCDV",
        "colab_type": "text"
      },
      "source": [
        "# Damos acceso a nuestro Drive"
      ]
    },
    {
      "cell_type": "code",
      "metadata": {
        "id": "wy5DsR4gSB8t",
        "colab_type": "code",
        "colab": {}
      },
      "source": [
        "from google.colab import drive\n",
        "drive.mount('/content/drive')"
      ],
      "execution_count": null,
      "outputs": []
    },
    {
      "cell_type": "markdown",
      "metadata": {
        "id": "HOSYEIkvSB2B",
        "colab_type": "text"
      },
      "source": [
        "# Test it"
      ]
    },
    {
      "cell_type": "code",
      "metadata": {
        "id": "oG4oBn8lSBvw",
        "colab_type": "code",
        "colab": {}
      },
      "source": [
        "!ls '/content/drive/My Drive' "
      ],
      "execution_count": null,
      "outputs": []
    },
    {
      "cell_type": "markdown",
      "metadata": {
        "id": "7jy7m_rxSBo8",
        "colab_type": "text"
      },
      "source": [
        "# Google colab tools"
      ]
    },
    {
      "cell_type": "code",
      "metadata": {
        "id": "n6qxkgUjSBiW",
        "colab_type": "code",
        "colab": {}
      },
      "source": [
        "from google.colab import files # Para manejar los archivos y, por ejemplo, exportar a su navegador\n",
        "import glob # Para manejar los archivos y, por ejemplo, exportar a su navegador\n",
        "from google.colab import drive # Montar tu Google drive"
      ],
      "execution_count": 2,
      "outputs": []
    },
    {
      "cell_type": "markdown",
      "metadata": {
        "id": "Ct6l1aFmSBbg",
        "colab_type": "text"
      },
      "source": [
        "##Especificando la versión de TensorFlow\n",
        "\n",
        "Ejecutando \"importar tensorflow\" importará la versión por defecto (actualmente 2.x). Puedes usar la 1.x ejecutando una celda con la \"versión mágica de tensorflow\" **antes de ejecutar \"importar tensorflow\".\n",
        "\n",
        "### Si no funciona hacer el pip install\n"
      ]
    },
    {
      "cell_type": "code",
      "metadata": {
        "id": "m-suVe9xSBUL",
        "colab_type": "code",
        "colab": {
          "base_uri": "https://localhost:8080/",
          "height": 34
        },
        "outputId": "e15fe75f-dd7c-4408-8ec5-707afedf61c4"
      },
      "source": [
        "#!pip install tensorflow==1.14\n",
        "%tensorflow_version 1.x"
      ],
      "execution_count": 3,
      "outputs": [
        {
          "output_type": "stream",
          "text": [
            "TensorFlow 1.x selected.\n"
          ],
          "name": "stdout"
        }
      ]
    },
    {
      "cell_type": "markdown",
      "metadata": {
        "id": "knF6FIZ0SBMA",
        "colab_type": "text"
      },
      "source": [
        "# Importar Tensorflow"
      ]
    },
    {
      "cell_type": "code",
      "metadata": {
        "id": "2uO6AuElSA_M",
        "colab_type": "code",
        "colab": {
          "base_uri": "https://localhost:8080/",
          "height": 34
        },
        "outputId": "12849f59-6833-424c-d8ca-a4508c358c08"
      },
      "source": [
        "import tensorflow as tf\n",
        "print(tf.__version__)\n",
        "import matplotlib.pyplot as plt"
      ],
      "execution_count": 4,
      "outputs": [
        {
          "output_type": "stream",
          "text": [
            "1.15.2\n"
          ],
          "name": "stdout"
        }
      ]
    },
    {
      "cell_type": "code",
      "metadata": {
        "id": "qRXeih0ASAz1",
        "colab_type": "code",
        "colab": {}
      },
      "source": [
        "session = tf.Session()"
      ],
      "execution_count": 5,
      "outputs": []
    },
    {
      "cell_type": "markdown",
      "metadata": {
        "id": "-5Tcy5-yR_a1",
        "colab_type": "text"
      },
      "source": [
        "# Cómo entrenar con una red ya entrenada"
      ]
    },
    {
      "cell_type": "code",
      "metadata": {
        "id": "nCNhmvfDR_a3",
        "colab_type": "code",
        "colab": {}
      },
      "source": [
        "import os\n",
        "import tarfile\n",
        "import _pickle as cPickle\n",
        "import numpy as np\n",
        "import urllib.request\n",
        "import scipy.misc\n",
        "from imageio import imwrite"
      ],
      "execution_count": 6,
      "outputs": []
    },
    {
      "cell_type": "code",
      "metadata": {
        "id": "jDYfXBPZR_a7",
        "colab_type": "code",
        "colab": {}
      },
      "source": [
        "cifar10_url = \"http://www.cs.toronto.edu/~kriz/cifar-10-binary.tar.gz\"\n",
        "data_dir = './datasets/cifar-10-temp'\n",
        "if not os.path.isdir(data_dir):\n",
        "    os.makedirs(data_dir)\n",
        "objects = [\"airplane\", \"automobile\", \"bird\", \"cat\", \"deer\", \"dog\", \"frog\", \"horse\", \"ship\", \"truck\"]\n",
        "objects_es = [\"avión\", \"coche\", \"pájaro\", \"gato\", \"ciervo\", \"perro\", \"rana\", \"caballo\", \"barco\", \"camión\"]"
      ],
      "execution_count": 7,
      "outputs": []
    },
    {
      "cell_type": "code",
      "metadata": {
        "id": "wCUU3u0oR_a-",
        "colab_type": "code",
        "colab": {
          "base_uri": "https://localhost:8080/",
          "height": 34
        },
        "outputId": "9fbe952e-2f51-4071-d2ae-0643a0fbac47"
      },
      "source": [
        "target_file = os.path.join(data_dir, 'cifar-10-python.tar.gz')\n",
        "if not os.path.isfile(target_file):\n",
        "    print(\"CIFAR 10 no descargado, vamos a bajarlo (Tamaño estimado =~ 170 Mb)\")\n",
        "    file, headers = urllib.request.urlretrieve(cifar10_url, target_file)"
      ],
      "execution_count": 8,
      "outputs": [
        {
          "output_type": "stream",
          "text": [
            "CIFAR 10 no descargado, vamos a bajarlo (Tamaño estimado =~ 170 Mb)\n"
          ],
          "name": "stdout"
        }
      ]
    },
    {
      "cell_type": "code",
      "metadata": {
        "id": "9WDxAIgXR_bB",
        "colab_type": "code",
        "colab": {}
      },
      "source": [
        "tar = tarfile.open(target_file)\n",
        "tar.extractall(path=data_dir)\n",
        "tar.close()"
      ],
      "execution_count": 9,
      "outputs": []
    },
    {
      "cell_type": "code",
      "metadata": {
        "id": "Hs66SguMR_bD",
        "colab_type": "code",
        "colab": {}
      },
      "source": [
        "train_folder = \"train_dir\"\n",
        "if not os.path.isdir(os.path.join(data_dir, train_folder)):\n",
        "    for i in range(10):\n",
        "        folder = os.path.join(data_dir, train_folder, objects[i])\n",
        "        os.makedirs(folder)"
      ],
      "execution_count": 10,
      "outputs": []
    },
    {
      "cell_type": "code",
      "metadata": {
        "id": "lCFdFuubR_bH",
        "colab_type": "code",
        "colab": {}
      },
      "source": [
        "test_folder = \"test_dir\"\n",
        "if not os.path.isdir(os.path.join(data_dir, test_folder)):\n",
        "    for i in range(10):\n",
        "        folder = os.path.join(data_dir, test_folder, objects[i])\n",
        "        os.makedirs(folder)"
      ],
      "execution_count": 11,
      "outputs": []
    },
    {
      "cell_type": "code",
      "metadata": {
        "id": "x0VR7WWsR_bJ",
        "colab_type": "code",
        "colab": {}
      },
      "source": [
        "def load_batch_from_file(file):\n",
        "    file_conn = open(file, 'rb')\n",
        "    image_dictionary = cPickle.load(file_conn, encoding='latin1')\n",
        "    file_conn.close()\n",
        "    return image_dictionary"
      ],
      "execution_count": 12,
      "outputs": []
    },
    {
      "cell_type": "code",
      "metadata": {
        "id": "QOz_qQVNR_bM",
        "colab_type": "code",
        "colab": {}
      },
      "source": [
        "def save_images_from_dict(image_dict, folder='data_dir'):\n",
        "    for ix, label in enumerate(image_dict['labels']):\n",
        "        folder_path = os.path.join(data_dir, folder, objects[label])\n",
        "        filename = image_dict['filenames'][ix]\n",
        "        image_array = image_dict['data'][ix]\n",
        "        image_array.resize([3,32,32])\n",
        "        ouput_loc = os.path.join(folder_path, filename)\n",
        "        imwrite(ouput_loc, image_array.transpose())"
      ],
      "execution_count": 13,
      "outputs": []
    },
    {
      "cell_type": "code",
      "metadata": {
        "id": "Ncj-079CR_bO",
        "colab_type": "code",
        "colab": {}
      },
      "source": [
        "data_location = os.path.join(\"/content/tensorflow/datasets/\", \"cifar-10-batches-py\")\n",
        "train_names = [\"data_batch_\"+str(x) for x in range(1,6)]\n",
        "test_names = [\"test_batch\"]"
      ],
      "execution_count": 19,
      "outputs": []
    },
    {
      "cell_type": "code",
      "metadata": {
        "id": "uvw5zXuAR_bQ",
        "colab_type": "code",
        "colab": {
          "base_uri": "https://localhost:8080/",
          "height": 102
        },
        "outputId": "4dd8da34-fe8d-4b37-f3da-b5a2a6ae2f5b"
      },
      "source": [
        "for file in train_names:\n",
        "    print(\"Guardando imágenes del fichero: {}\".format(file))\n",
        "    file_location = os.path.join(data_location, file)\n",
        "    image_dict = load_batch_from_file(file_location)\n",
        "    save_images_from_dict(image_dict, folder=train_folder)"
      ],
      "execution_count": 20,
      "outputs": [
        {
          "output_type": "stream",
          "text": [
            "Guardando imágenes del fichero: data_batch_1\n",
            "Guardando imágenes del fichero: data_batch_2\n",
            "Guardando imágenes del fichero: data_batch_3\n",
            "Guardando imágenes del fichero: data_batch_4\n",
            "Guardando imágenes del fichero: data_batch_5\n"
          ],
          "name": "stdout"
        }
      ]
    },
    {
      "cell_type": "code",
      "metadata": {
        "id": "tLuI7H3kR_bT",
        "colab_type": "code",
        "colab": {
          "base_uri": "https://localhost:8080/",
          "height": 34
        },
        "outputId": "a4a6ece8-e578-40ff-d5d4-6e522a069f36"
      },
      "source": [
        "for file in test_names:\n",
        "    print(\"Guardando imágenes del fichero: {}\".format(file))\n",
        "    file_location = os.path.join(data_location, file)\n",
        "    image_dict = load_batch_from_file(file_location)\n",
        "    save_images_from_dict(image_dict, folder=test_folder)"
      ],
      "execution_count": 21,
      "outputs": [
        {
          "output_type": "stream",
          "text": [
            "Guardando imágenes del fichero: test_batch\n"
          ],
          "name": "stdout"
        }
      ]
    },
    {
      "cell_type": "code",
      "metadata": {
        "id": "J8anGIayR_bV",
        "colab_type": "code",
        "colab": {
          "base_uri": "https://localhost:8080/",
          "height": 34
        },
        "outputId": "678cbc11-fd3b-4efb-d362-9af60ff5fb00"
      },
      "source": [
        "cifar_labels_file = os.path.join(data_dir, 'cifar10_labels.txt')\n",
        "print(\"Guardando las etiquetas en el fichero: {}\".format(cifar_labels_file))\n",
        "with open(cifar_labels_file, 'w') as labels_file:\n",
        "    for item in objects:\n",
        "        labels_file.write(\"{}\\n\".format(item))"
      ],
      "execution_count": 22,
      "outputs": [
        {
          "output_type": "stream",
          "text": [
            "Guardando las etiquetas en el fichero: ./datasets/cifar-10-temp/cifar10_labels.txt\n"
          ],
          "name": "stdout"
        }
      ]
    },
    {
      "cell_type": "markdown",
      "metadata": {
        "id": "drrTDgKUUGpp",
        "colab_type": "text"
      },
      "source": [
        "[Image classification with pre-trained CNN InceptionV3](http://machinememos.com/python/artificial%20intelligence/machine%20learning/cifar10/neural%20networks/convolutional%20neural%20network/googlelenet/inception/tensorflow/dropout/image%20classification/2017/05/04/cnn-image-classification-cifar-10-inceptionV3.html)"
      ]
    }
  ]
}