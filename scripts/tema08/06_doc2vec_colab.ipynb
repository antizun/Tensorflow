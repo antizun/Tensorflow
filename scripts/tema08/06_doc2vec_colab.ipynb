{
  "nbformat": 4,
  "nbformat_minor": 0,
  "metadata": {
    "kernelspec": {
      "display_name": "Python 3",
      "language": "python",
      "name": "python3"
    },
    "language_info": {
      "codemirror_mode": {
        "name": "ipython",
        "version": 3
      },
      "file_extension": ".py",
      "mimetype": "text/x-python",
      "name": "python",
      "nbconvert_exporter": "python",
      "pygments_lexer": "ipython3",
      "version": "3.5.5"
    },
    "colab": {
      "name": "06-doc2vec_colab.ipynb",
      "provenance": [],
      "toc_visible": true
    },
    "accelerator": "TPU"
  },
  "cells": [
    {
      "cell_type": "markdown",
      "metadata": {
        "id": "sDGgUVHHOC6R",
        "colab_type": "text"
      },
      "source": [
        "# Clonamos el repositorio para obtener los dataSet"
      ]
    },
    {
      "cell_type": "code",
      "metadata": {
        "id": "m5FMFuD5OCxH",
        "colab_type": "code",
        "colab": {
          "base_uri": "https://localhost:8080/",
          "height": 153
        },
        "outputId": "d554639a-a8ea-481b-8fe6-e3402b07ebee"
      },
      "source": [
        "!git clone https://github.com/joanby/tensorflow.git"
      ],
      "execution_count": 1,
      "outputs": [
        {
          "output_type": "stream",
          "text": [
            "Cloning into 'tensorflow'...\n",
            "remote: Enumerating objects: 51, done.\u001b[K\n",
            "remote: Counting objects: 100% (51/51), done.\u001b[K\n",
            "remote: Compressing objects: 100% (28/28), done.\u001b[K\n",
            "remote: Total 60311 (delta 32), reused 37 (delta 23), pack-reused 60260\u001b[K\n",
            "Receiving objects: 100% (60311/60311), 442.46 MiB | 32.62 MiB/s, done.\n",
            "Resolving deltas: 100% (82/82), done.\n",
            "Checking out files: 100% (60225/60225), done.\n"
          ],
          "name": "stdout"
        }
      ]
    },
    {
      "cell_type": "markdown",
      "metadata": {
        "id": "yvnvUOfiOCKk",
        "colab_type": "text"
      },
      "source": [
        "# Damos acceso a nuestro Drive"
      ]
    },
    {
      "cell_type": "code",
      "metadata": {
        "id": "Hr4iIdtpOCCl",
        "colab_type": "code",
        "colab": {}
      },
      "source": [
        "from google.colab import drive\n",
        "drive.mount('/content/drive')"
      ],
      "execution_count": null,
      "outputs": []
    },
    {
      "cell_type": "markdown",
      "metadata": {
        "id": "sp_8VAVvOBvY",
        "colab_type": "text"
      },
      "source": [
        "# Test it"
      ]
    },
    {
      "cell_type": "code",
      "metadata": {
        "id": "sj99XWmqOBhQ",
        "colab_type": "code",
        "colab": {}
      },
      "source": [
        "!ls '/content/drive/My Drive' "
      ],
      "execution_count": null,
      "outputs": []
    },
    {
      "cell_type": "markdown",
      "metadata": {
        "id": "2JppX1ujOBUc",
        "colab_type": "text"
      },
      "source": [
        "# Google colab tools"
      ]
    },
    {
      "cell_type": "code",
      "metadata": {
        "id": "AM1pIfMSOBHN",
        "colab_type": "code",
        "colab": {}
      },
      "source": [
        "from google.colab import files # Para manejar los archivos y, por ejemplo, exportar a su navegador\n",
        "import glob # Para manejar los archivos y, por ejemplo, exportar a su navegador\n",
        "from google.colab import drive # Montar tu Google drive"
      ],
      "execution_count": 3,
      "outputs": []
    },
    {
      "cell_type": "markdown",
      "metadata": {
        "id": "MbBGKsmlOA4B",
        "colab_type": "text"
      },
      "source": [
        "##Especificando la versión de TensorFlow\n",
        "\n",
        "Ejecutando \"importar tensorflow\" importará la versión por defecto (actualmente 2.x). Puedes usar la 1.x ejecutando una celda con la \"versión mágica de tensorflow\" **antes de ejecutar \"importar tensorflow\".\n",
        "\n",
        "### Si no funciona hacer el pip install\n"
      ]
    },
    {
      "cell_type": "code",
      "metadata": {
        "id": "Aq9HUTVRN_14",
        "colab_type": "code",
        "colab": {
          "base_uri": "https://localhost:8080/",
          "height": 34
        },
        "outputId": "91ffe34c-a24c-449b-8ee4-9fa9aa1bdbe6"
      },
      "source": [
        "#!pip install tensorflow==1.14\n",
        "%tensorflow_version 1.x"
      ],
      "execution_count": 4,
      "outputs": [
        {
          "output_type": "stream",
          "text": [
            "TensorFlow 1.x selected.\n"
          ],
          "name": "stdout"
        }
      ]
    },
    {
      "cell_type": "markdown",
      "metadata": {
        "id": "fjTcatzVOkbi",
        "colab_type": "text"
      },
      "source": [
        "# Importar Tensorflow"
      ]
    },
    {
      "cell_type": "code",
      "metadata": {
        "id": "ZACRaFejOk2Z",
        "colab_type": "code",
        "colab": {
          "base_uri": "https://localhost:8080/",
          "height": 34
        },
        "outputId": "fc975ada-7c8b-498c-8ece-434b81c2ee30"
      },
      "source": [
        "import tensorflow as tf\n",
        "print(tf.__version__)\n",
        "import matplotlib.pyplot as plt"
      ],
      "execution_count": 5,
      "outputs": [
        {
          "output_type": "stream",
          "text": [
            "1.15.2\n"
          ],
          "name": "stdout"
        }
      ]
    },
    {
      "cell_type": "code",
      "metadata": {
        "id": "zFWJFnfkOpEb",
        "colab_type": "code",
        "colab": {}
      },
      "source": [
        "session = tf.Session()"
      ],
      "execution_count": 6,
      "outputs": []
    },
    {
      "cell_type": "markdown",
      "metadata": {
        "id": "wM4MCHedN-1o",
        "colab_type": "text"
      },
      "source": [
        "# Doc2Vec"
      ]
    },
    {
      "cell_type": "code",
      "metadata": {
        "id": "mI7K2QSaN-1p",
        "colab_type": "code",
        "colab": {
          "base_uri": "https://localhost:8080/",
          "height": 68
        },
        "outputId": "d84d781e-17ba-428b-aa6b-d3e2505bde6b"
      },
      "source": [
        "import sys\n",
        "sys.path.append('/content/tensorflow/scripts/tema08/')\n",
        "\n",
        "import tensorflow as tf\n",
        "import matplotlib.pyplot as plt\n",
        "import numpy as np\n",
        "import string\n",
        "import nlp_helpers\n",
        "import pickle\n",
        "import os\n",
        "import nltk\n",
        "from nltk.corpus import stopwords\n",
        "nltk.download('stopwords')"
      ],
      "execution_count": 9,
      "outputs": [
        {
          "output_type": "stream",
          "text": [
            "[nltk_data] Downloading package stopwords to /root/nltk_data...\n",
            "[nltk_data]   Unzipping corpora/stopwords.zip.\n"
          ],
          "name": "stdout"
        },
        {
          "output_type": "execute_result",
          "data": {
            "text/plain": [
              "True"
            ]
          },
          "metadata": {
            "tags": []
          },
          "execution_count": 9
        }
      ]
    },
    {
      "cell_type": "code",
      "metadata": {
        "id": "n1Re2u73N-1s",
        "colab_type": "code",
        "colab": {}
      },
      "source": [
        "session = tf.Session()"
      ],
      "execution_count": 10,
      "outputs": []
    },
    {
      "cell_type": "code",
      "metadata": {
        "id": "e6P04oGvN-1u",
        "colab_type": "code",
        "colab": {}
      },
      "source": [
        "texts, target = nlp_helpers.load_movies_data()"
      ],
      "execution_count": 11,
      "outputs": []
    },
    {
      "cell_type": "code",
      "metadata": {
        "id": "pI7d62x4N-1w",
        "colab_type": "code",
        "colab": {}
      },
      "source": [
        "batch_size = 500\n",
        "vocabulary_size = 7500\n",
        "generations = 20000\n",
        "model_learning_rate = 0.001\n",
        "embedding_size = 200\n",
        "doc_embedding_size = 100\n",
        "concatenated_size = embedding_size + doc_embedding_size\n",
        "num_sampled = int(batch_size/2)\n",
        "window_size = 3\n",
        "\n",
        "save_embedding_every = 1000\n",
        "print_valid_every = 2000\n",
        "print_loss_every = 500\n",
        "\n",
        "stops = stopwords.words('english')\n",
        "valid_words = ['love', 'hate', 'happy', 'sad', 'man', 'woman', 'movie']"
      ],
      "execution_count": 12,
      "outputs": []
    },
    {
      "cell_type": "code",
      "metadata": {
        "id": "PZka-IZUN-11",
        "colab_type": "code",
        "colab": {}
      },
      "source": [
        "texts = nlp_helpers.normalize_text(texts, stops)\n",
        "target = [target[ix] for ix, x in enumerate(texts) if len(x.split())>window_size]\n",
        "texts = [x for x in texts if len(x.split())>window_size]\n",
        "assert(len(target)==len(texts))"
      ],
      "execution_count": 13,
      "outputs": []
    },
    {
      "cell_type": "code",
      "metadata": {
        "id": "cfjUsEYnN-13",
        "colab_type": "code",
        "colab": {
          "base_uri": "https://localhost:8080/",
          "height": 34
        },
        "outputId": "cf8ad61a-3690-410d-a2a3-e3a88759db1d"
      },
      "source": [
        "word_dictionary = nlp_helpers.build_dictionary(texts, vocabulary_size)\n",
        "word_dictionary_rev = dict(zip(word_dictionary.values(), word_dictionary.keys()))\n",
        "text_data = nlp_helpers.text_to_numbers(texts, word_dictionary)\n",
        "valid_examples = [word_dictionary[x] for x in valid_words]\n",
        "valid_examples"
      ],
      "execution_count": 14,
      "outputs": [
        {
          "output_type": "execute_result",
          "data": {
            "text/plain": [
              "[28, 980, 791, 354, 131, 565, 2]"
            ]
          },
          "metadata": {
            "tags": []
          },
          "execution_count": 14
        }
      ]
    },
    {
      "cell_type": "code",
      "metadata": {
        "id": "Ur9c_rbeN-15",
        "colab_type": "code",
        "colab": {}
      },
      "source": [
        "embeddings = tf.Variable(tf.random_uniform([vocabulary_size, embedding_size], -1.0, 1.0))\n",
        "doc_embeddings = tf.Variable(tf.random_uniform([len(texts), doc_embedding_size], -1.0,1.0))\n",
        "nce_weights = tf.Variable(tf.truncated_normal([vocabulary_size, concatenated_size],\n",
        "                                             stddev=1.0/np.sqrt(concatenated_size)))\n",
        "nce_biases = tf.Variable(tf.zeros([vocabulary_size]))"
      ],
      "execution_count": 15,
      "outputs": []
    },
    {
      "cell_type": "code",
      "metadata": {
        "id": "ia6AS6iNN-18",
        "colab_type": "code",
        "colab": {}
      },
      "source": [
        "x_inputs = tf.placeholder(tf.int32, shape=[None, window_size+1])\n",
        "y_target = tf.placeholder(tf.int32, shape = [None, 1])\n",
        "valid_dataset = tf.constant(valid_examples, dtype=tf.int32)"
      ],
      "execution_count": 16,
      "outputs": []
    },
    {
      "cell_type": "code",
      "metadata": {
        "id": "wP1cqvhXN-1-",
        "colab_type": "code",
        "colab": {}
      },
      "source": [
        "embed = tf.zeros([batch_size, embedding_size])\n",
        "for element in range(window_size):\n",
        "    embed += tf.nn.embedding_lookup(embeddings, x_inputs[:, element])\n",
        "doc_idx = tf.slice(x_inputs, [0, window_size], [batch_size,1])\n",
        "doc_embed = tf.nn.embedding_lookup(doc_embeddings, doc_idx)\n",
        "final_embed = tf.concat([embed, tf.squeeze(doc_embed)], axis=1)"
      ],
      "execution_count": 17,
      "outputs": []
    },
    {
      "cell_type": "code",
      "metadata": {
        "id": "TyPUUhTvN-2A",
        "colab_type": "code",
        "colab": {
          "base_uri": "https://localhost:8080/",
          "height": 88
        },
        "outputId": "0f26f8b3-5cc4-473c-ae5b-2205b346ab74"
      },
      "source": [
        "loss = tf.reduce_mean(tf.nn.nce_loss(weights=nce_weights, biases=nce_biases,\n",
        "                                    labels = y_target, inputs = final_embed,\n",
        "                                    num_sampled=num_sampled, num_classes = vocabulary_size))"
      ],
      "execution_count": 18,
      "outputs": [
        {
          "output_type": "stream",
          "text": [
            "WARNING:tensorflow:From /tensorflow-1.15.2/python3.6/tensorflow_core/python/ops/nn_impl.py:183: where (from tensorflow.python.ops.array_ops) is deprecated and will be removed in a future version.\n",
            "Instructions for updating:\n",
            "Use tf.where in 2.0, which has the same broadcast rule as np.where\n"
          ],
          "name": "stdout"
        }
      ]
    },
    {
      "cell_type": "code",
      "metadata": {
        "id": "fdin0Vj_N-2C",
        "colab_type": "code",
        "colab": {}
      },
      "source": [
        "optim = tf.train.GradientDescentOptimizer(learning_rate=model_learning_rate)\n",
        "train_step = optim.minimize(loss)"
      ],
      "execution_count": 19,
      "outputs": []
    },
    {
      "cell_type": "code",
      "metadata": {
        "id": "OYdNwU0PN-2E",
        "colab_type": "code",
        "colab": {}
      },
      "source": [
        "norm = tf.sqrt(tf.reduce_sum(tf.square(embeddings),1, keepdims=True))\n",
        "normalized_embeddings = embeddings/norm\n",
        "valid_embeddings = tf.nn.embedding_lookup(normalized_embeddings, valid_dataset)\n",
        "similarity = tf.matmul(valid_embeddings, normalized_embeddings, transpose_b=True)"
      ],
      "execution_count": 20,
      "outputs": []
    },
    {
      "cell_type": "code",
      "metadata": {
        "id": "nIGlppfUN-2G",
        "colab_type": "code",
        "colab": {}
      },
      "source": [
        "saver = tf.train.Saver({\"embeddings\":embeddings, \"doc_embeddings\":doc_embeddings})\n",
        "init = tf.global_variables_initializer()\n",
        "session.run(init)"
      ],
      "execution_count": 21,
      "outputs": []
    },
    {
      "cell_type": "code",
      "metadata": {
        "id": "U9-Fw46MN-2I",
        "colab_type": "code",
        "colab": {
          "base_uri": "https://localhost:8080/",
          "height": 1000
        },
        "outputId": "61e3db5c-c420-4841-c5d4-272122a4e318"
      },
      "source": [
        "loss_vect = []\n",
        "loss_x_vect = []\n",
        "for i in range(generations):\n",
        "    batch_inputs, batch_labels = nlp_helpers.generate_batch_data(text_data, batch_size, window_size, 'doc2vec')\n",
        "    feed_dict = {x_inputs: batch_inputs, y_target: batch_labels}\n",
        "    session.run(train_step, feed_dict=feed_dict)\n",
        "    \n",
        "    if(i+1) % print_loss_every == 0:\n",
        "        loss_val = session.run(loss, feed_dict=feed_dict)\n",
        "        loss_vect.append(loss_val)\n",
        "        loss_x_vect.append(i+1)\n",
        "        print(\"Pérdidas en el paso {}: {}\".format(i+1, loss_val))\n",
        "        \n",
        "    if(i+1) % print_valid_every == 0:\n",
        "        sim = session.run(similarity, feed_dict=feed_dict)\n",
        "        for j in range(len(valid_words)):\n",
        "            valid_word = word_dictionary_rev[valid_examples[j]]\n",
        "            top_k = 5\n",
        "            nearest = (-sim[j,:]).argsort()[1:top_k+1]\n",
        "            log_str = \"Palabras más cercanas a {}: \".format(valid_word)\n",
        "            for k in range(top_k):\n",
        "                close_word = word_dictionary_rev[nearest[k]]\n",
        "                log_str = '{}\\n -{}'.format(log_str, close_word)\n",
        "            print(log_str)\n",
        "    if (i+1) % save_embedding_every == 0:\n",
        "        with open(os.path.join(\"../../datasets\", 'doc2vec_movie_vocab.pkl'), 'wb') as f:\n",
        "            pickle.dump(word_dictionary, f)\n",
        "        model_checkpoint_path = os.path.join(\"../datasets\", 'doc2vec_movie_embeddings.ckpt')\n",
        "        save_path = saver.save(session, model_checkpoint_path)\n",
        "        print(\"Modelo guardado en: {}\".format(save_path))"
      ],
      "execution_count": 23,
      "outputs": [
        {
          "output_type": "stream",
          "text": [
            "Pérdidas en el paso 500: 3.2302613258361816\n",
            "Pérdidas en el paso 1000: 3.924816131591797\n",
            "Modelo guardado en: ../datasets/doc2vec_movie_embeddings.ckpt\n",
            "Pérdidas en el paso 1500: 4.3979105949401855\n",
            "Pérdidas en el paso 2000: 2.879021167755127\n",
            "Palabras más cercanas a love: \n",
            " -pg\n",
            " -particular\n",
            " -economic\n",
            " -refuse\n",
            " -intricate\n",
            "Palabras más cercanas a hate: \n",
            " -dreamlike\n",
            " -find\n",
            " -inoffensive\n",
            " -assembles\n",
            " -bare\n",
            "Palabras más cercanas a happy: \n",
            " -subculture\n",
            " -malcolm\n",
            " -family\n",
            " -folk\n",
            " -blend\n",
            "Palabras más cercanas a sad: \n",
            " -anarchists\n",
            " -brain\n",
            " -vincents\n",
            " -collectively\n",
            " -struggle\n",
            "Palabras más cercanas a man: \n",
            " -carries\n",
            " -editing\n",
            " -intellectual\n",
            " -restrained\n",
            " -festival\n",
            "Palabras más cercanas a woman: \n",
            " -slow\n",
            " -chills\n",
            " -bucks\n",
            " -outtakes\n",
            " -tugofwar\n",
            "Palabras más cercanas a movie: \n",
            " -majority\n",
            " -rooted\n",
            " -angry\n",
            " -efficient\n",
            " -davies\n",
            "Modelo guardado en: ../datasets/doc2vec_movie_embeddings.ckpt\n",
            "Pérdidas en el paso 2500: 4.6383185386657715\n",
            "Pérdidas en el paso 3000: 2.74904203414917\n",
            "Modelo guardado en: ../datasets/doc2vec_movie_embeddings.ckpt\n",
            "Pérdidas en el paso 3500: 3.3016021251678467\n",
            "Pérdidas en el paso 4000: 2.304527759552002\n",
            "Palabras más cercanas a love: \n",
            " -pg\n",
            " -particular\n",
            " -economic\n",
            " -refuse\n",
            " -intricate\n",
            "Palabras más cercanas a hate: \n",
            " -dreamlike\n",
            " -find\n",
            " -inoffensive\n",
            " -assembles\n",
            " -bare\n",
            "Palabras más cercanas a happy: \n",
            " -subculture\n",
            " -malcolm\n",
            " -family\n",
            " -folk\n",
            " -blend\n",
            "Palabras más cercanas a sad: \n",
            " -anarchists\n",
            " -brain\n",
            " -vincents\n",
            " -collectively\n",
            " -struggle\n",
            "Palabras más cercanas a man: \n",
            " -carries\n",
            " -editing\n",
            " -intellectual\n",
            " -restrained\n",
            " -festival\n",
            "Palabras más cercanas a woman: \n",
            " -slow\n",
            " -chills\n",
            " -bucks\n",
            " -outtakes\n",
            " -tugofwar\n",
            "Palabras más cercanas a movie: \n",
            " -majority\n",
            " -rooted\n",
            " -angry\n",
            " -efficient\n",
            " -davies\n",
            "Modelo guardado en: ../datasets/doc2vec_movie_embeddings.ckpt\n",
            "Pérdidas en el paso 4500: 2.518195390701294\n",
            "Pérdidas en el paso 5000: 2.9903852939605713\n",
            "Modelo guardado en: ../datasets/doc2vec_movie_embeddings.ckpt\n",
            "Pérdidas en el paso 5500: 3.03134822845459\n",
            "Pérdidas en el paso 6000: 2.6583526134490967\n",
            "Palabras más cercanas a love: \n",
            " -pg\n",
            " -particular\n",
            " -economic\n",
            " -refuse\n",
            " -intricate\n",
            "Palabras más cercanas a hate: \n",
            " -dreamlike\n",
            " -find\n",
            " -inoffensive\n",
            " -assembles\n",
            " -bare\n",
            "Palabras más cercanas a happy: \n",
            " -subculture\n",
            " -malcolm\n",
            " -family\n",
            " -folk\n",
            " -blend\n",
            "Palabras más cercanas a sad: \n",
            " -anarchists\n",
            " -brain\n",
            " -vincents\n",
            " -collectively\n",
            " -struggle\n",
            "Palabras más cercanas a man: \n",
            " -carries\n",
            " -editing\n",
            " -intellectual\n",
            " -restrained\n",
            " -festival\n",
            "Palabras más cercanas a woman: \n",
            " -slow\n",
            " -chills\n",
            " -bucks\n",
            " -outtakes\n",
            " -tugofwar\n",
            "Palabras más cercanas a movie: \n",
            " -majority\n",
            " -rooted\n",
            " -angry\n",
            " -efficient\n",
            " -davies\n",
            "Modelo guardado en: ../datasets/doc2vec_movie_embeddings.ckpt\n",
            "Pérdidas en el paso 6500: 2.264362096786499\n",
            "Pérdidas en el paso 7000: 2.4140868186950684\n",
            "Modelo guardado en: ../datasets/doc2vec_movie_embeddings.ckpt\n",
            "Pérdidas en el paso 7500: 1.7846397161483765\n",
            "Pérdidas en el paso 8000: 2.1201744079589844\n",
            "Palabras más cercanas a love: \n",
            " -pg\n",
            " -particular\n",
            " -economic\n",
            " -refuse\n",
            " -intricate\n",
            "Palabras más cercanas a hate: \n",
            " -dreamlike\n",
            " -find\n",
            " -inoffensive\n",
            " -assembles\n",
            " -bare\n",
            "Palabras más cercanas a happy: \n",
            " -subculture\n",
            " -malcolm\n",
            " -family\n",
            " -folk\n",
            " -blend\n",
            "Palabras más cercanas a sad: \n",
            " -anarchists\n",
            " -brain\n",
            " -vincents\n",
            " -collectively\n",
            " -struggle\n",
            "Palabras más cercanas a man: \n",
            " -carries\n",
            " -editing\n",
            " -intellectual\n",
            " -restrained\n",
            " -festival\n",
            "Palabras más cercanas a woman: \n",
            " -slow\n",
            " -chills\n",
            " -bucks\n",
            " -outtakes\n",
            " -tugofwar\n",
            "Palabras más cercanas a movie: \n",
            " -majority\n",
            " -rooted\n",
            " -angry\n",
            " -efficient\n",
            " -davies\n",
            "Modelo guardado en: ../datasets/doc2vec_movie_embeddings.ckpt\n",
            "Pérdidas en el paso 8500: 1.597375750541687\n",
            "Pérdidas en el paso 9000: 1.9209535121917725\n",
            "Modelo guardado en: ../datasets/doc2vec_movie_embeddings.ckpt\n",
            "Pérdidas en el paso 9500: 2.0898244380950928\n",
            "Pérdidas en el paso 10000: 1.852052092552185\n",
            "Palabras más cercanas a love: \n",
            " -pg\n",
            " -particular\n",
            " -economic\n",
            " -refuse\n",
            " -intricate\n",
            "Palabras más cercanas a hate: \n",
            " -dreamlike\n",
            " -find\n",
            " -inoffensive\n",
            " -assembles\n",
            " -bare\n",
            "Palabras más cercanas a happy: \n",
            " -subculture\n",
            " -malcolm\n",
            " -family\n",
            " -folk\n",
            " -blend\n",
            "Palabras más cercanas a sad: \n",
            " -anarchists\n",
            " -brain\n",
            " -vincents\n",
            " -collectively\n",
            " -struggle\n",
            "Palabras más cercanas a man: \n",
            " -carries\n",
            " -editing\n",
            " -intellectual\n",
            " -restrained\n",
            " -festival\n",
            "Palabras más cercanas a woman: \n",
            " -slow\n",
            " -chills\n",
            " -bucks\n",
            " -outtakes\n",
            " -tugofwar\n",
            "Palabras más cercanas a movie: \n",
            " -majority\n",
            " -rooted\n",
            " -angry\n",
            " -efficient\n",
            " -davies\n",
            "Modelo guardado en: ../datasets/doc2vec_movie_embeddings.ckpt\n",
            "Pérdidas en el paso 10500: 2.0891847610473633\n",
            "Pérdidas en el paso 11000: 2.3295388221740723\n",
            "Modelo guardado en: ../datasets/doc2vec_movie_embeddings.ckpt\n",
            "Pérdidas en el paso 11500: 1.9366862773895264\n",
            "Pérdidas en el paso 12000: 1.6173149347305298\n",
            "Palabras más cercanas a love: \n",
            " -pg\n",
            " -particular\n",
            " -economic\n",
            " -refuse\n",
            " -intricate\n",
            "Palabras más cercanas a hate: \n",
            " -dreamlike\n",
            " -find\n",
            " -inoffensive\n",
            " -assembles\n",
            " -bare\n",
            "Palabras más cercanas a happy: \n",
            " -subculture\n",
            " -malcolm\n",
            " -family\n",
            " -folk\n",
            " -blend\n",
            "Palabras más cercanas a sad: \n",
            " -anarchists\n",
            " -brain\n",
            " -vincents\n",
            " -collectively\n",
            " -struggle\n",
            "Palabras más cercanas a man: \n",
            " -carries\n",
            " -editing\n",
            " -intellectual\n",
            " -restrained\n",
            " -festival\n",
            "Palabras más cercanas a woman: \n",
            " -slow\n",
            " -chills\n",
            " -bucks\n",
            " -outtakes\n",
            " -tugofwar\n",
            "Palabras más cercanas a movie: \n",
            " -majority\n",
            " -rooted\n",
            " -angry\n",
            " -efficient\n",
            " -davies\n",
            "Modelo guardado en: ../datasets/doc2vec_movie_embeddings.ckpt\n",
            "Pérdidas en el paso 12500: 1.9275622367858887\n",
            "Pérdidas en el paso 13000: 3.0607714653015137\n",
            "Modelo guardado en: ../datasets/doc2vec_movie_embeddings.ckpt\n",
            "Pérdidas en el paso 13500: 3.8111605644226074\n",
            "Pérdidas en el paso 14000: 4.109227657318115\n",
            "Palabras más cercanas a love: \n",
            " -pg\n",
            " -particular\n",
            " -economic\n",
            " -refuse\n",
            " -intricate\n",
            "Palabras más cercanas a hate: \n",
            " -dreamlike\n",
            " -find\n",
            " -inoffensive\n",
            " -assembles\n",
            " -bare\n",
            "Palabras más cercanas a happy: \n",
            " -subculture\n",
            " -malcolm\n",
            " -family\n",
            " -folk\n",
            " -blend\n",
            "Palabras más cercanas a sad: \n",
            " -anarchists\n",
            " -brain\n",
            " -vincents\n",
            " -collectively\n",
            " -struggle\n",
            "Palabras más cercanas a man: \n",
            " -carries\n",
            " -editing\n",
            " -intellectual\n",
            " -restrained\n",
            " -festival\n",
            "Palabras más cercanas a woman: \n",
            " -slow\n",
            " -chills\n",
            " -bucks\n",
            " -outtakes\n",
            " -tugofwar\n",
            "Palabras más cercanas a movie: \n",
            " -majority\n",
            " -rooted\n",
            " -angry\n",
            " -efficient\n",
            " -davies\n",
            "Modelo guardado en: ../datasets/doc2vec_movie_embeddings.ckpt\n",
            "Pérdidas en el paso 14500: 1.5967111587524414\n",
            "Pérdidas en el paso 15000: 1.4206997156143188\n",
            "Modelo guardado en: ../datasets/doc2vec_movie_embeddings.ckpt\n",
            "Pérdidas en el paso 15500: 2.3312220573425293\n",
            "Pérdidas en el paso 16000: 2.13448429107666\n",
            "Palabras más cercanas a love: \n",
            " -pg\n",
            " -particular\n",
            " -economic\n",
            " -refuse\n",
            " -intricate\n",
            "Palabras más cercanas a hate: \n",
            " -dreamlike\n",
            " -find\n",
            " -inoffensive\n",
            " -assembles\n",
            " -bare\n",
            "Palabras más cercanas a happy: \n",
            " -subculture\n",
            " -malcolm\n",
            " -family\n",
            " -folk\n",
            " -blend\n",
            "Palabras más cercanas a sad: \n",
            " -anarchists\n",
            " -brain\n",
            " -vincents\n",
            " -collectively\n",
            " -struggle\n",
            "Palabras más cercanas a man: \n",
            " -carries\n",
            " -editing\n",
            " -intellectual\n",
            " -restrained\n",
            " -festival\n",
            "Palabras más cercanas a woman: \n",
            " -slow\n",
            " -chills\n",
            " -bucks\n",
            " -outtakes\n",
            " -tugofwar\n",
            "Palabras más cercanas a movie: \n",
            " -majority\n",
            " -rooted\n",
            " -angry\n",
            " -efficient\n",
            " -davies\n",
            "Modelo guardado en: ../datasets/doc2vec_movie_embeddings.ckpt\n",
            "Pérdidas en el paso 16500: 1.7477078437805176\n",
            "Pérdidas en el paso 17000: 5.070133686065674\n",
            "Modelo guardado en: ../datasets/doc2vec_movie_embeddings.ckpt\n",
            "Pérdidas en el paso 17500: 4.0589165687561035\n",
            "Pérdidas en el paso 18000: 1.7745801210403442\n",
            "Palabras más cercanas a love: \n",
            " -pg\n",
            " -particular\n",
            " -economic\n",
            " -refuse\n",
            " -intricate\n",
            "Palabras más cercanas a hate: \n",
            " -dreamlike\n",
            " -find\n",
            " -inoffensive\n",
            " -assembles\n",
            " -bare\n",
            "Palabras más cercanas a happy: \n",
            " -subculture\n",
            " -malcolm\n",
            " -family\n",
            " -folk\n",
            " -blend\n",
            "Palabras más cercanas a sad: \n",
            " -anarchists\n",
            " -brain\n",
            " -vincents\n",
            " -collectively\n",
            " -struggle\n",
            "Palabras más cercanas a man: \n",
            " -carries\n",
            " -editing\n",
            " -intellectual\n",
            " -restrained\n",
            " -festival\n",
            "Palabras más cercanas a woman: \n",
            " -slow\n",
            " -chills\n",
            " -bucks\n",
            " -outtakes\n",
            " -tugofwar\n",
            "Palabras más cercanas a movie: \n",
            " -majority\n",
            " -rooted\n",
            " -angry\n",
            " -efficient\n",
            " -davies\n",
            "Modelo guardado en: ../datasets/doc2vec_movie_embeddings.ckpt\n",
            "Pérdidas en el paso 18500: 1.5948235988616943\n",
            "Pérdidas en el paso 19000: 2.3850033283233643\n",
            "Modelo guardado en: ../datasets/doc2vec_movie_embeddings.ckpt\n",
            "Pérdidas en el paso 19500: 1.644979476928711\n",
            "Pérdidas en el paso 20000: 2.6924550533294678\n",
            "Palabras más cercanas a love: \n",
            " -pg\n",
            " -particular\n",
            " -economic\n",
            " -refuse\n",
            " -intricate\n",
            "Palabras más cercanas a hate: \n",
            " -dreamlike\n",
            " -find\n",
            " -inoffensive\n",
            " -assembles\n",
            " -bare\n",
            "Palabras más cercanas a happy: \n",
            " -subculture\n",
            " -malcolm\n",
            " -family\n",
            " -folk\n",
            " -blend\n",
            "Palabras más cercanas a sad: \n",
            " -anarchists\n",
            " -brain\n",
            " -vincents\n",
            " -collectively\n",
            " -struggle\n",
            "Palabras más cercanas a man: \n",
            " -carries\n",
            " -editing\n",
            " -intellectual\n",
            " -restrained\n",
            " -festival\n",
            "Palabras más cercanas a woman: \n",
            " -slow\n",
            " -chills\n",
            " -bucks\n",
            " -outtakes\n",
            " -tugofwar\n",
            "Palabras más cercanas a movie: \n",
            " -majority\n",
            " -rooted\n",
            " -angry\n",
            " -efficient\n",
            " -davies\n",
            "Modelo guardado en: ../datasets/doc2vec_movie_embeddings.ckpt\n"
          ],
          "name": "stdout"
        }
      ]
    },
    {
      "cell_type": "code",
      "metadata": {
        "id": "Rd5bAoZgN-2K",
        "colab_type": "code",
        "colab": {
          "base_uri": "https://localhost:8080/",
          "height": 281
        },
        "outputId": "a4a05ef4-9c2c-4a70-e4d4-1d5fb235ad58"
      },
      "source": [
        "plt.plot(loss_x_vect, loss_vect, 'k-', label = \"Función de pérdidas\")\n",
        "plt.title(\"Pérdidas en entrenamiento\")\n",
        "plt.show()"
      ],
      "execution_count": 24,
      "outputs": [
        {
          "output_type": "display_data",
          "data": {
            "image/png": "[encoded data removed]",
            "text/plain": [
              "<Figure size 432x288 with 1 Axes>"
            ]
          },
          "metadata": {
            "tags": [],
            "needs_background": "light"
          }
        }
      ]
    },
    {
      "cell_type": "markdown",
      "metadata": {
        "id": "_fVMTXRpN-2L",
        "colab_type": "text"
      },
      "source": [
        "## Análisis de sentimiento con doc2vec"
      ]
    },
    {
      "cell_type": "code",
      "metadata": {
        "id": "yREycZeON-2M",
        "colab_type": "code",
        "colab": {}
      },
      "source": [
        "max_words = 20\n",
        "logistic_batch_size = 500 "
      ],
      "execution_count": 25,
      "outputs": []
    },
    {
      "cell_type": "code",
      "metadata": {
        "id": "yDyHH8rRN-2O",
        "colab_type": "code",
        "colab": {}
      },
      "source": [
        "train_idx = np.sort(np.random.choice(len(target), round(0.8*len(target)), replace = False))\n",
        "test_idx = np.sort(np.array(list(set(range(len(target)))-set(train_idx))))"
      ],
      "execution_count": 26,
      "outputs": []
    },
    {
      "cell_type": "code",
      "metadata": {
        "id": "jM_yFMBRN-2Q",
        "colab_type": "code",
        "colab": {}
      },
      "source": [
        "texts_train = [x for ix, x in enumerate(texts) if ix in train_idx]\n",
        "texts_test = [x for ix, x in enumerate(texts) if ix in test_idx]\n",
        "target_train = np.array([x for ix, x in enumerate(target) if ix in train_idx])\n",
        "target_test = np.array([x for ix, x in enumerate(target) if ix in test_idx])"
      ],
      "execution_count": 27,
      "outputs": []
    },
    {
      "cell_type": "code",
      "metadata": {
        "id": "95OaqaSRN-2R",
        "colab_type": "code",
        "colab": {}
      },
      "source": [
        "text_data_train = np.array(nlp_helpers.text_to_numbers(texts_train, word_dictionary))\n",
        "text_data_test = np.array(nlp_helpers.text_to_numbers(texts_test, word_dictionary))\n",
        "\n",
        "text_data_train = np.array([x[0:max_words] for x in [y + [0]*max_words for y in text_data_train]])\n",
        "text_data_test = np.array([x[0:max_words] for x in [y + [0]*max_words for y in text_data_test]])"
      ],
      "execution_count": 28,
      "outputs": []
    },
    {
      "cell_type": "code",
      "metadata": {
        "id": "Esr2gyT8N-2T",
        "colab_type": "code",
        "colab": {}
      },
      "source": [
        "log_x_inputs = tf.placeholder(tf.int32, shape=[None, max_words+1])\n",
        "log_y_target = tf.placeholder(tf.int32, shape=[None,1])"
      ],
      "execution_count": 29,
      "outputs": []
    },
    {
      "cell_type": "code",
      "metadata": {
        "id": "cM3pU8emN-2V",
        "colab_type": "code",
        "colab": {}
      },
      "source": [
        "log_embed = tf.zeros([logistic_batch_size, embedding_size])\n",
        "for element in range(max_words):\n",
        "    log_embed += tf.nn.embedding_lookup(embeddings, log_x_inputs[:, element])\n",
        "log_doc_idx = tf.slice(log_x_inputs, [0, max_words], [logistic_batch_size, 1])\n",
        "log_doc_embed = tf.nn.embedding_lookup(doc_embeddings, log_doc_idx)\n",
        "log_final_embed = tf.concat([log_embed, tf.squeeze(log_doc_embed)], axis = 1)"
      ],
      "execution_count": 30,
      "outputs": []
    },
    {
      "cell_type": "code",
      "metadata": {
        "id": "bO0aT4CwN-2X",
        "colab_type": "code",
        "colab": {}
      },
      "source": [
        "A = tf.Variable(tf.random_normal(shape=[concatenated_size, 1]))\n",
        "b = tf.Variable(tf.random_normal(shape=[1,1]))\n",
        "model_output = tf.add(tf.matmul(log_final_embed, A), b)\n",
        "logistic_loss = tf.reduce_mean(tf.nn.sigmoid_cross_entropy_with_logits(logits=model_output, \n",
        "                                                                       labels=tf.cast(log_y_target, tf.float32)))"
      ],
      "execution_count": 31,
      "outputs": []
    },
    {
      "cell_type": "code",
      "metadata": {
        "id": "qumFQxtFN-2Z",
        "colab_type": "code",
        "colab": {}
      },
      "source": [
        "prediction = tf.round(tf.sigmoid(model_output))\n",
        "predictions_correct = tf.cast(tf.equal(prediction, tf.cast(log_y_target, tf.float32)), tf.float32)\n",
        "accuracy = tf.reduce_mean(predictions_correct)"
      ],
      "execution_count": 32,
      "outputs": []
    },
    {
      "cell_type": "code",
      "metadata": {
        "id": "TVuw3gpnN-2a",
        "colab_type": "code",
        "colab": {}
      },
      "source": [
        "logistic_opt = tf.train.GradientDescentOptimizer(learning_rate=0.01)\n",
        "logistic_train_step = logistic_opt.minimize(logistic_loss, var_list=[A,b])"
      ],
      "execution_count": 33,
      "outputs": []
    },
    {
      "cell_type": "code",
      "metadata": {
        "id": "KphSiNXoN-2c",
        "colab_type": "code",
        "colab": {}
      },
      "source": [
        "init = tf.global_variables_initializer()\n",
        "session.run(init)"
      ],
      "execution_count": 34,
      "outputs": []
    },
    {
      "cell_type": "code",
      "metadata": {
        "id": "5qHjcAoXN-2f",
        "colab_type": "code",
        "colab": {
          "base_uri": "https://localhost:8080/",
          "height": 377
        },
        "outputId": "33854dfb-df80-41ba-aa78-1ae36f4b0255"
      },
      "source": [
        "train_loss = []\n",
        "test_loss = []\n",
        "train_acc = []\n",
        "test_acc = []\n",
        "i_data = []\n",
        "\n",
        "for i in range(10000):\n",
        "    rand_idx = np.random.choice(text_data_train.shape[0], size = logistic_batch_size)\n",
        "    rand_x = text_data_train[rand_idx]\n",
        "    rand_x_doc_idx = train_idx[rand_idx]\n",
        "    rand_x = np.hstack((rand_x, np.transpose([rand_x_doc_idx])))\n",
        "    rand_y = np.transpose([target_train[rand_idx]])\n",
        "    \n",
        "    feed_dict={log_x_inputs: rand_x, log_y_target: rand_y}\n",
        "    session.run(logistic_train_step, feed_dict=feed_dict)\n",
        "    \n",
        "    if(i+1)%100==0:\n",
        "        \n",
        "        rand_idx_test = np.random.choice(text_data_test.shape[0], size = logistic_batch_size)\n",
        "        rand_x_test = text_data_test[rand_idx_test]\n",
        "        rand_x_doc_idx_test = test_idx[rand_idx_test]\n",
        "        rand_x_test = np.hstack((rand_x_test, np.transpose([rand_x_doc_idx_test])))\n",
        "        rand_y_test = np.transpose([target_test[rand_idx_test]])\n",
        "\n",
        "        feed_dict_test={log_x_inputs: rand_x_test, log_y_target: rand_y_test}\n",
        "    \n",
        "        \n",
        "        i_data.append(i+1)\n",
        "        \n",
        "        train_loss_temp = session.run(logistic_loss, feed_dict=feed_dict)\n",
        "        train_loss.append(train_loss_temp)\n",
        "        \n",
        "        test_loss_temp = session.run(logistic_loss, feed_dict=feed_dict_test)\n",
        "        test_loss.append(test_loss_temp)\n",
        "        \n",
        "        train_acc_temp = session.run(accuracy, feed_dict=feed_dict)\n",
        "        train_acc.append(train_acc_temp)\n",
        "        \n",
        "        test_acc_temp = session.run(accuracy, feed_dict=feed_dict_test)\n",
        "        test_acc.append(test_acc_temp)\n",
        "        \n",
        "    if(i+1)%500==0:\n",
        "        acc_and_loss = [i+1, train_loss_temp, test_loss_temp, train_acc_temp, test_acc_temp]\n",
        "        acc_and_loss = [np.round(x,3) for x in acc_and_loss]\n",
        "        print(\"Paso #{}, Train Loss {}, Test Loss {}. Train Acc {}, Test Acc{}\".format(*acc_and_loss))"
      ],
      "execution_count": 35,
      "outputs": [
        {
          "output_type": "stream",
          "text": [
            "Paso #500, Train Loss 9.916999816894531, Test Loss 10.440999984741211. Train Acc 0.5320000052452087, Test Acc0.48399999737739563\n",
            "Paso #1000, Train Loss 7.810999870300293, Test Loss 7.452000141143799. Train Acc 0.46799999475479126, Test Acc0.5220000147819519\n",
            "Paso #1500, Train Loss 10.583000183105469, Test Loss 10.109000205993652. Train Acc 0.5040000081062317, Test Acc0.5080000162124634\n",
            "Paso #2000, Train Loss 10.065999984741211, Test Loss 10.208999633789062. Train Acc 0.5180000066757202, Test Acc0.49399998784065247\n",
            "Paso #2500, Train Loss 10.164999961853027, Test Loss 11.449999809265137. Train Acc 0.5400000214576721, Test Acc0.5139999985694885\n",
            "Paso #3000, Train Loss 11.38599967956543, Test Loss 12.005999565124512. Train Acc 0.5419999957084656, Test Acc0.5419999957084656\n",
            "Paso #3500, Train Loss 8.847000122070312, Test Loss 8.494999885559082. Train Acc 0.4860000014305115, Test Acc0.5199999809265137\n",
            "Paso #4000, Train Loss 9.538000106811523, Test Loss 9.26099967956543. Train Acc 0.5260000228881836, Test Acc0.5320000052452087\n",
            "Paso #4500, Train Loss 8.699999809265137, Test Loss 7.999000072479248. Train Acc 0.5, Test Acc0.5139999985694885\n",
            "Paso #5000, Train Loss 10.572999954223633, Test Loss 11.590999603271484. Train Acc 0.4959999918937683, Test Acc0.47999998927116394\n",
            "Paso #5500, Train Loss 10.956999778747559, Test Loss 10.538000106811523. Train Acc 0.515999972820282, Test Acc0.5139999985694885\n",
            "Paso #6000, Train Loss 9.467000007629395, Test Loss 8.571000099182129. Train Acc 0.47600001096725464, Test Acc0.5260000228881836\n",
            "Paso #6500, Train Loss 10.13599967956543, Test Loss 11.633999824523926. Train Acc 0.5299999713897705, Test Acc0.4699999988079071\n",
            "Paso #7000, Train Loss 10.704999923706055, Test Loss 11.612000465393066. Train Acc 0.5260000228881836, Test Acc0.4819999933242798\n",
            "Paso #7500, Train Loss 9.852999687194824, Test Loss 10.491999626159668. Train Acc 0.5059999823570251, Test Acc0.492000013589859\n",
            "Paso #8000, Train Loss 9.27400016784668, Test Loss 9.557000160217285. Train Acc 0.5199999809265137, Test Acc0.4959999918937683\n",
            "Paso #8500, Train Loss 10.73799991607666, Test Loss 11.557999610900879. Train Acc 0.515999972820282, Test Acc0.4819999933242798\n",
            "Paso #9000, Train Loss 11.37600040435791, Test Loss 12.27299976348877. Train Acc 0.5479999780654907, Test Acc0.5019999742507935\n",
            "Paso #9500, Train Loss 9.03499984741211, Test Loss 9.447999954223633. Train Acc 0.4699999988079071, Test Acc0.4659999907016754\n",
            "Paso #10000, Train Loss 11.729000091552734, Test Loss 12.588000297546387. Train Acc 0.5419999957084656, Test Acc0.5260000228881836\n"
          ],
          "name": "stdout"
        }
      ]
    },
    {
      "cell_type": "code",
      "metadata": {
        "id": "tX4vE-rxN-2h",
        "colab_type": "code",
        "colab": {
          "base_uri": "https://localhost:8080/",
          "height": 295
        },
        "outputId": "7cb08ee8-5655-4768-fa9c-23431c67c99d"
      },
      "source": [
        "plt.plot(i_data, train_loss, 'r-', label=\"Train Loss\")\n",
        "plt.plot(i_data, test_loss, 'b--', label=\"Test Loss\")\n",
        "plt.title(\"Entropía cruzada en función de pérdidas de doc2vec\")\n",
        "plt.xlabel(\"Iteración\")\n",
        "plt.ylabel(\"Pérdida en Entropía Cruzada\")\n",
        "plt.legend(loc = \"upper right\")\n",
        "plt.show()"
      ],
      "execution_count": 36,
      "outputs": [
        {
          "output_type": "display_data",
          "data": {
            "image/png": "[encoded data removed]",
            "text/plain": [
              "<Figure size 432x288 with 1 Axes>"
            ]
          },
          "metadata": {
            "tags": [],
            "needs_background": "light"
          }
        }
      ]
    },
    {
      "cell_type": "code",
      "metadata": {
        "id": "SBRG3cAgN-2j",
        "colab_type": "code",
        "colab": {
          "base_uri": "https://localhost:8080/",
          "height": 295
        },
        "outputId": "e465472b-7e7e-4fc3-8c3b-1917057825e0"
      },
      "source": [
        "∫plt.plot(i_data, train_acc, 'r-', label=\"Precisión Train\")\n",
        "plt.plot(i_data, test_acc, 'b--', label=\"Precisión Test\")\n",
        "plt.title(\"Precisión del algoritmo en doc2vec\")\n",
        "plt.xlabel(\"Iteración\")\n",
        "plt.ylabel(\"Precisión\")\n",
        "plt.legend(loc = \"lower right\")\n",
        "plt.show()"
      ],
      "execution_count": 37,
      "outputs": [
        {
          "output_type": "display_data",
          "data": {
            "image/png": "[encoded data removed]",
            "text/plain": [
              "<Figure size 432x288 with 1 Axes>"
            ]
          },
          "metadata": {
            "tags": [],
            "needs_background": "light"
          }
        }
      ]
    }
  ]
}