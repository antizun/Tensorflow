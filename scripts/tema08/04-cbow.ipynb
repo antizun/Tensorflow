{
 "cells": [
  {
   "cell_type": "markdown",
   "metadata": {},
   "source": [
    "# Continuous Bag of Words"
   ]
  },
  {
   "cell_type": "code",
   "execution_count": 2,
   "metadata": {},
   "outputs": [],
   "source": [
    "import tensorflow as tf\n",
    "import matplotlib.pyplot as plt\n",
    "import numpy as np\n",
    "import random\n",
    "import os\n",
    "import pickle\n",
    "import string\n",
    "import requests\n",
    "import collections\n",
    "import io\n",
    "import tarfile\n",
    "import urllib.request\n",
    "from nltk.corpus import stopwords"
   ]
  },
  {
   "cell_type": "code",
   "execution_count": 3,
   "metadata": {},
   "outputs": [],
   "source": [
    "session = tf.Session()"
   ]
  },
  {
   "cell_type": "code",
   "execution_count": 4,
   "metadata": {},
   "outputs": [],
   "source": [
    "def load_movies_data():\n",
    "    save_folder_name = \"../../datasets/movies_data\"\n",
    "    pos_file = os.path.join(save_folder_name, 'rt-polarity.pos')\n",
    "    neg_file = os.path.join(save_folder_name, 'rt-polarity.neg')\n",
    "    \n",
    "    if os.path.exists(save_folder_name):\n",
    "        ## Podemos cargar la info directamente desde el PC\n",
    "        pos_data = []\n",
    "        with open(pos_file, 'r') as temp_pos_file:\n",
    "            for row in temp_pos_file:\n",
    "                pos_data.append(row)\n",
    "                \n",
    "        neg_data = []\n",
    "        with open(neg_file, 'r') as temp_neg_file:\n",
    "            for row in temp_neg_file:\n",
    "                neg_data.append(row)\n",
    "        \n",
    "    else:\n",
    "        ## Debemos descargar los ficheros de internet y guardarlos en esta carpeta\n",
    "        url = \"http://www.cs.cornell.edu/people/pabo/movie-review-data/rt-polaritydata.tar.gz\"\n",
    "        stream_data = urllib.request.urlopen(url)\n",
    "        tmp = io.BytesIO()\n",
    "        while True:\n",
    "            s = stream_data.read(16384)\n",
    "            if not s: \n",
    "                break\n",
    "            tmp.write(s)\n",
    "        stream_data.close()\n",
    "        tmp.seek(0)\n",
    "        \n",
    "        tar_file = tarfile.open(fileobj=tmp, mode='r:gz')\n",
    "        pos = tar_file.extractfile('rt-polaritydata/rt-polarity.pos')\n",
    "        neg = tar_file.extractfile('rt-polaritydata/rt-polarity.neg')\n",
    "        \n",
    "        pos_data = []\n",
    "        for line in pos:\n",
    "            pos_data.append(line.decode('ISO-8859-1').encode('ascii', errors='ignore').decode())\n",
    "            \n",
    "        neg_data = []\n",
    "        for line in neg:\n",
    "            neg_data.append(line.decode('ISO-8859-1').encode('ascii', errors='ignore').decode())\n",
    "            \n",
    "        tar_file.close()\n",
    "        \n",
    "        if not os.path.exists(save_folder_name):\n",
    "            os.makedirs(save_folder_name)\n",
    "        with open(pos_file, 'w') as pos_file_handler:\n",
    "            pos_file_handler.write(''.join(pos_data))\n",
    "        with open(neg_file, 'w') as neg_file_handler:\n",
    "            neg_file_handler.write(''.join(neg_data))\n",
    "    \n",
    "    texts = pos_data + neg_data\n",
    "    target = [1]*len(pos_data) + [0]*len(neg_data)\n",
    "    return (texts, target)         "
   ]
  },
  {
   "cell_type": "code",
   "execution_count": 5,
   "metadata": {},
   "outputs": [],
   "source": [
    "def normalize_text(texts, stops):\n",
    "    texts = [x.lower() for x in texts]\n",
    "    texts = [''.join(c for c in x if c not in string.punctuation) for x in texts]\n",
    "    texts = [''.join(c for c in x if c not in '0123456789') for x in texts]\n",
    "    texts = [' '.join(word for word in x.split() if word not in (stops)) for x in texts]\n",
    "    texts = [' '.join(x.split()) for x in texts]\n",
    "    return texts"
   ]
  },
  {
   "cell_type": "code",
   "execution_count": 6,
   "metadata": {},
   "outputs": [],
   "source": [
    "def build_dictionary(sentences, vocabulary_size):\n",
    "    split_sentences = [s.split() for s in sentences]\n",
    "    words = [x for sublist in split_sentences for x in sublist]\n",
    "    count = [['RARE', -1]]\n",
    "    count.extend(collections.Counter(words).most_common(vocabulary_size-1))\n",
    "    word_dict = {}\n",
    "    for word, word_count in count:\n",
    "        word_dict[word] = len(word_dict)\n",
    "    return word_dict"
   ]
  },
  {
   "cell_type": "code",
   "execution_count": 7,
   "metadata": {},
   "outputs": [],
   "source": [
    "def text_to_numbers(sentences, word_dict):\n",
    "    data = []\n",
    "    for sentence in sentences:\n",
    "        sentence_data = []\n",
    "        for word in sentence:\n",
    "            if word in word_dict:\n",
    "                word_ix = word_dict[word]#posición/ID de la palabra en el word dict\n",
    "            else:\n",
    "                word_ix = 0 ##posición/ID de la palabra RARE\n",
    "            sentence_data.append(word_ix)\n",
    "        data.append(sentence_data)\n",
    "    return data"
   ]
  },
  {
   "cell_type": "code",
   "execution_count": 27,
   "metadata": {},
   "outputs": [],
   "source": [
    "def generate_batch_data(sentences, batch_size, window_size, method = 'skip_gram'):\n",
    "    '''\n",
    "        Skip Gram: Mi perro come su comida -> (Mi, come), (perro, come), (su, come), (comida, come)\n",
    "        Cbow: Mi perro come su comida -> ([Mi,perro,su,comida]; come)\n",
    "    '''\n",
    "    batch_data = []\n",
    "    label_data = []\n",
    "    \n",
    "    while len(batch_data) < batch_size:\n",
    "        rand_sentences = np.random.choice(sentences)\n",
    "        window_seq = [rand_sentences[max((ix-window_size),0):(ix+window_size+1)] \n",
    "                      for ix, x in enumerate(rand_sentences)]\n",
    "        label_idx = [ix if ix < window_size else window_size for ix, x in enumerate(window_seq)]\n",
    "        \n",
    "        if method == 'skip_gram':\n",
    "            batch_and_labels = [(x[y], x[:y]+x[(y+1):]) for x,y in zip(window_seq, label_idx)]\n",
    "            # Convertir el dato a una lista de tuplas (palabra objetivo, contexto)\n",
    "            tuple_data = [(x,y_) for x, y in batch_and_labels for y_ in y]\n",
    "            batch, labels = [list(x) for x in zip(*tuple_data)]\n",
    "\n",
    "        elif method=='cbow':\n",
    "            batch_and_labels = [(x[:y]+x[(y+1):], x[y]) for x,y in zip(window_seq, label_idx)]\n",
    "            # Conservar las ventanas de tamaño 2*window_size\n",
    "            batch_and_labels = [(x,y) for x,y in batch_and_labels if len(x)==2*window_size]\n",
    "            \n",
    "            if len(batch_and_labels) <1:\n",
    "                continue\n",
    "            \n",
    "            batch, labels = [list(x) for x in zip(*batch_and_labels)]\n",
    "            \n",
    "        else:\n",
    "            raise ValueError(\"Método {} no implementado\".format(method))\n",
    "        \n",
    "        batch_data.extend(batch[:batch_size])\n",
    "        label_data.extend(labels[:batch_size])\n",
    "        \n",
    "    batch_data = batch_data[:batch_size]\n",
    "    label_data = label_data[:batch_size]\n",
    "    \n",
    "    batch_data = np.array(batch_data)\n",
    "    label_data = np.transpose(np.array([label_data]))\n",
    "    \n",
    "    return (batch_data, label_data)"
   ]
  },
  {
   "cell_type": "code",
   "execution_count": 9,
   "metadata": {},
   "outputs": [],
   "source": [
    "batch_size = 500\n",
    "embedding_size = 200\n",
    "vocabulary_size = 2000\n",
    "generations = 10000\n",
    "model_learning_rate = 0.001\n",
    "num_sampled = int(batch_size/2)\n",
    "window_size = 3\n",
    "\n",
    "save_embeddings_every = 500\n",
    "print_valid_every = 1000\n",
    "print_loss_every = 200\n",
    "\n",
    "stops = stopwords.words('english')\n",
    "valid_words = ['love', 'hate', 'happy', 'sad', 'man', 'woman']"
   ]
  },
  {
   "cell_type": "code",
   "execution_count": 10,
   "metadata": {},
   "outputs": [],
   "source": [
    "texts, target = load_movies_data()\n",
    "texts = normalize_text(texts, stops)"
   ]
  },
  {
   "cell_type": "code",
   "execution_count": 11,
   "metadata": {},
   "outputs": [],
   "source": [
    "word_dictionary = build_dictionary(texts, vocabulary_size)\n",
    "word_dictionary_rev = dict(zip(word_dictionary.values(), word_dictionary.keys()))\n",
    "text_data = text_to_numbers(texts, word_dictionary)\n",
    "valid_examples = [word_dictionary[x] for x in valid_words]"
   ]
  },
  {
   "cell_type": "code",
   "execution_count": 12,
   "metadata": {},
   "outputs": [
    {
     "name": "stdout",
     "output_type": "stream",
     "text": [
      "['love', 'hate', 'happy', 'sad', 'man', 'woman']\n",
      "[28, 945, 828, 362, 133, 564]\n"
     ]
    }
   ],
   "source": [
    "print(valid_words)\n",
    "print(valid_examples)"
   ]
  },
  {
   "cell_type": "markdown",
   "metadata": {},
   "source": [
    "### Entrenar el modelo"
   ]
  },
  {
   "cell_type": "code",
   "execution_count": 13,
   "metadata": {},
   "outputs": [],
   "source": [
    "embeddings = tf.Variable(tf.random_uniform([vocabulary_size, embedding_size], -1.0, 1.0))\n",
    "x_inputs = tf.placeholder(tf.int32, shape = [batch_size, 2*window_size])\n",
    "y_target = tf.placeholder(tf.int32, shape = [batch_size, 1])\n",
    "valid_dataset = tf.constant(valid_examples, dtype=tf.int32)"
   ]
  },
  {
   "cell_type": "code",
   "execution_count": 14,
   "metadata": {},
   "outputs": [],
   "source": [
    "embed = tf.zeros([batch_size, embedding_size])\n",
    "for element in range(2*window_size):\n",
    "    embed += tf.nn.embedding_lookup(embeddings, x_inputs[:, element])"
   ]
  },
  {
   "cell_type": "code",
   "execution_count": 16,
   "metadata": {},
   "outputs": [],
   "source": [
    "nce_weights = tf.Variable(tf.truncated_normal([vocabulary_size, embedding_size], \n",
    "                                              stddev=1.0/np.sqrt(embedding_size)))\n",
    "nce_biases = tf.Variable(tf.zeros([vocabulary_size]))"
   ]
  },
  {
   "cell_type": "code",
   "execution_count": 17,
   "metadata": {},
   "outputs": [],
   "source": [
    "loss = tf.reduce_mean(tf.nn.nce_loss(weights=nce_weights, biases=nce_biases,\n",
    "                                    inputs=embed, labels=y_target, \n",
    "                                     num_sampled = num_sampled, num_classes=vocabulary_size))"
   ]
  },
  {
   "cell_type": "code",
   "execution_count": 18,
   "metadata": {},
   "outputs": [],
   "source": [
    "norm = tf.sqrt(tf.reduce_sum(tf.square(embeddings),1, keepdims=True))\n",
    "normalized_embeddings = embeddings/norm\n",
    "valid_embeddings = tf.nn.embedding_lookup(normalized_embeddings, valid_dataset)\n",
    "similarity = tf.matmul(valid_embeddings, normalized_embeddings, transpose_b=True)"
   ]
  },
  {
   "cell_type": "code",
   "execution_count": 19,
   "metadata": {},
   "outputs": [],
   "source": [
    "saver = tf.train.Saver({\"embeddings\": embeddings})"
   ]
  },
  {
   "cell_type": "code",
   "execution_count": 20,
   "metadata": {},
   "outputs": [],
   "source": [
    "optimizer = tf.train.GradientDescentOptimizer(learning_rate=model_learning_rate).minimize(loss)"
   ]
  },
  {
   "cell_type": "code",
   "execution_count": 21,
   "metadata": {},
   "outputs": [],
   "source": [
    "init = tf.global_variables_initializer()\n",
    "session.run(init)"
   ]
  },
  {
   "cell_type": "code",
   "execution_count": 29,
   "metadata": {},
   "outputs": [
    {
     "name": "stdout",
     "output_type": "stream",
     "text": [
      "Iteración 200, Pérdida: \n",
      "Iteración 400, Pérdida: \n",
      "Modelo guardado en el fichero: ../../datasets/cbow_movie_embeddings.ckpt\n",
      "Iteración 600, Pérdida: \n",
      "Iteración 800, Pérdida: \n",
      "Iteración 1000, Pérdida: \n",
      "Palabras cercanas a love: elements,  appears,  poem,  notion,  quietly, \n",
      "Palabras cercanas a hate: pop,  wedding,  uses,  tasty,  romance, \n",
      "Palabras cercanas a happy: save,  hold,  motion,  flair,  sick, \n",
      "Palabras cercanas a sad: pianist,  playful,  pacing,  onscreen,  pointless, \n",
      "Palabras cercanas a man: shes,  debut,  vulgar,  machine,  least, \n",
      "Palabras cercanas a woman: makers,  crimes,  teens,  candy,  getting, \n",
      "Modelo guardado en el fichero: ../../datasets/cbow_movie_embeddings.ckpt\n",
      "Iteración 1200, Pérdida: \n",
      "Iteración 1400, Pérdida: \n",
      "Modelo guardado en el fichero: ../../datasets/cbow_movie_embeddings.ckpt\n",
      "Iteración 1600, Pérdida: \n",
      "Iteración 1800, Pérdida: \n",
      "Iteración 2000, Pérdida: \n",
      "Palabras cercanas a love: elements,  appears,  poem,  notion,  quietly, \n",
      "Palabras cercanas a hate: pop,  wedding,  uses,  tasty,  romance, \n",
      "Palabras cercanas a happy: save,  hold,  motion,  flair,  sick, \n",
      "Palabras cercanas a sad: pianist,  playful,  pacing,  onscreen,  pointless, \n",
      "Palabras cercanas a man: shes,  debut,  vulgar,  machine,  least, \n",
      "Palabras cercanas a woman: makers,  crimes,  teens,  candy,  getting, \n",
      "Modelo guardado en el fichero: ../../datasets/cbow_movie_embeddings.ckpt\n",
      "Iteración 2200, Pérdida: \n",
      "Iteración 2400, Pérdida: \n",
      "Modelo guardado en el fichero: ../../datasets/cbow_movie_embeddings.ckpt\n",
      "Iteración 2600, Pérdida: \n",
      "Iteración 2800, Pérdida: \n",
      "Iteración 3000, Pérdida: \n",
      "Palabras cercanas a love: elements,  appears,  poem,  notion,  quietly, \n",
      "Palabras cercanas a hate: pop,  wedding,  uses,  tasty,  romance, \n",
      "Palabras cercanas a happy: save,  hold,  motion,  flair,  sick, \n",
      "Palabras cercanas a sad: pianist,  playful,  pacing,  onscreen,  pointless, \n",
      "Palabras cercanas a man: shes,  debut,  vulgar,  machine,  least, \n",
      "Palabras cercanas a woman: makers,  crimes,  teens,  candy,  getting, \n",
      "Modelo guardado en el fichero: ../../datasets/cbow_movie_embeddings.ckpt\n",
      "Iteración 3200, Pérdida: \n",
      "Iteración 3400, Pérdida: \n",
      "Modelo guardado en el fichero: ../../datasets/cbow_movie_embeddings.ckpt\n",
      "Iteración 3600, Pérdida: \n",
      "Iteración 3800, Pérdida: \n",
      "Iteración 4000, Pérdida: \n",
      "Palabras cercanas a love: elements,  appears,  poem,  notion,  quietly, \n",
      "Palabras cercanas a hate: pop,  wedding,  uses,  tasty,  romance, \n",
      "Palabras cercanas a happy: save,  hold,  motion,  flair,  sick, \n",
      "Palabras cercanas a sad: pianist,  playful,  pacing,  onscreen,  pointless, \n",
      "Palabras cercanas a man: shes,  debut,  vulgar,  machine,  least, \n",
      "Palabras cercanas a woman: makers,  crimes,  teens,  candy,  getting, \n",
      "Modelo guardado en el fichero: ../../datasets/cbow_movie_embeddings.ckpt\n",
      "Iteración 4200, Pérdida: \n",
      "Iteración 4400, Pérdida: \n",
      "Modelo guardado en el fichero: ../../datasets/cbow_movie_embeddings.ckpt\n",
      "Iteración 4600, Pérdida: \n",
      "Iteración 4800, Pérdida: \n",
      "Iteración 5000, Pérdida: \n",
      "Palabras cercanas a love: elements,  appears,  poem,  notion,  quietly, \n",
      "Palabras cercanas a hate: pop,  wedding,  uses,  tasty,  romance, \n",
      "Palabras cercanas a happy: save,  hold,  motion,  flair,  sick, \n",
      "Palabras cercanas a sad: pianist,  playful,  pacing,  onscreen,  pointless, \n",
      "Palabras cercanas a man: shes,  debut,  vulgar,  machine,  least, \n",
      "Palabras cercanas a woman: makers,  crimes,  teens,  candy,  getting, \n",
      "Modelo guardado en el fichero: ../../datasets/cbow_movie_embeddings.ckpt\n",
      "Iteración 5200, Pérdida: \n",
      "Iteración 5400, Pérdida: \n",
      "Modelo guardado en el fichero: ../../datasets/cbow_movie_embeddings.ckpt\n",
      "Iteración 5600, Pérdida: \n",
      "Iteración 5800, Pérdida: \n",
      "Iteración 6000, Pérdida: \n",
      "Palabras cercanas a love: elements,  appears,  poem,  notion,  quietly, \n",
      "Palabras cercanas a hate: pop,  wedding,  uses,  tasty,  romance, \n",
      "Palabras cercanas a happy: save,  hold,  motion,  flair,  sick, \n",
      "Palabras cercanas a sad: pianist,  playful,  pacing,  onscreen,  pointless, \n",
      "Palabras cercanas a man: shes,  debut,  vulgar,  machine,  least, \n",
      "Palabras cercanas a woman: makers,  crimes,  teens,  candy,  getting, \n",
      "Modelo guardado en el fichero: ../../datasets/cbow_movie_embeddings.ckpt\n",
      "Iteración 6200, Pérdida: \n",
      "Iteración 6400, Pérdida: \n",
      "Modelo guardado en el fichero: ../../datasets/cbow_movie_embeddings.ckpt\n",
      "Iteración 6600, Pérdida: \n",
      "Iteración 6800, Pérdida: \n",
      "Iteración 7000, Pérdida: \n",
      "Palabras cercanas a love: elements,  appears,  poem,  notion,  quietly, \n",
      "Palabras cercanas a hate: pop,  wedding,  uses,  tasty,  romance, \n",
      "Palabras cercanas a happy: save,  hold,  motion,  flair,  sick, \n",
      "Palabras cercanas a sad: pianist,  playful,  pacing,  onscreen,  pointless, \n",
      "Palabras cercanas a man: shes,  debut,  vulgar,  machine,  least, \n",
      "Palabras cercanas a woman: makers,  crimes,  teens,  candy,  getting, \n",
      "Modelo guardado en el fichero: ../../datasets/cbow_movie_embeddings.ckpt\n",
      "Iteración 7200, Pérdida: \n",
      "Iteración 7400, Pérdida: \n",
      "Modelo guardado en el fichero: ../../datasets/cbow_movie_embeddings.ckpt\n",
      "Iteración 7600, Pérdida: \n",
      "Iteración 7800, Pérdida: \n",
      "Iteración 8000, Pérdida: \n",
      "Palabras cercanas a love: elements,  appears,  poem,  notion,  quietly, \n",
      "Palabras cercanas a hate: pop,  wedding,  uses,  tasty,  romance, \n",
      "Palabras cercanas a happy: save,  hold,  motion,  flair,  sick, \n",
      "Palabras cercanas a sad: pianist,  playful,  pacing,  onscreen,  pointless, \n",
      "Palabras cercanas a man: shes,  debut,  vulgar,  machine,  least, \n",
      "Palabras cercanas a woman: makers,  crimes,  teens,  candy,  getting, \n",
      "Modelo guardado en el fichero: ../../datasets/cbow_movie_embeddings.ckpt\n",
      "Iteración 8200, Pérdida: \n",
      "Iteración 8400, Pérdida: \n",
      "Modelo guardado en el fichero: ../../datasets/cbow_movie_embeddings.ckpt\n",
      "Iteración 8600, Pérdida: \n",
      "Iteración 8800, Pérdida: \n",
      "Iteración 9000, Pérdida: \n",
      "Palabras cercanas a love: elements,  appears,  poem,  notion,  quietly, \n",
      "Palabras cercanas a hate: pop,  wedding,  uses,  tasty,  romance, \n",
      "Palabras cercanas a happy: save,  hold,  motion,  flair,  sick, \n",
      "Palabras cercanas a sad: pianist,  playful,  pacing,  onscreen,  pointless, \n",
      "Palabras cercanas a man: shes,  debut,  vulgar,  machine,  least, \n",
      "Palabras cercanas a woman: makers,  crimes,  teens,  candy,  getting, \n",
      "Modelo guardado en el fichero: ../../datasets/cbow_movie_embeddings.ckpt\n",
      "Iteración 9200, Pérdida: \n",
      "Iteración 9400, Pérdida: \n",
      "Modelo guardado en el fichero: ../../datasets/cbow_movie_embeddings.ckpt\n",
      "Iteración 9600, Pérdida: \n",
      "Iteración 9800, Pérdida: \n",
      "Iteración 10000, Pérdida: \n",
      "Palabras cercanas a love: elements,  appears,  poem,  notion,  quietly, \n",
      "Palabras cercanas a hate: pop,  wedding,  uses,  tasty,  romance, \n",
      "Palabras cercanas a happy: save,  hold,  motion,  flair,  sick, \n",
      "Palabras cercanas a sad: pianist,  playful,  pacing,  onscreen,  pointless, \n",
      "Palabras cercanas a man: shes,  debut,  vulgar,  machine,  least, \n",
      "Palabras cercanas a woman: makers,  crimes,  teens,  candy,  getting, \n",
      "Modelo guardado en el fichero: ../../datasets/cbow_movie_embeddings.ckpt\n"
     ]
    }
   ],
   "source": [
    "loss_vect = []\n",
    "loss_x_vect = []\n",
    "\n",
    "for i in range(generations):\n",
    "    batch_inputs, batch_labels = generate_batch_data(text_data, batch_size, window_size, method='cbow')\n",
    "    feed_dict = {x_inputs: batch_inputs, y_target: batch_labels}\n",
    "    session.run(optimizer, feed_dict=feed_dict)\n",
    "    \n",
    "    if (i+1) % print_loss_every == 0:\n",
    "        loss_val = session.run(loss, feed_dict=feed_dict)\n",
    "        loss_vect.append(loss_val)\n",
    "        loss_x_vect.append(i+1)\n",
    "        print(\"Iteración {}, Pérdida: \".format(i+1, loss_val))\n",
    "    \n",
    "    ## Validación del contexto, imprimiremos algunas palabras aleatorias y su top 5\n",
    "    if (i+1) % print_valid_every == 0:\n",
    "        sim = session.run(similarity, feed_dict=feed_dict)\n",
    "        for j in range(len(valid_words)):\n",
    "            valid_word = word_dictionary_rev[valid_examples[j]]\n",
    "            top_k = 5\n",
    "            nearest = (-sim[j,:]).argsort()[1:top_k+1]\n",
    "            log_string = \"Palabras cercanas a {}:\".format(valid_word)\n",
    "            for k in range(top_k):\n",
    "                close_word = word_dictionary_rev[nearest[k]]\n",
    "                log_string = \"%s %s, \"%(log_string, close_word)\n",
    "            print(log_string)\n",
    "    if (i+1) % save_embeddings_every == 0:\n",
    "        #Guardar el vocabulario de palabras\n",
    "        with open(os.path.join('../../datasets', 'movie_vocabulary.pkl'), 'wb') as f:\n",
    "            pickle.dump(word_dictionary, f)\n",
    "        #Guardar los embeddings\n",
    "        model_checkpoint_path = os.path.join(\"../../datasets\", \"cbow_movie_embeddings.ckpt\")\n",
    "        save_path = saver.save(session, model_checkpoint_path)\n",
    "        print(\"Modelo guardado en el fichero: {}\".format(save_path))"
   ]
  },
  {
   "cell_type": "code",
   "execution_count": 32,
   "metadata": {},
   "outputs": [
    {
     "data": {
      "text/plain": [
       "[<matplotlib.lines.Line2D at 0x1a1d76da90>]"
      ]
     },
     "execution_count": 32,
     "metadata": {},
     "output_type": "execute_result"
    },
    {
     "data": {
      "image/png": "[encoded data removed]",
      "text/plain": [
       "<Figure size 432x288 with 1 Axes>"
      ]
     },
     "metadata": {
      "needs_background": "light"
     },
     "output_type": "display_data"
    }
   ],
   "source": [
    "plt.plot(loss_x_vect, loss_vect, 'r-', label=\"Función de pérdidas de CBOW\")"
   ]
  }
 ],
 "metadata": {
  "kernelspec": {
   "display_name": "Python 3",
   "language": "python",
   "name": "python3"
  },
  "language_info": {
   "codemirror_mode": {
    "name": "ipython",
    "version": 3
   },
   "file_extension": ".py",
   "mimetype": "text/x-python",
   "name": "python",
   "nbconvert_exporter": "python",
   "pygments_lexer": "ipython3",
   "version": "3.5.5"
  }
 },
 "nbformat": 4,
 "nbformat_minor": 2
}
