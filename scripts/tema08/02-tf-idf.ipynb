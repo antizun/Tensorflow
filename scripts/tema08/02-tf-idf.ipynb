{
 "cells": [
  {
   "cell_type": "markdown",
   "metadata": {},
   "source": [
    "# Text Frecuency - Inverse Document Frequency"
   ]
  },
  {
   "cell_type": "markdown",
   "metadata": {},
   "source": [
    "- $w_{tf}$: frecuencia de aparición de una palabra en un documento\n",
    "- $w_{df}$: frecuencia total de aparición de una palabra en el conjunto de todos los documentos (corpus)"
   ]
  },
  {
   "cell_type": "markdown",
   "metadata": {},
   "source": [
    "$$w_{tf-idf} = w_{tf}\\cdot \\log\\left(\\frac{1}{w_{df}}\\right)$$"
   ]
  },
  {
   "cell_type": "code",
   "execution_count": 2,
   "metadata": {},
   "outputs": [],
   "source": [
    "import tensorflow as tf\n",
    "import matplotlib.pyplot as plt\n",
    "import csv\n",
    "import numpy as np\n",
    "import string\n",
    "import nltk\n",
    "from sklearn.feature_extraction.text import TfidfVectorizer"
   ]
  },
  {
   "cell_type": "code",
   "execution_count": 3,
   "metadata": {},
   "outputs": [],
   "source": [
    "session = tf.Session()\n",
    "batch_size = 200\n",
    "max_features = 1000"
   ]
  },
  {
   "cell_type": "code",
   "execution_count": 5,
   "metadata": {},
   "outputs": [],
   "source": [
    "import os\n",
    "save_file_name = os.path.join('..','..','datasets', 'spam_data.csv')\n",
    "\n",
    "text_data = []\n",
    "with open(save_file_name, 'r') as temp_output_file:\n",
    "    reader = csv.reader(temp_output_file)\n",
    "    for row in reader:\n",
    "        text_data.append(row)"
   ]
  },
  {
   "cell_type": "code",
   "execution_count": 7,
   "metadata": {},
   "outputs": [],
   "source": [
    "texts = [x[1] for x in text_data]\n",
    "target = [x[0] for x in text_data]\n",
    "target = [1 if x == 'spam' else 0 for x in target]"
   ]
  },
  {
   "cell_type": "code",
   "execution_count": 8,
   "metadata": {},
   "outputs": [],
   "source": [
    "texts = [x.lower() for x in texts] # Convertir los textos a minúscula\n",
    "texts = [''.join(c for c in x if c not in string.punctuation) for x in texts] # Eliminamos signos de puntuación\n",
    "texts = [''.join(c for c in x if c not in '0123456789') for x in texts] # Eliminamos los números\n",
    "texts = [' '.join(x.split()) for x in texts] # Eliminar espacios en blanco y separadores extras"
   ]
  },
  {
   "cell_type": "code",
   "execution_count": 9,
   "metadata": {},
   "outputs": [],
   "source": [
    "def tokenizer(text):\n",
    "    words = nltk.word_tokenize(text)\n",
    "    return words"
   ]
  },
  {
   "cell_type": "code",
   "execution_count": 14,
   "metadata": {},
   "outputs": [],
   "source": [
    "tfidf = TfidfVectorizer(tokenizer=tokenizer, stop_words='english', max_features=max_features)"
   ]
  },
  {
   "cell_type": "code",
   "execution_count": 16,
   "metadata": {},
   "outputs": [
    {
     "name": "stdout",
     "output_type": "stream",
     "text": [
      "[nltk_data] Downloading package punkt to\n",
      "[nltk_data]     /Users/juangabriel/nltk_data...\n",
      "[nltk_data]   Unzipping tokenizers/punkt.zip.\n"
     ]
    },
    {
     "data": {
      "text/plain": [
       "True"
      ]
     },
     "execution_count": 16,
     "metadata": {},
     "output_type": "execute_result"
    }
   ],
   "source": [
    "nltk.download('punkt')"
   ]
  },
  {
   "cell_type": "code",
   "execution_count": 17,
   "metadata": {},
   "outputs": [],
   "source": [
    "sparse_tfidf_texts = tfidf.fit_transform(texts)"
   ]
  },
  {
   "cell_type": "code",
   "execution_count": 18,
   "metadata": {},
   "outputs": [
    {
     "data": {
      "text/plain": [
       "<5574x1000 sparse matrix of type '<class 'numpy.float64'>'\n",
       "\twith 30012 stored elements in Compressed Sparse Row format>"
      ]
     },
     "execution_count": 18,
     "metadata": {},
     "output_type": "execute_result"
    }
   ],
   "source": [
    "sparse_tfidf_texts"
   ]
  },
  {
   "cell_type": "markdown",
   "metadata": {},
   "source": [
    "La matriz sparsed después de ser tokenizada, contiene \n",
    "- tantas filas como la longitud de: `len(texts)`\n",
    "- tantas columnas como palabras importantes hemos extraido del proceso de tokenización (las `max_features` importantes)\n",
    "- es una matriz sparsed, donde en fila i, columna j contiene la frecuencia de aparición de la palabra i en el texto j, que hemos llamado $w_{tf-idf}$ (probablemente cero en la mayoría de casos)"
   ]
  },
  {
   "cell_type": "code",
   "execution_count": 20,
   "metadata": {},
   "outputs": [
    {
     "data": {
      "text/plain": [
       "(5574, 1000)"
      ]
     },
     "execution_count": 20,
     "metadata": {},
     "output_type": "execute_result"
    }
   ],
   "source": [
    "sparse_tfidf_texts.shape"
   ]
  },
  {
   "cell_type": "code",
   "execution_count": 22,
   "metadata": {},
   "outputs": [],
   "source": [
    "train_idx = np.random.choice(sparse_tfidf_texts.shape[0], round(0.8*sparse_tfidf_texts.shape[0]), replace=False)\n",
    "test_idx = np.array(list(set(range(sparse_tfidf_texts.shape[0]))-set(train_idx)))"
   ]
  },
  {
   "cell_type": "code",
   "execution_count": 23,
   "metadata": {},
   "outputs": [],
   "source": [
    "texts_train = sparse_tfidf_texts[train_idx]\n",
    "texts_test = sparse_tfidf_texts[test_idx]\n",
    "target_train = np.array([x for ix, x in enumerate(target) if ix in train_idx])\n",
    "target_test = np.array([x for ix, x in enumerate(target) if ix in test_idx])"
   ]
  },
  {
   "cell_type": "code",
   "execution_count": 24,
   "metadata": {},
   "outputs": [],
   "source": [
    "A = tf.Variable(tf.random_normal(shape = [max_features, 1]))\n",
    "b = tf.Variable(tf.random_normal(shape = [1,1]))\n",
    "x_data = tf.placeholder(shape = [None, max_features], dtype = tf.float32)\n",
    "y_target = tf.placeholder(shape = [None, 1], dtype = tf.float32)"
   ]
  },
  {
   "cell_type": "code",
   "execution_count": 25,
   "metadata": {},
   "outputs": [],
   "source": [
    "model_output = tf.add(tf.matmul(x_data, A), b)\n",
    "loss = tf.reduce_mean(tf.nn.sigmoid_cross_entropy_with_logits(logits=model_output, labels=y_target))"
   ]
  },
  {
   "cell_type": "code",
   "execution_count": 26,
   "metadata": {},
   "outputs": [],
   "source": [
    "prediction = tf.round(tf.sigmoid(model_output))\n",
    "predictions_correct = tf.cast(tf.equal(prediction, y_target), tf.float32)\n",
    "accuracy = tf.reduce_mean(predictions_correct)"
   ]
  },
  {
   "cell_type": "code",
   "execution_count": 27,
   "metadata": {},
   "outputs": [],
   "source": [
    "my_optim = tf.train.GradientDescentOptimizer(0.0025)\n",
    "train_step = my_optim.minimize(loss)\n",
    "init = tf.global_variables_initializer()\n",
    "session.run(init)"
   ]
  },
  {
   "cell_type": "code",
   "execution_count": 30,
   "metadata": {},
   "outputs": [
    {
     "name": "stdout",
     "output_type": "stream",
     "text": [
      "Paso #500. Train loss: 0.5709999799728394. Test Loss: 0.5170000195503235.\n",
      "  Train Acc: 0.7099999785423279. Test Acc:0.7770000100135803.\n",
      "Paso #1000. Train loss: 0.5509999990463257. Test Loss: 0.4880000054836273.\n",
      "  Train Acc: 0.7450000047683716. Test Acc:0.8040000200271606.\n",
      "Paso #1500. Train loss: 0.47200000286102295. Test Loss: 0.4690000116825104.\n",
      "  Train Acc: 0.8149999976158142. Test Acc:0.8199999928474426.\n",
      "Paso #2000. Train loss: 0.48399999737739563. Test Loss: 0.4560000002384186.\n",
      "  Train Acc: 0.8149999976158142. Test Acc:0.8330000042915344.\n",
      "Paso #2500. Train loss: 0.4180000126361847. Test Loss: 0.44600000977516174.\n",
      "  Train Acc: 0.8949999809265137. Test Acc:0.8410000205039978.\n",
      "Paso #3000. Train loss: 0.4429999887943268. Test Loss: 0.4390000104904175.\n",
      "  Train Acc: 0.824999988079071. Test Acc:0.847000002861023.\n",
      "Paso #3500. Train loss: 0.5289999842643738. Test Loss: 0.4339999854564667.\n",
      "  Train Acc: 0.8149999976158142. Test Acc:0.8479999899864197.\n",
      "Paso #4000. Train loss: 0.3840000033378601. Test Loss: 0.4300000071525574.\n",
      "  Train Acc: 0.8650000095367432. Test Acc:0.8519999980926514.\n",
      "Paso #4500. Train loss: 0.49000000953674316. Test Loss: 0.42800000309944153.\n",
      "  Train Acc: 0.8399999737739563. Test Acc:0.8519999980926514.\n",
      "Paso #5000. Train loss: 0.5120000243186951. Test Loss: 0.4259999990463257.\n",
      "  Train Acc: 0.8199999928474426. Test Acc:0.8539999723434448.\n",
      "Paso #5500. Train loss: 0.4009999930858612. Test Loss: 0.42399999499320984.\n",
      "  Train Acc: 0.8600000143051147. Test Acc:0.8569999933242798.\n",
      "Paso #6000. Train loss: 0.37700000405311584. Test Loss: 0.4230000078678131.\n",
      "  Train Acc: 0.875. Test Acc:0.8569999933242798.\n",
      "Paso #6500. Train loss: 0.45899999141693115. Test Loss: 0.421999990940094.\n",
      "  Train Acc: 0.8450000286102295. Test Acc:0.8560000061988831.\n",
      "Paso #7000. Train loss: 0.40799999237060547. Test Loss: 0.42100000381469727.\n",
      "  Train Acc: 0.8600000143051147. Test Acc:0.8560000061988831.\n",
      "Paso #7500. Train loss: 0.41999998688697815. Test Loss: 0.41999998688697815.\n",
      "  Train Acc: 0.8550000190734863. Test Acc:0.8560000061988831.\n",
      "Paso #8000. Train loss: 0.4490000009536743. Test Loss: 0.41999998688697815.\n",
      "  Train Acc: 0.8199999928474426. Test Acc:0.8569999933242798.\n",
      "Paso #8500. Train loss: 0.49399998784065247. Test Loss: 0.4189999997615814.\n",
      "  Train Acc: 0.8450000286102295. Test Acc:0.8569999933242798.\n",
      "Paso #9000. Train loss: 0.4410000145435333. Test Loss: 0.4189999997615814.\n",
      "  Train Acc: 0.8600000143051147. Test Acc:0.8569999933242798.\n",
      "Paso #9500. Train loss: 0.2849999964237213. Test Loss: 0.4189999997615814.\n",
      "  Train Acc: 0.9150000214576721. Test Acc:0.8610000014305115.\n",
      "Paso #10000. Train loss: 0.5709999799728394. Test Loss: 0.4180000126361847.\n",
      "  Train Acc: 0.7900000214576721. Test Acc:0.8610000014305115.\n"
     ]
    }
   ],
   "source": [
    "train_loss = []\n",
    "test_loss = []\n",
    "train_acc = []\n",
    "test_acc = []\n",
    "i_data = []\n",
    "\n",
    "for i in range(10000):\n",
    "    rand_idx = np.random.choice(texts_train.shape[0], size = batch_size)\n",
    "    rand_x = texts_train[rand_idx].todense()\n",
    "    rand_y = np.transpose([target_train[rand_idx]])\n",
    "    session.run(train_step, feed_dict={x_data: rand_x, y_target: rand_y})\n",
    "    \n",
    "    if(i+1)%100==0:\n",
    "        i_data.append(i+1)\n",
    "        \n",
    "        train_loss_temp = session.run(loss, feed_dict={x_data:rand_x, y_target:rand_y})\n",
    "        train_loss.append(train_loss_temp)\n",
    "        \n",
    "        test_loss_temp = session.run(loss, feed_dict={x_data:texts_test.todense(), \n",
    "                                                      y_target:np.transpose([target_test])})\n",
    "        test_loss.append(test_loss_temp)\n",
    "        \n",
    "        train_acc_temp = session.run(accuracy, feed_dict={x_data: rand_x, y_target: rand_y})\n",
    "        train_acc.append(train_acc_temp)\n",
    "        \n",
    "        test_acc_temp = session.run(accuracy, feed_dict={x_data: texts_test.todense(), \n",
    "                                                         y_target: np.transpose([target_test])})\n",
    "        test_acc.append(test_acc_temp)\n",
    "        \n",
    "    if(i+1)%500==0:\n",
    "        acc_and_loss = [i+1, train_loss_temp, test_loss_temp, train_acc_temp, test_acc_temp]\n",
    "        acc_and_loss = [np.round(x,3) for x in acc_and_loss]\n",
    "        print(\"Paso #{}. Train loss: {}. Test Loss: {}.\\n  Train Acc: {}. Test Acc:{}.\".format(*acc_and_loss))"
   ]
  },
  {
   "cell_type": "code",
   "execution_count": 31,
   "metadata": {},
   "outputs": [
    {
     "data": {
      "image/png": "[encoded data removed]",
      "text/plain": [
       "<Figure size 432x288 with 1 Axes>"
      ]
     },
     "metadata": {
      "needs_background": "light"
     },
     "output_type": "display_data"
    }
   ],
   "source": [
    "plt.plot(train_loss, 'r-', label = \"Función de Pérdida en Entrenamiento\")\n",
    "plt.plot(test_loss, 'b--', label = \"Función de Pérdida en Test\")\n",
    "plt.legend(loc=\"upper right\")\n",
    "plt.xlabel(\"Iteraciones\")\n",
    "plt.ylabel(\"Pérdida en Entropía cruzada\")\n",
    "plt.title(\"Función de pérdidas según iteración\")\n",
    "plt.show()"
   ]
  },
  {
   "cell_type": "code",
   "execution_count": 32,
   "metadata": {},
   "outputs": [
    {
     "data": {
      "image/png": "[encoded data removed]",
      "text/plain": [
       "<Figure size 432x288 with 1 Axes>"
      ]
     },
     "metadata": {
      "needs_background": "light"
     },
     "output_type": "display_data"
    }
   ],
   "source": [
    "plt.plot(train_acc, 'r-', label = \"Precisión en Entrenamiento\")\n",
    "plt.plot(test_acc, 'b--', label = \"Precisión en Test\")\n",
    "plt.legend(loc=\"lower right\")\n",
    "plt.xlabel(\"Iteraciones\")\n",
    "plt.ylabel(\"Precisión\")\n",
    "plt.title(\"Precisión en la predicción Spam/Ham según iteración\")\n",
    "plt.show()"
   ]
  },
  {
   "cell_type": "code",
   "execution_count": null,
   "metadata": {},
   "outputs": [],
   "source": []
  }
 ],
 "metadata": {
  "kernelspec": {
   "display_name": "Python 3",
   "language": "python",
   "name": "python3"
  },
  "language_info": {
   "codemirror_mode": {
    "name": "ipython",
    "version": 3
   },
   "file_extension": ".py",
   "mimetype": "text/x-python",
   "name": "python",
   "nbconvert_exporter": "python",
   "pygments_lexer": "ipython3",
   "version": "3.5.5"
  }
 },
 "nbformat": 4,
 "nbformat_minor": 2
}
