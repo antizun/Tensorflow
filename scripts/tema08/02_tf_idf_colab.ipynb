{
  "nbformat": 4,
  "nbformat_minor": 0,
  "metadata": {
    "kernelspec": {
      "display_name": "Python 3",
      "language": "python",
      "name": "python3"
    },
    "language_info": {
      "codemirror_mode": {
        "name": "ipython",
        "version": 3
      },
      "file_extension": ".py",
      "mimetype": "text/x-python",
      "name": "python",
      "nbconvert_exporter": "python",
      "pygments_lexer": "ipython3",
      "version": "3.5.5"
    },
    "colab": {
      "name": "02-tf-idf_colab.ipynb",
      "provenance": [],
      "collapsed_sections": [],
      "toc_visible": true
    }
  },
  "cells": [
    {
      "cell_type": "markdown",
      "metadata": {
        "id": "kRs9kITPGd5r",
        "colab_type": "text"
      },
      "source": [
        "# Clonamos el repositorio para obtener los dataSet"
      ]
    },
    {
      "cell_type": "code",
      "metadata": {
        "id": "N-HXoEd5Gc6V",
        "colab_type": "code",
        "colab": {
          "base_uri": "https://localhost:8080/",
          "height": 153
        },
        "outputId": "fc9b6612-5036-44a7-b4fc-efebc30ff12d"
      },
      "source": [
        "!git clone https://github.com/joanby/tensorflow.git"
      ],
      "execution_count": 1,
      "outputs": [
        {
          "output_type": "stream",
          "text": [
            "Cloning into 'tensorflow'...\n",
            "remote: Enumerating objects: 51, done.\u001b[K\n",
            "remote: Counting objects: 100% (51/51), done.\u001b[K\n",
            "remote: Compressing objects: 100% (28/28), done.\u001b[K\n",
            "remote: Total 60311 (delta 32), reused 37 (delta 23), pack-reused 60260\u001b[K\n",
            "Receiving objects: 100% (60311/60311), 442.46 MiB | 34.88 MiB/s, done.\n",
            "Resolving deltas: 100% (82/82), done.\n",
            "Checking out files: 100% (60225/60225), done.\n"
          ],
          "name": "stdout"
        }
      ]
    },
    {
      "cell_type": "markdown",
      "metadata": {
        "id": "zBNlDXLiGhmD",
        "colab_type": "text"
      },
      "source": [
        "# Damos acceso a nuestro Drive"
      ]
    },
    {
      "cell_type": "code",
      "metadata": {
        "id": "hzHY1bceGc4Z",
        "colab_type": "code",
        "colab": {}
      },
      "source": [
        "from google.colab import drive\n",
        "drive.mount('/content/drive')"
      ],
      "execution_count": null,
      "outputs": []
    },
    {
      "cell_type": "markdown",
      "metadata": {
        "id": "rEXrdILOGk8v",
        "colab_type": "text"
      },
      "source": [
        "# Test it"
      ]
    },
    {
      "cell_type": "code",
      "metadata": {
        "id": "NDJE5DIEGkhy",
        "colab_type": "code",
        "colab": {}
      },
      "source": [
        "!ls '/content/drive/My Drive' "
      ],
      "execution_count": null,
      "outputs": []
    },
    {
      "cell_type": "markdown",
      "metadata": {
        "id": "wdIeV28kGniD",
        "colab_type": "text"
      },
      "source": [
        "# Google colab tools"
      ]
    },
    {
      "cell_type": "code",
      "metadata": {
        "id": "JdULSbF3Gc11",
        "colab_type": "code",
        "colab": {}
      },
      "source": [
        "from google.colab import files # Para manejar los archivos y, por ejemplo, exportar a su navegador\n",
        "import glob # Para manejar los archivos y, por ejemplo, exportar a su navegador\n",
        "from google.colab import drive # Montar tu Google drive"
      ],
      "execution_count": 2,
      "outputs": []
    },
    {
      "cell_type": "markdown",
      "metadata": {
        "id": "87F5MT1PGqvf",
        "colab_type": "text"
      },
      "source": [
        "##Especificando la versión de TensorFlow\n",
        "\n",
        "Ejecutando \"importar tensorflow\" importará la versión por defecto (actualmente 2.x). Puedes usar la 1.x ejecutando una celda con la \"versión mágica de tensorflow\" **antes de ejecutar \"importar tensorflow\".\n",
        "\n",
        "### Si no funciona hacer el pip install\n"
      ]
    },
    {
      "cell_type": "code",
      "metadata": {
        "id": "Nnq3xvqzGcuT",
        "colab_type": "code",
        "colab": {
          "base_uri": "https://localhost:8080/",
          "height": 34
        },
        "outputId": "187e8da0-ab45-4b86-8984-93cdcee21527"
      },
      "source": [
        "#!pip install tensorflow==1.14\n",
        "%tensorflow_version 1.x"
      ],
      "execution_count": 3,
      "outputs": [
        {
          "output_type": "stream",
          "text": [
            "TensorFlow 1.x selected.\n"
          ],
          "name": "stdout"
        }
      ]
    },
    {
      "cell_type": "markdown",
      "metadata": {
        "id": "vjG-7zgwGt2I",
        "colab_type": "text"
      },
      "source": [
        "# Importar Tensorflow"
      ]
    },
    {
      "cell_type": "code",
      "metadata": {
        "id": "vGSsT8CjGcq-",
        "colab_type": "code",
        "colab": {
          "base_uri": "https://localhost:8080/",
          "height": 34
        },
        "outputId": "7cf18b01-f196-435a-a34a-65dd42f4b7dd"
      },
      "source": [
        "import tensorflow as tf\n",
        "print(tf.__version__)\n",
        "import matplotlib.pyplot as plt"
      ],
      "execution_count": 4,
      "outputs": [
        {
          "output_type": "stream",
          "text": [
            "1.15.2\n"
          ],
          "name": "stdout"
        }
      ]
    },
    {
      "cell_type": "code",
      "metadata": {
        "id": "vsvYHpSVGch1",
        "colab_type": "code",
        "colab": {}
      },
      "source": [
        "session = tf.Session()"
      ],
      "execution_count": 6,
      "outputs": []
    },
    {
      "cell_type": "markdown",
      "metadata": {
        "id": "piESxjj_GQZb",
        "colab_type": "text"
      },
      "source": [
        "# Text Frecuency - Inverse Document Frequency"
      ]
    },
    {
      "cell_type": "markdown",
      "metadata": {
        "id": "CqubXsPhGQZc",
        "colab_type": "text"
      },
      "source": [
        "- $w_{tf}$: frecuencia de aparición de una palabra en un documento\n",
        "- $w_{df}$: frecuencia total de aparición de una palabra en el conjunto de todos los documentos (corpus)"
      ]
    },
    {
      "cell_type": "markdown",
      "metadata": {
        "id": "8KOom_epGQZc",
        "colab_type": "text"
      },
      "source": [
        "$$w_{tf-idf} = w_{tf}\\cdot \\log\\left(\\frac{1}{w_{df}}\\right)$$"
      ]
    },
    {
      "cell_type": "code",
      "metadata": {
        "id": "-wxz-VuiGQZd",
        "colab_type": "code",
        "colab": {}
      },
      "source": [
        "import matplotlib.pyplot as plt\n",
        "import csv\n",
        "import numpy as np\n",
        "import string\n",
        "import nltk\n",
        "from sklearn.feature_extraction.text import TfidfVectorizer"
      ],
      "execution_count": 20,
      "outputs": []
    },
    {
      "cell_type": "code",
      "metadata": {
        "id": "jK2T8t0qGQZg",
        "colab_type": "code",
        "colab": {}
      },
      "source": [
        "session = tf.Session()\n",
        "batch_size = 200\n",
        "max_features = 1000"
      ],
      "execution_count": 21,
      "outputs": []
    },
    {
      "cell_type": "code",
      "metadata": {
        "id": "oYuruWQbGQZi",
        "colab_type": "code",
        "colab": {}
      },
      "source": [
        "import os\n",
        "save_file_name = os.path.join('..','..','datasets', '/content/tensorflow/datasets/spam_data.csv')\n",
        "\n",
        "text_data = []\n",
        "with open(save_file_name, 'r') as temp_output_file:\n",
        "    reader = csv.reader(temp_output_file)\n",
        "    for row in reader:\n",
        "        text_data.append(row)"
      ],
      "execution_count": 22,
      "outputs": []
    },
    {
      "cell_type": "code",
      "metadata": {
        "id": "inTCnQqaGQZk",
        "colab_type": "code",
        "colab": {}
      },
      "source": [
        "texts = [x[1] for x in text_data]\n",
        "target = [x[0] for x in text_data]\n",
        "target = [1 if x == 'spam' else 0 for x in target]"
      ],
      "execution_count": 23,
      "outputs": []
    },
    {
      "cell_type": "code",
      "metadata": {
        "id": "CFk9jXCZGQZm",
        "colab_type": "code",
        "colab": {}
      },
      "source": [
        "texts = [x.lower() for x in texts] # Convertir los textos a minúscula\n",
        "texts = [''.join(c for c in x if c not in string.punctuation) for x in texts] # Eliminamos signos de puntuación\n",
        "texts = [''.join(c for c in x if c not in '0123456789') for x in texts] # Eliminamos los números\n",
        "texts = [' '.join(x.split()) for x in texts] # Eliminar espacios en blanco y separadores extras"
      ],
      "execution_count": 24,
      "outputs": []
    },
    {
      "cell_type": "code",
      "metadata": {
        "id": "5T0HyP41GQZo",
        "colab_type": "code",
        "colab": {}
      },
      "source": [
        "def tokenizer(text):\n",
        "    words = nltk.word_tokenize(text)\n",
        "    return words"
      ],
      "execution_count": 25,
      "outputs": []
    },
    {
      "cell_type": "code",
      "metadata": {
        "id": "4Rh4Zo9qGQZr",
        "colab_type": "code",
        "colab": {}
      },
      "source": [
        "tfidf = TfidfVectorizer(tokenizer=tokenizer, stop_words='english', max_features=max_features)"
      ],
      "execution_count": 26,
      "outputs": []
    },
    {
      "cell_type": "code",
      "metadata": {
        "id": "acrF5JGkGQZv",
        "colab_type": "code",
        "colab": {
          "base_uri": "https://localhost:8080/",
          "height": 68
        },
        "outputId": "d7f3f446-0e34-4298-cc4e-2d0c120cdd4c"
      },
      "source": [
        "nltk.download('punkt')"
      ],
      "execution_count": 27,
      "outputs": [
        {
          "output_type": "stream",
          "text": [
            "[nltk_data] Downloading package punkt to /root/nltk_data...\n",
            "[nltk_data]   Unzipping tokenizers/punkt.zip.\n"
          ],
          "name": "stdout"
        },
        {
          "output_type": "execute_result",
          "data": {
            "text/plain": [
              "True"
            ]
          },
          "metadata": {
            "tags": []
          },
          "execution_count": 27
        }
      ]
    },
    {
      "cell_type": "code",
      "metadata": {
        "id": "EqOlpcOgGQZx",
        "colab_type": "code",
        "colab": {}
      },
      "source": [
        "sparse_tfidf_texts = tfidf.fit_transform(texts)"
      ],
      "execution_count": 28,
      "outputs": []
    },
    {
      "cell_type": "code",
      "metadata": {
        "id": "HhEIhzZ_GQZz",
        "colab_type": "code",
        "colab": {
          "base_uri": "https://localhost:8080/",
          "height": 51
        },
        "outputId": "d49e631b-f123-4e34-d22f-3287c8b023a5"
      },
      "source": [
        "sparse_tfidf_texts"
      ],
      "execution_count": 29,
      "outputs": [
        {
          "output_type": "execute_result",
          "data": {
            "text/plain": [
              "<5574x1000 sparse matrix of type '<class 'numpy.float64'>'\n",
              "\twith 30012 stored elements in Compressed Sparse Row format>"
            ]
          },
          "metadata": {
            "tags": []
          },
          "execution_count": 29
        }
      ]
    },
    {
      "cell_type": "markdown",
      "metadata": {
        "id": "kiVNCnT-GQZ1",
        "colab_type": "text"
      },
      "source": [
        "La matriz sparsed después de ser tokenizada, contiene \n",
        "- tantas filas como la longitud de: `len(texts)`\n",
        "- tantas columnas como palabras importantes hemos extraido del proceso de tokenización (las `max_features` importantes)\n",
        "- es una matriz sparsed, donde en fila i, columna j contiene la frecuencia de aparición de la palabra i en el texto j, que hemos llamado $w_{tf-idf}$ (probablemente cero en la mayoría de casos)"
      ]
    },
    {
      "cell_type": "code",
      "metadata": {
        "id": "frTUHb57GQZ1",
        "colab_type": "code",
        "colab": {
          "base_uri": "https://localhost:8080/",
          "height": 34
        },
        "outputId": "30b43773-86f3-4b03-c13a-88f029eca960"
      },
      "source": [
        "sparse_tfidf_texts.shape"
      ],
      "execution_count": 30,
      "outputs": [
        {
          "output_type": "execute_result",
          "data": {
            "text/plain": [
              "(5574, 1000)"
            ]
          },
          "metadata": {
            "tags": []
          },
          "execution_count": 30
        }
      ]
    },
    {
      "cell_type": "code",
      "metadata": {
        "id": "BM2RG31oGQZ4",
        "colab_type": "code",
        "colab": {}
      },
      "source": [
        "train_idx = np.random.choice(sparse_tfidf_texts.shape[0], round(0.8*sparse_tfidf_texts.shape[0]), replace=False)\n",
        "test_idx = np.array(list(set(range(sparse_tfidf_texts.shape[0]))-set(train_idx)))"
      ],
      "execution_count": 31,
      "outputs": []
    },
    {
      "cell_type": "code",
      "metadata": {
        "id": "arAQssbEGQZ6",
        "colab_type": "code",
        "colab": {}
      },
      "source": [
        "texts_train = sparse_tfidf_texts[train_idx]\n",
        "texts_test = sparse_tfidf_texts[test_idx]\n",
        "target_train = np.array([x for ix, x in enumerate(target) if ix in train_idx])\n",
        "target_test = np.array([x for ix, x in enumerate(target) if ix in test_idx])"
      ],
      "execution_count": 32,
      "outputs": []
    },
    {
      "cell_type": "code",
      "metadata": {
        "id": "A12M9gg-GQZ8",
        "colab_type": "code",
        "colab": {}
      },
      "source": [
        "A = tf.Variable(tf.random_normal(shape = [max_features, 1]))\n",
        "b = tf.Variable(tf.random_normal(shape = [1,1]))\n",
        "x_data = tf.placeholder(shape = [None, max_features], dtype = tf.float32)\n",
        "y_target = tf.placeholder(shape = [None, 1], dtype = tf.float32)"
      ],
      "execution_count": 33,
      "outputs": []
    },
    {
      "cell_type": "code",
      "metadata": {
        "id": "hEuMJzbdGQZ_",
        "colab_type": "code",
        "colab": {}
      },
      "source": [
        "model_output = tf.add(tf.matmul(x_data, A), b)\n",
        "loss = tf.reduce_mean(tf.nn.sigmoid_cross_entropy_with_logits(logits=model_output, labels=y_target))"
      ],
      "execution_count": 34,
      "outputs": []
    },
    {
      "cell_type": "code",
      "metadata": {
        "id": "nkErujNeGQaB",
        "colab_type": "code",
        "colab": {}
      },
      "source": [
        "prediction = tf.round(tf.sigmoid(model_output))\n",
        "predictions_correct = tf.cast(tf.equal(prediction, y_target), tf.float32)\n",
        "accuracy = tf.reduce_mean(predictions_correct)"
      ],
      "execution_count": 35,
      "outputs": []
    },
    {
      "cell_type": "code",
      "metadata": {
        "id": "1o8YGvfpGQaD",
        "colab_type": "code",
        "colab": {}
      },
      "source": [
        "my_optim = tf.train.GradientDescentOptimizer(0.0025)\n",
        "train_step = my_optim.minimize(loss)\n",
        "init = tf.global_variables_initializer()\n",
        "session.run(init)"
      ],
      "execution_count": 36,
      "outputs": []
    },
    {
      "cell_type": "code",
      "metadata": {
        "id": "auG9aQAXGQaF",
        "colab_type": "code",
        "colab": {
          "base_uri": "https://localhost:8080/",
          "height": 697
        },
        "outputId": "c4f7d0cd-42cc-4db1-baa9-84c088c4c37c"
      },
      "source": [
        "train_loss = []\n",
        "test_loss = []\n",
        "train_acc = []\n",
        "test_acc = []\n",
        "i_data = []\n",
        "\n",
        "for i in range(10000):\n",
        "    rand_idx = np.random.choice(texts_train.shape[0], size = batch_size)\n",
        "    rand_x = texts_train[rand_idx].todense()\n",
        "    rand_y = np.transpose([target_train[rand_idx]])\n",
        "    session.run(train_step, feed_dict={x_data: rand_x, y_target: rand_y})\n",
        "    \n",
        "    if(i+1)%100==0:\n",
        "        i_data.append(i+1)\n",
        "        \n",
        "        train_loss_temp = session.run(loss, feed_dict={x_data:rand_x, y_target:rand_y})\n",
        "        train_loss.append(train_loss_temp)\n",
        "        \n",
        "        test_loss_temp = session.run(loss, feed_dict={x_data:texts_test.todense(), \n",
        "                                                      y_target:np.transpose([target_test])})\n",
        "        test_loss.append(test_loss_temp)\n",
        "        \n",
        "        train_acc_temp = session.run(accuracy, feed_dict={x_data: rand_x, y_target: rand_y})\n",
        "        train_acc.append(train_acc_temp)\n",
        "        \n",
        "        test_acc_temp = session.run(accuracy, feed_dict={x_data: texts_test.todense(), \n",
        "                                                         y_target: np.transpose([target_test])})\n",
        "        test_acc.append(test_acc_temp)\n",
        "        \n",
        "    if(i+1)%500==0:\n",
        "        acc_and_loss = [i+1, train_loss_temp, test_loss_temp, train_acc_temp, test_acc_temp]\n",
        "        acc_and_loss = [np.round(x,3) for x in acc_and_loss]\n",
        "        print(\"Paso #{}. Train loss: {}. Test Loss: {}.\\n  Train Acc: {}. Test Acc:{}.\".format(*acc_and_loss))"
      ],
      "execution_count": 37,
      "outputs": [
        {
          "output_type": "stream",
          "text": [
            "Paso #500. Train loss: 0.921999990940094. Test Loss: 0.9599999785423279.\n",
            "  Train Acc: 0.39500001072883606. Test Acc:0.38600000739097595.\n",
            "Paso #1000. Train loss: 0.7770000100135803. Test Loss: 0.7670000195503235.\n",
            "  Train Acc: 0.5350000262260437. Test Acc:0.5379999876022339.\n",
            "Paso #1500. Train loss: 0.652999997138977. Test Loss: 0.6549999713897705.\n",
            "  Train Acc: 0.6449999809265137. Test Acc:0.6389999985694885.\n",
            "Paso #2000. Train loss: 0.5989999771118164. Test Loss: 0.5879999995231628.\n",
            "  Train Acc: 0.6949999928474426. Test Acc:0.7139999866485596.\n",
            "Paso #2500. Train loss: 0.5329999923706055. Test Loss: 0.5479999780654907.\n",
            "  Train Acc: 0.7649999856948853. Test Acc:0.7519999742507935.\n",
            "Paso #3000. Train loss: 0.550000011920929. Test Loss: 0.5230000019073486.\n",
            "  Train Acc: 0.7649999856948853. Test Acc:0.777999997138977.\n",
            "Paso #3500. Train loss: 0.4749999940395355. Test Loss: 0.5070000290870667.\n",
            "  Train Acc: 0.8349999785423279. Test Acc:0.8019999861717224.\n",
            "Paso #4000. Train loss: 0.46299999952316284. Test Loss: 0.4959999918937683.\n",
            "  Train Acc: 0.800000011920929. Test Acc:0.8119999766349792.\n",
            "Paso #4500. Train loss: 0.47999998927116394. Test Loss: 0.48899999260902405.\n",
            "  Train Acc: 0.824999988079071. Test Acc:0.8240000009536743.\n",
            "Paso #5000. Train loss: 0.503000020980835. Test Loss: 0.48500001430511475.\n",
            "  Train Acc: 0.8199999928474426. Test Acc:0.8309999704360962.\n",
            "Paso #5500. Train loss: 0.3840000033378601. Test Loss: 0.48100000619888306.\n",
            "  Train Acc: 0.875. Test Acc:0.8349999785423279.\n",
            "Paso #6000. Train loss: 0.40299999713897705. Test Loss: 0.4790000021457672.\n",
            "  Train Acc: 0.8600000143051147. Test Acc:0.8379999995231628.\n",
            "Paso #6500. Train loss: 0.5600000023841858. Test Loss: 0.4779999852180481.\n",
            "  Train Acc: 0.8100000023841858. Test Acc:0.8389999866485596.\n",
            "Paso #7000. Train loss: 0.5180000066757202. Test Loss: 0.47699999809265137.\n",
            "  Train Acc: 0.8100000023841858. Test Acc:0.8420000076293945.\n",
            "Paso #7500. Train loss: 0.4009999930858612. Test Loss: 0.47600001096725464.\n",
            "  Train Acc: 0.8799999952316284. Test Acc:0.8420000076293945.\n",
            "Paso #8000. Train loss: 0.36000001430511475. Test Loss: 0.47600001096725464.\n",
            "  Train Acc: 0.8949999809265137. Test Acc:0.8429999947547913.\n",
            "Paso #8500. Train loss: 0.527999997138977. Test Loss: 0.4749999940395355.\n",
            "  Train Acc: 0.8299999833106995. Test Acc:0.8450000286102295.\n",
            "Paso #9000. Train loss: 0.5350000262260437. Test Loss: 0.4749999940395355.\n",
            "  Train Acc: 0.8349999785423279. Test Acc:0.8460000157356262.\n",
            "Paso #9500. Train loss: 0.44200000166893005. Test Loss: 0.4749999940395355.\n",
            "  Train Acc: 0.8450000286102295. Test Acc:0.8460000157356262.\n",
            "Paso #10000. Train loss: 0.37700000405311584. Test Loss: 0.4749999940395355.\n",
            "  Train Acc: 0.875. Test Acc:0.8479999899864197.\n"
          ],
          "name": "stdout"
        }
      ]
    },
    {
      "cell_type": "code",
      "metadata": {
        "id": "COu52hyoGQaH",
        "colab_type": "code",
        "colab": {
          "base_uri": "https://localhost:8080/",
          "height": 295
        },
        "outputId": "74fdf271-7d41-4cf1-f25c-915932688434"
      },
      "source": [
        "plt.plot(train_loss, 'r-', label = \"Función de Pérdida en Entrenamiento\")\n",
        "plt.plot(test_loss, 'b--', label = \"Función de Pérdida en Test\")\n",
        "plt.legend(loc=\"upper right\")\n",
        "plt.xlabel(\"Iteraciones\")\n",
        "plt.ylabel(\"Pérdida en Entropía cruzada\")\n",
        "plt.title(\"Función de pérdidas según iteración\")\n",
        "plt.show()"
      ],
      "execution_count": 38,
      "outputs": [
        {
          "output_type": "display_data",
          "data": {
            "image/png": "[encoded data removed]",
            "text/plain": [
              "<Figure size 432x288 with 1 Axes>"
            ]
          },
          "metadata": {
            "tags": [],
            "needs_background": "light"
          }
        }
      ]
    },
    {
      "cell_type": "code",
      "metadata": {
        "id": "n3yrz10LGQaM",
        "colab_type": "code",
        "colab": {
          "base_uri": "https://localhost:8080/",
          "height": 295
        },
        "outputId": "8069327d-cb6b-40e4-c97e-cef30f59fe85"
      },
      "source": [
        "plt.plot(train_acc, 'r-', label = \"Precisión en Entrenamiento\")\n",
        "plt.plot(test_acc, 'b--', label = \"Precisión en Test\")\n",
        "plt.legend(loc=\"lower right\")\n",
        "plt.xlabel(\"Iteraciones\")\n",
        "plt.ylabel(\"Precisión\")\n",
        "plt.title(\"Precisión en la predicción Spam/Ham según iteración\")\n",
        "plt.show()"
      ],
      "execution_count": 39,
      "outputs": [
        {
          "output_type": "display_data",
          "data": {
            "image/png": "[encoded data removed]",
            "text/plain": [
              "<Figure size 432x288 with 1 Axes>"
            ]
          },
          "metadata": {
            "tags": [],
            "needs_background": "light"
          }
        }
      ]
    }
  ]
}