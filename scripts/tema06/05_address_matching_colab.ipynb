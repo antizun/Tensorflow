{
  "nbformat": 4,
  "nbformat_minor": 0,
  "metadata": {
    "colab": {
      "name": "05-address-matching_colab.ipynb",
      "provenance": [],
      "collapsed_sections": []
    },
    "kernelspec": {
      "display_name": "Python 3",
      "language": "python",
      "name": "python3"
    },
    "language_info": {
      "codemirror_mode": {
        "name": "ipython",
        "version": 3
      },
      "file_extension": ".py",
      "mimetype": "text/x-python",
      "name": "python",
      "nbconvert_exporter": "python",
      "pygments_lexer": "ipython3",
      "version": "3.8.3"
    },
    "accelerator": "GPU"
  },
  "cells": [
    {
      "cell_type": "markdown",
      "metadata": {
        "colab_type": "text",
        "id": "KdUFcDsdzRyw"
      },
      "source": [
        "# Clonamos el repositorio para obtener los dataSet"
      ]
    },
    {
      "cell_type": "code",
      "metadata": {
        "colab_type": "code",
        "id": "mHReFf3_y9ms",
        "colab": {
          "base_uri": "https://localhost:8080/",
          "height": 153
        },
        "outputId": "6b2f123d-3a40-4d7a-e901-7d3b0a9c50b0"
      },
      "source": [
        "!git clone https://github.com/joanby/tensorflow.git"
      ],
      "execution_count": null,
      "outputs": [
        {
          "output_type": "stream",
          "text": [
            "Cloning into 'tensorflow'...\n",
            "remote: Enumerating objects: 51, done.\u001b[K\n",
            "remote: Counting objects: 100% (51/51), done.\u001b[K\n",
            "remote: Compressing objects: 100% (28/28), done.\u001b[K\n",
            "remote: Total 60311 (delta 32), reused 37 (delta 23), pack-reused 60260\u001b[K\n",
            "Receiving objects: 100% (60311/60311), 442.46 MiB | 14.79 MiB/s, done.\n",
            "Resolving deltas: 100% (82/82), done.\n",
            "Checking out files: 100% (60225/60225), done.\n"
          ],
          "name": "stdout"
        }
      ]
    },
    {
      "cell_type": "markdown",
      "metadata": {
        "colab_type": "text",
        "id": "vNKZXgtKzU2x"
      },
      "source": [
        "# Damos acceso a nuestro Drive"
      ]
    },
    {
      "cell_type": "code",
      "metadata": {
        "colab_type": "code",
        "id": "5gu7KWnzzUQ0",
        "colab": {}
      },
      "source": [
        "from google.colab import drive\n",
        "drive.mount('/content/drive')"
      ],
      "execution_count": null,
      "outputs": []
    },
    {
      "cell_type": "markdown",
      "metadata": {
        "colab_type": "text",
        "id": "1gUxIkHWzfHV"
      },
      "source": [
        "# Test it"
      ]
    },
    {
      "cell_type": "code",
      "metadata": {
        "colab_type": "code",
        "id": "mIQt3jBMzYRE",
        "colab": {}
      },
      "source": [
        "!ls '/content/drive/My Drive' "
      ],
      "execution_count": null,
      "outputs": []
    },
    {
      "cell_type": "markdown",
      "metadata": {
        "colab_type": "text",
        "id": "mHsK36uN0XB-"
      },
      "source": [
        "# Google colab tools"
      ]
    },
    {
      "cell_type": "code",
      "metadata": {
        "colab_type": "code",
        "id": "kTzwfUPWzrm4",
        "colab": {}
      },
      "source": [
        "from google.colab import files # Para manejar los archivos y, por ejemplo, exportar a su navegador\n",
        "import glob # Para manejar los archivos y, por ejemplo, exportar a su navegador\n",
        "from google.colab import drive # Montar tu Google drive"
      ],
      "execution_count": 1,
      "outputs": []
    },
    {
      "cell_type": "markdown",
      "metadata": {
        "id": "yQQ8nLiMY6wM",
        "colab_type": "text"
      },
      "source": [
        "##Especificando la versión de TensorFlow\n",
        "\n",
        "Ejecutando \"importar tensorflow\" importará la versión por defecto (actualmente 2.x). Puedes usar la 1.x ejecutando una celda con la \"versión mágica de tensorflow\" **antes de ejecutar \"importar tensorflow\".\n",
        "\n",
        "### Si no funciona hacer el pip install\n"
      ]
    },
    {
      "cell_type": "code",
      "metadata": {
        "id": "1j---G3ZY6wN",
        "colab_type": "code",
        "colab": {
          "base_uri": "https://localhost:8080/",
          "height": 34
        },
        "outputId": "f363a778-c70c-4292-b3c6-5024ef8c2657"
      },
      "source": [
        "#!pip install tensorflow==1.14\n",
        "%tensorflow_version 1.x"
      ],
      "execution_count": 2,
      "outputs": [
        {
          "output_type": "stream",
          "text": [
            "TensorFlow 1.x selected.\n"
          ],
          "name": "stdout"
        }
      ]
    },
    {
      "cell_type": "markdown",
      "metadata": {
        "id": "S-OIfuWLujbt",
        "colab_type": "text"
      },
      "source": [
        "# Importar Tensorflow"
      ]
    },
    {
      "cell_type": "code",
      "metadata": {
        "id": "OPSus73fumtP",
        "colab_type": "code",
        "colab": {
          "base_uri": "https://localhost:8080/",
          "height": 34
        },
        "outputId": "2091392c-b46b-4e22-86d7-9a58d3b5b444"
      },
      "source": [
        "import tensorflow as tf\n",
        "print(tf.__version__)\n",
        "import matplotlib.pyplot as plt"
      ],
      "execution_count": 3,
      "outputs": [
        {
          "output_type": "stream",
          "text": [
            "1.15.2\n"
          ],
          "name": "stdout"
        }
      ]
    },
    {
      "cell_type": "code",
      "metadata": {
        "id": "VQheSGsEBdD3",
        "colab_type": "code",
        "colab": {}
      },
      "source": [
        "session = tf.Session()"
      ],
      "execution_count": 142,
      "outputs": []
    },
    {
      "cell_type": "markdown",
      "metadata": {
        "id": "qzlBylUEmQJ0",
        "colab_type": "text"
      },
      "source": [
        "# Correspondencia en direcciones postales"
      ]
    },
    {
      "cell_type": "code",
      "metadata": {
        "id": "IpjDgYSa5-j8",
        "colab_type": "code",
        "colab": {}
      },
      "source": [
        "import random\n",
        "import string\n",
        "import numpy as np"
      ],
      "execution_count": 161,
      "outputs": []
    },
    {
      "cell_type": "code",
      "metadata": {
        "id": "rQ41NQPv6AGg",
        "colab_type": "code",
        "colab": {}
      },
      "source": [
        "n = 10\n",
        "street_names = [\"diagon\", \"elm\", \"abbey\", \"gran\", \"python\"]\n",
        "street_type = [\"callejon\", \"calle\", \"carrera\", \"via\", \"avenida\"]\n",
        "street_zips = [random.randint(20000, 29999) for i in range(5)]\n",
        "numbers = [random.randint(1,999) for i in range(n)]"
      ],
      "execution_count": 162,
      "outputs": []
    },
    {
      "cell_type": "code",
      "metadata": {
        "id": "c4hGsOTe6Bjk",
        "colab_type": "code",
        "colab": {}
      },
      "source": [
        "streets = [random.choice(street_names) for i in range(n)]\n",
        "street_prefs = [random.choice(street_type) for i in range(n)]\n",
        "zips = [random.choice(street_zips) for i in range(n)]\n",
        "full_streets = [x + \" \" + y + \" \" + str(z) for x,y,z in zip(street_prefs, streets, numbers)]\n",
        "reference_data = [list(x) for x in zip(full_streets, zips)]"
      ],
      "execution_count": 163,
      "outputs": []
    },
    {
      "cell_type": "code",
      "metadata": {
        "id": "87y7oBlz6DAD",
        "colab_type": "code",
        "colab": {
          "base_uri": "https://localhost:8080/",
          "height": 187
        },
        "outputId": "42d67ee5-d7aa-4566-a693-27f954f264fb"
      },
      "source": [
        "reference_data"
      ],
      "execution_count": 164,
      "outputs": [
        {
          "output_type": "execute_result",
          "data": {
            "text/plain": [
              "[['callejon python 861', 25879],\n",
              " ['carrera elm 482', 21630],\n",
              " ['callejon diagon 940', 25879],\n",
              " ['carrera abbey 861', 25879],\n",
              " ['avenida elm 431', 21630],\n",
              " ['calle abbey 104', 29700],\n",
              " ['calle diagon 760', 29700],\n",
              " ['avenida diagon 460', 29700],\n",
              " ['calle diagon 297', 21630],\n",
              " ['via diagon 922', 29712]]"
            ]
          },
          "metadata": {
            "tags": []
          },
          "execution_count": 164
        }
      ]
    },
    {
      "cell_type": "code",
      "metadata": {
        "id": "mgblvoIy6EOL",
        "colab_type": "code",
        "colab": {}
      },
      "source": [
        "def create_typo(s, prob=0.75):\n",
        "    if random.uniform(0,1)<0.75:\n",
        "        rand_idx = random.choice(range(len(s)))\n",
        "        s_list = list(s)\n",
        "        s_list[rand_idx] = random.choice(string.ascii_lowercase)\n",
        "        s = ''.join(s_list)\n",
        "    return s"
      ],
      "execution_count": 165,
      "outputs": []
    },
    {
      "cell_type": "code",
      "metadata": {
        "id": "zXhujYPP7yxy",
        "colab_type": "code",
        "colab": {}
      },
      "source": [
        "typo_streets = [create_typo(x) for x in streets]"
      ],
      "execution_count": 166,
      "outputs": []
    },
    {
      "cell_type": "code",
      "metadata": {
        "id": "6Ckkam_d70QO",
        "colab_type": "code",
        "colab": {}
      },
      "source": [
        "typo_full_streets = [x+\" \"+y+\" \"+str(z) for x,y,z in zip(street_prefs, typo_streets, numbers)]\n",
        "test_data = [list(x) for x in zip(typo_full_streets, zips)]"
      ],
      "execution_count": 167,
      "outputs": []
    },
    {
      "cell_type": "code",
      "metadata": {
        "id": "mLoL-wsS71j2",
        "colab_type": "code",
        "colab": {
          "base_uri": "https://localhost:8080/",
          "height": 187
        },
        "outputId": "a08d0bab-b20e-4467-b38a-b0dbd70b0f49"
      },
      "source": [
        "test_data"
      ],
      "execution_count": 168,
      "outputs": [
        {
          "output_type": "execute_result",
          "data": {
            "text/plain": [
              "[['callejon python 861', 25879],\n",
              " ['carrera elm 482', 21630],\n",
              " ['callejon diagmn 940', 25879],\n",
              " ['carrera afbey 861', 25879],\n",
              " ['avenida elm 431', 21630],\n",
              " ['calle wbbey 104', 29700],\n",
              " ['calle diagoo 760', 29700],\n",
              " ['avenida diagon 460', 29700],\n",
              " ['calle diagon 297', 21630],\n",
              " ['via diagoc 922', 29712]]"
            ]
          },
          "metadata": {
            "tags": []
          },
          "execution_count": 168
        }
      ]
    },
    {
      "cell_type": "code",
      "metadata": {
        "id": "VTnSQ_Ox72tI",
        "colab_type": "code",
        "colab": {}
      },
      "source": [
        "session = tf.Session()"
      ],
      "execution_count": 170,
      "outputs": []
    },
    {
      "cell_type": "code",
      "metadata": {
        "id": "hD5iw08U74Ap",
        "colab_type": "code",
        "colab": {}
      },
      "source": [
        "test_address = tf.sparse_placeholder(dtype = tf.string)\n",
        "test_zip = tf.placeholder(shape = [None, 1], dtype=tf.float32)\n",
        "\n",
        "ref_address = tf.sparse_placeholder(dtype = tf.string)\n",
        "ref_zip = tf.placeholder(shape=[None, n], dtype=tf.float32 )"
      ],
      "execution_count": 171,
      "outputs": []
    },
    {
      "cell_type": "code",
      "metadata": {
        "id": "X0S03c_775Ee",
        "colab_type": "code",
        "colab": {}
      },
      "source": [
        "zip_dist = tf.square(tf.subtract(ref_zip, test_zip))\n",
        "address_dist = tf.edit_distance(test_address, ref_address, normalize=True)"
      ],
      "execution_count": 172,
      "outputs": []
    },
    {
      "cell_type": "markdown",
      "metadata": {
        "id": "uDWCOkDP8dK9",
        "colab_type": "text"
      },
      "source": [
        "- $S(x,y) = 0$ si $x$ e $y$ son totalmente diferentes (no se parecen en nada)\n",
        "- $S(x,x) = 1$, ya que todo objeto es similar (si no igual) a si mismo.\n",
        "- $S(x,y) = \\frac{D - d(x,y)}{D-d}$ donde $D$ es la mayor distancia entre dos objetos posibles, y $d$ es la menor."
      ]
    },
    {
      "cell_type": "code",
      "metadata": {
        "id": "ZWebmOrB76LT",
        "colab_type": "code",
        "colab": {}
      },
      "source": [
        "zip_max = tf.gather(tf.squeeze(zip_dist), tf.argmax(zip_dist, 1))\n",
        "zip_min = tf.gather(tf.squeeze(zip_dist), tf.argmin(zip_dist, 1))\n",
        "zip_sim = tf.divide(tf.subtract(zip_max, zip_dist), tf.subtract(zip_max, zip_min))"
      ],
      "execution_count": 173,
      "outputs": []
    },
    {
      "cell_type": "code",
      "metadata": {
        "id": "WonToF5K77pQ",
        "colab_type": "code",
        "colab": {}
      },
      "source": [
        "address_sim = tf.subtract(1.0, address_dist)"
      ],
      "execution_count": 174,
      "outputs": []
    },
    {
      "cell_type": "markdown",
      "metadata": {
        "id": "RW9D6AIS8kan",
        "colab_type": "text"
      },
      "source": [
        "$$S(x,y) = \\sum_{i=1}^k w_iS_k(x,y):\\quad \\sum_{i=1}^kw_i = 1$$"
      ]
    },
    {
      "cell_type": "code",
      "metadata": {
        "id": "wq9g9AKP78m1",
        "colab_type": "code",
        "colab": {}
      },
      "source": [
        "address_wi = 0.5\n",
        "zip_wi = 1.0 -address_wi"
      ],
      "execution_count": 175,
      "outputs": []
    },
    {
      "cell_type": "code",
      "metadata": {
        "id": "khDwiaCa79s0",
        "colab_type": "code",
        "colab": {}
      },
      "source": [
        "weighted_sim = tf.add(tf.transpose(tf.multiply(address_wi, address_sim)),tf.multiply(zip_wi, zip_sim))"
      ],
      "execution_count": 176,
      "outputs": []
    },
    {
      "cell_type": "code",
      "metadata": {
        "id": "pa50C7Fk7_Pi",
        "colab_type": "code",
        "colab": {}
      },
      "source": [
        "top_match_idx = tf.argmax(weighted_sim, 1)"
      ],
      "execution_count": 177,
      "outputs": []
    },
    {
      "cell_type": "code",
      "metadata": {
        "id": "uQUVeqZp8Adj",
        "colab_type": "code",
        "colab": {}
      },
      "source": [
        "def sparse_from_word_vector(word_vector):\n",
        "    num_words = len(word_vector)\n",
        "    idx = [[xi, 0, yi] for xi, x in enumerate(word_vector) for yi, y in enumerate(x)]\n",
        "    chars = list(''.join(word_vector))\n",
        "    return tf.SparseTensorValue(idx, chars, [num_words,1,1])"
      ],
      "execution_count": 178,
      "outputs": []
    },
    {
      "cell_type": "code",
      "metadata": {
        "id": "cKwq3uRt8p2Z",
        "colab_type": "code",
        "colab": {}
      },
      "source": [
        "reference_address = [x[0] for x in reference_data]\n",
        "reference_zips = np.array([[x[1] for x in reference_data]])"
      ],
      "execution_count": 179,
      "outputs": []
    },
    {
      "cell_type": "code",
      "metadata": {
        "id": "j-S9g_Ww8rLC",
        "colab_type": "code",
        "colab": {}
      },
      "source": [
        "sparse_ref_set = sparse_from_word_vector(reference_address)"
      ],
      "execution_count": 180,
      "outputs": []
    },
    {
      "cell_type": "code",
      "metadata": {
        "id": "MB_VdQ5L8sQM",
        "colab_type": "code",
        "colab": {
          "base_uri": "https://localhost:8080/",
          "height": 527
        },
        "outputId": "3406d675-c568-422f-b79c-0634c28b4632"
      },
      "source": [
        "for i in range(n):\n",
        "    test_address_entry = test_data[i][0]\n",
        "    test_zip_entry = [[test_data[i][1]]]\n",
        "    \n",
        "    test_address_rep = [test_address_entry]*n\n",
        "    sparse_test_set = sparse_from_word_vector(test_address_rep)\n",
        "    \n",
        "    feed_dict = {test_address: sparse_test_set,\n",
        "                test_zip: test_zip_entry,\n",
        "                ref_address: sparse_ref_set,\n",
        "                ref_zip: reference_zips}\n",
        "    \n",
        "    best_match = session.run(top_match_idx, feed_dict=feed_dict)\n",
        "    best_address = reference_address[best_match[0]]\n",
        "    [best_zip] = reference_zips[0][best_match]\n",
        "    [[test_zip_aux]] = test_zip_entry\n",
        "    \n",
        "    print(\"Dirección original: \"+str(test_address_entry)+ \", \"+str(test_zip_aux))\n",
        "    print(\"Dirección corregida: \"+str(best_address)+\", \"+str(best_zip)+\"\\n\")"
      ],
      "execution_count": 181,
      "outputs": [
        {
          "output_type": "stream",
          "text": [
            "Dirección original: callejon python 861, 25879\n",
            "Dirección corregida: callejon python 861, 25879\n",
            "\n",
            "Dirección original: carrera elm 482, 21630\n",
            "Dirección corregida: carrera elm 482, 21630\n",
            "\n",
            "Dirección original: callejon diagmn 940, 25879\n",
            "Dirección corregida: callejon diagon 940, 25879\n",
            "\n",
            "Dirección original: carrera afbey 861, 25879\n",
            "Dirección corregida: carrera abbey 861, 25879\n",
            "\n",
            "Dirección original: avenida elm 431, 21630\n",
            "Dirección corregida: avenida elm 431, 21630\n",
            "\n",
            "Dirección original: calle wbbey 104, 29700\n",
            "Dirección corregida: calle abbey 104, 29700\n",
            "\n",
            "Dirección original: calle diagoo 760, 29700\n",
            "Dirección corregida: calle diagon 760, 29700\n",
            "\n",
            "Dirección original: avenida diagon 460, 29700\n",
            "Dirección corregida: avenida diagon 460, 29700\n",
            "\n",
            "Dirección original: calle diagon 297, 21630\n",
            "Dirección corregida: calle diagon 297, 21630\n",
            "\n",
            "Dirección original: via diagoc 922, 29712\n",
            "Dirección corregida: via diagon 922, 29712\n",
            "\n"
          ],
          "name": "stdout"
        }
      ]
    }
  ]
}