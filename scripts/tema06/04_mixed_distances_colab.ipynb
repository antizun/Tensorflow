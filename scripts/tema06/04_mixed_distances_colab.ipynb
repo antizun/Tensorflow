{
  "nbformat": 4,
  "nbformat_minor": 0,
  "metadata": {
    "colab": {
      "name": "04-mixed-distances_colab.ipynb",
      "provenance": [],
      "collapsed_sections": []
    },
    "kernelspec": {
      "display_name": "Python 3",
      "language": "python",
      "name": "python3"
    },
    "language_info": {
      "codemirror_mode": {
        "name": "ipython",
        "version": 3
      },
      "file_extension": ".py",
      "mimetype": "text/x-python",
      "name": "python",
      "nbconvert_exporter": "python",
      "pygments_lexer": "ipython3",
      "version": "3.8.3"
    },
    "accelerator": "GPU"
  },
  "cells": [
    {
      "cell_type": "markdown",
      "metadata": {
        "colab_type": "text",
        "id": "KdUFcDsdzRyw"
      },
      "source": [
        "# Clonamos el repositorio para obtener los dataSet"
      ]
    },
    {
      "cell_type": "code",
      "metadata": {
        "colab_type": "code",
        "id": "mHReFf3_y9ms",
        "colab": {
          "base_uri": "https://localhost:8080/",
          "height": 153
        },
        "outputId": "6b2f123d-3a40-4d7a-e901-7d3b0a9c50b0"
      },
      "source": [
        "!git clone https://github.com/joanby/tensorflow.git"
      ],
      "execution_count": null,
      "outputs": [
        {
          "output_type": "stream",
          "text": [
            "Cloning into 'tensorflow'...\n",
            "remote: Enumerating objects: 51, done.\u001b[K\n",
            "remote: Counting objects: 100% (51/51), done.\u001b[K\n",
            "remote: Compressing objects: 100% (28/28), done.\u001b[K\n",
            "remote: Total 60311 (delta 32), reused 37 (delta 23), pack-reused 60260\u001b[K\n",
            "Receiving objects: 100% (60311/60311), 442.46 MiB | 14.79 MiB/s, done.\n",
            "Resolving deltas: 100% (82/82), done.\n",
            "Checking out files: 100% (60225/60225), done.\n"
          ],
          "name": "stdout"
        }
      ]
    },
    {
      "cell_type": "markdown",
      "metadata": {
        "colab_type": "text",
        "id": "vNKZXgtKzU2x"
      },
      "source": [
        "# Damos acceso a nuestro Drive"
      ]
    },
    {
      "cell_type": "code",
      "metadata": {
        "colab_type": "code",
        "id": "5gu7KWnzzUQ0",
        "colab": {}
      },
      "source": [
        "from google.colab import drive\n",
        "drive.mount('/content/drive')"
      ],
      "execution_count": null,
      "outputs": []
    },
    {
      "cell_type": "markdown",
      "metadata": {
        "colab_type": "text",
        "id": "1gUxIkHWzfHV"
      },
      "source": [
        "# Test it"
      ]
    },
    {
      "cell_type": "code",
      "metadata": {
        "colab_type": "code",
        "id": "mIQt3jBMzYRE",
        "colab": {}
      },
      "source": [
        "!ls '/content/drive/My Drive' "
      ],
      "execution_count": null,
      "outputs": []
    },
    {
      "cell_type": "markdown",
      "metadata": {
        "colab_type": "text",
        "id": "mHsK36uN0XB-"
      },
      "source": [
        "# Google colab tools"
      ]
    },
    {
      "cell_type": "code",
      "metadata": {
        "colab_type": "code",
        "id": "kTzwfUPWzrm4",
        "colab": {}
      },
      "source": [
        "from google.colab import files # Para manejar los archivos y, por ejemplo, exportar a su navegador\n",
        "import glob # Para manejar los archivos y, por ejemplo, exportar a su navegador\n",
        "from google.colab import drive # Montar tu Google drive"
      ],
      "execution_count": 1,
      "outputs": []
    },
    {
      "cell_type": "markdown",
      "metadata": {
        "id": "yQQ8nLiMY6wM",
        "colab_type": "text"
      },
      "source": [
        "##Especificando la versión de TensorFlow\n",
        "\n",
        "Ejecutando \"importar tensorflow\" importará la versión por defecto (actualmente 2.x). Puedes usar la 1.x ejecutando una celda con la \"versión mágica de tensorflow\" **antes de ejecutar \"importar tensorflow\".\n",
        "\n",
        "### Si no funciona hacer el pip install\n"
      ]
    },
    {
      "cell_type": "code",
      "metadata": {
        "id": "1j---G3ZY6wN",
        "colab_type": "code",
        "colab": {
          "base_uri": "https://localhost:8080/",
          "height": 34
        },
        "outputId": "f363a778-c70c-4292-b3c6-5024ef8c2657"
      },
      "source": [
        "#!pip install tensorflow==1.14\n",
        "%tensorflow_version 1.x"
      ],
      "execution_count": 2,
      "outputs": [
        {
          "output_type": "stream",
          "text": [
            "TensorFlow 1.x selected.\n"
          ],
          "name": "stdout"
        }
      ]
    },
    {
      "cell_type": "markdown",
      "metadata": {
        "id": "S-OIfuWLujbt",
        "colab_type": "text"
      },
      "source": [
        "# Importar Tensorflow"
      ]
    },
    {
      "cell_type": "code",
      "metadata": {
        "id": "OPSus73fumtP",
        "colab_type": "code",
        "colab": {
          "base_uri": "https://localhost:8080/",
          "height": 34
        },
        "outputId": "2091392c-b46b-4e22-86d7-9a58d3b5b444"
      },
      "source": [
        "import tensorflow as tf\n",
        "print(tf.__version__)\n",
        "import matplotlib.pyplot as plt"
      ],
      "execution_count": 3,
      "outputs": [
        {
          "output_type": "stream",
          "text": [
            "1.15.2\n"
          ],
          "name": "stdout"
        }
      ]
    },
    {
      "cell_type": "code",
      "metadata": {
        "id": "VQheSGsEBdD3",
        "colab_type": "code",
        "colab": {}
      },
      "source": [
        "session = tf.Session()"
      ],
      "execution_count": 142,
      "outputs": []
    },
    {
      "cell_type": "markdown",
      "metadata": {
        "id": "qzlBylUEmQJ0",
        "colab_type": "text"
      },
      "source": [
        "# Distancias ponderadas para cada variable"
      ]
    },
    {
      "cell_type": "markdown",
      "metadata": {
        "id": "cDX1L5E56ssX",
        "colab_type": "text"
      },
      "source": [
        "$$D(x,y) = \\sqrt{(x-y)^T\\cdot A\\cdot(x-y)}$$"
      ]
    },
    {
      "cell_type": "code",
      "metadata": {
        "id": "IpjDgYSa5-j8",
        "colab_type": "code",
        "colab": {}
      },
      "source": [
        "import matplotlib.pyplot as plt\n",
        "import numpy as np\n",
        "import requests"
      ],
      "execution_count": 143,
      "outputs": []
    },
    {
      "cell_type": "code",
      "metadata": {
        "id": "rQ41NQPv6AGg",
        "colab_type": "code",
        "colab": {}
      },
      "source": [
        "url = \"https://archive.ics.uci.edu/ml/machine-learning-databases/housing/housing.data\"\n",
        "housing_header = [\"CRIM\", #      per capita crime rate by town\n",
        "                  \"ZN\", #        proportion of residential land zoned for lots over 25,000 sq.ft.\n",
        "                  \"INDUS\", #     proportion of non-retail business acres per town\n",
        "                  \"CHAS\", #      Charles River dummy variable (= 1 if tract bounds  river; 0 otherwise)\n",
        "                  \"NOX\", #       nitric oxides concentration (parts per 10 million)\n",
        "                  \"RM\", #        average number of rooms per dwelling\n",
        "                  \"AGE\",#        proportion of owner-occupied units built prior to 1940\n",
        "                  \"DIS\", #       weighted distances to five Boston employment centres\n",
        "                  \"RAD\", #       index of accessibility to radial highways\n",
        "                  \"TAX\", #       full-value property-tax rate per $10,000\n",
        "                  \"PTRATIO\",#    pupil-teacher ratio by town\n",
        "                  \"B\", #         1000(Bk - 0.63)^2 where Bk is the proportion of blacks by town\n",
        "                  \"LSTAT\", #     % lower status of the population\n",
        "                  \"MEDV\" #       Median value of owner-occupied homes in $1000's\n",
        "                 ]\n",
        "cols_used = [\"CRIM\", \"INDUS\", \"NOX\", \"RM\", \"AGE\", \"DIS\", \"TAX\", \"PTRATIO\", \"B\", \"LSTAT\"]\n",
        "num_features = len(cols_used)\n",
        "housing_file = requests.get(url)\n",
        "housing_data =[[float(x) for x in y.split(' ') if len(x)>=1] for y in housing_file.text.split('\\n') if len(y)>=1]\n",
        "y_vals = np.transpose([np.array([y[13] for y in housing_data])])\n",
        "x_vals = np.array([[x for i,x in enumerate(y) if housing_header[i] in cols_used] for y in housing_data])\n",
        "x_vals = (x_vals - x_vals.min(0))/x_vals.ptp(0)"
      ],
      "execution_count": 144,
      "outputs": []
    },
    {
      "cell_type": "code",
      "metadata": {
        "id": "c4hGsOTe6Bjk",
        "colab_type": "code",
        "colab": {
          "base_uri": "https://localhost:8080/",
          "height": 51
        },
        "outputId": "4c34e867-e8d4-4c8a-b017-fb086d18e95f"
      },
      "source": [
        "weight_diag = x_vals.std(0)\n",
        "weight_diag"
      ],
      "execution_count": 145,
      "outputs": [
        {
          "output_type": "execute_result",
          "data": {
            "text/plain": [
              "array([0.09658371, 0.25123059, 0.23819571, 0.13449368, 0.28960899,\n",
              "       0.19129285, 0.32131774, 0.23008566, 0.22997783, 0.19685435])"
            ]
          },
          "metadata": {
            "tags": []
          },
          "execution_count": 145
        }
      ]
    },
    {
      "cell_type": "code",
      "metadata": {
        "id": "87y7oBlz6DAD",
        "colab_type": "code",
        "colab": {}
      },
      "source": [
        "weight_matrix = tf.cast(tf.diag(weight_diag), dtype=tf.float32)"
      ],
      "execution_count": 146,
      "outputs": []
    },
    {
      "cell_type": "code",
      "metadata": {
        "id": "mgblvoIy6EOL",
        "colab_type": "code",
        "colab": {
          "base_uri": "https://localhost:8080/",
          "height": 374
        },
        "outputId": "2929dfaf-e13f-435e-acd2-550ae1c698ee"
      },
      "source": [
        "session.run(weight_matrix)"
      ],
      "execution_count": 148,
      "outputs": [
        {
          "output_type": "execute_result",
          "data": {
            "text/plain": [
              "array([[0.09658372, 0.        , 0.        , 0.        , 0.        ,\n",
              "        0.        , 0.        , 0.        , 0.        , 0.        ],\n",
              "       [0.        , 0.2512306 , 0.        , 0.        , 0.        ,\n",
              "        0.        , 0.        , 0.        , 0.        , 0.        ],\n",
              "       [0.        , 0.        , 0.23819572, 0.        , 0.        ,\n",
              "        0.        , 0.        , 0.        , 0.        , 0.        ],\n",
              "       [0.        , 0.        , 0.        , 0.13449368, 0.        ,\n",
              "        0.        , 0.        , 0.        , 0.        , 0.        ],\n",
              "       [0.        , 0.        , 0.        , 0.        , 0.289609  ,\n",
              "        0.        , 0.        , 0.        , 0.        , 0.        ],\n",
              "       [0.        , 0.        , 0.        , 0.        , 0.        ,\n",
              "        0.19129285, 0.        , 0.        , 0.        , 0.        ],\n",
              "       [0.        , 0.        , 0.        , 0.        , 0.        ,\n",
              "        0.        , 0.32131773, 0.        , 0.        , 0.        ],\n",
              "       [0.        , 0.        , 0.        , 0.        , 0.        ,\n",
              "        0.        , 0.        , 0.23008566, 0.        , 0.        ],\n",
              "       [0.        , 0.        , 0.        , 0.        , 0.        ,\n",
              "        0.        , 0.        , 0.        , 0.22997783, 0.        ],\n",
              "       [0.        , 0.        , 0.        , 0.        , 0.        ,\n",
              "        0.        , 0.        , 0.        , 0.        , 0.19685435]],\n",
              "      dtype=float32)"
            ]
          },
          "metadata": {
            "tags": []
          },
          "execution_count": 148
        }
      ]
    },
    {
      "cell_type": "code",
      "metadata": {
        "id": "zXhujYPP7yxy",
        "colab_type": "code",
        "colab": {}
      },
      "source": [
        "train_idx = np.random.choice(len(x_vals), round(len(x_vals)*0.8), replace=False)\n",
        "test_idx = np.array(list(set(range(len(x_vals)))-set(train_idx)))\n",
        "\n",
        "x_vals_train = x_vals[train_idx]\n",
        "x_vals_test = x_vals[test_idx]\n",
        "\n",
        "y_vals_train = y_vals[train_idx]\n",
        "y_vals_test = y_vals[test_idx]"
      ],
      "execution_count": 149,
      "outputs": []
    },
    {
      "cell_type": "code",
      "metadata": {
        "id": "6Ckkam_d70QO",
        "colab_type": "code",
        "colab": {}
      },
      "source": [
        "k = 4\n",
        "batch_size = len(x_vals_test)"
      ],
      "execution_count": 150,
      "outputs": []
    },
    {
      "cell_type": "code",
      "metadata": {
        "id": "mLoL-wsS71j2",
        "colab_type": "code",
        "colab": {}
      },
      "source": [
        "x_data_train = tf.placeholder(shape=[None, num_features], dtype=tf.float32)\n",
        "x_data_test = tf.placeholder(shape=[None, num_features], dtype=tf.float32)\n",
        "\n",
        "y_target_train = tf.placeholder(shape = [None, 1], dtype=tf.float32)\n",
        "y_target_test = tf.placeholder(shape=[None, 1], dtype=tf.float32)"
      ],
      "execution_count": 151,
      "outputs": []
    },
    {
      "cell_type": "code",
      "metadata": {
        "id": "VTnSQ_Ox72tI",
        "colab_type": "code",
        "colab": {}
      },
      "source": [
        "subs_term = tf.subtract(x_data_train, tf.expand_dims(x_data_test, 1))\n",
        "first_prod = tf.matmul(subs_term, tf.tile(tf.expand_dims(weight_matrix,0), [batch_size, 1, 1]))\n",
        "second_prod = tf.matmul(first_prod, tf.transpose(subs_term, perm=[0,2,1]))"
      ],
      "execution_count": 152,
      "outputs": []
    },
    {
      "cell_type": "code",
      "metadata": {
        "id": "hD5iw08U74Ap",
        "colab_type": "code",
        "colab": {}
      },
      "source": [
        "distance = tf.sqrt(tf.matrix_diag_part(second_prod))"
      ],
      "execution_count": 153,
      "outputs": []
    },
    {
      "cell_type": "code",
      "metadata": {
        "id": "X0S03c_775Ee",
        "colab_type": "code",
        "colab": {}
      },
      "source": [
        "top_k_xvals, top_k_idx = tf.nn.top_k(tf.negative(distance), k = k)\n",
        "x_sums = tf.expand_dims(tf.reduce_sum(top_k_xvals,1),1)\n",
        "x_sums_rep = tf.matmul(x_sums, tf.ones([1,k], tf.float32))\n",
        "x_vals_w = tf.expand_dims(tf.divide(top_k_xvals, x_sums_rep),1) # -> wi = di / \\sum(dj)\n",
        "top_k_yvals = tf.gather(y_target_train, top_k_idx)\n",
        "prediction = tf.squeeze(tf.matmul(x_vals_w, top_k_yvals),axis=[1]) ## \\sum w_i y_i"
      ],
      "execution_count": 154,
      "outputs": []
    },
    {
      "cell_type": "code",
      "metadata": {
        "id": "ZWebmOrB76LT",
        "colab_type": "code",
        "colab": {}
      },
      "source": [
        "mse = tf.div(tf.reduce_sum(tf.square(tf.subtract(prediction, y_target_test))), batch_size)"
      ],
      "execution_count": 155,
      "outputs": []
    },
    {
      "cell_type": "code",
      "metadata": {
        "id": "WonToF5K77pQ",
        "colab_type": "code",
        "colab": {
          "base_uri": "https://localhost:8080/",
          "height": 34
        },
        "outputId": "5c9f81d4-951e-4660-9029-d72d77d34fee"
      },
      "source": [
        "num_loops = int(np.ceil(len(x_vals_test)/batch_size))\n",
        "\n",
        "for i in range(num_loops):\n",
        "    min_idx = i*batch_size\n",
        "    max_idx = min((i+1)*batch_size, len(x_vals_train))\n",
        "    x_batch = x_vals_test[min_idx:max_idx]\n",
        "    y_batch = y_vals_test[min_idx:max_idx]\n",
        "    \n",
        "    predictions = session.run(prediction, feed_dict={x_data_train: x_vals_train, x_data_test: x_batch,\n",
        "                                         y_target_train: y_vals_train, y_target_test: y_batch})\n",
        "    batch_mse = session.run(mse, feed_dict={x_data_train: x_vals_train, x_data_test: x_batch,\n",
        "                                         y_target_train: y_vals_train, y_target_test: y_batch})\n",
        "    \n",
        "    print(\"MSE = \"+str(np.round(batch_mse, 3)))"
      ],
      "execution_count": 156,
      "outputs": [
        {
          "output_type": "stream",
          "text": [
            "MSE = 26.741\n"
          ],
          "name": "stdout"
        }
      ]
    },
    {
      "cell_type": "code",
      "metadata": {
        "id": "wq9g9AKP78m1",
        "colab_type": "code",
        "colab": {
          "base_uri": "https://localhost:8080/",
          "height": 295
        },
        "outputId": "16ccef37-a76e-4f27-c4b3-2b6a4b3b782f"
      },
      "source": [
        "bins = np.linspace(5, 50, 45)\n",
        "plt.hist(predictions, bins, alpha = 0.5, label = \"Predicción\")\n",
        "plt.hist(y_batch, bins, alpha = 0.5, label = \"Dato Real\")\n",
        "plt.title(\"Histograma de valor de la casa real vs predicción\")\n",
        "plt.xlabel(\"Valor mediano de la casa en 1.000$\")\n",
        "plt.ylabel(\"Frecuencia\")\n",
        "plt.legend(loc=\"upper right\")\n",
        "plt.show()"
      ],
      "execution_count": 157,
      "outputs": [
        {
          "output_type": "display_data",
          "data": {
            "image/png": "[encoded data removed]",
            "text/plain": [
              "<Figure size 432x288 with 1 Axes>"
            ]
          },
          "metadata": {
            "tags": [],
            "needs_background": "light"
          }
        }
      ]
    },
    {
      "cell_type": "code",
      "metadata": {
        "id": "khDwiaCa79s0",
        "colab_type": "code",
        "colab": {}
      },
      "source": [
        "def knn(k):\n",
        "    batch_size = len(x_vals_test)\n",
        "\n",
        "    top_k_xvals, top_k_idx = tf.nn.top_k(tf.negative(distance), k = k)\n",
        "    x_sums = tf.expand_dims(tf.reduce_sum(top_k_xvals,1),1)\n",
        "    x_sums_rep = tf.matmul(x_sums, tf.ones([1,k], tf.float32))\n",
        "    x_vals_w = tf.expand_dims(tf.divide(top_k_xvals, x_sums_rep),1) # -> wi = di / \\sum(dj)\n",
        "    \n",
        "    top_k_yvals = tf.gather(y_target_train, top_k_idx)\n",
        "    prediction = tf.squeeze(tf.matmul(x_vals_w, top_k_yvals),axis=[1]) ## \\sum w_i y_i\n",
        "    \n",
        "    mse = tf.div(tf.reduce_sum(tf.square(tf.subtract(prediction, y_target_test))), batch_size)\n",
        "    \n",
        "    min_idx = i*batch_size\n",
        "    max_idx = min((i+1)*batch_size, len(x_vals_train))\n",
        "    x_batch = x_vals_test[min_idx:max_idx]\n",
        "    y_batch = y_vals_test[min_idx:max_idx]\n",
        "    \n",
        "    predictions = session.run(prediction, feed_dict={x_data_train: x_vals_train, x_data_test: x_batch,\n",
        "                                         y_target_train: y_vals_train, y_target_test: y_batch})\n",
        "    batch_mse = session.run(mse, feed_dict={x_data_train: x_vals_train, x_data_test: x_batch,\n",
        "                                         y_target_train: y_vals_train, y_target_test: y_batch})\n",
        "    \n",
        "    return batch_mse"
      ],
      "execution_count": 158,
      "outputs": []
    },
    {
      "cell_type": "code",
      "metadata": {
        "id": "pa50C7Fk7_Pi",
        "colab_type": "code",
        "colab": {
          "base_uri": "https://localhost:8080/",
          "height": 493
        },
        "outputId": "15944008-c5c0-4883-f39e-2a1292532fa7"
      },
      "source": [
        "mse_k = []\n",
        "for k in range(2,30):\n",
        "    mse_t = knn(k)\n",
        "    mse_k.append(mse_t)\n",
        "    print(str(k)+\", MSE=\"+str(mse_t))"
      ],
      "execution_count": 159,
      "outputs": [
        {
          "output_type": "stream",
          "text": [
            "2, MSE=33.795162\n",
            "3, MSE=31.32607\n",
            "4, MSE=26.740622\n",
            "5, MSE=22.52888\n",
            "6, MSE=22.236076\n",
            "7, MSE=24.220541\n",
            "8, MSE=25.449356\n",
            "9, MSE=26.455864\n",
            "10, MSE=25.689653\n",
            "11, MSE=27.22824\n",
            "12, MSE=29.115673\n",
            "13, MSE=30.89462\n",
            "14, MSE=31.198015\n",
            "15, MSE=31.485563\n",
            "16, MSE=31.480242\n",
            "17, MSE=32.5446\n",
            "18, MSE=33.169624\n",
            "19, MSE=34.5289\n",
            "20, MSE=35.069225\n",
            "21, MSE=36.013435\n",
            "22, MSE=36.14036\n",
            "23, MSE=36.29354\n",
            "24, MSE=36.75377\n",
            "25, MSE=36.887993\n",
            "26, MSE=37.03115\n",
            "27, MSE=37.09504\n",
            "28, MSE=37.69012\n",
            "29, MSE=37.73648\n"
          ],
          "name": "stdout"
        }
      ]
    },
    {
      "cell_type": "code",
      "metadata": {
        "id": "uQUVeqZp8Adj",
        "colab_type": "code",
        "colab": {
          "base_uri": "https://localhost:8080/",
          "height": 279
        },
        "outputId": "af10f9b6-782f-4400-c60e-36740ba0f227"
      },
      "source": [
        "plt.plot(range(2,30), mse_k, 'k-', label=\"MSE\")\n",
        "plt.xlabel(\"k\")\n",
        "plt.ylabel(\"MSE\")\n",
        "plt.show()"
      ],
      "execution_count": 160,
      "outputs": [
        {
          "output_type": "display_data",
          "data": {
            "image/png": "[encoded data removed]",
            "text/plain": [
              "<Figure size 432x288 with 1 Axes>"
            ]
          },
          "metadata": {
            "tags": [],
            "needs_background": "light"
          }
        }
      ]
    }
  ]
}