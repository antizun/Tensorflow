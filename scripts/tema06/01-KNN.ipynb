{
 "cells": [
  {
   "cell_type": "markdown",
   "metadata": {},
   "source": [
    "# K - Vecinos más Cercanos"
   ]
  },
  {
   "cell_type": "markdown",
   "metadata": {},
   "source": [
    "Data set de entrenamiento con datos $(x_1,x_2,\\cdots, x_n)$ con  categoría respectivamente $(y_1, y_2, \\cdots, y_n)$"
   ]
  },
  {
   "cell_type": "markdown",
   "metadata": {},
   "source": [
    "Para predecir un nuevo punto $z$ lo que hacemos es mirar a sus $k$ vecinos más cercanos. Para ello se utilizará una regresión si $y_i$ son contínuos o bien una clasificación si $y_i$ son discretos"
   ]
  },
  {
   "cell_type": "markdown",
   "metadata": {},
   "source": [
    "En problemas de clasificación discretos con categorías $j$, la predicción se hace por voto por mayoría, ponderando la distancia de los k vecinos con el punto a predecir:\n",
    "$$f(z) = \\max_j \\sum_{i=1}^k \\phi(d_{ij})I_{ij}$$"
   ]
  },
  {
   "cell_type": "markdown",
   "metadata": {},
   "source": [
    "$I_{ij}$ vale 1 si el punto $i$ pertenece a la clase $j$ y 0 en todo otro caso."
   ]
  },
  {
   "cell_type": "markdown",
   "metadata": {},
   "source": [
    "En problemas contínuos de regresión, la predicción se obtiene como la media ponderada de los $k$ puntos más cercanos al que queremos predecir\n",
    "$$f(z) = \\frac{1}{k}\\sum_{i=1}^k \\phi(d_i)$$"
   ]
  },
  {
   "cell_type": "markdown",
   "metadata": {},
   "source": [
    "Si $x,y$ son vectores de $\\mathbb R^m$, entonces las distancias más utilizadas en estos problemas son:\n",
    "- $d_{L1}(x,y) = |x-y| = |x_1-y_1|+|x_2-y_2|+\\cdots+|x_m-y_m|$ \n",
    "- $d_{L2}(x,y) = ||x-y|| = \\sqrt{(x_1-y_1)^2+(x_2-y_2)^2+\\cdots+(x_m-y_m)^2}$"
   ]
  },
  {
   "cell_type": "code",
   "execution_count": null,
   "metadata": {},
   "outputs": [],
   "source": []
  }
 ],
 "metadata": {
  "kernelspec": {
   "display_name": "Python 3",
   "language": "python",
   "name": "python3"
  },
  "language_info": {
   "codemirror_mode": {
    "name": "ipython",
    "version": 3
   },
   "file_extension": ".py",
   "mimetype": "text/x-python",
   "name": "python",
   "nbconvert_exporter": "python",
   "pygments_lexer": "ipython3",
   "version": "3.5.5"
  }
 },
 "nbformat": 4,
 "nbformat_minor": 2
}
