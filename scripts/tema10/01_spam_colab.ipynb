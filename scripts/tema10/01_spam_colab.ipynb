{
  "nbformat": 4,
  "nbformat_minor": 0,
  "metadata": {
    "kernelspec": {
      "display_name": "Python 3",
      "language": "python",
      "name": "python3"
    },
    "language_info": {
      "codemirror_mode": {
        "name": "ipython",
        "version": 3
      },
      "file_extension": ".py",
      "mimetype": "text/x-python",
      "name": "python",
      "nbconvert_exporter": "python",
      "pygments_lexer": "ipython3",
      "version": "3.5.5"
    },
    "colab": {
      "name": "01-spam_colab.ipynb",
      "provenance": [],
      "collapsed_sections": [],
      "toc_visible": true
    },
    "accelerator": "TPU"
  },
  "cells": [
    {
      "cell_type": "markdown",
      "metadata": {
        "id": "KUSAXKLtjj85",
        "colab_type": "text"
      },
      "source": [
        "# Clonamos el repositorio para obtener los dataSet"
      ]
    },
    {
      "cell_type": "code",
      "metadata": {
        "id": "NnlS43f4jj25",
        "colab_type": "code",
        "colab": {
          "base_uri": "https://localhost:8080/",
          "height": 153
        },
        "outputId": "d54c8de7-cf4a-4384-f3ea-1c399f82c11b"
      },
      "source": [
        "!git clone https://github.com/joanby/tensorflow.git"
      ],
      "execution_count": 1,
      "outputs": [
        {
          "output_type": "stream",
          "text": [
            "Cloning into 'tensorflow'...\n",
            "remote: Enumerating objects: 51, done.\u001b[K\n",
            "remote: Counting objects: 100% (51/51), done.\u001b[K\n",
            "remote: Compressing objects: 100% (28/28), done.\u001b[K\n",
            "remote: Total 60311 (delta 32), reused 37 (delta 23), pack-reused 60260\u001b[K\n",
            "Receiving objects: 100% (60311/60311), 442.46 MiB | 31.30 MiB/s, done.\n",
            "Resolving deltas: 100% (82/82), done.\n",
            "Checking out files: 100% (60225/60225), done.\n"
          ],
          "name": "stdout"
        }
      ]
    },
    {
      "cell_type": "markdown",
      "metadata": {
        "id": "GS2o7VLfjjx0",
        "colab_type": "text"
      },
      "source": [
        "# Damos acceso a nuestro Drive"
      ]
    },
    {
      "cell_type": "code",
      "metadata": {
        "id": "sAv6Y6Lsjjsj",
        "colab_type": "code",
        "colab": {}
      },
      "source": [
        "from google.colab import drive\n",
        "drive.mount('/content/drive')"
      ],
      "execution_count": null,
      "outputs": []
    },
    {
      "cell_type": "markdown",
      "metadata": {
        "id": "bNVgvkN3jjnP",
        "colab_type": "text"
      },
      "source": [
        "# Test it"
      ]
    },
    {
      "cell_type": "code",
      "metadata": {
        "id": "NqWM5r4Ljjih",
        "colab_type": "code",
        "colab": {}
      },
      "source": [
        "!ls '/content/drive/My Drive' "
      ],
      "execution_count": null,
      "outputs": []
    },
    {
      "cell_type": "markdown",
      "metadata": {
        "id": "8JMLmb9ljjdC",
        "colab_type": "text"
      },
      "source": [
        "# Google colab tools"
      ]
    },
    {
      "cell_type": "code",
      "metadata": {
        "id": "UC53yW69jjVG",
        "colab_type": "code",
        "colab": {}
      },
      "source": [
        "from google.colab import files # Para manejar los archivos y, por ejemplo, exportar a su navegador\n",
        "import glob # Para manejar los archivos y, por ejemplo, exportar a su navegador\n",
        "from google.colab import drive # Montar tu Google drive"
      ],
      "execution_count": 2,
      "outputs": []
    },
    {
      "cell_type": "markdown",
      "metadata": {
        "id": "jJe0GBM9jjOi",
        "colab_type": "text"
      },
      "source": [
        "##Especificando la versión de TensorFlow\n",
        "\n",
        "Ejecutando \"importar tensorflow\" importará la versión por defecto (actualmente 2.x). Puedes usar la 1.x ejecutando una celda con la \"versión mágica de tensorflow\" **antes de ejecutar \"importar tensorflow\".\n",
        "\n",
        "### Si no funciona hacer el pip install\n"
      ]
    },
    {
      "cell_type": "code",
      "metadata": {
        "id": "YFnFSCTgjjIc",
        "colab_type": "code",
        "colab": {
          "base_uri": "https://localhost:8080/",
          "height": 34
        },
        "outputId": "b58e74cf-06f6-4040-af02-f6f3bd293d95"
      },
      "source": [
        "#!pip install tensorflow==1.14\n",
        "%tensorflow_version 1.x"
      ],
      "execution_count": 3,
      "outputs": [
        {
          "output_type": "stream",
          "text": [
            "TensorFlow 1.x selected.\n"
          ],
          "name": "stdout"
        }
      ]
    },
    {
      "cell_type": "markdown",
      "metadata": {
        "id": "EZUt0LgujjCE",
        "colab_type": "text"
      },
      "source": [
        "# Importar Tensorflow"
      ]
    },
    {
      "cell_type": "code",
      "metadata": {
        "id": "BMoRhDXXji5E",
        "colab_type": "code",
        "colab": {
          "base_uri": "https://localhost:8080/",
          "height": 34
        },
        "outputId": "2aa74628-dad3-400f-e103-16d2404021df"
      },
      "source": [
        "import tensorflow as tf\n",
        "print(tf.__version__)\n",
        "import matplotlib.pyplot as plt"
      ],
      "execution_count": 4,
      "outputs": [
        {
          "output_type": "stream",
          "text": [
            "1.15.2\n"
          ],
          "name": "stdout"
        }
      ]
    },
    {
      "cell_type": "code",
      "metadata": {
        "id": "5uUt7ySsjixL",
        "colab_type": "code",
        "colab": {}
      },
      "source": [
        "session = tf.Session()"
      ],
      "execution_count": 5,
      "outputs": []
    },
    {
      "cell_type": "markdown",
      "metadata": {
        "id": "T_aUlbQMjgHR",
        "colab_type": "text"
      },
      "source": [
        "# Predecir Spam con una RNN"
      ]
    },
    {
      "cell_type": "code",
      "metadata": {
        "id": "qIfOfOI6jgHR",
        "colab_type": "code",
        "colab": {}
      },
      "source": [
        "import os\n",
        "import re\n",
        "import io\n",
        "import requests\n",
        "import numpy as np\n",
        "import matplotlib.pyplot as plt\n",
        "import tensorflow as tf\n",
        "from zipfile import ZipFile"
      ],
      "execution_count": 6,
      "outputs": []
    },
    {
      "cell_type": "code",
      "metadata": {
        "id": "qwTHjLmAjgHV",
        "colab_type": "code",
        "colab": {}
      },
      "source": [
        "url = \"https://archive.ics.uci.edu/ml/machine-learning-databases/00228/smsspamcollection.zip\""
      ],
      "execution_count": 7,
      "outputs": []
    },
    {
      "cell_type": "code",
      "metadata": {
        "id": "N1ogsTdGjgHX",
        "colab_type": "code",
        "colab": {}
      },
      "source": [
        "data_dir = \"./datasets/sms_spam\"\n",
        "data_file = \"text_data.txt\"\n",
        "if not os.path.exists(data_dir):\n",
        "    os.makedirs(data_dir)\n",
        "    \n",
        "if not os.path.isfile(os.path.join(data_dir, data_file)):\n",
        "    #hay que descargar fichero\n",
        "    r = requests.get(url)\n",
        "    z = ZipFile(io.BytesIO(r.content))\n",
        "    file = z.read(\"SMSSpamCollection\")\n",
        "    text_data = file.decode()\n",
        "    text_data = text_data.encode(\"ascii\", errors=\"ignore\")\n",
        "    text_data = text_data.decode().split(\"\\n\")\n",
        "    with open(os.path.join(data_dir, data_file), \"w\") as file_content:\n",
        "        for text_line in text_data:\n",
        "            file_content.write(\"{}\\n\".format(text_line))\n",
        "else:\n",
        "    #hay que cargar fichero\n",
        "    text_data = []\n",
        "    with open(os.path.join(data_dir, data_file), \"r\") as file_content:\n",
        "        for text_line in file_content:\n",
        "            text_data.append(text_line)"
      ],
      "execution_count": 9,
      "outputs": []
    },
    {
      "cell_type": "code",
      "metadata": {
        "id": "0OmvBGZOjgHa",
        "colab_type": "code",
        "colab": {}
      },
      "source": [
        "text_data = [x.split(\"\\t\") for x in text_data if len(x)>1]"
      ],
      "execution_count": 10,
      "outputs": []
    },
    {
      "cell_type": "code",
      "metadata": {
        "id": "1Mfl6WZejgHf",
        "colab_type": "code",
        "colab": {}
      },
      "source": [
        "[text_data_target, text_data_train] = [list(x) for x in zip(*text_data)]"
      ],
      "execution_count": 11,
      "outputs": []
    },
    {
      "cell_type": "code",
      "metadata": {
        "id": "rkbmJSvajgHh",
        "colab_type": "code",
        "colab": {}
      },
      "source": [
        "def clean_text(text_string):\n",
        "    text_string = re.sub(r'([^\\s\\w]|_|[0-9])+','', text_string)\n",
        "    text_string = \" \".join(text_string.split())\n",
        "    text_string = text_string.lower()\n",
        "    return text_string"
      ],
      "execution_count": 12,
      "outputs": []
    },
    {
      "cell_type": "code",
      "metadata": {
        "id": "uGVQUOiejgHk",
        "colab_type": "code",
        "colab": {
          "base_uri": "https://localhost:8080/",
          "height": 122
        },
        "outputId": "bcbcc335-ecf7-459e-b1ca-dd49aa0c2f25"
      },
      "source": [
        "text_data_train[:5]"
      ],
      "execution_count": 13,
      "outputs": [
        {
          "output_type": "execute_result",
          "data": {
            "text/plain": [
              "['Go until jurong point, crazy.. Available only in bugis n great world la e buffet... Cine there got amore wat...',\n",
              " 'Ok lar... Joking wif u oni...',\n",
              " \"Free entry in 2 a wkly comp to win FA Cup final tkts 21st May 2005. Text FA to 87121 to receive entry question(std txt rate)T&C's apply 08452810075over18's\",\n",
              " 'U dun say so early hor... U c already then say...',\n",
              " \"Nah I don't think he goes to usf, he lives around here though\"]"
            ]
          },
          "metadata": {
            "tags": []
          },
          "execution_count": 13
        }
      ]
    },
    {
      "cell_type": "code",
      "metadata": {
        "id": "FoQ7x1J_jgHo",
        "colab_type": "code",
        "colab": {}
      },
      "source": [
        "text_data_train = [clean_text(x) for x in text_data_train]"
      ],
      "execution_count": 14,
      "outputs": []
    },
    {
      "cell_type": "code",
      "metadata": {
        "id": "ANl6KkQCjgHq",
        "colab_type": "code",
        "colab": {
          "base_uri": "https://localhost:8080/",
          "height": 122
        },
        "outputId": "fb8253b6-714c-41e8-8206-c026b4a6b033"
      },
      "source": [
        "text_data_train[:5]"
      ],
      "execution_count": 15,
      "outputs": [
        {
          "output_type": "execute_result",
          "data": {
            "text/plain": [
              "['go until jurong point crazy available only in bugis n great world la e buffet cine there got amore wat',\n",
              " 'ok lar joking wif u oni',\n",
              " 'free entry in a wkly comp to win fa cup final tkts st may text fa to to receive entry questionstd txt ratetcs apply overs',\n",
              " 'u dun say so early hor u c already then say',\n",
              " 'nah i dont think he goes to usf he lives around here though']"
            ]
          },
          "metadata": {
            "tags": []
          },
          "execution_count": 15
        }
      ]
    },
    {
      "cell_type": "code",
      "metadata": {
        "id": "UIiMJzt6jgHr",
        "colab_type": "code",
        "colab": {}
      },
      "source": [
        "session = tf.Session()\n",
        "epochs = 20\n",
        "batch_size = 250\n",
        "max_sequence_length = 25\n",
        "rnn_size = 10\n",
        "embedding_size = 50\n",
        "min_word_frequency = 10\n",
        "learning_rate = 0.0005\n",
        "dropout_keep_prob = tf.placeholder(tf.float32)"
      ],
      "execution_count": 16,
      "outputs": []
    },
    {
      "cell_type": "code",
      "metadata": {
        "id": "N4EWaPUXjgHt",
        "colab_type": "code",
        "colab": {
          "base_uri": "https://localhost:8080/",
          "height": 326
        },
        "outputId": "52ce4495-ce91-4093-81b6-94b6d10560b3"
      },
      "source": [
        "vocab_processor = tf.contrib.learn.preprocessing.VocabularyProcessor(max_sequence_length, \n",
        "                                                                     min_frequency=min_word_frequency)\n",
        "text_processed = np.array(list(vocab_processor.fit_transform(text_data_train)))"
      ],
      "execution_count": 17,
      "outputs": [
        {
          "output_type": "stream",
          "text": [
            "WARNING:tensorflow:\n",
            "The TensorFlow contrib module will not be included in TensorFlow 2.0.\n",
            "For more information, please see:\n",
            "  * https://github.com/tensorflow/community/blob/master/rfcs/20180907-contrib-sunset.md\n",
            "  * https://github.com/tensorflow/addons\n",
            "  * https://github.com/tensorflow/io (for I/O related ops)\n",
            "If you depend on functionality not listed there, please file an issue.\n",
            "\n",
            "WARNING:tensorflow:From <ipython-input-17-ebe0061308d9>:2: VocabularyProcessor.__init__ (from tensorflow.contrib.learn.python.learn.preprocessing.text) is deprecated and will be removed in a future version.\n",
            "Instructions for updating:\n",
            "Please use tensorflow/transform or tf.data.\n",
            "WARNING:tensorflow:From /tensorflow-1.15.2/python3.6/tensorflow_core/contrib/learn/python/learn/preprocessing/text.py:154: CategoricalVocabulary.__init__ (from tensorflow.contrib.learn.python.learn.preprocessing.categorical_vocabulary) is deprecated and will be removed in a future version.\n",
            "Instructions for updating:\n",
            "Please use tensorflow/transform or tf.data.\n",
            "WARNING:tensorflow:From /tensorflow-1.15.2/python3.6/tensorflow_core/contrib/learn/python/learn/preprocessing/text.py:170: tokenizer (from tensorflow.contrib.learn.python.learn.preprocessing.text) is deprecated and will be removed in a future version.\n",
            "Instructions for updating:\n",
            "Please use tensorflow/transform or tf.data.\n"
          ],
          "name": "stdout"
        }
      ]
    },
    {
      "cell_type": "code",
      "metadata": {
        "id": "PQxdBG_QjgHv",
        "colab_type": "code",
        "colab": {
          "base_uri": "https://localhost:8080/",
          "height": 51
        },
        "outputId": "36f65efd-1d46-4358-8fa3-ad3570c47812"
      },
      "source": [
        "text_processed[0]"
      ],
      "execution_count": 18,
      "outputs": [
        {
          "output_type": "execute_result",
          "data": {
            "text/plain": [
              "array([ 44, 455,   0, 809, 703, 667,  62,   9,   0,  87, 120, 366,   0,\n",
              "       152,   0,   0,  66,  56,   0, 136,   0,   0,   0,   0,   0])"
            ]
          },
          "metadata": {
            "tags": []
          },
          "execution_count": 18
        }
      ]
    },
    {
      "cell_type": "code",
      "metadata": {
        "id": "Ilq55aCtjgHy",
        "colab_type": "code",
        "colab": {
          "base_uri": "https://localhost:8080/",
          "height": 35
        },
        "outputId": "7ab78963-2e94-49e3-aa2c-287e72714c92"
      },
      "source": [
        "text_data_train[0]"
      ],
      "execution_count": 19,
      "outputs": [
        {
          "output_type": "execute_result",
          "data": {
            "application/vnd.google.colaboratory.intrinsic+json": {
              "type": "string"
            },
            "text/plain": [
              "'go until jurong point crazy available only in bugis n great world la e buffet cine there got amore wat'"
            ]
          },
          "metadata": {
            "tags": []
          },
          "execution_count": 19
        }
      ]
    },
    {
      "cell_type": "code",
      "metadata": {
        "id": "VRUVG3jvjgH0",
        "colab_type": "code",
        "colab": {}
      },
      "source": [
        "text_data_target = np.array([1 if x == \"ham\" else 0 for x in text_data_target])"
      ],
      "execution_count": 20,
      "outputs": []
    },
    {
      "cell_type": "code",
      "metadata": {
        "id": "AYxgMVAojgH1",
        "colab_type": "code",
        "colab": {}
      },
      "source": [
        "shuffle_ix = np.random.permutation(np.arange(len(text_data_target)))"
      ],
      "execution_count": 21,
      "outputs": []
    },
    {
      "cell_type": "code",
      "metadata": {
        "id": "PokrbzX3jgH3",
        "colab_type": "code",
        "colab": {}
      },
      "source": [
        "x_shuffled = text_processed[shuffle_ix]\n",
        "y_shuffled = text_data_target[shuffle_ix]"
      ],
      "execution_count": 22,
      "outputs": []
    },
    {
      "cell_type": "code",
      "metadata": {
        "id": "Qo8-e_P6jgH5",
        "colab_type": "code",
        "colab": {}
      },
      "source": [
        "ix_cuttoff = int(len(x_shuffled)*0.8)\n",
        "x_train, x_test = x_shuffled[:ix_cuttoff], x_shuffled[ix_cuttoff:]\n",
        "y_train, y_test = y_shuffled[:ix_cuttoff], y_shuffled[ix_cuttoff:]"
      ],
      "execution_count": 23,
      "outputs": []
    },
    {
      "cell_type": "code",
      "metadata": {
        "id": "tB-t7isvjgH7",
        "colab_type": "code",
        "colab": {
          "base_uri": "https://localhost:8080/",
          "height": 34
        },
        "outputId": "dbc6a15f-8f93-493a-fb3e-e10d7b56082a"
      },
      "source": [
        "vocab_size = len(vocab_processor.vocabulary_)\n",
        "vocab_size"
      ],
      "execution_count": 24,
      "outputs": [
        {
          "output_type": "execute_result",
          "data": {
            "text/plain": [
              "933"
            ]
          },
          "metadata": {
            "tags": []
          },
          "execution_count": 24
        }
      ]
    },
    {
      "cell_type": "code",
      "metadata": {
        "id": "R8XHBHc5jgH9",
        "colab_type": "code",
        "colab": {}
      },
      "source": [
        "x_data = tf.placeholder(tf.int32, [None, max_sequence_length])\n",
        "y_output = tf.placeholder(tf.int32, [None])"
      ],
      "execution_count": 25,
      "outputs": []
    },
    {
      "cell_type": "code",
      "metadata": {
        "id": "Fpdb3ZCEjgH-",
        "colab_type": "code",
        "colab": {}
      },
      "source": [
        "embedding_matrix = tf.Variable(tf.random_uniform([vocab_size, embedding_size], -1.0, 1.0))\n",
        "embedding_output = tf.nn.embedding_lookup(embedding_matrix, x_data)"
      ],
      "execution_count": 26,
      "outputs": []
    },
    {
      "cell_type": "code",
      "metadata": {
        "id": "LEchn9OgjgIB",
        "colab_type": "code",
        "colab": {
          "base_uri": "https://localhost:8080/",
          "height": 292
        },
        "outputId": "250cb135-9e15-44a1-ccb2-5c8405713ef9"
      },
      "source": [
        "cell = tf.nn.rnn_cell.BasicRNNCell(num_units=rnn_size)\n",
        "output, state = tf.nn.dynamic_rnn(cell, embedding_output, dtype = tf.float32)\n",
        "output = tf.nn.dropout(output, dropout_keep_prob)"
      ],
      "execution_count": 27,
      "outputs": [
        {
          "output_type": "stream",
          "text": [
            "WARNING:tensorflow:From <ipython-input-27-0150696e9faa>:1: BasicRNNCell.__init__ (from tensorflow.python.ops.rnn_cell_impl) is deprecated and will be removed in a future version.\n",
            "Instructions for updating:\n",
            "This class is equivalent as tf.keras.layers.SimpleRNNCell, and will be replaced by that in Tensorflow 2.0.\n",
            "WARNING:tensorflow:From <ipython-input-27-0150696e9faa>:2: dynamic_rnn (from tensorflow.python.ops.rnn) is deprecated and will be removed in a future version.\n",
            "Instructions for updating:\n",
            "Please use `keras.layers.RNN(cell)`, which is equivalent to this API\n",
            "WARNING:tensorflow:From /tensorflow-1.15.2/python3.6/tensorflow_core/python/ops/rnn_cell_impl.py:456: Layer.add_variable (from tensorflow.python.keras.engine.base_layer) is deprecated and will be removed in a future version.\n",
            "Instructions for updating:\n",
            "Please use `layer.add_weight` method instead.\n",
            "WARNING:tensorflow:From /tensorflow-1.15.2/python3.6/tensorflow_core/python/ops/rnn_cell_impl.py:460: calling Zeros.__init__ (from tensorflow.python.ops.init_ops) with dtype is deprecated and will be removed in a future version.\n",
            "Instructions for updating:\n",
            "Call initializer instance with the dtype argument instead of passing it to the constructor\n",
            "WARNING:tensorflow:From <ipython-input-27-0150696e9faa>:3: calling dropout (from tensorflow.python.ops.nn_ops) with keep_prob is deprecated and will be removed in a future version.\n",
            "Instructions for updating:\n",
            "Please use `rate` instead of `keep_prob`. Rate should be set to `rate = 1 - keep_prob`.\n"
          ],
          "name": "stdout"
        }
      ]
    },
    {
      "cell_type": "code",
      "metadata": {
        "id": "UYNTtk1vjgID",
        "colab_type": "code",
        "colab": {}
      },
      "source": [
        "output = tf.transpose(output, [1,0,2])\n",
        "last = tf.gather(output, int(output.get_shape()[0])-1)"
      ],
      "execution_count": 28,
      "outputs": []
    },
    {
      "cell_type": "code",
      "metadata": {
        "id": "JP24CGsHjgIF",
        "colab_type": "code",
        "colab": {}
      },
      "source": [
        "weight = tf.Variable(tf.truncated_normal([rnn_size, 2], stddev=0.1))\n",
        "bias = tf.Variable(tf.constant(0.1, shape=[2]))\n",
        "logits_out = tf.nn.softmax(tf.add(tf.matmul(last, weight), bias))"
      ],
      "execution_count": 29,
      "outputs": []
    },
    {
      "cell_type": "code",
      "metadata": {
        "id": "vkEbgNGXjgIG",
        "colab_type": "code",
        "colab": {}
      },
      "source": [
        "loss = tf.reduce_mean(tf.nn.sparse_softmax_cross_entropy_with_logits(logits=logits_out, labels=y_output))"
      ],
      "execution_count": 30,
      "outputs": []
    },
    {
      "cell_type": "code",
      "metadata": {
        "id": "Ns_H57DdjgIJ",
        "colab_type": "code",
        "colab": {}
      },
      "source": [
        "accuracy = tf.reduce_mean(tf.cast(tf.equal(tf.argmax(logits_out,1), tf.cast(y_output, tf.int64)), tf.float32))"
      ],
      "execution_count": 31,
      "outputs": []
    },
    {
      "cell_type": "code",
      "metadata": {
        "id": "pbxrWTV-jgIL",
        "colab_type": "code",
        "colab": {
          "base_uri": "https://localhost:8080/",
          "height": 122
        },
        "outputId": "025f0fb7-4c4c-4efc-8505-f5ef3e85bd44"
      },
      "source": [
        "optim = tf.train.RMSPropOptimizer(learning_rate)\n",
        "train_step = optim.minimize(loss)\n",
        "session.run(tf.global_variables_initializer())"
      ],
      "execution_count": 32,
      "outputs": [
        {
          "output_type": "stream",
          "text": [
            "WARNING:tensorflow:From /tensorflow-1.15.2/python3.6/tensorflow_core/python/training/rmsprop.py:119: calling Ones.__init__ (from tensorflow.python.ops.init_ops) with dtype is deprecated and will be removed in a future version.\n",
            "Instructions for updating:\n",
            "Call initializer instance with the dtype argument instead of passing it to the constructor\n"
          ],
          "name": "stdout"
        },
        {
          "output_type": "stream",
          "text": [
            "/tensorflow-1.15.2/python3.6/tensorflow_core/python/framework/indexed_slices.py:424: UserWarning: Converting sparse IndexedSlices to a dense Tensor of unknown shape. This may consume a large amount of memory.\n",
            "  \"Converting sparse IndexedSlices to a dense Tensor of unknown shape. \"\n"
          ],
          "name": "stderr"
        }
      ]
    },
    {
      "cell_type": "code",
      "metadata": {
        "id": "xIrtiXskjgIN",
        "colab_type": "code",
        "colab": {
          "base_uri": "https://localhost:8080/",
          "height": 357
        },
        "outputId": "87ac4459-0f58-4694-b450-60d24d063c35"
      },
      "source": [
        "train_loss = []\n",
        "test_loss = []\n",
        "train_acc = []\n",
        "test_acc = []\n",
        "\n",
        "for epoch in range(epochs):\n",
        "    shuffle_ix = np.random.permutation(np.arange(len(x_train)))\n",
        "    x_train = x_train[shuffle_ix]\n",
        "    y_train = y_train[shuffle_ix]\n",
        "    \n",
        "    num_batches = int(len(x_train)/batch_size)+1\n",
        "    \n",
        "    for i in range(num_batches):\n",
        "        min_ix = i * batch_size\n",
        "        max_ix = np.min([len(x_train), ((i+1)*batch_size)])\n",
        "        x_train_batch = x_train[min_ix:max_ix]\n",
        "        y_train_batch = y_train[min_ix:max_ix]\n",
        "        \n",
        "        train_dict = {x_data: x_train_batch, y_output: y_train_batch, dropout_keep_prob:0.5}\n",
        "        session.run(train_step, feed_dict=train_dict)\n",
        "    \n",
        "    temp_train_loss, temp_train_acc = session.run([loss, accuracy], feed_dict=train_dict)\n",
        "    train_loss.append(temp_train_loss)\n",
        "    train_acc.append(temp_train_acc)\n",
        "    \n",
        "    test_dict = {x_data: x_test, y_output:y_test, dropout_keep_prob:1.0}\n",
        "    temp_test_loss, temp_test_acc = session.run([loss, accuracy], feed_dict=test_dict)\n",
        "    test_loss.append(temp_test_loss)\n",
        "    test_acc.append(temp_test_acc)\n",
        "    print(\"Epoch {} completado, Loss: {:.3f}, Acc: {:.3f}\".format(i+1, temp_test_loss, temp_test_acc))"
      ],
      "execution_count": 33,
      "outputs": [
        {
          "output_type": "stream",
          "text": [
            "Epoch 18 completado, Loss: 0.674, Acc: 0.813\n",
            "Epoch 18 completado, Loss: 0.664, Acc: 0.814\n",
            "Epoch 18 completado, Loss: 0.646, Acc: 0.819\n",
            "Epoch 18 completado, Loss: 0.622, Acc: 0.826\n",
            "Epoch 18 completado, Loss: 0.594, Acc: 0.828\n",
            "Epoch 18 completado, Loss: 0.568, Acc: 0.830\n",
            "Epoch 18 completado, Loss: 0.545, Acc: 0.831\n",
            "Epoch 18 completado, Loss: 0.527, Acc: 0.832\n",
            "Epoch 18 completado, Loss: 0.514, Acc: 0.837\n",
            "Epoch 18 completado, Loss: 0.503, Acc: 0.840\n",
            "Epoch 18 completado, Loss: 0.495, Acc: 0.841\n",
            "Epoch 18 completado, Loss: 0.488, Acc: 0.846\n",
            "Epoch 18 completado, Loss: 0.482, Acc: 0.848\n",
            "Epoch 18 completado, Loss: 0.477, Acc: 0.853\n",
            "Epoch 18 completado, Loss: 0.472, Acc: 0.857\n",
            "Epoch 18 completado, Loss: 0.467, Acc: 0.859\n",
            "Epoch 18 completado, Loss: 0.464, Acc: 0.861\n",
            "Epoch 18 completado, Loss: 0.460, Acc: 0.864\n",
            "Epoch 18 completado, Loss: 0.457, Acc: 0.865\n",
            "Epoch 18 completado, Loss: 0.455, Acc: 0.866\n"
          ],
          "name": "stdout"
        }
      ]
    },
    {
      "cell_type": "code",
      "metadata": {
        "id": "I3YChwpQjgIP",
        "colab_type": "code",
        "colab": {}
      },
      "source": [
        "epoch_seq = np.arange(1, epochs+1)"
      ],
      "execution_count": 34,
      "outputs": []
    },
    {
      "cell_type": "code",
      "metadata": {
        "id": "1GAHJ4SDjgIR",
        "colab_type": "code",
        "colab": {
          "base_uri": "https://localhost:8080/",
          "height": 295
        },
        "outputId": "cdd47ebb-e653-4b44-9da5-9aef9fe028be"
      },
      "source": [
        "plt.plot(epoch_seq, train_loss, 'k--', label=\"Conjunto de Entrenamiento\")\n",
        "plt.plot(epoch_seq, test_loss, 'r-', label = \"Conjunto de Test\")\n",
        "plt.title(\"Función Softmax de pérdidas\")\n",
        "plt.xlabel(\"Epochs\")\n",
        "plt.ylabel(\"Softmax Loss\")\n",
        "plt.legend(loc=\"upper left\")\n",
        "plt.show()"
      ],
      "execution_count": 35,
      "outputs": [
        {
          "output_type": "display_data",
          "data": {
            "image/png": "[encoded data removed]",
            "text/plain": [
              "<Figure size 432x288 with 1 Axes>"
            ]
          },
          "metadata": {
            "tags": [],
            "needs_background": "light"
          }
        }
      ]
    },
    {
      "cell_type": "code",
      "metadata": {
        "id": "OvMEnxzUjgIS",
        "colab_type": "code",
        "colab": {
          "base_uri": "https://localhost:8080/",
          "height": 295
        },
        "outputId": "d8ed56a4-38a1-4f69-e7c5-2a8c09b6829a"
      },
      "source": [
        "plt.plot(epoch_seq, train_acc, 'k--', label=\"Conjunto de Entrenamiento\")\n",
        "plt.plot(epoch_seq, test_acc, 'r-', label = \"Conjunto de Test\")\n",
        "plt.title(\"Precisión del algoritmo\")\n",
        "plt.xlabel(\"Epochs\")\n",
        "plt.ylabel(\"Precisión\")\n",
        "plt.legend(loc=\"lower right\")\n",
        "plt.show()"
      ],
      "execution_count": 36,
      "outputs": [
        {
          "output_type": "display_data",
          "data": {
            "image/png": "[encoded data removed]",
            "text/plain": [
              "<Figure size 432x288 with 1 Axes>"
            ]
          },
          "metadata": {
            "tags": [],
            "needs_background": "light"
          }
        }
      ]
    }
  ]
}