{
 "cells": [
  {
   "cell_type": "markdown",
   "metadata": {},
   "source": [
    "# Predecir Spam con una RNN"
   ]
  },
  {
   "cell_type": "code",
   "execution_count": 3,
   "metadata": {},
   "outputs": [],
   "source": [
    "import os\n",
    "import re\n",
    "import io\n",
    "import requests\n",
    "import numpy as np\n",
    "import matplotlib.pyplot as plt\n",
    "import tensorflow as tf\n",
    "from zipfile import ZipFile"
   ]
  },
  {
   "cell_type": "code",
   "execution_count": 1,
   "metadata": {},
   "outputs": [],
   "source": [
    "url = \"https://archive.ics.uci.edu/ml/machine-learning-databases/00228/smsspamcollection.zip\""
   ]
  },
  {
   "cell_type": "code",
   "execution_count": 20,
   "metadata": {},
   "outputs": [],
   "source": [
    "data_dir = \"../../datasets/sms_spam\"\n",
    "data_file = \"text_data.txt\"\n",
    "if not os.path.exists(data_dir):\n",
    "    os.makedirs(data_dir)\n",
    "    \n",
    "if not os.path.isfile(os.path.join(data_dir, data_file)):\n",
    "    #hay que descargar fichero\n",
    "    r = requests.get(url)\n",
    "    z = ZipFile(io.BytesIO(r.content))\n",
    "    file = z.read(\"SMSSpamCollection\")\n",
    "    text_data = file.decode()\n",
    "    text_data = text_data.encode(\"ascii\", errors=\"ignore\")\n",
    "    text_data = text_data.decode().split(\"\\n\")\n",
    "    with open(os.path.join(data_dir, data_file), \"w\") as file_content:\n",
    "        for text_line in text_data:\n",
    "            file_content.write(\"{}\\n\".format(text_line))\n",
    "else:\n",
    "    #hay que cargar fichero\n",
    "    text_data = []\n",
    "    with open(os.path.join(data_dir, data_file), \"r\") as file_content:\n",
    "        for text_line in file_content:\n",
    "            text_data.append(text_line)"
   ]
  },
  {
   "cell_type": "code",
   "execution_count": 21,
   "metadata": {},
   "outputs": [],
   "source": [
    "text_data = [x.split(\"\\t\") for x in text_data if len(x)>1]"
   ]
  },
  {
   "cell_type": "code",
   "execution_count": 33,
   "metadata": {},
   "outputs": [],
   "source": [
    "[text_data_target, text_data_train] = [list(x) for x in zip(*text_data)]"
   ]
  },
  {
   "cell_type": "code",
   "execution_count": 32,
   "metadata": {},
   "outputs": [],
   "source": [
    "def clean_text(text_string):\n",
    "    text_string = re.sub(r'([^\\s\\w]|_|[0-9])+','', text_string)\n",
    "    text_string = \" \".join(text_string.split())\n",
    "    text_string = text_string.lower()\n",
    "    return text_string"
   ]
  },
  {
   "cell_type": "code",
   "execution_count": 29,
   "metadata": {},
   "outputs": [
    {
     "data": {
      "text/plain": [
       "['Go until jurong point, crazy.. Available only in bugis n great world la e buffet... Cine there got amore wat...\\n',\n",
       " 'Ok lar... Joking wif u oni...\\n',\n",
       " \"Free entry in 2 a wkly comp to win FA Cup final tkts 21st May 2005. Text FA to 87121 to receive entry question(std txt rate)T&C's apply 08452810075over18's\\n\",\n",
       " 'U dun say so early hor... U c already then say...\\n',\n",
       " \"Nah I don't think he goes to usf, he lives around here though\\n\"]"
      ]
     },
     "execution_count": 29,
     "metadata": {},
     "output_type": "execute_result"
    }
   ],
   "source": [
    "text_data_train[:5]"
   ]
  },
  {
   "cell_type": "code",
   "execution_count": 34,
   "metadata": {},
   "outputs": [],
   "source": [
    "text_data_train = [clean_text(x) for x in text_data_train]"
   ]
  },
  {
   "cell_type": "code",
   "execution_count": 36,
   "metadata": {},
   "outputs": [
    {
     "data": {
      "text/plain": [
       "['go until jurong point crazy available only in bugis n great world la e buffet cine there got amore wat',\n",
       " 'ok lar joking wif u oni',\n",
       " 'free entry in a wkly comp to win fa cup final tkts st may text fa to to receive entry questionstd txt ratetcs apply overs',\n",
       " 'u dun say so early hor u c already then say',\n",
       " 'nah i dont think he goes to usf he lives around here though']"
      ]
     },
     "execution_count": 36,
     "metadata": {},
     "output_type": "execute_result"
    }
   ],
   "source": [
    "text_data_train[:5]"
   ]
  },
  {
   "cell_type": "code",
   "execution_count": 38,
   "metadata": {},
   "outputs": [],
   "source": [
    "session = tf.Session()\n",
    "epochs = 20\n",
    "batch_size = 250\n",
    "max_sequence_length = 25\n",
    "rnn_size = 10\n",
    "embedding_size = 50\n",
    "min_word_frequency = 10\n",
    "learning_rate = 0.0005\n",
    "dropout_keep_prob = tf.placeholder(tf.float32)"
   ]
  },
  {
   "cell_type": "code",
   "execution_count": 39,
   "metadata": {},
   "outputs": [
    {
     "name": "stdout",
     "output_type": "stream",
     "text": [
      "WARNING:tensorflow:From <ipython-input-39-ebe0061308d9>:2: VocabularyProcessor.__init__ (from tensorflow.contrib.learn.python.learn.preprocessing.text) is deprecated and will be removed in a future version.\n",
      "Instructions for updating:\n",
      "Please use tensorflow/transform or tf.data.\n",
      "WARNING:tensorflow:From /anaconda3/lib/python3.5/site-packages/tensorflow/contrib/learn/python/learn/preprocessing/text.py:154: CategoricalVocabulary.__init__ (from tensorflow.contrib.learn.python.learn.preprocessing.categorical_vocabulary) is deprecated and will be removed in a future version.\n",
      "Instructions for updating:\n",
      "Please use tensorflow/transform or tf.data.\n",
      "WARNING:tensorflow:From /anaconda3/lib/python3.5/site-packages/tensorflow/contrib/learn/python/learn/preprocessing/text.py:170: tokenizer (from tensorflow.contrib.learn.python.learn.preprocessing.text) is deprecated and will be removed in a future version.\n",
      "Instructions for updating:\n",
      "Please use tensorflow/transform or tf.data.\n"
     ]
    }
   ],
   "source": [
    "vocab_processor = tf.contrib.learn.preprocessing.VocabularyProcessor(max_sequence_length, \n",
    "                                                                     min_frequency=min_word_frequency)\n",
    "text_processed = np.array(list(vocab_processor.fit_transform(text_data_train)))"
   ]
  },
  {
   "cell_type": "code",
   "execution_count": 41,
   "metadata": {},
   "outputs": [
    {
     "data": {
      "text/plain": [
       "array([ 44, 455,   0, 809, 703, 667,  62,   9,   0,  87, 120, 366,   0,\n",
       "       152,   0,   0,  66,  56,   0, 136,   0,   0,   0,   0,   0])"
      ]
     },
     "execution_count": 41,
     "metadata": {},
     "output_type": "execute_result"
    }
   ],
   "source": [
    "text_processed[0]"
   ]
  },
  {
   "cell_type": "code",
   "execution_count": 42,
   "metadata": {},
   "outputs": [
    {
     "data": {
      "text/plain": [
       "'go until jurong point crazy available only in bugis n great world la e buffet cine there got amore wat'"
      ]
     },
     "execution_count": 42,
     "metadata": {},
     "output_type": "execute_result"
    }
   ],
   "source": [
    "text_data_train[0]"
   ]
  },
  {
   "cell_type": "code",
   "execution_count": 43,
   "metadata": {},
   "outputs": [],
   "source": [
    "text_data_target = np.array([1 if x == \"ham\" else 0 for x in text_data_target])"
   ]
  },
  {
   "cell_type": "code",
   "execution_count": 44,
   "metadata": {},
   "outputs": [],
   "source": [
    "shuffle_ix = np.random.permutation(np.arange(len(text_data_target)))"
   ]
  },
  {
   "cell_type": "code",
   "execution_count": 45,
   "metadata": {},
   "outputs": [],
   "source": [
    "x_shuffled = text_processed[shuffle_ix]\n",
    "y_shuffled = text_data_target[shuffle_ix]"
   ]
  },
  {
   "cell_type": "code",
   "execution_count": 46,
   "metadata": {},
   "outputs": [],
   "source": [
    "ix_cuttoff = int(len(x_shuffled)*0.8)\n",
    "x_train, x_test = x_shuffled[:ix_cuttoff], x_shuffled[ix_cuttoff:]\n",
    "y_train, y_test = y_shuffled[:ix_cuttoff], y_shuffled[ix_cuttoff:]"
   ]
  },
  {
   "cell_type": "code",
   "execution_count": 47,
   "metadata": {},
   "outputs": [
    {
     "data": {
      "text/plain": [
       "933"
      ]
     },
     "execution_count": 47,
     "metadata": {},
     "output_type": "execute_result"
    }
   ],
   "source": [
    "vocab_size = len(vocab_processor.vocabulary_)\n",
    "vocab_size"
   ]
  },
  {
   "cell_type": "code",
   "execution_count": 48,
   "metadata": {},
   "outputs": [],
   "source": [
    "x_data = tf.placeholder(tf.int32, [None, max_sequence_length])\n",
    "y_output = tf.placeholder(tf.int32, [None])"
   ]
  },
  {
   "cell_type": "code",
   "execution_count": 49,
   "metadata": {},
   "outputs": [],
   "source": [
    "embedding_matrix = tf.Variable(tf.random_uniform([vocab_size, embedding_size], -1.0, 1.0))\n",
    "embedding_output = tf.nn.embedding_lookup(embedding_matrix, x_data)"
   ]
  },
  {
   "cell_type": "code",
   "execution_count": 50,
   "metadata": {},
   "outputs": [],
   "source": [
    "cell = tf.nn.rnn_cell.BasicRNNCell(num_units=rnn_size)\n",
    "output, state = tf.nn.dynamic_rnn(cell, embedding_output, dtype = tf.float32)\n",
    "output = tf.nn.dropout(output, dropout_keep_prob)"
   ]
  },
  {
   "cell_type": "code",
   "execution_count": 53,
   "metadata": {},
   "outputs": [],
   "source": [
    "output = tf.transpose(output, [1,0,2])\n",
    "last = tf.gather(output, int(output.get_shape()[0])-1)"
   ]
  },
  {
   "cell_type": "code",
   "execution_count": 54,
   "metadata": {},
   "outputs": [],
   "source": [
    "weight = tf.Variable(tf.truncated_normal([rnn_size, 2], stddev=0.1))\n",
    "bias = tf.Variable(tf.constant(0.1, shape=[2]))\n",
    "logits_out = tf.nn.softmax(tf.add(tf.matmul(last, weight), bias))"
   ]
  },
  {
   "cell_type": "code",
   "execution_count": 55,
   "metadata": {},
   "outputs": [],
   "source": [
    "loss = tf.reduce_mean(tf.nn.sparse_softmax_cross_entropy_with_logits(logits=logits_out, labels=y_output))"
   ]
  },
  {
   "cell_type": "code",
   "execution_count": 56,
   "metadata": {},
   "outputs": [],
   "source": [
    "accuracy = tf.reduce_mean(tf.cast(tf.equal(tf.argmax(logits_out,1), tf.cast(y_output, tf.int64)), tf.float32))"
   ]
  },
  {
   "cell_type": "code",
   "execution_count": 57,
   "metadata": {},
   "outputs": [
    {
     "name": "stderr",
     "output_type": "stream",
     "text": [
      "/anaconda3/lib/python3.5/site-packages/tensorflow/python/ops/gradients_impl.py:108: UserWarning: Converting sparse IndexedSlices to a dense Tensor of unknown shape. This may consume a large amount of memory.\n",
      "  \"Converting sparse IndexedSlices to a dense Tensor of unknown shape. \"\n"
     ]
    }
   ],
   "source": [
    "optim = tf.train.RMSPropOptimizer(learning_rate)\n",
    "train_step = optim.minimize(loss)\n",
    "session.run(tf.global_variables_initializer())"
   ]
  },
  {
   "cell_type": "code",
   "execution_count": 58,
   "metadata": {},
   "outputs": [
    {
     "name": "stdout",
     "output_type": "stream",
     "text": [
      "Epoch 18 completado, Loss: 0.722, Acc: 0.166\n",
      "Epoch 18 completado, Loss: 0.711, Acc: 0.167\n",
      "Epoch 18 completado, Loss: 0.693, Acc: 0.179\n",
      "Epoch 18 completado, Loss: 0.666, Acc: 0.847\n",
      "Epoch 18 completado, Loss: 0.631, Acc: 0.849\n",
      "Epoch 18 completado, Loss: 0.595, Acc: 0.848\n",
      "Epoch 18 completado, Loss: 0.564, Acc: 0.849\n",
      "Epoch 18 completado, Loss: 0.535, Acc: 0.851\n",
      "Epoch 18 completado, Loss: 0.513, Acc: 0.854\n",
      "Epoch 18 completado, Loss: 0.498, Acc: 0.864\n",
      "Epoch 18 completado, Loss: 0.487, Acc: 0.863\n",
      "Epoch 18 completado, Loss: 0.478, Acc: 0.868\n",
      "Epoch 18 completado, Loss: 0.471, Acc: 0.871\n",
      "Epoch 18 completado, Loss: 0.465, Acc: 0.874\n",
      "Epoch 18 completado, Loss: 0.460, Acc: 0.877\n",
      "Epoch 18 completado, Loss: 0.455, Acc: 0.879\n",
      "Epoch 18 completado, Loss: 0.451, Acc: 0.880\n",
      "Epoch 18 completado, Loss: 0.448, Acc: 0.882\n",
      "Epoch 18 completado, Loss: 0.445, Acc: 0.879\n",
      "Epoch 18 completado, Loss: 0.443, Acc: 0.879\n"
     ]
    }
   ],
   "source": [
    "train_loss = []\n",
    "test_loss = []\n",
    "train_acc = []\n",
    "test_acc = []\n",
    "\n",
    "for epoch in range(epochs):\n",
    "    shuffle_ix = np.random.permutation(np.arange(len(x_train)))\n",
    "    x_train = x_train[shuffle_ix]\n",
    "    y_train = y_train[shuffle_ix]\n",
    "    \n",
    "    num_batches = int(len(x_train)/batch_size)+1\n",
    "    \n",
    "    for i in range(num_batches):\n",
    "        min_ix = i * batch_size\n",
    "        max_ix = np.min([len(x_train), ((i+1)*batch_size)])\n",
    "        x_train_batch = x_train[min_ix:max_ix]\n",
    "        y_train_batch = y_train[min_ix:max_ix]\n",
    "        \n",
    "        train_dict = {x_data: x_train_batch, y_output: y_train_batch, dropout_keep_prob:0.5}\n",
    "        session.run(train_step, feed_dict=train_dict)\n",
    "    \n",
    "    temp_train_loss, temp_train_acc = session.run([loss, accuracy], feed_dict=train_dict)\n",
    "    train_loss.append(temp_train_loss)\n",
    "    train_acc.append(temp_train_acc)\n",
    "    \n",
    "    test_dict = {x_data: x_test, y_output:y_test, dropout_keep_prob:1.0}\n",
    "    temp_test_loss, temp_test_acc = session.run([loss, accuracy], feed_dict=test_dict)\n",
    "    test_loss.append(temp_test_loss)\n",
    "    test_acc.append(temp_test_acc)\n",
    "    print(\"Epoch {} completado, Loss: {:.3f}, Acc: {:.3f}\".format(i+1, temp_test_loss, temp_test_acc))"
   ]
  },
  {
   "cell_type": "code",
   "execution_count": 59,
   "metadata": {},
   "outputs": [],
   "source": [
    "epoch_seq = np.arange(1, epochs+1)"
   ]
  },
  {
   "cell_type": "code",
   "execution_count": 60,
   "metadata": {},
   "outputs": [
    {
     "data": {
      "image/png": "[encoded data removed]",
      "text/plain": [
       "<Figure size 432x288 with 1 Axes>"
      ]
     },
     "metadata": {
      "needs_background": "light"
     },
     "output_type": "display_data"
    }
   ],
   "source": [
    "plt.plot(epoch_seq, train_loss, 'k--', label=\"Conjunto de Entrenamiento\")\n",
    "plt.plot(epoch_seq, test_loss, 'r-', label = \"Conjunto de Test\")\n",
    "plt.title(\"Función Softmax de pérdidas\")\n",
    "plt.xlabel(\"Epochs\")\n",
    "plt.ylabel(\"Softmax Loss\")\n",
    "plt.legend(loc=\"upper left\")\n",
    "plt.show()"
   ]
  },
  {
   "cell_type": "code",
   "execution_count": 62,
   "metadata": {},
   "outputs": [
    {
     "data": {
      "image/png": "[encoded data removed]",
      "text/plain": [
       "<Figure size 432x288 with 1 Axes>"
      ]
     },
     "metadata": {
      "needs_background": "light"
     },
     "output_type": "display_data"
    }
   ],
   "source": [
    "plt.plot(epoch_seq, train_acc, 'k--', label=\"Conjunto de Entrenamiento\")\n",
    "plt.plot(epoch_seq, test_acc, 'r-', label = \"Conjunto de Test\")\n",
    "plt.title(\"Precisión del algoritmo\")\n",
    "plt.xlabel(\"Epochs\")\n",
    "plt.ylabel(\"Precisión\")\n",
    "plt.legend(loc=\"lower right\")\n",
    "plt.show()"
   ]
  },
  {
   "cell_type": "code",
   "execution_count": null,
   "metadata": {},
   "outputs": [],
   "source": []
  }
 ],
 "metadata": {
  "kernelspec": {
   "display_name": "Python 3",
   "language": "python",
   "name": "python3"
  },
  "language_info": {
   "codemirror_mode": {
    "name": "ipython",
    "version": 3
   },
   "file_extension": ".py",
   "mimetype": "text/x-python",
   "name": "python",
   "nbconvert_exporter": "python",
   "pygments_lexer": "ipython3",
   "version": "3.5.5"
  }
 },
 "nbformat": 4,
 "nbformat_minor": 2
}
