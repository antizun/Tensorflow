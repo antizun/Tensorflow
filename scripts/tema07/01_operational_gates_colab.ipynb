{
  "nbformat": 4,
  "nbformat_minor": 0,
  "metadata": {
    "colab": {
      "name": "01-operational-gates_colab.ipynb",
      "provenance": [],
      "collapsed_sections": []
    },
    "kernelspec": {
      "display_name": "Python 3",
      "language": "python",
      "name": "python3"
    },
    "language_info": {
      "codemirror_mode": {
        "name": "ipython",
        "version": 3
      },
      "file_extension": ".py",
      "mimetype": "text/x-python",
      "name": "python",
      "nbconvert_exporter": "python",
      "pygments_lexer": "ipython3",
      "version": "3.8.3"
    },
    "accelerator": "GPU"
  },
  "cells": [
    {
      "cell_type": "markdown",
      "metadata": {
        "colab_type": "text",
        "id": "KdUFcDsdzRyw"
      },
      "source": [
        "# Clonamos el repositorio para obtener los dataSet"
      ]
    },
    {
      "cell_type": "code",
      "metadata": {
        "colab_type": "code",
        "id": "mHReFf3_y9ms",
        "colab": {
          "base_uri": "https://localhost:8080/",
          "height": 153
        },
        "outputId": "3fa17b53-daae-435a-aad3-5c1148b6b889"
      },
      "source": [
        "!git clone https://github.com/joanby/tensorflow.git"
      ],
      "execution_count": 185,
      "outputs": [
        {
          "output_type": "stream",
          "text": [
            "Cloning into 'tensorflow'...\n",
            "remote: Enumerating objects: 51, done.\u001b[K\n",
            "remote: Counting objects: 100% (51/51), done.\u001b[K\n",
            "remote: Compressing objects: 100% (28/28), done.\u001b[K\n",
            "remote: Total 60311 (delta 32), reused 37 (delta 23), pack-reused 60260\u001b[K\n",
            "Receiving objects: 100% (60311/60311), 442.46 MiB | 39.29 MiB/s, done.\n",
            "Resolving deltas: 100% (82/82), done.\n",
            "Checking out files: 100% (60225/60225), done.\n"
          ],
          "name": "stdout"
        }
      ]
    },
    {
      "cell_type": "markdown",
      "metadata": {
        "colab_type": "text",
        "id": "vNKZXgtKzU2x"
      },
      "source": [
        "# Damos acceso a nuestro Drive"
      ]
    },
    {
      "cell_type": "code",
      "metadata": {
        "colab_type": "code",
        "id": "5gu7KWnzzUQ0",
        "colab": {}
      },
      "source": [
        "from google.colab import drive\n",
        "drive.mount('/content/drive')"
      ],
      "execution_count": null,
      "outputs": []
    },
    {
      "cell_type": "markdown",
      "metadata": {
        "colab_type": "text",
        "id": "1gUxIkHWzfHV"
      },
      "source": [
        "# Test it"
      ]
    },
    {
      "cell_type": "code",
      "metadata": {
        "colab_type": "code",
        "id": "mIQt3jBMzYRE",
        "colab": {}
      },
      "source": [
        "!ls '/content/drive/My Drive' "
      ],
      "execution_count": null,
      "outputs": []
    },
    {
      "cell_type": "markdown",
      "metadata": {
        "colab_type": "text",
        "id": "mHsK36uN0XB-"
      },
      "source": [
        "# Google colab tools"
      ]
    },
    {
      "cell_type": "code",
      "metadata": {
        "colab_type": "code",
        "id": "kTzwfUPWzrm4",
        "colab": {}
      },
      "source": [
        "from google.colab import files # Para manejar los archivos y, por ejemplo, exportar a su navegador\n",
        "import glob # Para manejar los archivos y, por ejemplo, exportar a su navegador\n",
        "from google.colab import drive # Montar tu Google drive"
      ],
      "execution_count": 1,
      "outputs": []
    },
    {
      "cell_type": "markdown",
      "metadata": {
        "id": "yQQ8nLiMY6wM",
        "colab_type": "text"
      },
      "source": [
        "##Especificando la versión de TensorFlow\n",
        "\n",
        "Ejecutando \"importar tensorflow\" importará la versión por defecto (actualmente 2.x). Puedes usar la 1.x ejecutando una celda con la \"versión mágica de tensorflow\" **antes de ejecutar \"importar tensorflow\".\n",
        "\n",
        "### Si no funciona hacer el pip install\n"
      ]
    },
    {
      "cell_type": "code",
      "metadata": {
        "id": "1j---G3ZY6wN",
        "colab_type": "code",
        "colab": {
          "base_uri": "https://localhost:8080/",
          "height": 34
        },
        "outputId": "f363a778-c70c-4292-b3c6-5024ef8c2657"
      },
      "source": [
        "#!pip install tensorflow==1.14\n",
        "%tensorflow_version 1.x"
      ],
      "execution_count": 2,
      "outputs": [
        {
          "output_type": "stream",
          "text": [
            "TensorFlow 1.x selected.\n"
          ],
          "name": "stdout"
        }
      ]
    },
    {
      "cell_type": "markdown",
      "metadata": {
        "id": "S-OIfuWLujbt",
        "colab_type": "text"
      },
      "source": [
        "# Importar Tensorflow"
      ]
    },
    {
      "cell_type": "code",
      "metadata": {
        "id": "OPSus73fumtP",
        "colab_type": "code",
        "colab": {
          "base_uri": "https://localhost:8080/",
          "height": 34
        },
        "outputId": "9d80de70-b52c-4436-d10e-c7b7b6fc078e"
      },
      "source": [
        "import tensorflow as tf\n",
        "print(tf.__version__)\n",
        "import matplotlib.pyplot as plt"
      ],
      "execution_count": 198,
      "outputs": [
        {
          "output_type": "stream",
          "text": [
            "1.15.2\n"
          ],
          "name": "stdout"
        }
      ]
    },
    {
      "cell_type": "code",
      "metadata": {
        "id": "VQheSGsEBdD3",
        "colab_type": "code",
        "colab": {}
      },
      "source": [
        "session = tf.Session()"
      ],
      "execution_count": 199,
      "outputs": []
    },
    {
      "cell_type": "markdown",
      "metadata": {
        "id": "qzlBylUEmQJ0",
        "colab_type": "text"
      },
      "source": [
        "# Puertas lógicas"
      ]
    },
    {
      "cell_type": "markdown",
      "metadata": {
        "id": "Yn7x1RnM9z1n",
        "colab_type": "text"
      },
      "source": [
        "$$f(x) = a\\cdot x$$"
      ]
    },
    {
      "cell_type": "code",
      "metadata": {
        "id": "bpp2MFme9yi_",
        "colab_type": "code",
        "colab": {}
      },
      "source": [
        "a = tf.Variable(tf.constant(4.0))\n",
        "x_val = 5.0\n",
        "x_data =tf.placeholder(dtype=tf.float32)"
      ],
      "execution_count": 200,
      "outputs": []
    },
    {
      "cell_type": "code",
      "metadata": {
        "id": "FtAMNEmv91ht",
        "colab_type": "code",
        "colab": {}
      },
      "source": [
        "multiplication = tf.multiply(a,x_data)"
      ],
      "execution_count": 201,
      "outputs": []
    },
    {
      "cell_type": "markdown",
      "metadata": {
        "id": "5xAIc9Hr93to",
        "colab_type": "text"
      },
      "source": [
        "$$loss = (a\\cdot x - target)^2$$"
      ]
    },
    {
      "cell_type": "code",
      "metadata": {
        "id": "zMXBzH1892dr",
        "colab_type": "code",
        "colab": {}
      },
      "source": [
        "loss = tf.square(tf.subtract(multiplication, 50.0))## L2"
      ],
      "execution_count": 202,
      "outputs": []
    },
    {
      "cell_type": "code",
      "metadata": {
        "id": "ZCLFhO3b95Nq",
        "colab_type": "code",
        "colab": {}
      },
      "source": [
        "init = tf.global_variables_initializer()\n",
        "session.run(init)"
      ],
      "execution_count": 203,
      "outputs": []
    },
    {
      "cell_type": "code",
      "metadata": {
        "id": "KGJySYc596LB",
        "colab_type": "code",
        "colab": {}
      },
      "source": [
        "my_optim = tf.train.GradientDescentOptimizer(0.01)\n",
        "train_step = my_optim.minimize(loss)"
      ],
      "execution_count": 204,
      "outputs": []
    },
    {
      "cell_type": "code",
      "metadata": {
        "id": "5DnrbxPg97OT",
        "colab_type": "code",
        "colab": {
          "base_uri": "https://localhost:8080/",
          "height": 204
        },
        "outputId": "64907137-c029-45f4-eadc-c51c8734fa51"
      },
      "source": [
        "print(\"Optimización del valor de a para conseguir a*5 = 50\")\n",
        "for i in range(10):\n",
        "    session.run(train_step, feed_dict={x_data: x_val})\n",
        "    a_val = session.run(a)\n",
        "    mult_out = session.run(multiplication, feed_dict={x_data:x_val})\n",
        "    print(str(a_val)+\" x \"+str(x_val)+\" = \"+str(mult_out))"
      ],
      "execution_count": 205,
      "outputs": [
        {
          "output_type": "stream",
          "text": [
            "Optimización del valor de a para conseguir a*5 = 50\n",
            "7.0 x 5.0 = 35.0\n",
            "8.5 x 5.0 = 42.5\n",
            "9.25 x 5.0 = 46.25\n",
            "9.625 x 5.0 = 48.125\n",
            "9.8125 x 5.0 = 49.0625\n",
            "9.90625 x 5.0 = 49.53125\n",
            "9.953125 x 5.0 = 49.765625\n",
            "9.9765625 x 5.0 = 49.882812\n",
            "9.988281 x 5.0 = 49.941406\n",
            "9.994141 x 5.0 = 49.970703\n"
          ],
          "name": "stdout"
        }
      ]
    },
    {
      "cell_type": "markdown",
      "metadata": {
        "id": "k6Kx3tYr99mv",
        "colab_type": "text"
      },
      "source": [
        "$$f(x) = a\\cdot x + b $$"
      ]
    },
    {
      "cell_type": "markdown",
      "metadata": {
        "id": "OJVVXkij-A6o",
        "colab_type": "text"
      },
      "source": [
        "¿Qué tiene que valer $a$ y $b$ para que $f(5) = 50.0$?"
      ]
    },
    {
      "cell_type": "code",
      "metadata": {
        "id": "rzga25Ly98SK",
        "colab_type": "code",
        "colab": {}
      },
      "source": [
        "from tensorflow.python.framework import ops \n",
        "ops.reset_default_graph()"
      ],
      "execution_count": 206,
      "outputs": []
    },
    {
      "cell_type": "code",
      "metadata": {
        "id": "eXElbge0-Cg-",
        "colab_type": "code",
        "colab": {}
      },
      "source": [
        "session = tf.Session()"
      ],
      "execution_count": 207,
      "outputs": []
    },
    {
      "cell_type": "code",
      "metadata": {
        "id": "GNj1_nT6-Dc2",
        "colab_type": "code",
        "colab": {}
      },
      "source": [
        "a = tf.Variable(tf.constant(5.0))\n",
        "b = tf.Variable(tf.constant(5.0))\n",
        "x_val = 5.0\n",
        "x_data = tf.placeholder(dtype = tf.float32)"
      ],
      "execution_count": 208,
      "outputs": []
    },
    {
      "cell_type": "code",
      "metadata": {
        "id": "QxtZUqFe-Emp",
        "colab_type": "code",
        "colab": {}
      },
      "source": [
        "mult_add = tf.add(tf.multiply(a, x_data), b)"
      ],
      "execution_count": 209,
      "outputs": []
    },
    {
      "cell_type": "code",
      "metadata": {
        "id": "2xLMTZg0-Fk2",
        "colab_type": "code",
        "colab": {}
      },
      "source": [
        "loss = tf.square(tf.subtract(mult_add, 50.0))"
      ],
      "execution_count": 210,
      "outputs": []
    },
    {
      "cell_type": "code",
      "metadata": {
        "id": "d-aHpuhp-Goe",
        "colab_type": "code",
        "colab": {}
      },
      "source": [
        "my_optim = tf.train.GradientDescentOptimizer(0.01)\n",
        "train_step = my_optim.minimize(loss)"
      ],
      "execution_count": 211,
      "outputs": []
    },
    {
      "cell_type": "code",
      "metadata": {
        "id": "9S9xpUu7-HdP",
        "colab_type": "code",
        "colab": {}
      },
      "source": [
        "init = tf.global_variables_initializer()\n",
        "session.run(init)"
      ],
      "execution_count": 212,
      "outputs": []
    },
    {
      "cell_type": "code",
      "metadata": {
        "id": "m33Npxx1-IRx",
        "colab_type": "code",
        "colab": {
          "base_uri": "https://localhost:8080/",
          "height": 272
        },
        "outputId": "197c98db-060b-49d0-f3d2-750e15f1850f"
      },
      "source": [
        "for i in range(15):\n",
        "    session.run(train_step, feed_dict={x_data : x_val})\n",
        "    a_val, b_val = (session.run(a), session.run(b))\n",
        "    result = session.run(mult_add, feed_dict={x_data:x_val})\n",
        "    print(str(a_val)+\" x \"+str(x_val)+\" + \"+str(b_val)+ \" = \"+str(result))"
      ],
      "execution_count": 213,
      "outputs": [
        {
          "output_type": "stream",
          "text": [
            "7.0 x 5.0 + 5.4 = 40.4\n",
            "7.96 x 5.0 + 5.592 = 45.392\n",
            "8.4208 x 5.0 + 5.68416 = 47.788162\n",
            "8.641984 x 5.0 + 5.728397 = 48.938316\n",
            "8.748153 x 5.0 + 5.7496305 = 49.490395\n",
            "8.799113 x 5.0 + 5.7598224 = 49.75539\n",
            "8.823574 x 5.0 + 5.7647147 = 49.882584\n",
            "8.835316 x 5.0 + 5.767063 = 49.94364\n",
            "8.840952 x 5.0 + 5.7681904 = 49.972946\n",
            "8.8436575 x 5.0 + 5.7687316 = 49.98702\n",
            "8.844955 x 5.0 + 5.768991 = 49.993767\n",
            "8.845579 x 5.0 + 5.7691154 = 49.997013\n",
            "8.845878 x 5.0 + 5.769175 = 49.998566\n",
            "8.846021 x 5.0 + 5.7692037 = 49.999306\n",
            "8.84609 x 5.0 + 5.7692175 = 49.999672\n"
          ],
          "name": "stdout"
        }
      ]
    }
  ]
}