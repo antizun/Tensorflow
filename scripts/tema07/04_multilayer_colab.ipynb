{
  "nbformat": 4,
  "nbformat_minor": 0,
  "metadata": {
    "colab": {
      "name": "04_multilayer_colab.ipynb",
      "provenance": [],
      "collapsed_sections": []
    },
    "kernelspec": {
      "display_name": "Python 3",
      "language": "python",
      "name": "python3"
    },
    "language_info": {
      "codemirror_mode": {
        "name": "ipython",
        "version": 3
      },
      "file_extension": ".py",
      "mimetype": "text/x-python",
      "name": "python",
      "nbconvert_exporter": "python",
      "pygments_lexer": "ipython3",
      "version": "3.8.3"
    },
    "accelerator": "GPU"
  },
  "cells": [
    {
      "cell_type": "markdown",
      "metadata": {
        "colab_type": "text",
        "id": "KdUFcDsdzRyw"
      },
      "source": [
        "# Clonamos el repositorio para obtener los dataSet"
      ]
    },
    {
      "cell_type": "code",
      "metadata": {
        "colab_type": "code",
        "id": "mHReFf3_y9ms",
        "colab": {
          "base_uri": "https://localhost:8080/",
          "height": 153
        },
        "outputId": "5fb0e4c9-1a26-4b76-f0c6-af5b9a0eab37"
      },
      "source": [
        "!git clone https://github.com/joanby/tensorflow.git"
      ],
      "execution_count": 2,
      "outputs": [
        {
          "output_type": "stream",
          "text": [
            "Cloning into 'tensorflow'...\n",
            "remote: Enumerating objects: 51, done.\u001b[K\n",
            "remote: Counting objects: 100% (51/51), done.\u001b[K\n",
            "remote: Compressing objects: 100% (28/28), done.\u001b[K\n",
            "remote: Total 60311 (delta 32), reused 37 (delta 23), pack-reused 60260\u001b[K\n",
            "Receiving objects: 100% (60311/60311), 442.46 MiB | 40.96 MiB/s, done.\n",
            "Resolving deltas: 100% (82/82), done.\n",
            "Checking out files: 100% (60225/60225), done.\n"
          ],
          "name": "stdout"
        }
      ]
    },
    {
      "cell_type": "markdown",
      "metadata": {
        "colab_type": "text",
        "id": "vNKZXgtKzU2x"
      },
      "source": [
        "# Damos acceso a nuestro Drive"
      ]
    },
    {
      "cell_type": "code",
      "metadata": {
        "colab_type": "code",
        "id": "5gu7KWnzzUQ0",
        "colab": {}
      },
      "source": [
        "from google.colab import drive\n",
        "drive.mount('/content/drive')"
      ],
      "execution_count": null,
      "outputs": []
    },
    {
      "cell_type": "markdown",
      "metadata": {
        "colab_type": "text",
        "id": "1gUxIkHWzfHV"
      },
      "source": [
        "# Test it"
      ]
    },
    {
      "cell_type": "code",
      "metadata": {
        "colab_type": "code",
        "id": "mIQt3jBMzYRE",
        "colab": {}
      },
      "source": [
        "!ls '/content/drive/My Drive' "
      ],
      "execution_count": null,
      "outputs": []
    },
    {
      "cell_type": "markdown",
      "metadata": {
        "colab_type": "text",
        "id": "mHsK36uN0XB-"
      },
      "source": [
        "# Google colab tools"
      ]
    },
    {
      "cell_type": "code",
      "metadata": {
        "colab_type": "code",
        "id": "kTzwfUPWzrm4",
        "colab": {}
      },
      "source": [
        "from google.colab import files # Para manejar los archivos y, por ejemplo, exportar a su navegador\n",
        "import glob # Para manejar los archivos y, por ejemplo, exportar a su navegador\n",
        "from google.colab import drive # Montar tu Google drive"
      ],
      "execution_count": 3,
      "outputs": []
    },
    {
      "cell_type": "markdown",
      "metadata": {
        "id": "yQQ8nLiMY6wM",
        "colab_type": "text"
      },
      "source": [
        "##Especificando la versión de TensorFlow\n",
        "\n",
        "Ejecutando \"importar tensorflow\" importará la versión por defecto (actualmente 2.x). Puedes usar la 1.x ejecutando una celda con la \"versión mágica de tensorflow\" **antes de ejecutar \"importar tensorflow\".\n",
        "\n",
        "### Si no funciona hacer el pip install\n"
      ]
    },
    {
      "cell_type": "code",
      "metadata": {
        "id": "1j---G3ZY6wN",
        "colab_type": "code",
        "colab": {
          "base_uri": "https://localhost:8080/",
          "height": 34
        },
        "outputId": "cbb0d096-2333-42d6-92f6-9bdebd516a73"
      },
      "source": [
        "#!pip install tensorflow==1.14\n",
        "%tensorflow_version 1.x"
      ],
      "execution_count": 4,
      "outputs": [
        {
          "output_type": "stream",
          "text": [
            "TensorFlow 1.x selected.\n"
          ],
          "name": "stdout"
        }
      ]
    },
    {
      "cell_type": "markdown",
      "metadata": {
        "id": "S-OIfuWLujbt",
        "colab_type": "text"
      },
      "source": [
        "# Importar Tensorflow"
      ]
    },
    {
      "cell_type": "code",
      "metadata": {
        "id": "OPSus73fumtP",
        "colab_type": "code",
        "colab": {
          "base_uri": "https://localhost:8080/",
          "height": 34
        },
        "outputId": "94144580-f336-4b66-9227-32f50d9c8a5b"
      },
      "source": [
        "import tensorflow as tf\n",
        "print(tf.__version__)\n",
        "import matplotlib.pyplot as plt"
      ],
      "execution_count": 5,
      "outputs": [
        {
          "output_type": "stream",
          "text": [
            "1.15.2\n"
          ],
          "name": "stdout"
        }
      ]
    },
    {
      "cell_type": "code",
      "metadata": {
        "id": "VQheSGsEBdD3",
        "colab_type": "code",
        "colab": {}
      },
      "source": [
        "session = tf.Session()"
      ],
      "execution_count": 6,
      "outputs": []
    },
    {
      "cell_type": "markdown",
      "metadata": {
        "id": "6_GkFLZm-Wfz",
        "colab_type": "text"
      },
      "source": [
        "# Redes neuronales multicapas"
      ]
    },
    {
      "cell_type": "markdown",
      "metadata": {
        "id": "Evzm9UaDD15b",
        "colab_type": "text"
      },
      "source": [
        "### Ejemplo 1D "
      ]
    },
    {
      "cell_type": "code",
      "metadata": {
        "id": "42EACcgkD9lW",
        "colab_type": "code",
        "colab": {}
      },
      "source": [
        "import numpy as np"
      ],
      "execution_count": 7,
      "outputs": []
    },
    {
      "cell_type": "code",
      "metadata": {
        "id": "YiuIfJYW_7n2",
        "colab_type": "code",
        "colab": {}
      },
      "source": [
        "data_size = 25\n",
        "data_1d = np.random.normal(size = data_size)\n",
        "x_input_1d = tf.placeholder(shape=[data_size], dtype=tf.float32)"
      ],
      "execution_count": 8,
      "outputs": []
    },
    {
      "cell_type": "code",
      "metadata": {
        "id": "QK9tEusB_8iK",
        "colab_type": "code",
        "colab": {}
      },
      "source": [
        "def conv_layer_1d(input_1d, my_filter):\n",
        "    input_2d = tf.expand_dims(input_1d, 0)\n",
        "    input_3d = tf.expand_dims(input_2d, 0)\n",
        "    input_4d = tf.expand_dims(input_3d, 3)\n",
        "    convolution = tf.nn.conv2d(input_4d, filter = my_filter, strides = [1,1,1,1], padding=\"VALID\")\n",
        "    output = tf.squeeze(convolution)\n",
        "    return(output)"
      ],
      "execution_count": 9,
      "outputs": []
    },
    {
      "cell_type": "code",
      "metadata": {
        "id": "E-3oaVLZ_9gY",
        "colab_type": "code",
        "colab": {}
      },
      "source": [
        "my_filter = tf.Variable(tf.random_normal(shape=[1,5,1,1]))\n",
        "my_conv_output = conv_layer_1d(x_input_1d, my_filter)"
      ],
      "execution_count": 10,
      "outputs": []
    },
    {
      "cell_type": "code",
      "metadata": {
        "id": "8slqCCX0_-i7",
        "colab_type": "code",
        "colab": {}
      },
      "source": [
        "def activation(input_1d):\n",
        "    return tf.nn.relu(input_1d)\n",
        "my_activation_output = activation(my_conv_output)"
      ],
      "execution_count": 11,
      "outputs": []
    },
    {
      "cell_type": "code",
      "metadata": {
        "id": "VaBrWAX9__cI",
        "colab_type": "code",
        "colab": {}
      },
      "source": [
        "def max_pool(input_1d, width):\n",
        "    input_2d = tf.expand_dims(input_1d, 0)\n",
        "    input_3d = tf.expand_dims(input_2d, 0)\n",
        "    input_4d = tf.expand_dims(input_3d, 3)\n",
        "    pooling = tf.nn.max_pool(input_4d, ksize=[1,1,width,1], strides=[1,1,1,1], padding=\"VALID\")\n",
        "    output = tf.squeeze(pooling)\n",
        "    return(output)"
      ],
      "execution_count": 12,
      "outputs": []
    },
    {
      "cell_type": "code",
      "metadata": {
        "id": "WprmJHGNAAnH",
        "colab_type": "code",
        "colab": {}
      },
      "source": [
        "my_maxpool_ouput = max_pool(my_activation_output, width=5)"
      ],
      "execution_count": 13,
      "outputs": []
    },
    {
      "cell_type": "code",
      "metadata": {
        "id": "PPOjMJ9dABm3",
        "colab_type": "code",
        "colab": {}
      },
      "source": [
        "def fully_connected(input_layer, num_output):\n",
        "    weight_shape = tf.squeeze(tf.stack([tf.shape(input_layer), [num_output]]))\n",
        "    weight = tf.random_normal(weight_shape, stddev=0.1)\n",
        "    bias = tf.random_normal(shape=[num_output])\n",
        "    input_layer_2d = tf.expand_dims(input_layer,0)\n",
        "    full_output = tf.add(tf.matmul(input_layer_2d, weight), bias)\n",
        "    full_output_1d = tf.squeeze(full_output)\n",
        "    return(full_output_1d)"
      ],
      "execution_count": 14,
      "outputs": []
    },
    {
      "cell_type": "code",
      "metadata": {
        "id": "7FtBxUI_ACdN",
        "colab_type": "code",
        "colab": {}
      },
      "source": [
        "my_full_output = fully_connected(my_maxpool_ouput, 5)"
      ],
      "execution_count": 15,
      "outputs": []
    },
    {
      "cell_type": "code",
      "metadata": {
        "id": "VqFvxwzCADab",
        "colab_type": "code",
        "colab": {}
      },
      "source": [
        "init = tf.global_variables_initializer()\n",
        "session.run(init)"
      ],
      "execution_count": 16,
      "outputs": []
    },
    {
      "cell_type": "code",
      "metadata": {
        "id": "j-izxfAyAETw",
        "colab_type": "code",
        "colab": {}
      },
      "source": [
        "feed_dict = {x_input_1d: data_1d}"
      ],
      "execution_count": 17,
      "outputs": []
    },
    {
      "cell_type": "code",
      "metadata": {
        "id": "h2fSP6NVAFaG",
        "colab_type": "code",
        "colab": {
          "base_uri": "https://localhost:8080/",
          "height": 102
        },
        "outputId": "ee93b7ca-02c4-4490-e365-ad8d91c3a2c6"
      },
      "source": [
        "data_1d"
      ],
      "execution_count": 18,
      "outputs": [
        {
          "output_type": "execute_result",
          "data": {
            "text/plain": [
              "array([-1.07889055,  0.95052443,  1.33974865,  0.55979303, -0.08035685,\n",
              "       -0.3821933 ,  0.24770011,  0.20264024,  0.3066495 , -0.49571026,\n",
              "       -1.2334389 , -0.44657562, -0.44167007, -0.19813113,  0.57108106,\n",
              "       -0.31243067, -0.11600661,  2.12846682, -0.33257253,  0.63222502,\n",
              "       -1.30006191, -0.40697375, -0.60163739,  0.78884734,  1.27080713])"
            ]
          },
          "metadata": {
            "tags": []
          },
          "execution_count": 18
        }
      ]
    },
    {
      "cell_type": "code",
      "metadata": {
        "id": "4crzMAbRAGmH",
        "colab_type": "code",
        "colab": {
          "base_uri": "https://localhost:8080/",
          "height": 170
        },
        "outputId": "e5f70c0f-52bd-45ae-c587-7a573796f62a"
      },
      "source": [
        "session.run(my_filter)"
      ],
      "execution_count": 19,
      "outputs": [
        {
          "output_type": "execute_result",
          "data": {
            "text/plain": [
              "array([[[[-1.9801905e+00]],\n",
              "\n",
              "        [[ 1.7667394e+00]],\n",
              "\n",
              "        [[-1.9910543e+00]],\n",
              "\n",
              "        [[-1.0889482e-03]],\n",
              "\n",
              "        [[-1.3986280e+00]]]], dtype=float32)"
            ]
          },
          "metadata": {
            "tags": []
          },
          "execution_count": 19
        }
      ]
    },
    {
      "cell_type": "code",
      "metadata": {
        "id": "soSHH1gxAHuh",
        "colab_type": "code",
        "colab": {
          "base_uri": "https://localhost:8080/",
          "height": 102
        },
        "outputId": "687e7ac6-97dc-41d5-b234-bbb132f2a62d"
      },
      "source": [
        "# Operación de convolución\n",
        "print(\"Input: tamaño 25, Operación: convolución con filtro de tamaño 5 + stride de tamaño 1, Resultado: tamaño 21\")\n",
        "print(session.run(my_conv_output, feed_dict=feed_dict))"
      ],
      "execution_count": 20,
      "outputs": [
        {
          "output_type": "stream",
          "text": [
            "Input: tamaño 25, Operación: convolución con filtro de tamaño 5 + stride de tamaño 1, Resultado: tamaño 21\n",
            "[ 1.2600051  -0.09517754 -1.8499783  -0.7731869  -1.4384077   1.4839498\n",
            "  0.9826251   1.7534258   1.5910469  -0.03081527  1.7343361   0.93483114\n",
            " -0.4499182  -0.9534517  -0.9890299  -4.70806     6.469946   -5.4905124\n",
            "  5.2059374  -3.8411386   1.275001  ]\n"
          ],
          "name": "stdout"
        }
      ]
    },
    {
      "cell_type": "code",
      "metadata": {
        "id": "fqjb821DAI_V",
        "colab_type": "code",
        "colab": {
          "base_uri": "https://localhost:8080/",
          "height": 102
        },
        "outputId": "0b3ca01a-8537-4818-844f-875227a90361"
      },
      "source": [
        "# Función de activación\n",
        "print(\"Input: tamaño 21, Operación: ReLU al array anterior, Resultado: tamaño 21\")\n",
        "print(session.run(my_activation_output, feed_dict=feed_dict))"
      ],
      "execution_count": 21,
      "outputs": [
        {
          "output_type": "stream",
          "text": [
            "Input: tamaño 21, Operación: ReLU al array anterior, Resultado: tamaño 21\n",
            "[1.2600051  0.         0.         0.         0.         1.4839498\n",
            " 0.9826251  1.7534258  1.5910469  0.         1.7343361  0.93483114\n",
            " 0.         0.         0.         0.         6.469946   0.\n",
            " 5.2059374  0.         1.275001  ]\n"
          ],
          "name": "stdout"
        }
      ]
    },
    {
      "cell_type": "code",
      "metadata": {
        "id": "ZXxm6NJLAK7k",
        "colab_type": "code",
        "colab": {
          "base_uri": "https://localhost:8080/",
          "height": 85
        },
        "outputId": "9563e220-32ab-419f-f1f4-c8d3ab568fc8"
      },
      "source": [
        "# Operción de Max Pooling\n",
        "print(\"Input: tamaño 21, Operación: maxpooling con ventana de tamaño 5 + stride de tamaño 1, Resultado: tamaño 17\")\n",
        "print(session.run(my_maxpool_ouput, feed_dict=feed_dict))"
      ],
      "execution_count": 22,
      "outputs": [
        {
          "output_type": "stream",
          "text": [
            "Input: tamaño 21, Operación: maxpooling con ventana de tamaño 5 + stride de tamaño 1, Resultado: tamaño 17\n",
            "[1.2600051  1.4839498  1.4839498  1.7534258  1.7534258  1.7534258\n",
            " 1.7534258  1.7534258  1.7343361  1.7343361  1.7343361  0.93483114\n",
            " 6.469946   6.469946   6.469946   6.469946   6.469946  ]\n"
          ],
          "name": "stdout"
        }
      ]
    },
    {
      "cell_type": "code",
      "metadata": {
        "id": "F0sKbxpWAL6b",
        "colab_type": "code",
        "colab": {
          "base_uri": "https://localhost:8080/",
          "height": 51
        },
        "outputId": "0d90672c-2813-405b-8497-e595d6a136ef"
      },
      "source": [
        "# Capa Totalmente Conectada\n",
        "print(\"Input: tamaño 17, Operación de conectar totalmente la entrada con 5 valores de salida, Resultado: tamaño 5\")\n",
        "print(session.run(my_full_output, feed_dict=feed_dict))"
      ],
      "execution_count": 23,
      "outputs": [
        {
          "output_type": "stream",
          "text": [
            "Input: tamaño 17, Operación de conectar totalmente la entrada con 5 valores de salida, Resultado: tamaño 5\n",
            "[ 3.3636603  -0.43062103  2.366209    2.5779343  -1.8963683 ]\n"
          ],
          "name": "stdout"
        }
      ]
    },
    {
      "cell_type": "markdown",
      "metadata": {
        "id": "lDinmEDSAOrc",
        "colab_type": "text"
      },
      "source": [
        "### Ejemplo 2D"
      ]
    },
    {
      "cell_type": "code",
      "metadata": {
        "id": "ChuLjTqdANDR",
        "colab_type": "code",
        "colab": {}
      },
      "source": [
        "session = tf.Session()"
      ],
      "execution_count": 24,
      "outputs": []
    },
    {
      "cell_type": "code",
      "metadata": {
        "id": "19ozlC_5AQdT",
        "colab_type": "code",
        "colab": {}
      },
      "source": [
        "data_size = [10,10]\n",
        "data_2d = np.random.normal(size = data_size)\n",
        "x_input_2d = tf.placeholder(dtype=tf.float32, shape=data_size)"
      ],
      "execution_count": 25,
      "outputs": []
    },
    {
      "cell_type": "code",
      "metadata": {
        "id": "lpao1xh7ARYN",
        "colab_type": "code",
        "colab": {}
      },
      "source": [
        "def conv_layer_2d(input_2d, my_filter):\n",
        "    input_3d = tf.expand_dims(input_2d, 0)\n",
        "    input_4d = tf.expand_dims(input_3d, 3)\n",
        "    convolution = tf.nn.conv2d(input_4d, filter=my_filter, strides = [1,2,2,1], padding=\"VALID\")\n",
        "    output = tf.squeeze(convolution)\n",
        "    return(output)"
      ],
      "execution_count": 26,
      "outputs": []
    },
    {
      "cell_type": "code",
      "metadata": {
        "id": "odn6Uu9oASNZ",
        "colab_type": "code",
        "colab": {}
      },
      "source": [
        "my_filter = tf.Variable(tf.random_normal(shape=[2,2,1,1]))\n",
        "my_conv_output = conv_layer_2d(x_input_2d, my_filter)"
      ],
      "execution_count": 27,
      "outputs": []
    },
    {
      "cell_type": "code",
      "metadata": {
        "id": "3eDruDUGAS_M",
        "colab_type": "code",
        "colab": {}
      },
      "source": [
        "def activation(input_2d):\n",
        "    return(tf.nn.relu(input_2d))"
      ],
      "execution_count": 28,
      "outputs": []
    },
    {
      "cell_type": "code",
      "metadata": {
        "id": "vPvgXYmKATxd",
        "colab_type": "code",
        "colab": {}
      },
      "source": [
        "my_activation_output = activation(my_conv_output)"
      ],
      "execution_count": 29,
      "outputs": []
    },
    {
      "cell_type": "code",
      "metadata": {
        "id": "kmBR6nrLAUlR",
        "colab_type": "code",
        "colab": {}
      },
      "source": [
        "def max_pool(input_2d, width, height):\n",
        "    input_3d = tf.expand_dims(input_2d, 0)\n",
        "    input_4d = tf.expand_dims(input_3d, 3)\n",
        "    pooling = tf.nn.max_pool(input_4d, ksize=[1,height,width,1], strides=[1,1,1,1], padding=\"VALID\")\n",
        "    output = tf.squeeze(pooling)\n",
        "    return(output)"
      ],
      "execution_count": 30,
      "outputs": []
    },
    {
      "cell_type": "code",
      "metadata": {
        "id": "_qroLhoaAVfL",
        "colab_type": "code",
        "colab": {}
      },
      "source": [
        "my_maxpool_ouput = max_pool(my_activation_output, width=2, height=2)"
      ],
      "execution_count": 31,
      "outputs": []
    },
    {
      "cell_type": "code",
      "metadata": {
        "id": "6kg13ETxAWiX",
        "colab_type": "code",
        "colab": {}
      },
      "source": [
        "def fully_connected(input_layer, num_output):\n",
        "    flat_input = tf.reshape(input_layer, [-1])\n",
        "    weight_shape = tf.squeeze(tf.stack([tf.shape(flat_input), [num_output]]))\n",
        "    weight = tf.random_normal(weight_shape, stddev=0.1)\n",
        "    bias = tf.random_normal(shape=[num_output])\n",
        "    input_layer_2d = tf.expand_dims(flat_input,0)\n",
        "    full_output = tf.add(tf.matmul(input_layer_2d, weight), bias)\n",
        "    full_output_1d = tf.squeeze(full_output)\n",
        "    return(full_output_1d)"
      ],
      "execution_count": 32,
      "outputs": []
    },
    {
      "cell_type": "code",
      "metadata": {
        "id": "_jUS8Zs7AXXn",
        "colab_type": "code",
        "colab": {}
      },
      "source": [
        "my_full_output = fully_connected(my_maxpool_ouput, 5)"
      ],
      "execution_count": 33,
      "outputs": []
    },
    {
      "cell_type": "code",
      "metadata": {
        "id": "7mEH7wVWAYiL",
        "colab_type": "code",
        "colab": {}
      },
      "source": [
        "init = tf.global_variables_initializer()\n",
        "session.run(init)"
      ],
      "execution_count": 34,
      "outputs": []
    },
    {
      "cell_type": "code",
      "metadata": {
        "id": "Y_OZ2cYdAZY9",
        "colab_type": "code",
        "colab": {}
      },
      "source": [
        "feed_dict = {x_input_2d: data_2d}"
      ],
      "execution_count": 35,
      "outputs": []
    },
    {
      "cell_type": "code",
      "metadata": {
        "id": "DfOoLRf2AaQP",
        "colab_type": "code",
        "colab": {
          "base_uri": "https://localhost:8080/",
          "height": 357
        },
        "outputId": "39752815-ab26-47bf-9d71-17b32b314d2c"
      },
      "source": [
        "data_2d"
      ],
      "execution_count": 36,
      "outputs": [
        {
          "output_type": "execute_result",
          "data": {
            "text/plain": [
              "array([[ 0.64279357,  1.38886546, -0.73842588,  1.03282902, -1.35471834,\n",
              "         0.70040449,  0.69265522, -0.28281848, -0.41040716,  0.09278582],\n",
              "       [-1.81405803,  1.74568603, -0.26799812, -0.92388041,  0.21456775,\n",
              "         0.64209968,  0.08102591,  1.87495642, -0.7742249 , -0.89105987],\n",
              "       [-0.34429916,  0.53278324,  1.17835321, -1.00015473, -0.88002885,\n",
              "        -1.39805838,  0.04031183, -0.95746534, -0.98438932, -0.84933427],\n",
              "       [ 0.78833887,  0.04685028,  1.20546098, -1.39401358, -0.71973139,\n",
              "         0.09947023, -0.2157645 ,  0.76169064,  0.7208307 ,  0.88837445],\n",
              "       [-1.16058809,  0.11750307,  0.95880178,  1.10241473,  0.12027354,\n",
              "         0.68099416,  0.34480902, -1.06520876, -0.64841115,  1.37800319],\n",
              "       [-0.31953413,  1.41523442, -0.04855357, -0.32627329,  0.29845956,\n",
              "         0.3902052 , -0.84021566,  0.05279293, -0.91419925,  0.76643293],\n",
              "       [ 0.7613948 , -0.87322879,  1.12031335, -1.06113496, -1.2128738 ,\n",
              "         1.56863508,  1.05188067, -0.83147871, -0.95215753, -0.5169732 ],\n",
              "       [-0.7221342 , -0.87044903, -0.45064826, -0.65469696,  1.4745501 ,\n",
              "        -1.02920681, -0.66658552, -0.69053141, -2.11920685,  1.04743866],\n",
              "       [ 0.36218198, -0.25502519, -1.13450758, -0.40383379,  0.30234595,\n",
              "        -0.59886939,  1.28157908,  1.64008596,  2.28478383,  0.99530678],\n",
              "       [ 0.64052031, -0.62927113, -1.41329137,  0.70742275, -2.20886439,\n",
              "         1.09029151,  1.71129622, -0.25244567, -1.23386649,  0.61545659]])"
            ]
          },
          "metadata": {
            "tags": []
          },
          "execution_count": 36
        }
      ]
    },
    {
      "cell_type": "code",
      "metadata": {
        "id": "VlKnBMJgAbaB",
        "colab_type": "code",
        "colab": {
          "base_uri": "https://localhost:8080/",
          "height": 153
        },
        "outputId": "e4dd5d7b-211f-4043-f57b-781cd300edf4"
      },
      "source": [
        "session.run(my_filter)"
      ],
      "execution_count": 37,
      "outputs": [
        {
          "output_type": "execute_result",
          "data": {
            "text/plain": [
              "array([[[[ 0.52747995]],\n",
              "\n",
              "        [[-2.2563877 ]]],\n",
              "\n",
              "\n",
              "       [[[ 1.6792697 ]],\n",
              "\n",
              "        [[ 1.1640741 ]]]], dtype=float32)"
            ]
          },
          "metadata": {
            "tags": []
          },
          "execution_count": 37
        }
      ]
    },
    {
      "cell_type": "code",
      "metadata": {
        "id": "kbr5Bha_AcW4",
        "colab_type": "code",
        "colab": {
          "base_uri": "https://localhost:8080/",
          "height": 119
        },
        "outputId": "573ac8f2-41d7-4403-e261-deac06a588dd"
      },
      "source": [
        "# Operación de convolución\n",
        "print(\"Input: tamaño 10x10, Operación: convolución con filtro de tamaño 2x2 + stride de tamaño 2x2, Resultado: tamaño 5x5\")\n",
        "print(session.run(my_conv_output, feed_dict=feed_dict))"
      ],
      "execution_count": 38,
      "outputs": [
        {
          "output_type": "stream",
          "text": [
            "Input: tamaño 10x10, Operación: convolución con filtro de tamaño 2x2 + stride de tamaño 2x2, Resultado: tamaño 5x5\n",
            "[[-3.8089433  -4.245474   -1.1872021   3.3221624  -2.7632344 ]\n",
            " [-0.00540575  3.2798538   1.597532    2.7060142   3.6417847 ]\n",
            " [ 0.23353423 -2.443067   -0.5177232   1.23591    -4.094336  ]\n",
            " [ 0.1460381   1.4663992  -2.901121    0.50777775 -1.6751758 ]\n",
            " [ 1.1095675  -1.2370292  -0.9293361  -0.44480014 -2.3961778 ]]\n"
          ],
          "name": "stdout"
        }
      ]
    },
    {
      "cell_type": "code",
      "metadata": {
        "id": "60CSaAj0AdbC",
        "colab_type": "code",
        "colab": {
          "base_uri": "https://localhost:8080/",
          "height": 119
        },
        "outputId": "b202a23d-eea2-48cf-bdf8-bfb16ec9c961"
      },
      "source": [
        "# Función de activación\n",
        "print(\"Input: tamaño 5x5, Operación: ReLU al array anterior, Resultado: tamaño 5x5\")\n",
        "print(session.run(my_activation_output, feed_dict=feed_dict))"
      ],
      "execution_count": 39,
      "outputs": [
        {
          "output_type": "stream",
          "text": [
            "Input: tamaño 5x5, Operación: ReLU al array anterior, Resultado: tamaño 5x5\n",
            "[[0.         0.         0.         3.3221624  0.        ]\n",
            " [0.         3.2798538  1.597532   2.7060142  3.6417847 ]\n",
            " [0.23353423 0.         0.         1.23591    0.        ]\n",
            " [0.1460381  1.4663992  0.         0.50777775 0.        ]\n",
            " [1.1095675  0.         0.         0.         0.        ]]\n"
          ],
          "name": "stdout"
        }
      ]
    },
    {
      "cell_type": "code",
      "metadata": {
        "id": "n3dxbWdmAeLJ",
        "colab_type": "code",
        "colab": {
          "base_uri": "https://localhost:8080/",
          "height": 102
        },
        "outputId": "7c87e197-74ea-451c-9823-e6995fe308fa"
      },
      "source": [
        "# Operción de Max Pooling\n",
        "print(\"Input: tamaño 5x5, Operación: maxpooling con ventana de tamaño 2x2 + stride de tamaño 1, Resultado: tamaño 4x4\")\n",
        "print(session.run(my_maxpool_ouput, feed_dict=feed_dict))"
      ],
      "execution_count": 40,
      "outputs": [
        {
          "output_type": "stream",
          "text": [
            "Input: tamaño 5x5, Operación: maxpooling con ventana de tamaño 2x2 + stride de tamaño 1, Resultado: tamaño 4x4\n",
            "[[3.2798538  3.2798538  3.3221624  3.6417847 ]\n",
            " [3.2798538  3.2798538  2.7060142  3.6417847 ]\n",
            " [1.4663992  1.4663992  1.23591    1.23591   ]\n",
            " [1.4663992  1.4663992  0.50777775 0.50777775]]\n"
          ],
          "name": "stdout"
        }
      ]
    },
    {
      "cell_type": "code",
      "metadata": {
        "id": "iwIYn5hIAfDF",
        "colab_type": "code",
        "colab": {
          "base_uri": "https://localhost:8080/",
          "height": 51
        },
        "outputId": "8ea222e9-88fe-41d0-8a78-95b7e4c5d158"
      },
      "source": [
        "# Capa Totalmente Conectada\n",
        "print(\"Input: tamaño 4x4, Operación de conectar totalmente la entrada con 5 valores de salida, Resultado: tamaño 5\")\n",
        "print(session.run(my_full_output, feed_dict=feed_dict))"
      ],
      "execution_count": 41,
      "outputs": [
        {
          "output_type": "stream",
          "text": [
            "Input: tamaño 4x4, Operación de conectar totalmente la entrada con 5 valores de salida, Resultado: tamaño 5\n",
            "[-0.36537176 -0.10842323  0.85886157 -0.22109967  0.07901031]\n"
          ],
          "name": "stdout"
        }
      ]
    }
  ]
}