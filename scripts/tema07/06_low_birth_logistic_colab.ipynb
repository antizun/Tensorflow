{
  "nbformat": 4,
  "nbformat_minor": 0,
  "metadata": {
    "colab": {
      "name": "06-low-birth-logistic_colab.ipynb",
      "provenance": [],
      "collapsed_sections": []
    },
    "kernelspec": {
      "display_name": "Python 3",
      "language": "python",
      "name": "python3"
    },
    "language_info": {
      "codemirror_mode": {
        "name": "ipython",
        "version": 3
      },
      "file_extension": ".py",
      "mimetype": "text/x-python",
      "name": "python",
      "nbconvert_exporter": "python",
      "pygments_lexer": "ipython3",
      "version": "3.8.3"
    },
    "accelerator": "GPU"
  },
  "cells": [
    {
      "cell_type": "markdown",
      "metadata": {
        "colab_type": "text",
        "id": "KdUFcDsdzRyw"
      },
      "source": [
        "# Clonamos el repositorio para obtener los dataSet"
      ]
    },
    {
      "cell_type": "code",
      "metadata": {
        "colab_type": "code",
        "id": "mHReFf3_y9ms",
        "colab": {
          "base_uri": "https://localhost:8080/",
          "height": 153
        },
        "outputId": "3fa17b53-daae-435a-aad3-5c1148b6b889"
      },
      "source": [
        "!git clone https://github.com/joanby/tensorflow.git"
      ],
      "execution_count": 185,
      "outputs": [
        {
          "output_type": "stream",
          "text": [
            "Cloning into 'tensorflow'...\n",
            "remote: Enumerating objects: 51, done.\u001b[K\n",
            "remote: Counting objects: 100% (51/51), done.\u001b[K\n",
            "remote: Compressing objects: 100% (28/28), done.\u001b[K\n",
            "remote: Total 60311 (delta 32), reused 37 (delta 23), pack-reused 60260\u001b[K\n",
            "Receiving objects: 100% (60311/60311), 442.46 MiB | 39.29 MiB/s, done.\n",
            "Resolving deltas: 100% (82/82), done.\n",
            "Checking out files: 100% (60225/60225), done.\n"
          ],
          "name": "stdout"
        }
      ]
    },
    {
      "cell_type": "markdown",
      "metadata": {
        "colab_type": "text",
        "id": "vNKZXgtKzU2x"
      },
      "source": [
        "# Damos acceso a nuestro Drive"
      ]
    },
    {
      "cell_type": "code",
      "metadata": {
        "colab_type": "code",
        "id": "5gu7KWnzzUQ0",
        "colab": {}
      },
      "source": [
        "from google.colab import drive\n",
        "drive.mount('/content/drive')"
      ],
      "execution_count": null,
      "outputs": []
    },
    {
      "cell_type": "markdown",
      "metadata": {
        "colab_type": "text",
        "id": "1gUxIkHWzfHV"
      },
      "source": [
        "# Test it"
      ]
    },
    {
      "cell_type": "code",
      "metadata": {
        "colab_type": "code",
        "id": "mIQt3jBMzYRE",
        "colab": {}
      },
      "source": [
        "!ls '/content/drive/My Drive' "
      ],
      "execution_count": null,
      "outputs": []
    },
    {
      "cell_type": "markdown",
      "metadata": {
        "colab_type": "text",
        "id": "mHsK36uN0XB-"
      },
      "source": [
        "# Google colab tools"
      ]
    },
    {
      "cell_type": "code",
      "metadata": {
        "colab_type": "code",
        "id": "kTzwfUPWzrm4",
        "colab": {}
      },
      "source": [
        "from google.colab import files # Para manejar los archivos y, por ejemplo, exportar a su navegador\n",
        "import glob # Para manejar los archivos y, por ejemplo, exportar a su navegador\n",
        "from google.colab import drive # Montar tu Google drive"
      ],
      "execution_count": 1,
      "outputs": []
    },
    {
      "cell_type": "markdown",
      "metadata": {
        "id": "yQQ8nLiMY6wM",
        "colab_type": "text"
      },
      "source": [
        "##Especificando la versión de TensorFlow\n",
        "\n",
        "Ejecutando \"importar tensorflow\" importará la versión por defecto (actualmente 2.x). Puedes usar la 1.x ejecutando una celda con la \"versión mágica de tensorflow\" **antes de ejecutar \"importar tensorflow\".\n",
        "\n",
        "### Si no funciona hacer el pip install\n"
      ]
    },
    {
      "cell_type": "code",
      "metadata": {
        "id": "1j---G3ZY6wN",
        "colab_type": "code",
        "colab": {
          "base_uri": "https://localhost:8080/",
          "height": 34
        },
        "outputId": "f363a778-c70c-4292-b3c6-5024ef8c2657"
      },
      "source": [
        "#!pip install tensorflow==1.14\n",
        "%tensorflow_version 1.x"
      ],
      "execution_count": 2,
      "outputs": [
        {
          "output_type": "stream",
          "text": [
            "TensorFlow 1.x selected.\n"
          ],
          "name": "stdout"
        }
      ]
    },
    {
      "cell_type": "markdown",
      "metadata": {
        "id": "S-OIfuWLujbt",
        "colab_type": "text"
      },
      "source": [
        "# Importar Tensorflow"
      ]
    },
    {
      "cell_type": "code",
      "metadata": {
        "id": "OPSus73fumtP",
        "colab_type": "code",
        "colab": {
          "base_uri": "https://localhost:8080/",
          "height": 34
        },
        "outputId": "339eaf8f-5c12-4409-b3f2-9bad3dc341cf"
      },
      "source": [
        "import tensorflow as tf\n",
        "print(tf.__version__)\n",
        "import matplotlib.pyplot as plt"
      ],
      "execution_count": 300,
      "outputs": [
        {
          "output_type": "stream",
          "text": [
            "1.15.2\n"
          ],
          "name": "stdout"
        }
      ]
    },
    {
      "cell_type": "code",
      "metadata": {
        "id": "VQheSGsEBdD3",
        "colab_type": "code",
        "colab": {}
      },
      "source": [
        "session = tf.Session()"
      ],
      "execution_count": 301,
      "outputs": []
    },
    {
      "cell_type": "markdown",
      "metadata": {
        "id": "-PsrOMHXBroY",
        "colab_type": "text"
      },
      "source": [
        "# Mejorar la predicción de un modelo lineal con NN"
      ]
    },
    {
      "cell_type": "code",
      "metadata": {
        "id": "fWd6ZidtBtan",
        "colab_type": "code",
        "colab": {}
      },
      "source": [
        "url = \"https://raw.githubusercontent.com/joanby/tensorflow/master/datasets/birthweight.dat?token=AMRAeLOMrOCZKT3UgcdcA3VC4ep-4pYNks5cb-CGwA%3D%3D\"\n",
        "birth_file = requests.get(url)\n",
        "birth_data = birth_file.text.split('\\r\\n')\n",
        "birth_header = birth_data[0].split('\\t')\n",
        "birth_data = [[float(x) for x in y.split('\\t') if len(x)>=1] for y in birth_data[1:] if len(y)>=1]"
      ],
      "execution_count": 321,
      "outputs": []
    },
    {
      "cell_type": "code",
      "metadata": {
        "id": "PbwjheAeBvAK",
        "colab_type": "code",
        "colab": {
          "base_uri": "https://localhost:8080/",
          "height": 34
        },
        "outputId": "fa3564e0-0e34-4023-c2bb-a431ee184811"
      },
      "source": [
        "birth_header"
      ],
      "execution_count": 322,
      "outputs": [
        {
          "output_type": "execute_result",
          "data": {
            "text/plain": [
              "['LOW', 'AGE', 'LWT', 'RACE', 'SMOKE', 'PTL', 'HT', 'UI', 'BWT']"
            ]
          },
          "metadata": {
            "tags": []
          },
          "execution_count": 322
        }
      ]
    },
    {
      "cell_type": "code",
      "metadata": {
        "id": "VWA3IXlFBwBy",
        "colab_type": "code",
        "colab": {}
      },
      "source": [
        "y_vals = np.array([x[0] for x in birth_data])\n",
        "x_vals = np.array([x[1:8] for x in birth_data])"
      ],
      "execution_count": 324,
      "outputs": []
    },
    {
      "cell_type": "code",
      "metadata": {
        "id": "fRTzfA1GBw5y",
        "colab_type": "code",
        "colab": {}
      },
      "source": [
        "seed = 2019\n",
        "tf.set_random_seed(seed)\n",
        "np.random.seed(seed)\n",
        "batch_size = 80"
      ],
      "execution_count": 325,
      "outputs": []
    },
    {
      "cell_type": "code",
      "metadata": {
        "id": "-vprFKkuBxw7",
        "colab_type": "code",
        "colab": {}
      },
      "source": [
        "train_idx = np.random.choice(len(x_vals), round(len(x_vals)*0.8), replace=False)\n",
        "test_idx = np.array(list(set(range(len(x_vals)))-set(train_idx)))"
      ],
      "execution_count": 326,
      "outputs": []
    },
    {
      "cell_type": "code",
      "metadata": {
        "id": "Vc2oV8gsBzNM",
        "colab_type": "code",
        "colab": {}
      },
      "source": [
        "x_vals_train = x_vals[train_idx]\n",
        "x_vals_test = x_vals[test_idx]\n",
        "y_vals_train = y_vals[train_idx]\n",
        "y_vals_test = y_vals[test_idx]"
      ],
      "execution_count": 327,
      "outputs": []
    },
    {
      "cell_type": "code",
      "metadata": {
        "id": "YGiKmFi6B0iD",
        "colab_type": "code",
        "colab": {}
      },
      "source": [
        "def normalize_cols(m, col_min = np.array([None]), col_max = np.array([None])):\n",
        "    if not col_min[0]:\n",
        "        col_min = m.min(axis=0)\n",
        "    if not col_max[0]:\n",
        "        col_max = m.max(axis=0)\n",
        "    return(m-col_min)/(col_max-col_min), col_min, col_max"
      ],
      "execution_count": 328,
      "outputs": []
    },
    {
      "cell_type": "code",
      "metadata": {
        "id": "Kf5cHDT-B1fJ",
        "colab_type": "code",
        "colab": {}
      },
      "source": [
        "x_vals_train, train_min, train_max = np.nan_to_num(normalize_cols(x_vals_train))\n",
        "x_vals_test,_,_ = np.nan_to_num(normalize_cols(x_vals_test, train_min, train_max))"
      ],
      "execution_count": 329,
      "outputs": []
    },
    {
      "cell_type": "code",
      "metadata": {
        "id": "dutOGmkJB2wl",
        "colab_type": "code",
        "colab": {}
      },
      "source": [
        "x_data = tf.placeholder(shape=[None, 7],dtype = tf.float32)\n",
        "y_target = tf.placeholder(shape=[None, 1], dtype=tf.float32)"
      ],
      "execution_count": 330,
      "outputs": []
    },
    {
      "cell_type": "code",
      "metadata": {
        "id": "O4eVpY_UB39_",
        "colab_type": "code",
        "colab": {}
      },
      "source": [
        "def init_variables(shape):\n",
        "    return tf.Variable(tf.random_normal(shape=shape))"
      ],
      "execution_count": 331,
      "outputs": []
    },
    {
      "cell_type": "code",
      "metadata": {
        "id": "npZf_4HmB5BO",
        "colab_type": "code",
        "colab": {}
      },
      "source": [
        "def logistic(input_layer, multiplication_weight, bias_weight, activation_sig = True):\n",
        "    linear_layer = tf.add(tf.matmul(input_layer, multiplication_weight), bias_weight)\n",
        "    if activation_sig:\n",
        "        return tf.nn.sigmoid(linear_layer)\n",
        "    else:\n",
        "        return linear_layer"
      ],
      "execution_count": 332,
      "outputs": []
    },
    {
      "cell_type": "markdown",
      "metadata": {
        "id": "evNxTTq4B6Z7",
        "colab_type": "text"
      },
      "source": [
        "- Entrada: 7 datos -> Capa oculta 1: 14 nodos ocultos\n",
        "- Capa oculta 1: 14 nodos -> Capa oculta 2: 5 nodos ocultos\n",
        "- Capa oculta 2: 5 nodos -> Capa salida -> 1 nodo"
      ]
    },
    {
      "cell_type": "code",
      "metadata": {
        "id": "n4Z6Ro9uB58y",
        "colab_type": "code",
        "colab": {}
      },
      "source": [
        "A1 = init_variables(shape=[7,14])\n",
        "b1 = init_variables(shape=[14])\n",
        "logistic_layer_1 = logistic(x_data,A1,b1)\n",
        "\n",
        "A2 = init_variables(shape=[14,5])\n",
        "b2 = init_variables(shape=[5])\n",
        "logistic_layer_2 = logistic(logistic_layer_1,A2,b2)\n",
        "\n",
        "A3 = init_variables(shape=[5,1])\n",
        "b3 = init_variables(shape=[1])\n",
        "final_output = logistic(logistic_layer_2,A3,b3, activation_sig=False)"
      ],
      "execution_count": 333,
      "outputs": []
    },
    {
      "cell_type": "code",
      "metadata": {
        "id": "5f5Ldw0yB8-y",
        "colab_type": "code",
        "colab": {}
      },
      "source": [
        "loss = tf.reduce_mean(tf.nn.sigmoid_cross_entropy_with_logits(logits=final_output, labels=y_target))"
      ],
      "execution_count": 334,
      "outputs": []
    },
    {
      "cell_type": "code",
      "metadata": {
        "id": "ZGmU1N83B-VP",
        "colab_type": "code",
        "colab": {}
      },
      "source": [
        "my_optim = tf.train.AdamOptimizer(learning_rate=0.002)\n",
        "train_step = my_optim.minimize(loss)"
      ],
      "execution_count": 335,
      "outputs": []
    },
    {
      "cell_type": "code",
      "metadata": {
        "id": "k1gF7t1zB_Nc",
        "colab_type": "code",
        "colab": {}
      },
      "source": [
        "init = tf.global_variables_initializer()\n",
        "session.run(init)"
      ],
      "execution_count": 336,
      "outputs": []
    },
    {
      "cell_type": "code",
      "metadata": {
        "id": "YsxI2d0WCARd",
        "colab_type": "code",
        "colab": {}
      },
      "source": [
        "prediction = tf.round(tf.nn.sigmoid(final_output))\n",
        "predictions_correct = tf.cast(tf.equal(prediction, y_target), tf.float32)\n",
        "accuracy = tf.reduce_mean(predictions_correct)"
      ],
      "execution_count": 337,
      "outputs": []
    },
    {
      "cell_type": "code",
      "metadata": {
        "id": "PC3XLMM3CBKw",
        "colab_type": "code",
        "colab": {
          "base_uri": "https://localhost:8080/",
          "height": 272
        },
        "outputId": "fa6551be-cdd1-4efd-802f-898156deac82"
      },
      "source": [
        "loss_vect = []\n",
        "train_acc = []\n",
        "test_acc = []\n",
        "\n",
        "for i in range(1500):\n",
        "    rand_idx = np.random.choice(len(x_vals_train), size = batch_size)\n",
        "    rand_x = x_vals_train[rand_idx]\n",
        "    rand_y = np.transpose([y_vals_train[rand_idx]])\n",
        "    \n",
        "    session.run(train_step, feed_dict={x_data: rand_x, y_target: rand_y})\n",
        "    \n",
        "    temp_loss = session.run(loss, feed_dict={x_data: rand_x, y_target: rand_y})\n",
        "    loss_vect.append(temp_loss)\n",
        "    \n",
        "    temp_acc_train = session.run(accuracy, feed_dict={x_data: x_vals_train, y_target: np.transpose([y_vals_train])})\n",
        "    train_acc.append(temp_acc_train)\n",
        "    \n",
        "    temp_acc_test = session.run(accuracy, feed_dict={x_data: x_vals_test, y_target: np.transpose([y_vals_test])})\n",
        "    test_acc.append(temp_acc_test)\n",
        "    \n",
        "    if(i+1)%100==0:\n",
        "        print(\"Paso #\"+str(i+1)+\", Loss = \"+str(temp_loss)+\", Precisión = \"+str(temp_acc_train))"
      ],
      "execution_count": 338,
      "outputs": [
        {
          "output_type": "stream",
          "text": [
            "Paso #100, Loss = 0.6954554, Precisión = 0.68874174\n",
            "Paso #200, Loss = 0.54511297, Precisión = 0.69536424\n",
            "Paso #300, Loss = 0.6802899, Precisión = 0.69536424\n",
            "Paso #400, Loss = 0.4839316, Precisión = 0.7549669\n",
            "Paso #500, Loss = 0.48148352, Precisión = 0.74834436\n",
            "Paso #600, Loss = 0.5135991, Precisión = 0.78145695\n",
            "Paso #700, Loss = 0.4698081, Precisión = 0.794702\n",
            "Paso #800, Loss = 0.47605863, Precisión = 0.78145695\n",
            "Paso #900, Loss = 0.48925608, Precisión = 0.78807944\n",
            "Paso #1000, Loss = 0.5141356, Precisión = 0.78145695\n",
            "Paso #1100, Loss = 0.43247724, Precisión = 0.78807944\n",
            "Paso #1200, Loss = 0.51675606, Precisión = 0.78807944\n",
            "Paso #1300, Loss = 0.4635381, Precisión = 0.78807944\n",
            "Paso #1400, Loss = 0.4779416, Precisión = 0.794702\n",
            "Paso #1500, Loss = 0.5168236, Precisión = 0.78807944\n"
          ],
          "name": "stdout"
        }
      ]
    },
    {
      "cell_type": "code",
      "metadata": {
        "id": "kUd-62sQCCNn",
        "colab_type": "code",
        "colab": {
          "base_uri": "https://localhost:8080/",
          "height": 265
        },
        "outputId": "d4e01be7-88a2-4d4c-8d6d-a3e5cbdcb584"
      },
      "source": [
        "plt.plot(loss_vect, 'k-')\n",
        "plt.show()"
      ],
      "execution_count": 339,
      "outputs": [
        {
          "output_type": "display_data",
          "data": {
            "image/png": "[encoded data removed]",
            "text/plain": [
              "<Figure size 432x288 with 1 Axes>"
            ]
          },
          "metadata": {
            "tags": [],
            "needs_background": "light"
          }
        }
      ]
    },
    {
      "cell_type": "code",
      "metadata": {
        "id": "jRbjG56ACDGG",
        "colab_type": "code",
        "colab": {
          "base_uri": "https://localhost:8080/",
          "height": 265
        },
        "outputId": "65521bff-5c62-4044-ddff-5480794dcabb"
      },
      "source": [
        "plt.plot(train_acc, 'r-', label=\"Train Acc\")\n",
        "plt.plot(test_acc, 'b--', label=\"Test Acc\")\n",
        "plt.legend(loc=\"lower right\")\n",
        "plt.show()"
      ],
      "execution_count": 340,
      "outputs": [
        {
          "output_type": "display_data",
          "data": {
            "image/png": "[encoded data removed]",
            "text/plain": [
              "<Figure size 432x288 with 1 Axes>"
            ]
          },
          "metadata": {
            "tags": [],
            "needs_background": "light"
          }
        }
      ]
    }
  ]
}