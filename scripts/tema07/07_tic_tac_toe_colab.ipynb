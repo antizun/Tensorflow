{
  "nbformat": 4,
  "nbformat_minor": 0,
  "metadata": {
    "colab": {
      "name": "07-tic-tac-toe_colab.ipynb",
      "provenance": [],
      "collapsed_sections": []
    },
    "kernelspec": {
      "display_name": "Python 3",
      "language": "python",
      "name": "python3"
    },
    "language_info": {
      "codemirror_mode": {
        "name": "ipython",
        "version": 3
      },
      "file_extension": ".py",
      "mimetype": "text/x-python",
      "name": "python",
      "nbconvert_exporter": "python",
      "pygments_lexer": "ipython3",
      "version": "3.8.3"
    },
    "accelerator": "GPU"
  },
  "cells": [
    {
      "cell_type": "markdown",
      "metadata": {
        "colab_type": "text",
        "id": "KdUFcDsdzRyw"
      },
      "source": [
        "# Clonamos el repositorio para obtener los dataSet"
      ]
    },
    {
      "cell_type": "code",
      "metadata": {
        "colab_type": "code",
        "id": "mHReFf3_y9ms",
        "colab": {}
      },
      "source": [
        "!git clone https://github.com/joanby/tensorflow.git"
      ],
      "execution_count": null,
      "outputs": []
    },
    {
      "cell_type": "markdown",
      "metadata": {
        "colab_type": "text",
        "id": "vNKZXgtKzU2x"
      },
      "source": [
        "# Damos acceso a nuestro Drive"
      ]
    },
    {
      "cell_type": "code",
      "metadata": {
        "colab_type": "code",
        "id": "5gu7KWnzzUQ0",
        "colab": {}
      },
      "source": [
        "from google.colab import drive\n",
        "drive.mount('/content/drive')"
      ],
      "execution_count": null,
      "outputs": []
    },
    {
      "cell_type": "markdown",
      "metadata": {
        "colab_type": "text",
        "id": "1gUxIkHWzfHV"
      },
      "source": [
        "# Test it"
      ]
    },
    {
      "cell_type": "code",
      "metadata": {
        "colab_type": "code",
        "id": "mIQt3jBMzYRE",
        "colab": {}
      },
      "source": [
        "!ls '/content/drive/My Drive' "
      ],
      "execution_count": null,
      "outputs": []
    },
    {
      "cell_type": "markdown",
      "metadata": {
        "colab_type": "text",
        "id": "mHsK36uN0XB-"
      },
      "source": [
        "# Google colab tools"
      ]
    },
    {
      "cell_type": "code",
      "metadata": {
        "colab_type": "code",
        "id": "kTzwfUPWzrm4",
        "colab": {}
      },
      "source": [
        "from google.colab import files # Para manejar los archivos y, por ejemplo, exportar a su navegador\n",
        "import glob # Para manejar los archivos y, por ejemplo, exportar a su navegador\n",
        "from google.colab import drive # Montar tu Google drive"
      ],
      "execution_count": null,
      "outputs": []
    },
    {
      "cell_type": "markdown",
      "metadata": {
        "id": "yQQ8nLiMY6wM",
        "colab_type": "text"
      },
      "source": [
        "##Especificando la versión de TensorFlow\n",
        "\n",
        "Ejecutando \"importar tensorflow\" importará la versión por defecto (actualmente 2.x). Puedes usar la 1.x ejecutando una celda con la \"versión mágica de tensorflow\" **antes de ejecutar \"importar tensorflow\".\n",
        "\n",
        "### Si no funciona hacer el pip install\n"
      ]
    },
    {
      "cell_type": "code",
      "metadata": {
        "id": "1j---G3ZY6wN",
        "colab_type": "code",
        "colab": {}
      },
      "source": [
        "#!pip install tensorflow==1.14\n",
        "%tensorflow_version 1.x"
      ],
      "execution_count": null,
      "outputs": []
    },
    {
      "cell_type": "markdown",
      "metadata": {
        "id": "S-OIfuWLujbt",
        "colab_type": "text"
      },
      "source": [
        "# Importar Tensorflow"
      ]
    },
    {
      "cell_type": "code",
      "metadata": {
        "id": "OPSus73fumtP",
        "colab_type": "code",
        "colab": {}
      },
      "source": [
        "import tensorflow as tf\n",
        "print(tf.__version__)\n",
        "import matplotlib.pyplot as plt"
      ],
      "execution_count": null,
      "outputs": []
    },
    {
      "cell_type": "code",
      "metadata": {
        "id": "VQheSGsEBdD3",
        "colab_type": "code",
        "colab": {}
      },
      "source": [
        "session = tf.Session()"
      ],
      "execution_count": null,
      "outputs": []
    },
    {
      "cell_type": "markdown",
      "metadata": {
        "id": "-PsrOMHXBroY",
        "colab_type": "text"
      },
      "source": [
        "# Tres en raya"
      ]
    },
    {
      "cell_type": "code",
      "metadata": {
        "id": "bvMukWmmCzAp",
        "colab_type": "code",
        "colab": {}
      },
      "source": [
        "import matplotlib.pyplot as plt\n",
        "import csv\n",
        "import random \n",
        "import numpy as np"
      ],
      "execution_count": null,
      "outputs": []
    },
    {
      "cell_type": "code",
      "metadata": {
        "id": "SiNlpmNGC0hJ",
        "colab_type": "code",
        "colab": {}
      },
      "source": [
        "batch_size = 50"
      ],
      "execution_count": null,
      "outputs": []
    },
    {
      "cell_type": "code",
      "metadata": {
        "id": "VBqXGpZhC1d0",
        "colab_type": "code",
        "colab": {}
      },
      "source": [
        "def print_board(board):\n",
        "    symbols = ['O', ' ', 'X']\n",
        "    board_plus_1 = [int(x)+1 for x in board]\n",
        "    board_line_1 = '{}|{}|{}'.format(symbols[board_plus_1[0]], symbols[board_plus_1[1]], symbols[board_plus_1[2]])\n",
        "    board_line_2 = '{}|{}|{}'.format(symbols[board_plus_1[3]], symbols[board_plus_1[4]], symbols[board_plus_1[5]])\n",
        "    board_line_3 = '{}|{}|{}'.format(symbols[board_plus_1[6]], symbols[board_plus_1[7]], symbols[board_plus_1[8]])\n",
        "    print(board_line_1)\n",
        "    print('_____')\n",
        "    print(board_line_2)\n",
        "    print('_____')\n",
        "    print(board_line_3)"
      ],
      "execution_count": null,
      "outputs": []
    },
    {
      "cell_type": "code",
      "metadata": {
        "id": "wDFXOqoMC3Lg",
        "colab_type": "code",
        "colab": {}
      },
      "source": [
        "print_board([-1,0,0,1,1,0,0,-1,1])"
      ],
      "execution_count": null,
      "outputs": []
    },
    {
      "cell_type": "code",
      "metadata": {
        "id": "wytiUe13C4ey",
        "colab_type": "code",
        "colab": {}
      },
      "source": [
        "def get_symmetry(board, response, transformation):\n",
        "    '''\n",
        "    :param board: lista de 9 enteros formados por:\n",
        "    - O = -1, símbolo del enemigo\n",
        "    - X =  1, símbolo del jugador\n",
        "    - ' ' = 0, casilla vacía\n",
        "    :param transformation: ona de las cinco transformaciones del tablero:\n",
        "    - rotate90, rotate180, rotate270, flip_v, flip_h\n",
        "    :return: tuple(new_board, new_response)\n",
        "    '''\n",
        "    \n",
        "    if transformation == 'rotate180':\n",
        "        new_response = 8-response\n",
        "        return board[::-1], new_response\n",
        "    \n",
        "    elif transformation == 'rotate90':\n",
        "        new_reponse = [6,3,0,7,4,1,8,5,2].index(response)\n",
        "        tuple_board = list(zip(*[board[6:9], board[3:6], board[0:3]]))\n",
        "        return [value for item in tuple_board for value in item], new_reponse\n",
        "    \n",
        "    elif transformation == 'rotate270':\n",
        "        new_reponse = [2,5,8,1,4,7,0,3,6].index(response)\n",
        "        tuple_board = list(zip(*[board[0:3], board[3:6], board[6:9]]))[::-1]\n",
        "        return [value for item in tuple_board for value in item], new_reponse\n",
        "    \n",
        "    elif transformation == 'flip_v':\n",
        "        new_response = [6,7,8,3,4,5,0,1,2].index(response)\n",
        "        return board[6:9]+board[3:6]+board[0:3], new_response\n",
        "    \n",
        "    elif transformation == 'flip_h':\n",
        "        new_response = [2,1,0,5,4,3,8,7,6].index(response)\n",
        "        new_board = board[::-1]\n",
        "        return new_board[6:9]+new_board[3:6]+new_board[0:3], new_response\n",
        "    \n",
        "    else:\n",
        "        raise ValueError('Este movimiento no está contemplado')"
      ],
      "execution_count": null,
      "outputs": []
    },
    {
      "cell_type": "code",
      "metadata": {
        "id": "Fezwkj8pC6U6",
        "colab_type": "code",
        "colab": {}
      },
      "source": [
        "print_board(get_symmetry([-1,0,0,1,1,0,0,-1,1], 1, 'flip_h')[0])"
      ],
      "execution_count": null,
      "outputs": []
    },
    {
      "cell_type": "code",
      "metadata": {
        "id": "-TLVJz79C7e8",
        "colab_type": "code",
        "colab": {}
      },
      "source": [
        "def get_moves_from_csv(csv_file):\n",
        "    '''\n",
        "    :param csv_file: Fichero CSV con las respuestas para cada configuración esencial de tablero\n",
        "    :return moves: lista de los mejores movimientos posibles del tablero\n",
        "    '''\n",
        "    moves = []\n",
        "    with open(csv_file,'rt') as csvfile:\n",
        "        reader = csv.reader(csvfile, delimiter =',')\n",
        "        for row in reader:\n",
        "            moves.append(([int(x) for x in row[0:9]], int(row[9])))\n",
        "    return moves"
      ],
      "execution_count": null,
      "outputs": []
    },
    {
      "cell_type": "code",
      "metadata": {
        "id": "C5TAcR9jC8sP",
        "colab_type": "code",
        "colab": {}
      },
      "source": [
        "moves = get_moves_from_csv(\"/content/tensorflow/datasets/moves_tic_tac_toe.csv\")"
      ],
      "execution_count": null,
      "outputs": []
    },
    {
      "cell_type": "code",
      "metadata": {
        "id": "KmoCs8_1C-Jn",
        "colab_type": "code",
        "colab": {}
      },
      "source": [
        "def get_random_move(moves, rand_transforms = 2):\n",
        "    (board, response) = random.choice(moves)\n",
        "    possible_transforms = ['rotate90', 'rotate180', 'rotate270', 'flip_v', 'flip_h']\n",
        "    for i in range(rand_transforms):\n",
        "        random_transform = random.choice(possible_transforms)\n",
        "        (board, response) = get_symmetry(board, response, random_transform)\n",
        "    return board, response"
      ],
      "execution_count": null,
      "outputs": []
    },
    {
      "cell_type": "code",
      "metadata": {
        "id": "YeOsquKsDJED",
        "colab_type": "code",
        "colab": {}
      },
      "source": [
        "get_random_move(moves, 2)"
      ],
      "execution_count": null,
      "outputs": []
    },
    {
      "cell_type": "markdown",
      "metadata": {
        "id": "i8V6mw4BDMBq",
        "colab_type": "text"
      },
      "source": [
        "### Enseñar a jugar al tres en raya a TensorFlow"
      ]
    },
    {
      "cell_type": "code",
      "metadata": {
        "id": "vW26FwI7DKS2",
        "colab_type": "code",
        "colab": {}
      },
      "source": [
        "session = tf.Session()"
      ],
      "execution_count": null,
      "outputs": []
    },
    {
      "cell_type": "code",
      "metadata": {
        "id": "_Fad7iGXDNG7",
        "colab_type": "code",
        "colab": {}
      },
      "source": [
        "train_length = 500\n",
        "train_set = []\n",
        "for t in range(train_length):\n",
        "    train_set.append(get_random_move(moves))"
      ],
      "execution_count": null,
      "outputs": []
    },
    {
      "cell_type": "code",
      "metadata": {
        "id": "cKMKR4KoDN8Y",
        "colab_type": "code",
        "colab": {}
      },
      "source": [
        "train_set[0]"
      ],
      "execution_count": null,
      "outputs": []
    },
    {
      "cell_type": "code",
      "metadata": {
        "id": "julr552GDO08",
        "colab_type": "code",
        "colab": {}
      },
      "source": [
        "test_board = [-1,0,0,1,-1,-1,0,0,1] # -> 6"
      ],
      "execution_count": null,
      "outputs": []
    },
    {
      "cell_type": "code",
      "metadata": {
        "id": "fJAslhQaDPuM",
        "colab_type": "code",
        "colab": {}
      },
      "source": [
        "print_board(test_board)"
      ],
      "execution_count": null,
      "outputs": []
    },
    {
      "cell_type": "code",
      "metadata": {
        "id": "zoUvbPu7DRIQ",
        "colab_type": "code",
        "colab": {}
      },
      "source": [
        "train_set = [x for x in train_set if x[0]!=test_board]"
      ],
      "execution_count": null,
      "outputs": []
    },
    {
      "cell_type": "code",
      "metadata": {
        "id": "BBGzBodWDSMM",
        "colab_type": "code",
        "colab": {}
      },
      "source": [
        "def init_weights(shape):\n",
        "    return tf.Variable(tf.random_normal(shape))"
      ],
      "execution_count": null,
      "outputs": []
    },
    {
      "cell_type": "code",
      "metadata": {
        "id": "CYxZRWAhDTEQ",
        "colab_type": "code",
        "colab": {}
      },
      "source": [
        "def model(X, A1, A2, b1, b2):\n",
        "    layer1 = tf.nn.sigmoid(tf.add(tf.matmul(X,A1),b1))\n",
        "    layer2 = tf.add(tf.matmul(layer1, A2),b2)\n",
        "    return layer2"
      ],
      "execution_count": null,
      "outputs": []
    },
    {
      "cell_type": "code",
      "metadata": {
        "id": "C6gb_1_IDT98",
        "colab_type": "code",
        "colab": {}
      },
      "source": [
        "X = tf.placeholder(dtype=tf.float32, shape=[None,9])\n",
        "Y = tf.placeholder(dtype=tf.int32, shape=[None])\n",
        "A1 = init_weights([9, 81])\n",
        "b1 = init_weights([81])\n",
        "A2 = init_weights([81,9])\n",
        "b2 = init_weights([9])\n",
        "model_output = model(X, A1, A2, b1, b2)"
      ],
      "execution_count": null,
      "outputs": []
    },
    {
      "cell_type": "code",
      "metadata": {
        "id": "rmNR-vyPDUzf",
        "colab_type": "code",
        "colab": {}
      },
      "source": [
        "loss = tf.reduce_mean(tf.nn.sparse_softmax_cross_entropy_with_logits(logits=model_output, labels = Y))\n",
        "train_step = tf.train.GradientDescentOptimizer(0.025).minimize(loss)\n",
        "prediction = tf.argmax(model_output,1)"
      ],
      "execution_count": null,
      "outputs": []
    },
    {
      "cell_type": "code",
      "metadata": {
        "id": "xjAKKE5yDVqB",
        "colab_type": "code",
        "colab": {}
      },
      "source": [
        "init = tf.global_variables_initializer()\n",
        "session.run(init)"
      ],
      "execution_count": null,
      "outputs": []
    },
    {
      "cell_type": "code",
      "metadata": {
        "id": "RZRSqb_WDWlO",
        "colab_type": "code",
        "colab": {}
      },
      "source": [
        "loss_vect = []\n",
        "for i in range(10000):\n",
        "    rand_idx = np.random.choice(range(len(train_set)), batch_size, replace=False)\n",
        "    batch_data = [train_set[i] for i in rand_idx]\n",
        "    x_input = [x[0] for x in batch_data]\n",
        "    y_target = np.array([y[1] for y in batch_data])\n",
        "    session.run(train_step, feed_dict={X:x_input, Y:y_target})\n",
        "    temp_loss = session.run(loss, feed_dict={X:x_input, Y:y_target})\n",
        "    loss_vect.append(temp_loss)\n",
        "    if(i+1)%500==0:\n",
        "        print(\"Step #\"+str(i+1)+\", Loss: \"+str(temp_loss))"
      ],
      "execution_count": null,
      "outputs": []
    },
    {
      "cell_type": "code",
      "metadata": {
        "id": "xb-F8P2ADXhj",
        "colab_type": "code",
        "colab": {}
      },
      "source": [
        "plt.plot(loss_vect, 'k-', label = \"Función de pérdidas\")\n",
        "plt.title(\"MSE por iteración\")\n",
        "plt.show()"
      ],
      "execution_count": null,
      "outputs": []
    },
    {
      "cell_type": "markdown",
      "metadata": {
        "id": "R43alNwwDZzZ",
        "colab_type": "text"
      },
      "source": [
        "## Comprobando el modelo entrenado"
      ]
    },
    {
      "cell_type": "code",
      "metadata": {
        "id": "XYpeCBgrDYY4",
        "colab_type": "code",
        "colab": {}
      },
      "source": [
        "test_boards = [test_board]\n",
        "feed_dict = {X:test_boards}\n",
        "logits = session.run(model_output, feed_dict=feed_dict)\n",
        "predictions = session.run(prediction, feed_dict=feed_dict)"
      ],
      "execution_count": null,
      "outputs": []
    },
    {
      "cell_type": "code",
      "metadata": {
        "id": "N6r-5MrSDbHa",
        "colab_type": "code",
        "colab": {}
      },
      "source": [
        "print(predictions)"
      ],
      "execution_count": null,
      "outputs": []
    },
    {
      "cell_type": "code",
      "metadata": {
        "id": "EtSAUr_0DcKW",
        "colab_type": "code",
        "colab": {}
      },
      "source": [
        "def check(board):\n",
        "    wins = [[0,1,2], [3,4,5], [6,7,8], [0,3,6], [1,4,7], [2,5,8], [0,4,8], [2,4,6]]\n",
        "    for i in range(len(wins)):\n",
        "        if board[wins[i][0]]==board[wins[i][1]]==board[wins[i][2]]==1.0:\n",
        "            return 1\n",
        "        elif board[wins[i][0]]==board[wins[i][1]]==board[wins[i][2]]==-1.0:\n",
        "            return 1\n",
        "    return 0"
      ],
      "execution_count": null,
      "outputs": []
    },
    {
      "cell_type": "code",
      "metadata": {
        "id": "RSiZJNA0DdB3",
        "colab_type": "code",
        "colab": {}
      },
      "source": [
        "game_tracker = [0,0,0,0,0,0,0,0,0]\n",
        "win_logical = False\n",
        "num_moves = 0\n",
        "while not win_logical:\n",
        "    player_idx = input('Introduce tu posición de juego (0-8): ')\n",
        "    num_moves +=1\n",
        "    game_tracker[int(player_idx)] = 1.0\n",
        "    \n",
        "    [potential_moves] = session.run(model_output, feed_dict={X:[game_tracker]})\n",
        "    allowed_moves = [ix for ix, x in enumerate(game_tracker) if x==0]\n",
        "    model_move = np.argmax([x if ix in allowed_moves else -9999 for ix, x in enumerate(potential_moves)])\n",
        "    game_tracker[int(model_move)] = -1.0\n",
        "    \n",
        "    print(\"El modelo ha movido:\")\n",
        "    print_board(game_tracker)\n",
        "    if check(game_tracker)==1 or num_moves>=5:\n",
        "        print(\"Game Over\")\n",
        "        win_logical = True"
      ],
      "execution_count": null,
      "outputs": []
    }
  ]
}