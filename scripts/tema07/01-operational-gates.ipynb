{
 "cells": [
  {
   "cell_type": "markdown",
   "metadata": {},
   "source": [
    "# Puertas lógicas"
   ]
  },
  {
   "cell_type": "markdown",
   "metadata": {},
   "source": [
    "$$f(x) = a\\cdot x$$"
   ]
  },
  {
   "cell_type": "code",
   "execution_count": 2,
   "metadata": {},
   "outputs": [],
   "source": [
    "import tensorflow as tf"
   ]
  },
  {
   "cell_type": "code",
   "execution_count": 3,
   "metadata": {},
   "outputs": [],
   "source": [
    "session = tf.Session()"
   ]
  },
  {
   "cell_type": "code",
   "execution_count": 4,
   "metadata": {},
   "outputs": [],
   "source": [
    "a = tf.Variable(tf.constant(4.0))\n",
    "x_val = 5.0\n",
    "x_data =tf.placeholder(dtype=tf.float32)"
   ]
  },
  {
   "cell_type": "code",
   "execution_count": 5,
   "metadata": {},
   "outputs": [],
   "source": [
    "multiplication = tf.multiply(a,x_data)"
   ]
  },
  {
   "cell_type": "markdown",
   "metadata": {},
   "source": [
    "$$loss = (a\\cdot x - target)^2$$"
   ]
  },
  {
   "cell_type": "code",
   "execution_count": 6,
   "metadata": {},
   "outputs": [],
   "source": [
    "loss = tf.square(tf.subtract(multiplication, 50.0))## L2"
   ]
  },
  {
   "cell_type": "code",
   "execution_count": 7,
   "metadata": {},
   "outputs": [],
   "source": [
    "init = tf.global_variables_initializer()\n",
    "session.run(init)"
   ]
  },
  {
   "cell_type": "code",
   "execution_count": 8,
   "metadata": {},
   "outputs": [],
   "source": [
    "my_optim = tf.train.GradientDescentOptimizer(0.01)\n",
    "train_step = my_optim.minimize(loss)"
   ]
  },
  {
   "cell_type": "code",
   "execution_count": 10,
   "metadata": {},
   "outputs": [
    {
     "name": "stdout",
     "output_type": "stream",
     "text": [
      "Optimización del valor de a para conseguir a*5 = 50\n",
      "8.5x5.0=42.5\n",
      "9.25x5.0=46.25\n",
      "9.625x5.0=48.125\n",
      "9.8125x5.0=49.0625\n",
      "9.90625x5.0=49.53125\n",
      "9.953125x5.0=49.765625\n",
      "9.9765625x5.0=49.882812\n",
      "9.988281x5.0=49.941406\n",
      "9.994141x5.0=49.970703\n",
      "9.99707x5.0=49.98535\n"
     ]
    }
   ],
   "source": [
    "print(\"Optimización del valor de a para conseguir a*5 = 50\")\n",
    "for i in range(10):\n",
    "    session.run(train_step, feed_dict={x_data: x_val})\n",
    "    a_val = session.run(a)\n",
    "    mult_out = session.run(multiplication, feed_dict={x_data:x_val})\n",
    "    print(str(a_val)+\" x \"+str(x_val)+\" = \"+str(mult_out))"
   ]
  },
  {
   "cell_type": "markdown",
   "metadata": {},
   "source": [
    "$$f(x) = a\\cdot x + b $$"
   ]
  },
  {
   "cell_type": "markdown",
   "metadata": {},
   "source": [
    "¿Qué tiene que valer $a$ y $b$ para que $f(5) = 50.0$?"
   ]
  },
  {
   "cell_type": "code",
   "execution_count": 20,
   "metadata": {},
   "outputs": [],
   "source": [
    "from tensorflow.python.framework import ops \n",
    "ops.reset_default_graph()"
   ]
  },
  {
   "cell_type": "code",
   "execution_count": 21,
   "metadata": {},
   "outputs": [],
   "source": [
    "session = tf.Session()"
   ]
  },
  {
   "cell_type": "code",
   "execution_count": 22,
   "metadata": {},
   "outputs": [],
   "source": [
    "a = tf.Variable(tf.constant(5.0))\n",
    "b = tf.Variable(tf.constant(5.0))\n",
    "x_val = 5.0\n",
    "x_data = tf.placeholder(dtype = tf.float32)"
   ]
  },
  {
   "cell_type": "code",
   "execution_count": 23,
   "metadata": {},
   "outputs": [],
   "source": [
    "mult_add = tf.add(tf.multiply(a, x_data), b)"
   ]
  },
  {
   "cell_type": "code",
   "execution_count": 24,
   "metadata": {},
   "outputs": [],
   "source": [
    "loss = tf.square(tf.subtract(mult_add, 50.0))"
   ]
  },
  {
   "cell_type": "code",
   "execution_count": 25,
   "metadata": {},
   "outputs": [],
   "source": [
    "my_optim = tf.train.GradientDescentOptimizer(0.01)\n",
    "train_step = my_optim.minimize(loss)"
   ]
  },
  {
   "cell_type": "code",
   "execution_count": 26,
   "metadata": {},
   "outputs": [],
   "source": [
    "init = tf.global_variables_initializer()\n",
    "session.run(init)"
   ]
  },
  {
   "cell_type": "code",
   "execution_count": 27,
   "metadata": {},
   "outputs": [
    {
     "name": "stdout",
     "output_type": "stream",
     "text": [
      "7.0 x 5.0 + 5.4 = 40.4\n",
      "7.96 x 5.0 + 5.592 = 45.392\n",
      "8.4208 x 5.0 + 5.68416 = 47.788162\n",
      "8.641984 x 5.0 + 5.728397 = 48.938316\n",
      "8.748153 x 5.0 + 5.7496305 = 49.490395\n",
      "8.799113 x 5.0 + 5.7598224 = 49.75539\n",
      "8.823574 x 5.0 + 5.7647147 = 49.882584\n",
      "8.835316 x 5.0 + 5.767063 = 49.94364\n",
      "8.840952 x 5.0 + 5.7681904 = 49.972946\n",
      "8.8436575 x 5.0 + 5.7687316 = 49.98702\n",
      "8.844955 x 5.0 + 5.768991 = 49.993767\n",
      "8.845579 x 5.0 + 5.7691154 = 49.997013\n",
      "8.845878 x 5.0 + 5.769175 = 49.998566\n",
      "8.846021 x 5.0 + 5.7692037 = 49.999306\n",
      "8.84609 x 5.0 + 5.7692175 = 49.999672\n"
     ]
    }
   ],
   "source": [
    "for i in range(15):\n",
    "    session.run(train_step, feed_dict={x_data : x_val})\n",
    "    a_val, b_val = (session.run(a), session.run(b))\n",
    "    result = session.run(mult_add, feed_dict={x_data:x_val})\n",
    "    print(str(a_val)+\" x \"+str(x_val)+\" + \"+str(b_val)+ \" = \"+str(result))"
   ]
  },
  {
   "cell_type": "code",
   "execution_count": null,
   "metadata": {},
   "outputs": [],
   "source": []
  }
 ],
 "metadata": {
  "kernelspec": {
   "display_name": "Python 3",
   "language": "python",
   "name": "python3"
  },
  "language_info": {
   "codemirror_mode": {
    "name": "ipython",
    "version": 3
   },
   "file_extension": ".py",
   "mimetype": "text/x-python",
   "name": "python",
   "nbconvert_exporter": "python",
   "pygments_lexer": "ipython3",
   "version": "3.5.5"
  }
 },
 "nbformat": 4,
 "nbformat_minor": 2
}
