{
 "cells": [
  {
   "cell_type": "markdown",
   "metadata": {},
   "source": [
    "# Mejorar la predicción de un modelo lineal con NN"
   ]
  },
  {
   "cell_type": "code",
   "execution_count": 2,
   "metadata": {},
   "outputs": [],
   "source": [
    "import matplotlib.pyplot as plt\n",
    "import numpy as np\n",
    "import tensorflow as tf\n",
    "import requests \n",
    "session = tf.Session()"
   ]
  },
  {
   "cell_type": "code",
   "execution_count": 3,
   "metadata": {},
   "outputs": [],
   "source": [
    "url = \"https://raw.githubusercontent.com/joanby/tensorflow/master/datasets/birthweight.dat?token=AMRAeLOMrOCZKT3UgcdcA3VC4ep-4pYNks5cb-CGwA%3D%3D\"\n",
    "birth_file = requests.get(url)\n",
    "birth_data = birth_file.text.split('\\r\\n')\n",
    "birth_header = birth_data[0].split('\\t')\n",
    "birth_data = [[float(x) for x in y.split('\\t') if len(x)>=1] for y in birth_data[1:] if len(y)>=1]"
   ]
  },
  {
   "cell_type": "code",
   "execution_count": 4,
   "metadata": {},
   "outputs": [],
   "source": [
    "y_vals = np.array([x[0] for x in birth_data])\n",
    "x_vals = np.array([x[1:8] for x in birth_data])"
   ]
  },
  {
   "cell_type": "code",
   "execution_count": 5,
   "metadata": {},
   "outputs": [],
   "source": [
    "seed = 2019\n",
    "tf.set_random_seed(seed)\n",
    "np.random.seed(seed)\n",
    "batch_size = 80"
   ]
  },
  {
   "cell_type": "code",
   "execution_count": 6,
   "metadata": {},
   "outputs": [],
   "source": [
    "train_idx = np.random.choice(len(x_vals), round(len(x_vals)*0.8), replace=False)\n",
    "test_idx = np.array(list(set(range(len(x_vals)))-set(train_idx)))"
   ]
  },
  {
   "cell_type": "code",
   "execution_count": 7,
   "metadata": {},
   "outputs": [],
   "source": [
    "x_vals_train = x_vals[train_idx]\n",
    "x_vals_test = x_vals[test_idx]\n",
    "y_vals_train = y_vals[train_idx]\n",
    "y_vals_test = y_vals[test_idx]"
   ]
  },
  {
   "cell_type": "code",
   "execution_count": 8,
   "metadata": {},
   "outputs": [],
   "source": [
    "def normalize_cols(m, col_min = np.array([None]), col_max = np.array([None])):\n",
    "    if not col_min[0]:\n",
    "        col_min = m.min(axis=0)\n",
    "    if not col_max[0]:\n",
    "        col_max = m.max(axis=0)\n",
    "    return(m-col_min)/(col_max-col_min), col_min, col_max"
   ]
  },
  {
   "cell_type": "code",
   "execution_count": 9,
   "metadata": {},
   "outputs": [],
   "source": [
    "x_vals_train, train_min, train_max = np.nan_to_num(normalize_cols(x_vals_train))\n",
    "x_vals_test,_,_ = np.nan_to_num(normalize_cols(x_vals_test, train_min, train_max))"
   ]
  },
  {
   "cell_type": "code",
   "execution_count": 10,
   "metadata": {},
   "outputs": [],
   "source": [
    "x_data = tf.placeholder(shape=[None, 7],dtype = tf.float32)\n",
    "y_target = tf.placeholder(shape=[None, 1], dtype=tf.float32)"
   ]
  },
  {
   "cell_type": "code",
   "execution_count": 11,
   "metadata": {},
   "outputs": [],
   "source": [
    "def init_variables(shape):\n",
    "    return tf.Variable(tf.random_normal(shape=shape))"
   ]
  },
  {
   "cell_type": "code",
   "execution_count": 12,
   "metadata": {},
   "outputs": [],
   "source": [
    "def logistic(input_layer, multiplication_weight, bias_weight, activation_sig = True):\n",
    "    linear_layer = tf.add(tf.matmul(input_layer, multiplication_weight), bias_weight)\n",
    "    if activation_sig:\n",
    "        return tf.nn.sigmoid(linear_layer)\n",
    "    else:\n",
    "        return linear_layer"
   ]
  },
  {
   "cell_type": "markdown",
   "metadata": {},
   "source": [
    "- Entrada: 7 datos -> Capa oculta 1: 14 nodos ocultos\n",
    "- Capa oculta 1: 14 nodos -> Capa oculta 2: 5 nodos ocultos\n",
    "- Capa oculta 2: 5 nodos -> Capa salida -> 1 nodo"
   ]
  },
  {
   "cell_type": "code",
   "execution_count": 15,
   "metadata": {},
   "outputs": [],
   "source": [
    "A1 = init_variables(shape=[7,14])\n",
    "b1 = init_variables(shape=[14])\n",
    "logistic_layer_1 = logistic(x_data,A1,b1)\n",
    "\n",
    "A2 = init_variables(shape=[14,5])\n",
    "b2 = init_variables(shape=[5])\n",
    "logistic_layer_2 = logistic(logistic_layer_1,A2,b2)\n",
    "\n",
    "A3 = init_variables(shape=[5,1])\n",
    "b3 = init_variables(shape=[1])\n",
    "final_output = logistic(logistic_layer_2,A3,b3, activation_sig=False)"
   ]
  },
  {
   "cell_type": "code",
   "execution_count": 16,
   "metadata": {},
   "outputs": [],
   "source": [
    "loss = tf.reduce_mean(tf.nn.sigmoid_cross_entropy_with_logits(logits=final_output, labels=y_target))"
   ]
  },
  {
   "cell_type": "code",
   "execution_count": 17,
   "metadata": {},
   "outputs": [],
   "source": [
    "my_optim = tf.train.AdamOptimizer(learning_rate=0.002)\n",
    "train_step = my_optim.minimize(loss)"
   ]
  },
  {
   "cell_type": "code",
   "execution_count": 18,
   "metadata": {},
   "outputs": [],
   "source": [
    "init = tf.global_variables_initializer()\n",
    "session.run(init)"
   ]
  },
  {
   "cell_type": "code",
   "execution_count": 19,
   "metadata": {},
   "outputs": [],
   "source": [
    "prediction = tf.round(tf.nn.sigmoid(final_output))\n",
    "predictions_correct = tf.cast(tf.equal(prediction, y_target), tf.float32)\n",
    "accuracy = tf.reduce_mean(predictions_correct)"
   ]
  },
  {
   "cell_type": "code",
   "execution_count": 20,
   "metadata": {},
   "outputs": [
    {
     "name": "stdout",
     "output_type": "stream",
     "text": [
      "Paso #100, Loss = 0.70932484, Precisión = 0.68874174\n",
      "Paso #200, Loss = 0.56022644, Precisión = 0.68874174\n",
      "Paso #300, Loss = 0.6868788, Precisión = 0.68874174\n",
      "Paso #400, Loss = 0.4967518, Precisión = 0.7152318\n",
      "Paso #500, Loss = 0.48636776, Precisión = 0.74172187\n",
      "Paso #600, Loss = 0.5120451, Precisión = 0.7549669\n",
      "Paso #700, Loss = 0.4664154, Precisión = 0.77483445\n",
      "Paso #800, Loss = 0.46698713, Precisión = 0.77483445\n",
      "Paso #900, Loss = 0.49174112, Precisión = 0.77483445\n",
      "Paso #1000, Loss = 0.5104518, Precisión = 0.77483445\n",
      "Paso #1100, Loss = 0.42984733, Precisión = 0.78145695\n",
      "Paso #1200, Loss = 0.5103024, Precisión = 0.77483445\n",
      "Paso #1300, Loss = 0.4600067, Precisión = 0.78145695\n",
      "Paso #1400, Loss = 0.47587055, Precisión = 0.78145695\n",
      "Paso #1500, Loss = 0.5097362, Precisión = 0.78145695\n"
     ]
    }
   ],
   "source": [
    "loss_vect = []\n",
    "train_acc = []\n",
    "test_acc = []\n",
    "\n",
    "for i in range(1500):\n",
    "    rand_idx = np.random.choice(len(x_vals_train), size = batch_size)\n",
    "    rand_x = x_vals_train[rand_idx]\n",
    "    rand_y = np.transpose([y_vals_train[rand_idx]])\n",
    "    \n",
    "    session.run(train_step, feed_dict={x_data: rand_x, y_target: rand_y})\n",
    "    \n",
    "    temp_loss = session.run(loss, feed_dict={x_data: rand_x, y_target: rand_y})\n",
    "    loss_vect.append(temp_loss)\n",
    "    \n",
    "    temp_acc_train = session.run(accuracy, feed_dict={x_data: x_vals_train, y_target: np.transpose([y_vals_train])})\n",
    "    train_acc.append(temp_acc_train)\n",
    "    \n",
    "    temp_acc_test = session.run(accuracy, feed_dict={x_data: x_vals_test, y_target: np.transpose([y_vals_test])})\n",
    "    test_acc.append(temp_acc_test)\n",
    "    \n",
    "    if(i+1)%100==0:\n",
    "        print(\"Paso #\"+str(i+1)+\", Loss = \"+str(temp_loss)+\", Precisión = \"+str(temp_acc_train))"
   ]
  },
  {
   "cell_type": "code",
   "execution_count": 22,
   "metadata": {},
   "outputs": [
    {
     "data": {
      "image/png": "[encoded data removed]",
      "text/plain": [
       "<Figure size 432x288 with 1 Axes>"
      ]
     },
     "metadata": {
      "needs_background": "light"
     },
     "output_type": "display_data"
    }
   ],
   "source": [
    "plt.plot(loss_vect, 'k-')\n",
    "plt.show()"
   ]
  },
  {
   "cell_type": "code",
   "execution_count": 24,
   "metadata": {},
   "outputs": [
    {
     "data": {
      "image/png": "[encoded data removed]",
      "text/plain": [
       "<Figure size 432x288 with 1 Axes>"
      ]
     },
     "metadata": {
      "needs_background": "light"
     },
     "output_type": "display_data"
    }
   ],
   "source": [
    "plt.plot(train_acc, 'r-', label=\"Train Acc\")\n",
    "plt.plot(test_acc, 'b--', label=\"Test Acc\")\n",
    "plt.legend(loc=\"lower right\")\n",
    "plt.show()"
   ]
  },
  {
   "cell_type": "code",
   "execution_count": null,
   "metadata": {},
   "outputs": [],
   "source": []
  }
 ],
 "metadata": {
  "kernelspec": {
   "display_name": "Python 3",
   "language": "python",
   "name": "python3"
  },
  "language_info": {
   "codemirror_mode": {
    "name": "ipython",
    "version": 3
   },
   "file_extension": ".py",
   "mimetype": "text/x-python",
   "name": "python",
   "nbconvert_exporter": "python",
   "pygments_lexer": "ipython3",
   "version": "3.5.5"
  }
 },
 "nbformat": 4,
 "nbformat_minor": 2
}
