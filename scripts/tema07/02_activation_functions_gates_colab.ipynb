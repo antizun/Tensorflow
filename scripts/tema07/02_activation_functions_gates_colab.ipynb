{
  "nbformat": 4,
  "nbformat_minor": 0,
  "metadata": {
    "colab": {
      "name": "02-activation-functions-gates_colab.ipynb",
      "provenance": [],
      "collapsed_sections": []
    },
    "kernelspec": {
      "display_name": "Python 3",
      "language": "python",
      "name": "python3"
    },
    "language_info": {
      "codemirror_mode": {
        "name": "ipython",
        "version": 3
      },
      "file_extension": ".py",
      "mimetype": "text/x-python",
      "name": "python",
      "nbconvert_exporter": "python",
      "pygments_lexer": "ipython3",
      "version": "3.8.3"
    },
    "accelerator": "GPU"
  },
  "cells": [
    {
      "cell_type": "markdown",
      "metadata": {
        "colab_type": "text",
        "id": "KdUFcDsdzRyw"
      },
      "source": [
        "# Clonamos el repositorio para obtener los dataSet"
      ]
    },
    {
      "cell_type": "code",
      "metadata": {
        "colab_type": "code",
        "id": "mHReFf3_y9ms",
        "colab": {
          "base_uri": "https://localhost:8080/",
          "height": 153
        },
        "outputId": "3fa17b53-daae-435a-aad3-5c1148b6b889"
      },
      "source": [
        "!git clone https://github.com/joanby/tensorflow.git"
      ],
      "execution_count": 185,
      "outputs": [
        {
          "output_type": "stream",
          "text": [
            "Cloning into 'tensorflow'...\n",
            "remote: Enumerating objects: 51, done.\u001b[K\n",
            "remote: Counting objects: 100% (51/51), done.\u001b[K\n",
            "remote: Compressing objects: 100% (28/28), done.\u001b[K\n",
            "remote: Total 60311 (delta 32), reused 37 (delta 23), pack-reused 60260\u001b[K\n",
            "Receiving objects: 100% (60311/60311), 442.46 MiB | 39.29 MiB/s, done.\n",
            "Resolving deltas: 100% (82/82), done.\n",
            "Checking out files: 100% (60225/60225), done.\n"
          ],
          "name": "stdout"
        }
      ]
    },
    {
      "cell_type": "markdown",
      "metadata": {
        "colab_type": "text",
        "id": "vNKZXgtKzU2x"
      },
      "source": [
        "# Damos acceso a nuestro Drive"
      ]
    },
    {
      "cell_type": "code",
      "metadata": {
        "colab_type": "code",
        "id": "5gu7KWnzzUQ0",
        "colab": {}
      },
      "source": [
        "from google.colab import drive\n",
        "drive.mount('/content/drive')"
      ],
      "execution_count": null,
      "outputs": []
    },
    {
      "cell_type": "markdown",
      "metadata": {
        "colab_type": "text",
        "id": "1gUxIkHWzfHV"
      },
      "source": [
        "# Test it"
      ]
    },
    {
      "cell_type": "code",
      "metadata": {
        "colab_type": "code",
        "id": "mIQt3jBMzYRE",
        "colab": {}
      },
      "source": [
        "!ls '/content/drive/My Drive' "
      ],
      "execution_count": null,
      "outputs": []
    },
    {
      "cell_type": "markdown",
      "metadata": {
        "colab_type": "text",
        "id": "mHsK36uN0XB-"
      },
      "source": [
        "# Google colab tools"
      ]
    },
    {
      "cell_type": "code",
      "metadata": {
        "colab_type": "code",
        "id": "kTzwfUPWzrm4",
        "colab": {}
      },
      "source": [
        "from google.colab import files # Para manejar los archivos y, por ejemplo, exportar a su navegador\n",
        "import glob # Para manejar los archivos y, por ejemplo, exportar a su navegador\n",
        "from google.colab import drive # Montar tu Google drive"
      ],
      "execution_count": 1,
      "outputs": []
    },
    {
      "cell_type": "markdown",
      "metadata": {
        "id": "yQQ8nLiMY6wM",
        "colab_type": "text"
      },
      "source": [
        "##Especificando la versión de TensorFlow\n",
        "\n",
        "Ejecutando \"importar tensorflow\" importará la versión por defecto (actualmente 2.x). Puedes usar la 1.x ejecutando una celda con la \"versión mágica de tensorflow\" **antes de ejecutar \"importar tensorflow\".\n",
        "\n",
        "### Si no funciona hacer el pip install\n"
      ]
    },
    {
      "cell_type": "code",
      "metadata": {
        "id": "1j---G3ZY6wN",
        "colab_type": "code",
        "colab": {
          "base_uri": "https://localhost:8080/",
          "height": 34
        },
        "outputId": "f363a778-c70c-4292-b3c6-5024ef8c2657"
      },
      "source": [
        "#!pip install tensorflow==1.14\n",
        "%tensorflow_version 1.x"
      ],
      "execution_count": 2,
      "outputs": [
        {
          "output_type": "stream",
          "text": [
            "TensorFlow 1.x selected.\n"
          ],
          "name": "stdout"
        }
      ]
    },
    {
      "cell_type": "markdown",
      "metadata": {
        "id": "S-OIfuWLujbt",
        "colab_type": "text"
      },
      "source": [
        "# Importar Tensorflow"
      ]
    },
    {
      "cell_type": "code",
      "metadata": {
        "id": "OPSus73fumtP",
        "colab_type": "code",
        "colab": {
          "base_uri": "https://localhost:8080/",
          "height": 34
        },
        "outputId": "c991c3d7-eb6b-4f6a-d293-f8833c1e0818"
      },
      "source": [
        "import tensorflow as tf\n",
        "print(tf.__version__)\n",
        "import matplotlib.pyplot as plt"
      ],
      "execution_count": 214,
      "outputs": [
        {
          "output_type": "stream",
          "text": [
            "1.15.2\n"
          ],
          "name": "stdout"
        }
      ]
    },
    {
      "cell_type": "code",
      "metadata": {
        "id": "VQheSGsEBdD3",
        "colab_type": "code",
        "colab": {}
      },
      "source": [
        "session = tf.Session()"
      ],
      "execution_count": 215,
      "outputs": []
    },
    {
      "cell_type": "markdown",
      "metadata": {
        "id": "6_GkFLZm-Wfz",
        "colab_type": "text"
      },
      "source": [
        "# Funciones de Activación"
      ]
    },
    {
      "cell_type": "code",
      "metadata": {
        "id": "f8wckboU-UDb",
        "colab_type": "code",
        "colab": {}
      },
      "source": [
        "import numpy as np\n",
        "import matplotlib.pyplot as plt\n"
      ],
      "execution_count": 216,
      "outputs": []
    },
    {
      "cell_type": "code",
      "metadata": {
        "id": "68qkfJTO-bJ-",
        "colab_type": "code",
        "colab": {}
      },
      "source": [
        "tf.set_random_seed(2019)\n",
        "np.random.seed(2019)"
      ],
      "execution_count": 218,
      "outputs": []
    },
    {
      "cell_type": "code",
      "metadata": {
        "id": "2teu2O_w-eHk",
        "colab_type": "code",
        "colab": {}
      },
      "source": [
        "batch_size = 50\n",
        "a1 = tf.Variable(tf.random_normal(shape=[1,1]))\n",
        "b1 = tf.Variable(tf.random_normal(shape=[1,1]))\n",
        "\n",
        "a2 = tf.Variable(tf.random_normal(shape=[1,1]))\n",
        "b2 = tf.Variable(tf.random_normal(shape=[1,1]))\n",
        "\n",
        "x = np.random.normal(loc=5,scale=0.25, size=1000)\n",
        "x_data = tf.placeholder(shape=[None, 1], dtype= tf.float32)"
      ],
      "execution_count": 219,
      "outputs": []
    },
    {
      "cell_type": "markdown",
      "metadata": {
        "id": "IicphQfQ-hkc",
        "colab_type": "text"
      },
      "source": [
        "### Función Sigmoide\n",
        "$$sigmoid(x) = \\sigma(x) = \\frac{1}{1+e^{ax+b}}$$"
      ]
    },
    {
      "cell_type": "code",
      "metadata": {
        "id": "v1o4iHtZ-get",
        "colab_type": "code",
        "colab": {}
      },
      "source": [
        "sigmoid_act = tf.sigmoid(tf.add(tf.matmul(x_data, a1), b1))"
      ],
      "execution_count": 220,
      "outputs": []
    },
    {
      "cell_type": "markdown",
      "metadata": {
        "id": "--wUwb-k-ksf",
        "colab_type": "text"
      },
      "source": [
        "### Función ReLu (Rectificador Lineal Unitario)\n",
        "$$f(x) = \\max(0,ax+b)$$"
      ]
    },
    {
      "cell_type": "code",
      "metadata": {
        "id": "kczfcXFV-jM8",
        "colab_type": "code",
        "colab": {}
      },
      "source": [
        "relu_act = tf.nn.relu(tf.add(tf.matmul(x_data, a2), b2))"
      ],
      "execution_count": 221,
      "outputs": []
    },
    {
      "cell_type": "code",
      "metadata": {
        "id": "rId-TmG3-mUd",
        "colab_type": "code",
        "colab": {}
      },
      "source": [
        "target = 0.75\n",
        "loss1 = tf.reduce_mean(tf.square(tf.subtract(sigmoid_act, target)))\n",
        "loss2 = tf.reduce_mean(tf.square(tf.subtract(relu_act, target)))"
      ],
      "execution_count": 222,
      "outputs": []
    },
    {
      "cell_type": "code",
      "metadata": {
        "id": "bOWBNmhI-nXE",
        "colab_type": "code",
        "colab": {}
      },
      "source": [
        "my_optim = tf.train.GradientDescentOptimizer(0.01)\n",
        "train_step_sigmoid = my_optim.minimize(loss1)\n",
        "train_step_relu = my_optim.minimize(loss2)\n",
        "init = tf.global_variables_initializer()\n",
        "session.run(init)"
      ],
      "execution_count": 223,
      "outputs": []
    },
    {
      "cell_type": "code",
      "metadata": {
        "id": "v6t556AE-obb",
        "colab_type": "code",
        "colab": {}
      },
      "source": [
        "loss_vect_sigmoid = []\n",
        "loss_vect_relu = []\n",
        "activ_sigmoid = []\n",
        "activ_relu = []\n",
        "for i in range(1000):\n",
        "    rand_idx = np.random.choice(len(x), size = batch_size)\n",
        "    x_vals = np.transpose([x[rand_idx]])\n",
        "    session.run(train_step_sigmoid, feed_dict = {x_data:x_vals})\n",
        "    session.run(train_step_relu, feed_dict={x_data:x_vals})\n",
        "    \n",
        "    loss_vect_sigmoid.append(session.run(loss1, feed_dict={x_data:x_vals}))\n",
        "    loss_vect_relu.append(session.run(loss2, feed_dict={x_data:x_vals}))\n",
        "    \n",
        "    activ_sigmoid.append(np.mean(session.run(sigmoid_act, feed_dict={x_data:x_vals})))\n",
        "    activ_relu.append(np.mean(session.run(relu_act, feed_dict={x_data:x_vals})))"
      ],
      "execution_count": 224,
      "outputs": []
    },
    {
      "cell_type": "code",
      "metadata": {
        "id": "zeSdbAdu-pj1",
        "colab_type": "code",
        "colab": {
          "base_uri": "https://localhost:8080/",
          "height": 295
        },
        "outputId": "fb17e478-1423-42be-c71f-7032fd063fb8"
      },
      "source": [
        "plt.plot(activ_sigmoid, 'r-', label=\"Función de Activación Sigmoide\")\n",
        "plt.plot(activ_relu, 'b--', label=\"Función de Activación ReLU\")\n",
        "plt.ylim([0.0,2.0])\n",
        "plt.title(\"Funciones de Activación\")\n",
        "plt.xlabel(\"Número de iteración\")\n",
        "plt.ylabel(\"Predicción del modelo\")\n",
        "plt.legend(loc=\"lower right\")\n",
        "plt.show()"
      ],
      "execution_count": 225,
      "outputs": [
        {
          "output_type": "display_data",
          "data": {
            "image/png": "[encoded data removed]",
            "text/plain": [
              "<Figure size 432x288 with 1 Axes>"
            ]
          },
          "metadata": {
            "tags": [],
            "needs_background": "light"
          }
        }
      ]
    },
    {
      "cell_type": "code",
      "metadata": {
        "id": "9j3erfMx-qjQ",
        "colab_type": "code",
        "colab": {
          "base_uri": "https://localhost:8080/",
          "height": 295
        },
        "outputId": "b016d938-23c5-4fb8-e959-0936d2067c1d"
      },
      "source": [
        "plt.plot(loss_vect_sigmoid, 'r-', label = \"Pérdidas de la Sigmoide\")\n",
        "plt.plot(loss_vect_relu, 'b--', label=\"Pérdidas de la ReLU\")\n",
        "plt.ylim([0.,1.])\n",
        "plt.title(\"Función de pérdidas\")\n",
        "plt.xlabel(\"Número de iteración\")\n",
        "plt.ylabel(\"Pérdida\")\n",
        "plt.legend(loc=\"upper right\")\n",
        "plt.show()"
      ],
      "execution_count": 226,
      "outputs": [
        {
          "output_type": "display_data",
          "data": {
            "image/png": "[encoded data removed]",
            "text/plain": [
              "<Figure size 432x288 with 1 Axes>"
            ]
          },
          "metadata": {
            "tags": [],
            "needs_background": "light"
          }
        }
      ]
    }
  ]
}