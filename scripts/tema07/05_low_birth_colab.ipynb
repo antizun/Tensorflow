{
  "nbformat": 4,
  "nbformat_minor": 0,
  "metadata": {
    "colab": {
      "name": "05-low-birth_colab.ipynb",
      "provenance": [],
      "collapsed_sections": []
    },
    "kernelspec": {
      "display_name": "Python 3",
      "language": "python",
      "name": "python3"
    },
    "language_info": {
      "codemirror_mode": {
        "name": "ipython",
        "version": 3
      },
      "file_extension": ".py",
      "mimetype": "text/x-python",
      "name": "python",
      "nbconvert_exporter": "python",
      "pygments_lexer": "ipython3",
      "version": "3.8.3"
    },
    "accelerator": "GPU"
  },
  "cells": [
    {
      "cell_type": "markdown",
      "metadata": {
        "colab_type": "text",
        "id": "KdUFcDsdzRyw"
      },
      "source": [
        "# Clonamos el repositorio para obtener los dataSet"
      ]
    },
    {
      "cell_type": "code",
      "metadata": {
        "colab_type": "code",
        "id": "mHReFf3_y9ms",
        "colab": {
          "base_uri": "https://localhost:8080/",
          "height": 153
        },
        "outputId": "3fa17b53-daae-435a-aad3-5c1148b6b889"
      },
      "source": [
        "!git clone https://github.com/joanby/tensorflow.git"
      ],
      "execution_count": 185,
      "outputs": [
        {
          "output_type": "stream",
          "text": [
            "Cloning into 'tensorflow'...\n",
            "remote: Enumerating objects: 51, done.\u001b[K\n",
            "remote: Counting objects: 100% (51/51), done.\u001b[K\n",
            "remote: Compressing objects: 100% (28/28), done.\u001b[K\n",
            "remote: Total 60311 (delta 32), reused 37 (delta 23), pack-reused 60260\u001b[K\n",
            "Receiving objects: 100% (60311/60311), 442.46 MiB | 39.29 MiB/s, done.\n",
            "Resolving deltas: 100% (82/82), done.\n",
            "Checking out files: 100% (60225/60225), done.\n"
          ],
          "name": "stdout"
        }
      ]
    },
    {
      "cell_type": "markdown",
      "metadata": {
        "colab_type": "text",
        "id": "vNKZXgtKzU2x"
      },
      "source": [
        "# Damos acceso a nuestro Drive"
      ]
    },
    {
      "cell_type": "code",
      "metadata": {
        "colab_type": "code",
        "id": "5gu7KWnzzUQ0",
        "colab": {}
      },
      "source": [
        "from google.colab import drive\n",
        "drive.mount('/content/drive')"
      ],
      "execution_count": null,
      "outputs": []
    },
    {
      "cell_type": "markdown",
      "metadata": {
        "colab_type": "text",
        "id": "1gUxIkHWzfHV"
      },
      "source": [
        "# Test it"
      ]
    },
    {
      "cell_type": "code",
      "metadata": {
        "colab_type": "code",
        "id": "mIQt3jBMzYRE",
        "colab": {}
      },
      "source": [
        "!ls '/content/drive/My Drive' "
      ],
      "execution_count": null,
      "outputs": []
    },
    {
      "cell_type": "markdown",
      "metadata": {
        "colab_type": "text",
        "id": "mHsK36uN0XB-"
      },
      "source": [
        "# Google colab tools"
      ]
    },
    {
      "cell_type": "code",
      "metadata": {
        "colab_type": "code",
        "id": "kTzwfUPWzrm4",
        "colab": {}
      },
      "source": [
        "from google.colab import files # Para manejar los archivos y, por ejemplo, exportar a su navegador\n",
        "import glob # Para manejar los archivos y, por ejemplo, exportar a su navegador\n",
        "from google.colab import drive # Montar tu Google drive"
      ],
      "execution_count": 1,
      "outputs": []
    },
    {
      "cell_type": "markdown",
      "metadata": {
        "id": "yQQ8nLiMY6wM",
        "colab_type": "text"
      },
      "source": [
        "##Especificando la versión de TensorFlow\n",
        "\n",
        "Ejecutando \"importar tensorflow\" importará la versión por defecto (actualmente 2.x). Puedes usar la 1.x ejecutando una celda con la \"versión mágica de tensorflow\" **antes de ejecutar \"importar tensorflow\".\n",
        "\n",
        "### Si no funciona hacer el pip install\n"
      ]
    },
    {
      "cell_type": "code",
      "metadata": {
        "id": "1j---G3ZY6wN",
        "colab_type": "code",
        "colab": {
          "base_uri": "https://localhost:8080/",
          "height": 34
        },
        "outputId": "f363a778-c70c-4292-b3c6-5024ef8c2657"
      },
      "source": [
        "#!pip install tensorflow==1.14\n",
        "%tensorflow_version 1.x"
      ],
      "execution_count": 2,
      "outputs": [
        {
          "output_type": "stream",
          "text": [
            "TensorFlow 1.x selected.\n"
          ],
          "name": "stdout"
        }
      ]
    },
    {
      "cell_type": "markdown",
      "metadata": {
        "id": "S-OIfuWLujbt",
        "colab_type": "text"
      },
      "source": [
        "# Importar Tensorflow"
      ]
    },
    {
      "cell_type": "code",
      "metadata": {
        "id": "OPSus73fumtP",
        "colab_type": "code",
        "colab": {
          "base_uri": "https://localhost:8080/",
          "height": 34
        },
        "outputId": "339eaf8f-5c12-4409-b3f2-9bad3dc341cf"
      },
      "source": [
        "import tensorflow as tf\n",
        "print(tf.__version__)\n",
        "import matplotlib.pyplot as plt"
      ],
      "execution_count": 300,
      "outputs": [
        {
          "output_type": "stream",
          "text": [
            "1.15.2\n"
          ],
          "name": "stdout"
        }
      ]
    },
    {
      "cell_type": "code",
      "metadata": {
        "id": "VQheSGsEBdD3",
        "colab_type": "code",
        "colab": {}
      },
      "source": [
        "session = tf.Session()"
      ],
      "execution_count": 301,
      "outputs": []
    },
    {
      "cell_type": "markdown",
      "metadata": {
        "id": "-PsrOMHXBroY",
        "colab_type": "text"
      },
      "source": [
        "# Red neuronal multicapa para predecir el bajo peso de un recién nacido"
      ]
    },
    {
      "cell_type": "code",
      "metadata": {
        "id": "fWd6ZidtBtan",
        "colab_type": "code",
        "colab": {}
      },
      "source": [
        "url = \"https://raw.githubusercontent.com/joanby/tensorflow/master/datasets/birthweight.dat?token=AMRAeLOMrOCZKT3UgcdcA3VC4ep-4pYNks5cb-CGwA%3D%3D\"\n",
        "birth_file = requests.get(url)\n",
        "birth_data = birth_file.text.split('\\r\\n')\n",
        "birth_header = birth_data[0].split('\\t')\n",
        "birth_data = [[float(x) for x in y.split('\\t') if len(x)>=1] for y in birth_data[1:] if len(y)>=1]"
      ],
      "execution_count": 302,
      "outputs": []
    },
    {
      "cell_type": "code",
      "metadata": {
        "id": "PbwjheAeBvAK",
        "colab_type": "code",
        "colab": {
          "base_uri": "https://localhost:8080/",
          "height": 34
        },
        "outputId": "779f5c63-a2a6-4414-cec0-95e2ac5d355a"
      },
      "source": [
        "birth_header"
      ],
      "execution_count": 303,
      "outputs": [
        {
          "output_type": "execute_result",
          "data": {
            "text/plain": [
              "['LOW', 'AGE', 'LWT', 'RACE', 'SMOKE', 'PTL', 'HT', 'UI', 'BWT']"
            ]
          },
          "metadata": {
            "tags": []
          },
          "execution_count": 303
        }
      ]
    },
    {
      "cell_type": "code",
      "metadata": {
        "id": "VWA3IXlFBwBy",
        "colab_type": "code",
        "colab": {}
      },
      "source": [
        "y_vals = np.array([x[8] for x in birth_data])\n",
        "x_vals = np.array([x[1:8] for x in birth_data])"
      ],
      "execution_count": 304,
      "outputs": []
    },
    {
      "cell_type": "code",
      "metadata": {
        "id": "fRTzfA1GBw5y",
        "colab_type": "code",
        "colab": {}
      },
      "source": [
        "seed = 2019\n",
        "tf.set_random_seed(seed)\n",
        "np.random.seed(seed)\n",
        "batch_size = 100"
      ],
      "execution_count": 305,
      "outputs": []
    },
    {
      "cell_type": "code",
      "metadata": {
        "id": "-vprFKkuBxw7",
        "colab_type": "code",
        "colab": {}
      },
      "source": [
        "train_idx = np.random.choice(len(x_vals), round(len(x_vals)*0.8), replace=False)\n",
        "test_idx = np.array(list(set(range(len(x_vals)))-set(train_idx)))"
      ],
      "execution_count": 306,
      "outputs": []
    },
    {
      "cell_type": "code",
      "metadata": {
        "id": "Vc2oV8gsBzNM",
        "colab_type": "code",
        "colab": {}
      },
      "source": [
        "x_vals_train = x_vals[train_idx]\n",
        "x_vals_test = x_vals[test_idx]\n",
        "y_vals_train = y_vals[train_idx]\n",
        "y_vals_test = y_vals[test_idx]"
      ],
      "execution_count": 307,
      "outputs": []
    },
    {
      "cell_type": "code",
      "metadata": {
        "id": "YGiKmFi6B0iD",
        "colab_type": "code",
        "colab": {}
      },
      "source": [
        "def normalize_cols(m, col_min = np.array([None]), col_max = np.array([None])):\n",
        "    if not col_min[0]:\n",
        "        col_min = m.min(axis=0)\n",
        "    if not col_max[0]:\n",
        "        col_max = m.max(axis=0)\n",
        "    return(m-col_min)/(col_max-col_min), col_min, col_max"
      ],
      "execution_count": 308,
      "outputs": []
    },
    {
      "cell_type": "code",
      "metadata": {
        "id": "Kf5cHDT-B1fJ",
        "colab_type": "code",
        "colab": {}
      },
      "source": [
        "x_vals_train, train_min, train_max = np.nan_to_num(normalize_cols(x_vals_train))\n",
        "x_vals_test,_,_ = np.nan_to_num(normalize_cols(x_vals_test, train_min, train_max))"
      ],
      "execution_count": 309,
      "outputs": []
    },
    {
      "cell_type": "code",
      "metadata": {
        "id": "dutOGmkJB2wl",
        "colab_type": "code",
        "colab": {}
      },
      "source": [
        "def init_weight(shape, st_dev):\n",
        "    weight = tf.Variable(tf.random_normal(shape = shape, stddev=st_dev))\n",
        "    return weight\n",
        "\n",
        "def init_bias(shape, st_dev):\n",
        "    bias = tf.Variable(tf.random_normal(shape = shape, stddev=st_dev))\n",
        "    return bias"
      ],
      "execution_count": 310,
      "outputs": []
    },
    {
      "cell_type": "code",
      "metadata": {
        "id": "O4eVpY_UB39_",
        "colab_type": "code",
        "colab": {}
      },
      "source": [
        "x_data = tf.placeholder(shape=[None, 7], dtype = tf.float32)\n",
        "y_target = tf.placeholder(shape=[None, 1], dtype=tf.float32)"
      ],
      "execution_count": 311,
      "outputs": []
    },
    {
      "cell_type": "code",
      "metadata": {
        "id": "npZf_4HmB5BO",
        "colab_type": "code",
        "colab": {}
      },
      "source": [
        "def full_connected(input_layer, weights, biases):\n",
        "    layer = tf.add(tf.matmul(input_layer, weights), biases)\n",
        "    return(layer)"
      ],
      "execution_count": 312,
      "outputs": []
    },
    {
      "cell_type": "markdown",
      "metadata": {
        "id": "evNxTTq4B6Z7",
        "colab_type": "text"
      },
      "source": [
        "- Dato de entrada: 7 -> capa oculta 1: 25, la capa tiene 7*25+25 = 200 variables\n",
        "- Capa oculta 1: 25 -> capa oculta 2: 10, la capa tiene 25*10+10 = 260 variables\n",
        "- Capa oculta 2: 10 -> capa oculta 3: 3, la capa tiene 10*3+3 = 33 variables\n",
        "- Capa oculta 3: 3 -> Capa de Salida: 1, la capa tiene 3*1+1 = 4 variables\n",
        "\n",
        "En total la red neuronal tiene que estimar 200+260+33+4 = 497 variables"
      ]
    },
    {
      "cell_type": "code",
      "metadata": {
        "id": "n4Z6Ro9uB58y",
        "colab_type": "code",
        "colab": {}
      },
      "source": [
        "w1 = init_weight(shape=[7,25], st_dev=10.0)\n",
        "b1 = init_bias(shape=[25], st_dev=10.0)\n",
        "layer1 = full_connected(x_data, w1, b1) \n",
        "\n",
        "w2 = init_weight(shape=[25,10], st_dev=10.0)\n",
        "b2 = init_bias(shape=[10], st_dev=10.0)\n",
        "layer2 = full_connected(layer1, w2, b2)\n",
        "\n",
        "w3 = init_weight(shape=[10,3], st_dev=10.0)\n",
        "b3 = init_bias(shape=[3], st_dev=10.0)\n",
        "layer3 = full_connected(layer2, w3, b3)\n",
        "\n",
        "w4 = init_weight(shape=[3,1], st_dev=10.0)\n",
        "b4 = init_bias(shape=[1], st_dev=10.0)\n",
        "layer4 = full_connected(layer3, w4, b4) "
      ],
      "execution_count": 313,
      "outputs": []
    },
    {
      "cell_type": "code",
      "metadata": {
        "id": "5f5Ldw0yB8-y",
        "colab_type": "code",
        "colab": {}
      },
      "source": [
        "loss = tf.reduce_mean(tf.abs(y_target-layer4))\n",
        "my_optim = tf.train.AdamOptimizer(0.05)\n",
        "train_step = my_optim.minimize(loss)\n",
        "init = tf.global_variables_initializer()\n",
        "session.run(init)"
      ],
      "execution_count": 314,
      "outputs": []
    },
    {
      "cell_type": "code",
      "metadata": {
        "id": "ZGmU1N83B-VP",
        "colab_type": "code",
        "colab": {
          "base_uri": "https://localhost:8080/",
          "height": 221
        },
        "outputId": "8dde1d05-b676-4e53-ea01-5f1c68a00472"
      },
      "source": [
        "loss_vects = []\n",
        "test_loss = []\n",
        "for i in range(300):\n",
        "    rand_idx = np.random.choice(len(x_vals_train), size = batch_size)\n",
        "    rand_x = x_vals_train[rand_idx]\n",
        "    rand_y = np.transpose([y_vals_train[rand_idx]])\n",
        "    \n",
        "    session.run(train_step, feed_dict={x_data: rand_x, y_target: rand_y})\n",
        "    \n",
        "    temp_loss = session.run(loss, feed_dict={x_data: rand_x, y_target: rand_y})\n",
        "    loss_vects.append(temp_loss)\n",
        "    \n",
        "    test_temp_loss = session.run(loss, feed_dict={x_data: x_vals_test, y_target: np.transpose([y_vals_test])})\n",
        "    test_loss.append(test_temp_loss)\n",
        "    \n",
        "    if(i+1)%25==0:\n",
        "        print(\"Paso #\"+str(i+1)+\", Loss = \"+str(temp_loss))"
      ],
      "execution_count": 315,
      "outputs": [
        {
          "output_type": "stream",
          "text": [
            "Paso #25, Loss = 20226.258\n",
            "Paso #50, Loss = 3310.124\n",
            "Paso #75, Loss = 944.71265\n",
            "Paso #100, Loss = 1508.17\n",
            "Paso #125, Loss = 706.84546\n",
            "Paso #150, Loss = 846.6245\n",
            "Paso #175, Loss = 1565.0657\n",
            "Paso #200, Loss = 1271.3318\n",
            "Paso #225, Loss = 1401.0514\n",
            "Paso #250, Loss = 2564.7078\n",
            "Paso #275, Loss = 1786.2312\n",
            "Paso #300, Loss = 2219.197\n"
          ],
          "name": "stdout"
        }
      ]
    },
    {
      "cell_type": "code",
      "metadata": {
        "id": "k1gF7t1zB_Nc",
        "colab_type": "code",
        "colab": {
          "base_uri": "https://localhost:8080/",
          "height": 295
        },
        "outputId": "b6ff6613-c7ea-47dc-c9cb-be77bf1fefe3"
      },
      "source": [
        "plt.plot(loss_vects, 'r-', label=\"Pérdidas en Entrenamiento\")\n",
        "plt.plot(test_loss, 'b-.', label=\"Pérdidas en Test\")\n",
        "plt.title(\"Pérdida por iteración\")\n",
        "plt.xlabel(\"Iteración\")\n",
        "plt.ylabel(\"Pérdidas (L1)\")\n",
        "plt.legend(loc=\"upper right\")\n",
        "plt.show()"
      ],
      "execution_count": 316,
      "outputs": [
        {
          "output_type": "display_data",
          "data": {
            "image/png": "[encoded data removed]",
            "text/plain": [
              "<Figure size 432x288 with 1 Axes>"
            ]
          },
          "metadata": {
            "tags": [],
            "needs_background": "light"
          }
        }
      ]
    },
    {
      "cell_type": "code",
      "metadata": {
        "id": "YsxI2d0WCARd",
        "colab_type": "code",
        "colab": {}
      },
      "source": [
        "actuals = np.array([x[0] for x in birth_data])\n",
        "test_actuals = actuals[test_idx]\n",
        "train_actuals = actuals[train_idx]\n",
        "test_pred = [x[0] for x in session.run(layer4, feed_dict={x_data:x_vals_test})]\n",
        "train_pred = [x[0] for x in session.run(layer4, feed_dict={x_data:x_vals_train})]\n",
        "test_pred = np.array([1.0 if x<2500.0 else 0.0 for x in test_pred])\n",
        "train_pred = np.array([1.0 if x<2500.0 else 0.0 for x in train_pred])"
      ],
      "execution_count": 317,
      "outputs": []
    },
    {
      "cell_type": "code",
      "metadata": {
        "id": "PC3XLMM3CBKw",
        "colab_type": "code",
        "colab": {}
      },
      "source": [
        "test_acc = np.mean([x==y for x,y in zip(test_pred, test_actuals)])\n",
        "train_acc = np.mean([x==y for x,y in zip(train_pred, train_actuals)])"
      ],
      "execution_count": 318,
      "outputs": []
    },
    {
      "cell_type": "code",
      "metadata": {
        "id": "kUd-62sQCCNn",
        "colab_type": "code",
        "colab": {
          "base_uri": "https://localhost:8080/",
          "height": 34
        },
        "outputId": "70ab38e2-fe8e-40b3-8dd9-782902120d91"
      },
      "source": [
        "test_acc"
      ],
      "execution_count": 319,
      "outputs": [
        {
          "output_type": "execute_result",
          "data": {
            "text/plain": [
              "0.3157894736842105"
            ]
          },
          "metadata": {
            "tags": []
          },
          "execution_count": 319
        }
      ]
    },
    {
      "cell_type": "code",
      "metadata": {
        "id": "jRbjG56ACDGG",
        "colab_type": "code",
        "colab": {
          "base_uri": "https://localhost:8080/",
          "height": 34
        },
        "outputId": "efe7d63b-c9c2-4b16-a65d-60ef43ceccb4"
      },
      "source": [
        "train_acc"
      ],
      "execution_count": 320,
      "outputs": [
        {
          "output_type": "execute_result",
          "data": {
            "text/plain": [
              "0.31125827814569534"
            ]
          },
          "metadata": {
            "tags": []
          },
          "execution_count": 320
        }
      ]
    },
    {
      "cell_type": "code",
      "metadata": {
        "id": "C1BD3hOzCD7Y",
        "colab_type": "code",
        "colab": {}
      },
      "source": [
        ""
      ],
      "execution_count": null,
      "outputs": []
    }
  ]
}