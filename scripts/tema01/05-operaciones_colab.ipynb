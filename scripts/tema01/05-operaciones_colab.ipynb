{
  "nbformat": 4,
  "nbformat_minor": 0,
  "metadata": {
    "colab": {
      "name": "04-matrices_colab.ipynb",
      "provenance": [],
      "collapsed_sections": []
    },
    "kernelspec": {
      "display_name": "Python 3",
      "language": "python",
      "name": "python3"
    },
    "language_info": {
      "codemirror_mode": {
        "name": "ipython",
        "version": 3
      },
      "file_extension": ".py",
      "mimetype": "text/x-python",
      "name": "python",
      "nbconvert_exporter": "python",
      "pygments_lexer": "ipython3",
      "version": "3.8.3"
    },
    "accelerator": "GPU"
  },
  "cells": [
    {
      "cell_type": "markdown",
      "metadata": {
        "colab_type": "text",
        "id": "KdUFcDsdzRyw"
      },
      "source": [
        "# Clonamos el repositorio para obtener los dataSet"
      ]
    },
    {
      "cell_type": "code",
      "metadata": {
        "colab_type": "code",
        "id": "mHReFf3_y9ms",
        "colab": {}
      },
      "source": [
        "!git clone https://github.com/joanby/tensorflow.git"
      ],
      "execution_count": null,
      "outputs": []
    },
    {
      "cell_type": "markdown",
      "metadata": {
        "colab_type": "text",
        "id": "vNKZXgtKzU2x"
      },
      "source": [
        "# Damos acceso a nuestro Drive"
      ]
    },
    {
      "cell_type": "code",
      "metadata": {
        "colab_type": "code",
        "id": "5gu7KWnzzUQ0",
        "colab": {}
      },
      "source": [
        "from google.colab import drive\n",
        "drive.mount('/content/drive')"
      ],
      "execution_count": null,
      "outputs": []
    },
    {
      "cell_type": "markdown",
      "metadata": {
        "colab_type": "text",
        "id": "1gUxIkHWzfHV"
      },
      "source": [
        "# Test it"
      ]
    },
    {
      "cell_type": "code",
      "metadata": {
        "colab_type": "code",
        "id": "mIQt3jBMzYRE",
        "colab": {}
      },
      "source": [
        "!ls '/content/drive/My Drive' "
      ],
      "execution_count": null,
      "outputs": []
    },
    {
      "cell_type": "markdown",
      "metadata": {
        "colab_type": "text",
        "id": "mHsK36uN0XB-"
      },
      "source": [
        "# Google colab tools"
      ]
    },
    {
      "cell_type": "code",
      "metadata": {
        "colab_type": "code",
        "id": "kTzwfUPWzrm4",
        "colab": {}
      },
      "source": [
        "from google.colab import files # Para manejar los archivos y, por ejemplo, exportar a su navegador\n",
        "import glob # Para manejar los archivos y, por ejemplo, exportar a su navegador\n",
        "from google.colab import drive # Montar tu Google drive"
      ],
      "execution_count": null,
      "outputs": []
    },
    {
      "cell_type": "markdown",
      "metadata": {
        "id": "yQQ8nLiMY6wM",
        "colab_type": "text"
      },
      "source": [
        "##Especificando la versión de TensorFlow\n",
        "\n",
        "Ejecutando \"importar tensorflow\" importará la versión por defecto (actualmente 2.x). Puedes usar la 1.x ejecutando una celda con la \"versión mágica de tensorflow\" **antes de ejecutar \"importar tensorflow\".\n",
        "\n",
        "### Si no funciona hacer el pip install\n"
      ]
    },
    {
      "cell_type": "code",
      "metadata": {
        "id": "1j---G3ZY6wN",
        "colab_type": "code",
        "colab": {}
      },
      "source": [
        "#!pip install tensorflow==1.14\n",
        "%tensorflow_version 1.x"
      ],
      "execution_count": null,
      "outputs": []
    },
    {
      "cell_type": "markdown",
      "metadata": {
        "id": "S-OIfuWLujbt",
        "colab_type": "text"
      },
      "source": [
        "# Importar Tensorflow"
      ]
    },
    {
      "cell_type": "code",
      "metadata": {
        "id": "OPSus73fumtP",
        "colab_type": "code",
        "colab": {}
      },
      "source": [
        "import tensorflow as tf\n",
        "print(tf.__version__)"
      ],
      "execution_count": null,
      "outputs": []
    },
    {
      "cell_type": "markdown",
      "metadata": {
        "id": "Z9ZTNKptt8dA",
        "colab_type": "text"
      },
      "source": [
        "# Cómo trabajar con matrices"
      ]
    },
    {
      "cell_type": "code",
      "metadata": {
        "id": "C-XGg6ZD26c0",
        "colab_type": "code",
        "colab": {}
      },
      "source": [
        "session = tf.Session()"
      ],
      "execution_count": null,
      "outputs": []
    },
    {
      "cell_type": "markdown",
      "metadata": {
        "id": "IC_M6LlGuAp-",
        "colab_type": "text"
      },
      "source": [
        "### Operaciones aritméticas"
      ]
    },
    {
      "cell_type": "code",
      "metadata": {
        "id": "1MJDA3Tx2RHw",
        "colab_type": "code",
        "colab": {}
      },
      "source": [
        "x = 3\n",
        "y = 4"
      ],
      "execution_count": null,
      "outputs": []
    },
    {
      "cell_type": "code",
      "metadata": {
        "id": "_yZv8SMF3BvM",
        "colab_type": "code",
        "colab": {}
      },
      "source": [
        "print(session.run(tf.add(x,y)))"
      ],
      "execution_count": null,
      "outputs": []
    },
    {
      "cell_type": "code",
      "metadata": {
        "id": "p0DhKKw13DIS",
        "colab_type": "code",
        "colab": {}
      },
      "source": [
        "print(session.run(tf.subtract(x,y)))"
      ],
      "execution_count": null,
      "outputs": []
    },
    {
      "cell_type": "code",
      "metadata": {
        "id": "nWW13ED43ENc",
        "colab_type": "code",
        "colab": {}
      },
      "source": [
        "print(session.run(tf.multiply(x,y)))"
      ],
      "execution_count": null,
      "outputs": []
    },
    {
      "cell_type": "code",
      "metadata": {
        "id": "0eNG2PcB3FPN",
        "colab_type": "code",
        "colab": {}
      },
      "source": [
        "print(session.run(tf.div(x,y)))"
      ],
      "execution_count": null,
      "outputs": []
    },
    {
      "cell_type": "code",
      "metadata": {
        "id": "nI8GIXIX3_9G",
        "colab_type": "code",
        "colab": {}
      },
      "source": [
        "print(session.run(tf.truediv(x,y)))"
      ],
      "execution_count": null,
      "outputs": []
    },
    {
      "cell_type": "code",
      "metadata": {
        "id": "ndoPHpxL4BNn",
        "colab_type": "code",
        "colab": {}
      },
      "source": [
        "print(session.run(tf.floordiv(7.0,3.0)))"
      ],
      "execution_count": null,
      "outputs": []
    },
    {
      "cell_type": "code",
      "metadata": {
        "id": "5RykDDHP4Cjx",
        "colab_type": "code",
        "colab": {}
      },
      "source": [
        "print(session.run(tf.mod(23.0, 5.0)))"
      ],
      "execution_count": null,
      "outputs": []
    },
    {
      "cell_type": "code",
      "metadata": {
        "id": "bAHQ9YmP4D1S",
        "colab_type": "code",
        "colab": {}
      },
      "source": [
        "print(session.run(tf.cross([1.0,0.,0.], [0.,1.,0.])))"
      ],
      "execution_count": null,
      "outputs": []
    },
    {
      "cell_type": "markdown",
      "metadata": {
        "id": "XtW9axgo0O0g",
        "colab_type": "text"
      },
      "source": [
        "## Funciones matemáticas"
      ]
    },
    {
      "cell_type": "code",
      "metadata": {
        "id": "cEPZ1cIm2VB5",
        "colab_type": "code",
        "colab": {}
      },
      "source": [
        "x = [-3.,-2.,-1.,0.,1.,2.]"
      ],
      "execution_count": null,
      "outputs": []
    },
    {
      "cell_type": "code",
      "metadata": {
        "id": "q6ktsEQG3S45",
        "colab_type": "code",
        "colab": {}
      },
      "source": [
        "print(session.run(tf.abs(x)))"
      ],
      "execution_count": null,
      "outputs": []
    },
    {
      "cell_type": "code",
      "metadata": {
        "id": "QUmVTVON3ULZ",
        "colab_type": "code",
        "colab": {}
      },
      "source": [
        "print(session.run(tf.ceil(6.4)))"
      ],
      "execution_count": null,
      "outputs": []
    },
    {
      "cell_type": "code",
      "metadata": {
        "id": "MVAtwfxM3WhZ",
        "colab_type": "code",
        "colab": {}
      },
      "source": [
        "print(session.run(tf.floor(6.4)))"
      ],
      "execution_count": null,
      "outputs": []
    },
    {
      "cell_type": "code",
      "metadata": {
        "id": "IS3_b5bd4OIK",
        "colab_type": "code",
        "colab": {}
      },
      "source": [
        "print(session.run(tf.round(6.6)))"
      ],
      "execution_count": null,
      "outputs": []
    },
    {
      "cell_type": "code",
      "metadata": {
        "id": "8mTVjRKp4Oh4",
        "colab_type": "code",
        "colab": {}
      },
      "source": [
        "print(session.run(tf.sin(x)))"
      ],
      "execution_count": null,
      "outputs": []
    },
    {
      "cell_type": "code",
      "metadata": {
        "id": "K9vLRKVa4Qk7",
        "colab_type": "code",
        "colab": {}
      },
      "source": [
        "print(session.run(tf.cos(x)))"
      ],
      "execution_count": null,
      "outputs": []
    },
    {
      "cell_type": "code",
      "metadata": {
        "id": "zNc0lIWb4R7J",
        "colab_type": "code",
        "colab": {}
      },
      "source": [
        "print(session.run(tf.tan(x)))"
      ],
      "execution_count": null,
      "outputs": []
    },
    {
      "cell_type": "code",
      "metadata": {
        "id": "WLHraLWT4TCE",
        "colab_type": "code",
        "colab": {}
      },
      "source": [
        "print(session.run(tf.exp(x)))"
      ],
      "execution_count": null,
      "outputs": []
    },
    {
      "cell_type": "code",
      "metadata": {
        "id": "NDy7ffa34UFW",
        "colab_type": "code",
        "colab": {}
      },
      "source": [
        "print(session.run(tf.log(x)))"
      ],
      "execution_count": null,
      "outputs": []
    },
    {
      "cell_type": "code",
      "metadata": {
        "id": "umjP4O_r4VJn",
        "colab_type": "code",
        "colab": {}
      },
      "source": [
        "y = [4., 3., 7., -4., -3., 7.]"
      ],
      "execution_count": null,
      "outputs": []
    },
    {
      "cell_type": "code",
      "metadata": {
        "id": "PzCO9UyU4WZG",
        "colab_type": "code",
        "colab": {}
      },
      "source": [
        "print(session.run(tf.maximum(x,y)))"
      ],
      "execution_count": null,
      "outputs": []
    },
    {
      "cell_type": "code",
      "metadata": {
        "id": "TeNurJiZ4Xwr",
        "colab_type": "code",
        "colab": {}
      },
      "source": [
        "print(session.run(tf.minimum(x,y)))"
      ],
      "execution_count": null,
      "outputs": []
    },
    {
      "cell_type": "code",
      "metadata": {
        "id": "BcWoc-FN4YJT",
        "colab_type": "code",
        "colab": {}
      },
      "source": [
        "print(session.run(tf.negative(x)))"
      ],
      "execution_count": null,
      "outputs": []
    },
    {
      "cell_type": "code",
      "metadata": {
        "id": "iEWAcQJS4atB",
        "colab_type": "code",
        "colab": {}
      },
      "source": [
        "print(session.run(tf.pow(x, y)))"
      ],
      "execution_count": null,
      "outputs": []
    },
    {
      "cell_type": "code",
      "metadata": {
        "id": "44UteP3E4b0D",
        "colab_type": "code",
        "colab": {}
      },
      "source": [
        "print(session.run(tf.sqrt(x)))"
      ],
      "execution_count": null,
      "outputs": []
    },
    {
      "cell_type": "code",
      "metadata": {
        "id": "L2ZFMn5b4c7s",
        "colab_type": "code",
        "colab": {}
      },
      "source": [
        "print(session.run(tf.rsqrt(x)))"
      ],
      "execution_count": null,
      "outputs": []
    },
    {
      "cell_type": "code",
      "metadata": {
        "id": "nbX7IRG54fA6",
        "colab_type": "code",
        "colab": {}
      },
      "source": [
        "print(session.run(tf.square(x)))"
      ],
      "execution_count": null,
      "outputs": []
    },
    {
      "cell_type": "code",
      "metadata": {
        "id": "VeT00NAe4gd2",
        "colab_type": "code",
        "colab": {}
      },
      "source": [
        "print(session.run(tf.sign(x)))"
      ],
      "execution_count": null,
      "outputs": []
    },
    {
      "cell_type": "markdown",
      "metadata": {
        "id": "KwtggCHB3Yqd",
        "colab_type": "text"
      },
      "source": [
        "## Otras funciones"
      ]
    },
    {
      "cell_type": "code",
      "metadata": {
        "id": "-cIi9f033cNK",
        "colab_type": "code",
        "colab": {}
      },
      "source": [
        "print(session.run(tf.digamma(x)))"
      ],
      "execution_count": null,
      "outputs": []
    },
    {
      "cell_type": "code",
      "metadata": {
        "id": "wYCooTQU3c6T",
        "colab_type": "code",
        "colab": {}
      },
      "source": [
        "print(session.run(tf.lbeta(x)))"
      ],
      "execution_count": null,
      "outputs": []
    },
    {
      "cell_type": "code",
      "metadata": {
        "id": "ZEQ9UxfD4o1E",
        "colab_type": "code",
        "colab": {}
      },
      "source": [
        "print(session.run(tf.lgamma(x)))"
      ],
      "execution_count": null,
      "outputs": []
    },
    {
      "cell_type": "code",
      "metadata": {
        "id": "u3S5yBGN3gHF",
        "colab_type": "code",
        "colab": {}
      },
      "source": [
        "print(session.run(tf.erf(x)))"
      ],
      "execution_count": null,
      "outputs": []
    },
    {
      "cell_type": "code",
      "metadata": {
        "id": "aeUvG8NV3hkC",
        "colab_type": "code",
        "colab": {}
      },
      "source": [
        "print(session.run(tf.erfc(x)))"
      ],
      "execution_count": null,
      "outputs": []
    },
    {
      "cell_type": "code",
      "metadata": {
        "id": "HYemurlM4w_h",
        "colab_type": "code",
        "colab": {}
      },
      "source": [
        "print(session.run(tf.squared_difference(x,y)))"
      ],
      "execution_count": null,
      "outputs": []
    },
    {
      "cell_type": "code",
      "metadata": {
        "id": "ispi92sQ4yBy",
        "colab_type": "code",
        "colab": {}
      },
      "source": [
        "print(session.run(tf.tan(3.14159265/4.)))"
      ],
      "execution_count": null,
      "outputs": []
    },
    {
      "cell_type": "markdown",
      "metadata": {
        "id": "GFvgblhb2a2V",
        "colab_type": "text"
      },
      "source": [
        "## Funciones propias\n",
        "$$y = 5x^2-7x+15$$"
      ]
    },
    {
      "cell_type": "code",
      "metadata": {
        "id": "-HiZVwvU2Y8i",
        "colab_type": "code",
        "colab": {}
      },
      "source": [
        "def custom_parabola(value):\n",
        "    return tf.subtract(5*tf.square(value), 7*value)+15"
      ],
      "execution_count": null,
      "outputs": []
    },
    {
      "cell_type": "code",
      "metadata": {
        "id": "04Tff7Od44XX",
        "colab_type": "code",
        "colab": {}
      },
      "source": [
        "print(session.run(custom_parabola(5)))"
      ],
      "execution_count": null,
      "outputs": []
    }
  ]
}