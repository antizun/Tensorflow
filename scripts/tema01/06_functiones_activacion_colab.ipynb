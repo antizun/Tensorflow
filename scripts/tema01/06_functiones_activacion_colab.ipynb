{
  "nbformat": 4,
  "nbformat_minor": 0,
  "metadata": {
    "colab": {
      "name": "06-functiones-activacion_colab.ipynb",
      "provenance": [],
      "collapsed_sections": [],
      "toc_visible": true
    },
    "kernelspec": {
      "display_name": "Python 3",
      "language": "python",
      "name": "python3"
    },
    "language_info": {
      "codemirror_mode": {
        "name": "ipython",
        "version": 3
      },
      "file_extension": ".py",
      "mimetype": "text/x-python",
      "name": "python",
      "nbconvert_exporter": "python",
      "pygments_lexer": "ipython3",
      "version": "3.8.3"
    },
    "accelerator": "GPU"
  },
  "cells": [
    {
      "cell_type": "markdown",
      "metadata": {
        "colab_type": "text",
        "id": "KdUFcDsdzRyw"
      },
      "source": [
        "# Clonamos el repositorio para obtener los dataSet"
      ]
    },
    {
      "cell_type": "code",
      "metadata": {
        "colab_type": "code",
        "id": "mHReFf3_y9ms",
        "colab": {}
      },
      "source": [
        "!git clone https://github.com/joanby/tensorflow.git"
      ],
      "execution_count": null,
      "outputs": []
    },
    {
      "cell_type": "markdown",
      "metadata": {
        "colab_type": "text",
        "id": "vNKZXgtKzU2x"
      },
      "source": [
        "# Damos acceso a nuestro Drive"
      ]
    },
    {
      "cell_type": "code",
      "metadata": {
        "colab_type": "code",
        "id": "5gu7KWnzzUQ0",
        "colab": {}
      },
      "source": [
        "from google.colab import drive\n",
        "drive.mount('/content/drive')"
      ],
      "execution_count": null,
      "outputs": []
    },
    {
      "cell_type": "markdown",
      "metadata": {
        "colab_type": "text",
        "id": "1gUxIkHWzfHV"
      },
      "source": [
        "# Test it"
      ]
    },
    {
      "cell_type": "code",
      "metadata": {
        "colab_type": "code",
        "id": "mIQt3jBMzYRE",
        "colab": {}
      },
      "source": [
        "!ls '/content/drive/My Drive' "
      ],
      "execution_count": null,
      "outputs": []
    },
    {
      "cell_type": "markdown",
      "metadata": {
        "colab_type": "text",
        "id": "mHsK36uN0XB-"
      },
      "source": [
        "# Google colab tools"
      ]
    },
    {
      "cell_type": "code",
      "metadata": {
        "colab_type": "code",
        "id": "kTzwfUPWzrm4",
        "colab": {}
      },
      "source": [
        "from google.colab import files # Para manejar los archivos y, por ejemplo, exportar a su navegador\n",
        "import glob # Para manejar los archivos y, por ejemplo, exportar a su navegador\n",
        "from google.colab import drive # Montar tu Google drive"
      ],
      "execution_count": null,
      "outputs": []
    },
    {
      "cell_type": "markdown",
      "metadata": {
        "id": "yQQ8nLiMY6wM",
        "colab_type": "text"
      },
      "source": [
        "##Especificando la versión de TensorFlow\n",
        "\n",
        "Ejecutando \"importar tensorflow\" importará la versión por defecto (actualmente 2.x). Puedes usar la 1.x ejecutando una celda con la \"versión mágica de tensorflow\" **antes de ejecutar \"importar tensorflow\".\n",
        "\n",
        "### Si no funciona hacer el pip install\n"
      ]
    },
    {
      "cell_type": "code",
      "metadata": {
        "id": "1j---G3ZY6wN",
        "colab_type": "code",
        "colab": {}
      },
      "source": [
        "#!pip install tensorflow==1.14\n",
        "%tensorflow_version 1.x"
      ],
      "execution_count": null,
      "outputs": []
    },
    {
      "cell_type": "markdown",
      "metadata": {
        "id": "S-OIfuWLujbt",
        "colab_type": "text"
      },
      "source": [
        "# Importar Tensorflow"
      ]
    },
    {
      "cell_type": "code",
      "metadata": {
        "id": "OPSus73fumtP",
        "colab_type": "code",
        "colab": {}
      },
      "source": [
        "import tensorflow as tf\n",
        "print(tf.__version__)"
      ],
      "execution_count": null,
      "outputs": []
    },
    {
      "cell_type": "markdown",
      "metadata": {
        "id": "Z9ZTNKptt8dA",
        "colab_type": "text"
      },
      "source": [
        "# Funciones de activación"
      ]
    },
    {
      "cell_type": "code",
      "metadata": {
        "id": "C-XGg6ZD26c0",
        "colab_type": "code",
        "colab": {}
      },
      "source": [
        "session = tf.Session()"
      ],
      "execution_count": 77,
      "outputs": []
    },
    {
      "cell_type": "code",
      "metadata": {
        "id": "GOTLJB8c5I74",
        "colab_type": "code",
        "colab": {}
      },
      "source": [
        "import tensorflow.nn as nn"
      ],
      "execution_count": 78,
      "outputs": []
    },
    {
      "cell_type": "markdown",
      "metadata": {
        "id": "IC_M6LlGuAp-",
        "colab_type": "text"
      },
      "source": [
        "### Función ReLU\n",
        "- Contínua\n",
        "- No derivable"
      ]
    },
    {
      "cell_type": "markdown",
      "metadata": {
        "id": "wOrDfPQ-5Mb4",
        "colab_type": "text"
      },
      "source": [
        "$$f(x) = max(0,x)$$"
      ]
    },
    {
      "cell_type": "code",
      "metadata": {
        "id": "1MJDA3Tx2RHw",
        "colab_type": "code",
        "colab": {
          "base_uri": "https://localhost:8080/",
          "height": 34
        },
        "outputId": "51c2cd52-d713-41ab-ca94-b38a2e90404b"
      },
      "source": [
        "print(session.run(nn.relu([-5., 5., 15.])))"
      ],
      "execution_count": 79,
      "outputs": [
        {
          "output_type": "stream",
          "text": [
            "[ 0.  5. 15.]\n"
          ],
          "name": "stdout"
        }
      ]
    },
    {
      "cell_type": "markdown",
      "metadata": {
        "id": "mDfLymvV5Wc7",
        "colab_type": "text"
      },
      "source": [
        "$$f(x) = min(max(0,x),6)$$"
      ]
    },
    {
      "cell_type": "code",
      "metadata": {
        "id": "UXJ1n18b5Wxj",
        "colab_type": "code",
        "colab": {
          "base_uri": "https://localhost:8080/",
          "height": 34
        },
        "outputId": "43302925-eb3a-48e0-92a9-b8572b8401e7"
      },
      "source": [
        "print(session.run(nn.relu6([-5.,5.,15.])))"
      ],
      "execution_count": 81,
      "outputs": [
        {
          "output_type": "stream",
          "text": [
            "[0. 5. 6.]\n"
          ],
          "name": "stdout"
        }
      ]
    },
    {
      "cell_type": "markdown",
      "metadata": {
        "id": "Y7BFsOzz5Ztz",
        "colab_type": "text"
      },
      "source": [
        "### Función sigmoide (logística)\n",
        "- Contínua\n",
        "- Derivable\n",
        "- Rango de valores $(0,1)$"
      ]
    },
    {
      "cell_type": "markdown",
      "metadata": {
        "id": "vDw2pupJ5bZb",
        "colab_type": "text"
      },
      "source": [
        "$$f(x) = \\frac{1}{1+e^{-x}}$$"
      ]
    },
    {
      "cell_type": "code",
      "metadata": {
        "id": "qTHCfA_05Yha",
        "colab_type": "code",
        "colab": {
          "base_uri": "https://localhost:8080/",
          "height": 34
        },
        "outputId": "0713ced2-7525-4b37-b6dd-060dd30a395f"
      },
      "source": [
        "print(session.run(nn.sigmoid([-2., -1.,0,1.,2.])))"
      ],
      "execution_count": 82,
      "outputs": [
        {
          "output_type": "stream",
          "text": [
            "[0.11920292 0.26894143 0.5        0.7310586  0.880797  ]\n"
          ],
          "name": "stdout"
        }
      ]
    },
    {
      "cell_type": "markdown",
      "metadata": {
        "id": "BskwyQHC5ege",
        "colab_type": "text"
      },
      "source": [
        "### Función Tangente hiperbólica\n",
        "- Contínua \n",
        "- Derivable\n",
        "- Rango de valores $(-1,1)$"
      ]
    },
    {
      "cell_type": "markdown",
      "metadata": {
        "id": "N9yRDVip5gEc",
        "colab_type": "text"
      },
      "source": [
        "$$f(x) = tanh(x) = \\frac{e^x-e^{-x}}{e^x+e^{-x}}$$"
      ]
    },
    {
      "cell_type": "code",
      "metadata": {
        "id": "o-ZCakGD5dKf",
        "colab_type": "code",
        "colab": {
          "base_uri": "https://localhost:8080/",
          "height": 34
        },
        "outputId": "9bf3d254-58a1-449d-ecd9-fef9a0ef1785"
      },
      "source": [
        "print(session.run(nn.tanh([-2.,-1.,0.,1.,2.])))"
      ],
      "execution_count": 83,
      "outputs": [
        {
          "output_type": "stream",
          "text": [
            "[-0.9640276 -0.7615942  0.         0.7615942  0.9640276]\n"
          ],
          "name": "stdout"
        }
      ]
    },
    {
      "cell_type": "markdown",
      "metadata": {
        "id": "scTyye_T5ja3",
        "colab_type": "text"
      },
      "source": [
        "### Función softsign\n",
        "- Versión contínua de la función sign\n",
        "- No es derivable"
      ]
    },
    {
      "cell_type": "markdown",
      "metadata": {
        "id": "KXYPrgIf5kwZ",
        "colab_type": "text"
      },
      "source": [
        "$$f(x) = \\frac{x}{|x|+1}$$"
      ]
    },
    {
      "cell_type": "code",
      "metadata": {
        "id": "JoLkzor85iWV",
        "colab_type": "code",
        "colab": {
          "base_uri": "https://localhost:8080/",
          "height": 34
        },
        "outputId": "6badbf38-4243-4456-88a1-3dbcc51062d7"
      },
      "source": [
        "print(session.run(nn.softsign([-2., -1., 0., 1., 2.])))"
      ],
      "execution_count": 84,
      "outputs": [
        {
          "output_type": "stream",
          "text": [
            "[-0.6666667 -0.5        0.         0.5        0.6666667]\n"
          ],
          "name": "stdout"
        }
      ]
    },
    {
      "cell_type": "markdown",
      "metadata": {
        "id": "1Xel4K8A5nhZ",
        "colab_type": "text"
      },
      "source": [
        "### Función Softplus\n",
        "- Versión contínua y derivable de la función ReLU\n",
        "- Asíntota horizontal tiende a 0"
      ]
    },
    {
      "cell_type": "markdown",
      "metadata": {
        "id": "JgaACWk95pE1",
        "colab_type": "text"
      },
      "source": [
        "$$f(x) = ln(e^{x}+1)$$"
      ]
    },
    {
      "cell_type": "code",
      "metadata": {
        "id": "StHuqytR5mDf",
        "colab_type": "code",
        "colab": {
          "base_uri": "https://localhost:8080/",
          "height": 34
        },
        "outputId": "8aa75b7c-4cc8-420d-b8b3-1641a41cfc89"
      },
      "source": [
        "print(session.run(nn.softplus([-2.,-1.,0.,1.,2])))"
      ],
      "execution_count": 85,
      "outputs": [
        {
          "output_type": "stream",
          "text": [
            "[0.12692805 0.31326166 0.6931472  1.3132616  2.126928  ]\n"
          ],
          "name": "stdout"
        }
      ]
    },
    {
      "cell_type": "markdown",
      "metadata": {
        "id": "_CXV7LPt5sDe",
        "colab_type": "text"
      },
      "source": [
        "### Función ELU (Exponencial lineal unitaria)\n",
        "- Similar a la softplus\n",
        "- Asíntota horizontal tiende a -1"
      ]
    },
    {
      "cell_type": "markdown",
      "metadata": {
        "id": "MD-nUAWo5uDT",
        "colab_type": "text"
      },
      "source": [
        "$$f(x) = e^x+1 \\ si\\ x <0$$\n",
        "$$f(x) = x\\ si \\ x\\geq 0 $$"
      ]
    },
    {
      "cell_type": "code",
      "metadata": {
        "id": "WSLd3P8d5qZM",
        "colab_type": "code",
        "colab": {
          "base_uri": "https://localhost:8080/",
          "height": 34
        },
        "outputId": "6fc3d87c-ddf3-42d2-ac15-1412594500da"
      },
      "source": [
        "print(session.run(nn.elu([-2.,-1.,0,1.,2.])))"
      ],
      "execution_count": 86,
      "outputs": [
        {
          "output_type": "stream",
          "text": [
            "[-0.86466473 -0.63212055  0.          1.          2.        ]\n"
          ],
          "name": "stdout"
        }
      ]
    },
    {
      "cell_type": "markdown",
      "metadata": {
        "id": "POC1imC85_1U",
        "colab_type": "text"
      },
      "source": [
        "### Gráfico de las funciones de activación"
      ]
    },
    {
      "cell_type": "code",
      "metadata": {
        "id": "RUHluDfa6DGU",
        "colab_type": "code",
        "colab": {
          "base_uri": "https://localhost:8080/",
          "height": 273
        },
        "outputId": "e78c2b6d-f30a-4973-c2c1-c5e26f871330"
      },
      "source": [
        "from IPython.display import Image\n",
        "Image('/content/tensorflow/resources/02-act.png')"
      ],
      "execution_count": 96,
      "outputs": [
        {
          "output_type": "execute_result",
          "data": {
            "image/png": "[encoded data removed]",
            "text/plain": [
              "<IPython.core.display.Image object>"
            ]
          },
          "metadata": {
            "tags": []
          },
          "execution_count": 96
        }
      ]
    },
    {
      "cell_type": "code",
      "metadata": {
        "id": "SGa3EmLs6EpI",
        "colab_type": "code",
        "colab": {
          "base_uri": "https://localhost:8080/",
          "height": 273
        },
        "outputId": "322e2296-3d41-40ff-b585-9ac4e37bbe37"
      },
      "source": [
        "Image('/content/tensorflow/resources/03-act.png')\n"
      ],
      "execution_count": 97,
      "outputs": [
        {
          "output_type": "execute_result",
          "data": {
            "image/png": "[encoded data removed]",
            "text/plain": [
              "<IPython.core.display.Image object>"
            ]
          },
          "metadata": {
            "tags": []
          },
          "execution_count": 97
        }
      ]
    }
  ]
}