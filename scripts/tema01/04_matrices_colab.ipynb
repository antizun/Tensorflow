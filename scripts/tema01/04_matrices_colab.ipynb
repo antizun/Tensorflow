{
  "nbformat": 4,
  "nbformat_minor": 0,
  "metadata": {
    "colab": {
      "name": "04-matrices_colab.ipynb",
      "provenance": [],
      "collapsed_sections": []
    },
    "kernelspec": {
      "display_name": "Python 3",
      "language": "python",
      "name": "python3"
    },
    "language_info": {
      "codemirror_mode": {
        "name": "ipython",
        "version": 3
      },
      "file_extension": ".py",
      "mimetype": "text/x-python",
      "name": "python",
      "nbconvert_exporter": "python",
      "pygments_lexer": "ipython3",
      "version": "3.8.3"
    },
    "accelerator": "GPU"
  },
  "cells": [
    {
      "cell_type": "markdown",
      "metadata": {
        "colab_type": "text",
        "id": "KdUFcDsdzRyw"
      },
      "source": [
        "# Clonamos el repositorio para obtener los dataSet"
      ]
    },
    {
      "cell_type": "code",
      "metadata": {
        "colab_type": "code",
        "id": "mHReFf3_y9ms",
        "colab": {}
      },
      "source": [
        "!git clone https://github.com/joanby/tensorflow.git"
      ],
      "execution_count": null,
      "outputs": []
    },
    {
      "cell_type": "markdown",
      "metadata": {
        "colab_type": "text",
        "id": "vNKZXgtKzU2x"
      },
      "source": [
        "# Damos acceso a nuestro Drive"
      ]
    },
    {
      "cell_type": "code",
      "metadata": {
        "colab_type": "code",
        "id": "5gu7KWnzzUQ0",
        "colab": {}
      },
      "source": [
        "from google.colab import drive\n",
        "drive.mount('/content/drive')"
      ],
      "execution_count": null,
      "outputs": []
    },
    {
      "cell_type": "markdown",
      "metadata": {
        "colab_type": "text",
        "id": "1gUxIkHWzfHV"
      },
      "source": [
        "# Test it"
      ]
    },
    {
      "cell_type": "code",
      "metadata": {
        "colab_type": "code",
        "id": "mIQt3jBMzYRE",
        "colab": {}
      },
      "source": [
        "!ls '/content/drive/My Drive' "
      ],
      "execution_count": null,
      "outputs": []
    },
    {
      "cell_type": "markdown",
      "metadata": {
        "colab_type": "text",
        "id": "mHsK36uN0XB-"
      },
      "source": [
        "# Google colab tools"
      ]
    },
    {
      "cell_type": "code",
      "metadata": {
        "colab_type": "code",
        "id": "kTzwfUPWzrm4",
        "colab": {}
      },
      "source": [
        "from google.colab import files # Para manejar los archivos y, por ejemplo, exportar a su navegador\n",
        "import glob # Para manejar los archivos y, por ejemplo, exportar a su navegador\n",
        "from google.colab import drive # Montar tu Google drive"
      ],
      "execution_count": null,
      "outputs": []
    },
    {
      "cell_type": "markdown",
      "metadata": {
        "id": "yQQ8nLiMY6wM",
        "colab_type": "text"
      },
      "source": [
        "##Especificando la versión de TensorFlow\n",
        "\n",
        "Ejecutando \"importar tensorflow\" importará la versión por defecto (actualmente 2.x). Puedes usar la 1.x ejecutando una celda con la \"versión mágica de tensorflow\" **antes de ejecutar \"importar tensorflow\".\n",
        "\n",
        "### Si no funciona hacer el pip install\n"
      ]
    },
    {
      "cell_type": "code",
      "metadata": {
        "id": "1j---G3ZY6wN",
        "colab_type": "code",
        "colab": {}
      },
      "source": [
        "#!pip install tensorflow==1.14\n",
        "%tensorflow_version 1.x"
      ],
      "execution_count": null,
      "outputs": []
    },
    {
      "cell_type": "markdown",
      "metadata": {
        "id": "S-OIfuWLujbt",
        "colab_type": "text"
      },
      "source": [
        "# Importar Tensorflow"
      ]
    },
    {
      "cell_type": "code",
      "metadata": {
        "id": "OPSus73fumtP",
        "colab_type": "code",
        "colab": {}
      },
      "source": [
        "import tensorflow as tf\n",
        "print(tf.__version__)"
      ],
      "execution_count": null,
      "outputs": []
    },
    {
      "cell_type": "markdown",
      "metadata": {
        "id": "Z9ZTNKptt8dA",
        "colab_type": "text"
      },
      "source": [
        "# Cómo trabajar con matrices"
      ]
    },
    {
      "cell_type": "code",
      "metadata": {
        "id": "C-XGg6ZD26c0",
        "colab_type": "code",
        "colab": {}
      },
      "source": [
        "session = tf.Session()"
      ],
      "execution_count": null,
      "outputs": []
    },
    {
      "cell_type": "markdown",
      "metadata": {
        "id": "IC_M6LlGuAp-",
        "colab_type": "text"
      },
      "source": [
        "### 1. Cómo crear matrices"
      ]
    },
    {
      "cell_type": "code",
      "metadata": {
        "id": "1MJDA3Tx2RHw",
        "colab_type": "code",
        "colab": {}
      },
      "source": [
        "identity = tf.diag([1.,1.,1.,1.])\n",
        "print(session.run(identity))"
      ],
      "execution_count": null,
      "outputs": []
    },
    {
      "cell_type": "code",
      "metadata": {
        "id": "_yZv8SMF3BvM",
        "colab_type": "code",
        "colab": {}
      },
      "source": [
        "A = tf.truncated_normal([3,4])\n",
        "print(session.run(A))"
      ],
      "execution_count": null,
      "outputs": []
    },
    {
      "cell_type": "code",
      "metadata": {
        "id": "p0DhKKw13DIS",
        "colab_type": "code",
        "colab": {}
      },
      "source": [
        "B = tf.fill([3,4], 1988.)\n",
        "print(session.run(B))"
      ],
      "execution_count": null,
      "outputs": []
    },
    {
      "cell_type": "code",
      "metadata": {
        "id": "nWW13ED43ENc",
        "colab_type": "code",
        "colab": {}
      },
      "source": [
        "C = tf.random_uniform([4,3])\n",
        "print(session.run(C))"
      ],
      "execution_count": null,
      "outputs": []
    },
    {
      "cell_type": "code",
      "metadata": {
        "id": "0eNG2PcB3FPN",
        "colab_type": "code",
        "colab": {}
      },
      "source": [
        "import numpy as np\n",
        "data = np.array([[1.,2.,3.],[4.,5.,6.],[7.,8.,9.]])\n",
        "D = tf.convert_to_tensor(data)\n",
        "print(session.run(D))"
      ],
      "execution_count": null,
      "outputs": []
    },
    {
      "cell_type": "markdown",
      "metadata": {
        "id": "XtW9axgo0O0g",
        "colab_type": "text"
      },
      "source": [
        "## 2. Operar con matrices"
      ]
    },
    {
      "cell_type": "code",
      "metadata": {
        "id": "cEPZ1cIm2VB5",
        "colab_type": "code",
        "colab": {}
      },
      "source": [
        "print(session.run(A+B))"
      ],
      "execution_count": null,
      "outputs": []
    },
    {
      "cell_type": "code",
      "metadata": {
        "id": "q6ktsEQG3S45",
        "colab_type": "code",
        "colab": {}
      },
      "source": [
        "print(session.run(B-B))"
      ],
      "execution_count": null,
      "outputs": []
    },
    {
      "cell_type": "code",
      "metadata": {
        "id": "QUmVTVON3ULZ",
        "colab_type": "code",
        "colab": {}
      },
      "source": [
        "print(session.run(tf.matmul(A,C)))"
      ],
      "execution_count": null,
      "outputs": []
    },
    {
      "cell_type": "code",
      "metadata": {
        "id": "MVAtwfxM3WhZ",
        "colab_type": "code",
        "colab": {}
      },
      "source": [
        "print(session.run(tf.matmul(A, identity)))"
      ],
      "execution_count": null,
      "outputs": []
    },
    {
      "cell_type": "markdown",
      "metadata": {
        "id": "KwtggCHB3Yqd",
        "colab_type": "text"
      },
      "source": [
        "## 3. Tranpuesta, determinante, inversa"
      ]
    },
    {
      "cell_type": "code",
      "metadata": {
        "id": "-cIi9f033cNK",
        "colab_type": "code",
        "colab": {}
      },
      "source": [
        "print(session.run(tf.transpose(D)))"
      ],
      "execution_count": null,
      "outputs": []
    },
    {
      "cell_type": "code",
      "metadata": {
        "id": "wYCooTQU3c6T",
        "colab_type": "code",
        "colab": {}
      },
      "source": [
        "print(session.run(tf.transpose(A)))"
      ],
      "execution_count": null,
      "outputs": []
    },
    {
      "cell_type": "code",
      "metadata": {
        "id": "vi_HXjc-3euB",
        "colab_type": "code",
        "colab": {}
      },
      "source": [
        "print(session.run(tf.matrix_determinant(D)))"
      ],
      "execution_count": null,
      "outputs": []
    },
    {
      "cell_type": "code",
      "metadata": {
        "id": "u3S5yBGN3gHF",
        "colab_type": "code",
        "colab": {}
      },
      "source": [
        "E = tf.convert_to_tensor(np.array([[1.,2.,3.], [-3., -6., -1], [0., 5, -3]]))\n",
        "print(session.run(tf.matrix_determinant(E)))"
      ],
      "execution_count": null,
      "outputs": []
    },
    {
      "cell_type": "code",
      "metadata": {
        "id": "aeUvG8NV3hkC",
        "colab_type": "code",
        "colab": {}
      },
      "source": [
        "print(session.run(tf.matrix_inverse(E)))"
      ],
      "execution_count": null,
      "outputs": []
    },
    {
      "cell_type": "markdown",
      "metadata": {
        "id": "GFvgblhb2a2V",
        "colab_type": "text"
      },
      "source": [
        "## 4. Descomposición"
      ]
    },
    {
      "cell_type": "code",
      "metadata": {
        "id": "-HiZVwvU2Y8i",
        "colab_type": "code",
        "colab": {}
      },
      "source": [
        "print(session.run(tf.cholesky(identity)))"
      ],
      "execution_count": null,
      "outputs": []
    },
    {
      "cell_type": "markdown",
      "metadata": {
        "id": "iYS8TxlH3mD1",
        "colab_type": "text"
      },
      "source": [
        "## 5. Valores y vectores propios"
      ]
    },
    {
      "cell_type": "code",
      "metadata": {
        "id": "oke5Vv0n2cPo",
        "colab_type": "code",
        "colab": {}
      },
      "source": [
        "print(session.run(tf.self_adjoint_eigvals(E)))"
      ],
      "execution_count": null,
      "outputs": []
    },
    {
      "cell_type": "code",
      "metadata": {
        "id": "p15oxBUR3psD",
        "colab_type": "code",
        "colab": {}
      },
      "source": [
        "print(session.run(tf.self_adjoint_eig(E)))"
      ],
      "execution_count": null,
      "outputs": []
    }
  ]
}