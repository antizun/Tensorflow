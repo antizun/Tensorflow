{
 "cells": [
  {
   "cell_type": "markdown",
   "metadata": {
    "colab_type": "text",
    "id": "KdUFcDsdzRyw"
   },
   "source": [
    "# Clonamos el repositorio para obtener los dataSet"
   ]
  },
  {
   "cell_type": "code",
   "execution_count": null,
   "metadata": {
    "colab": {},
    "colab_type": "code",
    "id": "mHReFf3_y9ms"
   },
   "outputs": [],
   "source": [
    "!git clone https://github.com/joanby/tensorflow.git"
   ]
  },
  {
   "cell_type": "markdown",
   "metadata": {
    "colab_type": "text",
    "id": "vNKZXgtKzU2x"
   },
   "source": [
    "# Damos acceso a nuestro Drive"
   ]
  },
  {
   "cell_type": "code",
   "execution_count": null,
   "metadata": {
    "colab": {},
    "colab_type": "code",
    "id": "5gu7KWnzzUQ0"
   },
   "outputs": [],
   "source": [
    "from google.colab import drive\n",
    "drive.mount('/content/drive')"
   ]
  },
  {
   "cell_type": "markdown",
   "metadata": {
    "colab_type": "text",
    "id": "1gUxIkHWzfHV"
   },
   "source": [
    "# Test it"
   ]
  },
  {
   "cell_type": "code",
   "execution_count": null,
   "metadata": {
    "colab": {},
    "colab_type": "code",
    "id": "mIQt3jBMzYRE"
   },
   "outputs": [],
   "source": [
    "!ls '/content/drive/My Drive' "
   ]
  },
  {
   "cell_type": "markdown",
   "metadata": {
    "colab_type": "text",
    "id": "mHsK36uN0XB-"
   },
   "source": [
    "# Google colab tools"
   ]
  },
  {
   "cell_type": "code",
   "execution_count": null,
   "metadata": {
    "colab": {},
    "colab_type": "code",
    "id": "kTzwfUPWzrm4"
   },
   "outputs": [],
   "source": [
    "from google.colab import files # Para manejar los archivos y, por ejemplo, exportar a su navegador\n",
    "import glob # Para manejar los archivos y, por ejemplo, exportar a su navegador\n",
    "from google.colab import drive # Montar tu Google drive"
   ]
  },
  {
   "cell_type": "markdown",
   "metadata": {
    "colab_type": "text",
    "id": "yQQ8nLiMY6wM"
   },
   "source": [
    "##Especificando la versión de TensorFlow\n",
    "\n",
    "Ejecutando \"importar tensorflow\" importará la versión por defecto (actualmente 2.x). Puedes usar la 1.x ejecutando una celda con la \"versión mágica de tensorflow\" **antes de ejecutar \"importar tensorflow\".\n",
    "\n",
    "### Si no funciona hacer el pip install\n"
   ]
  },
  {
   "cell_type": "code",
   "execution_count": null,
   "metadata": {
    "colab": {},
    "colab_type": "code",
    "id": "1j---G3ZY6wN"
   },
   "outputs": [],
   "source": [
    "#!pip install tensorflow==1.14\n",
    "%tensorflow_version 1.x"
   ]
  },
  {
   "cell_type": "markdown",
   "metadata": {
    "colab_type": "text",
    "id": "S-OIfuWLujbt"
   },
   "source": [
    "# Importar Tensorflow"
   ]
  },
  {
   "cell_type": "code",
   "execution_count": null,
   "metadata": {
    "colab": {},
    "colab_type": "code",
    "id": "OPSus73fumtP"
   },
   "outputs": [],
   "source": [
    "import tensorflow as tf\n",
    "print(tf.__version__)"
   ]
  },
  {
   "cell_type": "markdown",
   "metadata": {
    "colab_type": "text",
    "id": "Z9ZTNKptt8dA"
   },
   "source": [
    "# Como funciona TensorFlow"
   ]
  },
  {
   "cell_type": "markdown",
   "metadata": {
    "colab_type": "text",
    "id": "IC_M6LlGuAp-"
   },
   "source": [
    "1. Importación o generación del conjunto de datos.\n",
    "2. Transformación y normalización de los datos.\n",
    "3. Dividir el conjunto de datos en conjunto de entrenamiento, de validación y de test.\n",
    "4. Definir los hiperparámetros del algoritmo"
   ]
  },
  {
   "cell_type": "code",
   "execution_count": null,
   "metadata": {
    "colab": {},
    "colab_type": "code",
    "id": "2-V4YdfJsCL5"
   },
   "outputs": [],
   "source": [
    "learning_rate = 0.01\n",
    "batch_size = 50\n",
    "iterations = 10000"
   ]
  },
  {
   "cell_type": "markdown",
   "metadata": {
    "colab_type": "text",
    "id": "7v5UxcIMuINd"
   },
   "source": [
    "5. Inicializar variables y placeholders"
   ]
  },
  {
   "cell_type": "code",
   "execution_count": null,
   "metadata": {
    "colab": {},
    "colab_type": "code",
    "id": "AbgaGmAFuen3"
   },
   "outputs": [],
   "source": [
    "x = tf.constant(30)\n",
    "x_input = tf.placeholder(tf.float32, [None, 3]) #None: no sabemos cuantos vectores introducimos Input_size , vectores de 3 coordenadas\n",
    "y_input = tf.placeholder(tf.float32, [None, 5]) "
   ]
  },
  {
   "cell_type": "markdown",
   "metadata": {
    "colab_type": "text",
    "id": "E6fR1pKJuLaZ"
   },
   "source": [
    "6. Definir la estructura del modelo del algoritmo.\n",
    "$$y = mx+n$$"
   ]
  },
  {
   "cell_type": "code",
   "execution_count": null,
   "metadata": {
    "colab": {},
    "colab_type": "code",
    "id": "t0sPANbqu909"
   },
   "outputs": [],
   "source": [
    "y_pred = tf.add(tf.multiply(m_matrix, x_input), n_vector) #add sumar  #multiply multiplicar "
   ]
  },
  {
   "cell_type": "markdown",
   "metadata": {
    "colab_type": "text",
    "id": "1wrcpp_PuSEL"
   },
   "source": [
    "7. Declarar la función de pérdidas (loss function)\n",
    "$$MSE = \\frac{\\sum_{i=1}^n(y_{actual,i}-y_{pred,i})^2}{n}$$"
   ]
  },
  {
   "cell_type": "code",
   "execution_count": null,
   "metadata": {
    "colab": {},
    "colab_type": "code",
    "id": "PMRrdFr8vAA4"
   },
   "outputs": [],
   "source": [
    "loss = tf.reduce_mean(tf.square(y_actual - y_pred)) #reducir la media de los cuadrados"
   ]
  },
  {
   "cell_type": "markdown",
   "metadata": {
    "colab_type": "text",
    "id": "FF8ovbE4uUHB"
   },
   "source": [
    "8. Inicializar y entrenar el modelo anterior. "
   ]
  },
  {
   "cell_type": "code",
   "execution_count": null,
   "metadata": {
    "colab": {},
    "colab_type": "code",
    "id": "8sv0a7czvClk"
   },
   "outputs": [],
   "source": [
    "with tf.Session(graph = graph) as session:\n",
    "    ...\n",
    "    session.run(...)\n",
    "    ...."
   ]
  },
  {
   "cell_type": "code",
   "execution_count": null,
   "metadata": {
    "colab": {},
    "colab_type": "code",
    "id": "wgpFhDMpvEkn"
   },
   "outputs": [],
   "source": [
    "session = tf.Session(graph = graph)\n",
    "...\n",
    "session.run(...)\n",
    "..."
   ]
  },
  {
   "cell_type": "markdown",
   "metadata": {
    "colab_type": "text",
    "id": "rFYN2Z4yuV79"
   },
   "source": [
    "9. Evaluación del modelo \n",
    "10. Ajustar los hiper parámetros\n",
    "11. Publicar (subir a producción) y predecir nuevos resultados"
   ]
  }
 ],
 "metadata": {
  "accelerator": "GPU",
  "colab": {
   "collapsed_sections": [],
   "name": "01-general-info_colab.ipynb",
   "provenance": []
  },
  "kernelspec": {
   "display_name": "Python 3",
   "language": "python",
   "name": "python3"
  },
  "language_info": {
   "codemirror_mode": {
    "name": "ipython",
    "version": 3
   },
   "file_extension": ".py",
   "mimetype": "text/x-python",
   "name": "python",
   "nbconvert_exporter": "python",
   "pygments_lexer": "ipython3",
   "version": "3.8.10"
  }
 },
 "nbformat": 4,
 "nbformat_minor": 1
}
