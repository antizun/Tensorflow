{
  "nbformat": 4,
  "nbformat_minor": 0,
  "metadata": {
    "colab": {
      "name": "06-training_colab.ipynb",
      "provenance": [],
      "collapsed_sections": []
    },
    "kernelspec": {
      "display_name": "Python 3",
      "language": "python",
      "name": "python3"
    },
    "language_info": {
      "codemirror_mode": {
        "name": "ipython",
        "version": 3
      },
      "file_extension": ".py",
      "mimetype": "text/x-python",
      "name": "python",
      "nbconvert_exporter": "python",
      "pygments_lexer": "ipython3",
      "version": "3.8.3"
    },
    "accelerator": "GPU"
  },
  "cells": [
    {
      "cell_type": "markdown",
      "metadata": {
        "colab_type": "text",
        "id": "KdUFcDsdzRyw"
      },
      "source": [
        "# Clonamos el repositorio para obtener los dataSet"
      ]
    },
    {
      "cell_type": "code",
      "metadata": {
        "colab_type": "code",
        "id": "mHReFf3_y9ms",
        "colab": {
          "base_uri": "https://localhost:8080/",
          "height": 153
        },
        "outputId": "8edcd72a-5898-4548-c7a9-5565b65237a0"
      },
      "source": [
        "!git clone https://github.com/joanby/tensorflow.git"
      ],
      "execution_count": 1,
      "outputs": [
        {
          "output_type": "stream",
          "text": [
            "Cloning into 'tensorflow'...\n",
            "remote: Enumerating objects: 51, done.\u001b[K\n",
            "remote: Counting objects: 100% (51/51), done.\u001b[K\n",
            "remote: Compressing objects: 100% (28/28), done.\u001b[K\n",
            "remote: Total 60311 (delta 32), reused 37 (delta 23), pack-reused 60260\u001b[K\n",
            "Receiving objects: 100% (60311/60311), 442.46 MiB | 36.15 MiB/s, done.\n",
            "Resolving deltas: 100% (82/82), done.\n",
            "Checking out files: 100% (60225/60225), done.\n"
          ],
          "name": "stdout"
        }
      ]
    },
    {
      "cell_type": "markdown",
      "metadata": {
        "colab_type": "text",
        "id": "vNKZXgtKzU2x"
      },
      "source": [
        "# Damos acceso a nuestro Drive"
      ]
    },
    {
      "cell_type": "code",
      "metadata": {
        "colab_type": "code",
        "id": "5gu7KWnzzUQ0",
        "colab": {}
      },
      "source": [
        "from google.colab import drive\n",
        "drive.mount('/content/drive')"
      ],
      "execution_count": null,
      "outputs": []
    },
    {
      "cell_type": "markdown",
      "metadata": {
        "colab_type": "text",
        "id": "1gUxIkHWzfHV"
      },
      "source": [
        "# Test it"
      ]
    },
    {
      "cell_type": "code",
      "metadata": {
        "colab_type": "code",
        "id": "mIQt3jBMzYRE",
        "colab": {}
      },
      "source": [
        "!ls '/content/drive/My Drive' "
      ],
      "execution_count": null,
      "outputs": []
    },
    {
      "cell_type": "markdown",
      "metadata": {
        "colab_type": "text",
        "id": "mHsK36uN0XB-"
      },
      "source": [
        "# Google colab tools"
      ]
    },
    {
      "cell_type": "code",
      "metadata": {
        "colab_type": "code",
        "id": "kTzwfUPWzrm4",
        "colab": {}
      },
      "source": [
        "from google.colab import files # Para manejar los archivos y, por ejemplo, exportar a su navegador\n",
        "import glob # Para manejar los archivos y, por ejemplo, exportar a su navegador\n",
        "from google.colab import drive # Montar tu Google drive"
      ],
      "execution_count": 23,
      "outputs": []
    },
    {
      "cell_type": "markdown",
      "metadata": {
        "id": "yQQ8nLiMY6wM",
        "colab_type": "text"
      },
      "source": [
        "##Especificando la versión de TensorFlow\n",
        "\n",
        "Ejecutando \"importar tensorflow\" importará la versión por defecto (actualmente 2.x). Puedes usar la 1.x ejecutando una celda con la \"versión mágica de tensorflow\" **antes de ejecutar \"importar tensorflow\".\n",
        "\n",
        "### Si no funciona hacer el pip install\n"
      ]
    },
    {
      "cell_type": "code",
      "metadata": {
        "id": "1j---G3ZY6wN",
        "colab_type": "code",
        "colab": {}
      },
      "source": [
        "#!pip install tensorflow==1.14\n",
        "%tensorflow_version 1.x"
      ],
      "execution_count": 24,
      "outputs": []
    },
    {
      "cell_type": "markdown",
      "metadata": {
        "id": "S-OIfuWLujbt",
        "colab_type": "text"
      },
      "source": [
        "# Importar Tensorflow"
      ]
    },
    {
      "cell_type": "code",
      "metadata": {
        "id": "OPSus73fumtP",
        "colab_type": "code",
        "colab": {
          "base_uri": "https://localhost:8080/",
          "height": 34
        },
        "outputId": "84b90117-3ec4-4dc0-87a4-8bd9c6d30c37"
      },
      "source": [
        "import tensorflow as tf\n",
        "print(tf.__version__)\n",
        "import matplotlib.pyplot as plt"
      ],
      "execution_count": 25,
      "outputs": [
        {
          "output_type": "stream",
          "text": [
            "1.15.2\n"
          ],
          "name": "stdout"
        }
      ]
    },
    {
      "cell_type": "code",
      "metadata": {
        "id": "VQheSGsEBdD3",
        "colab_type": "code",
        "colab": {}
      },
      "source": [
        "session = tf.Session()"
      ],
      "execution_count": 26,
      "outputs": []
    },
    {
      "cell_type": "markdown",
      "metadata": {
        "id": "qzlBylUEmQJ0",
        "colab_type": "text"
      },
      "source": [
        "# Entrenamiento estocástico y por bloques"
      ]
    },
    {
      "cell_type": "code",
      "metadata": {
        "id": "AwPNJepKmJAJ",
        "colab_type": "code",
        "colab": {}
      },
      "source": [
        "import numpy as np\n",
        "import matplotlib.pyplot as plt\n",
        "batch_size = 25"
      ],
      "execution_count": 27,
      "outputs": []
    },
    {
      "cell_type": "code",
      "metadata": {
        "id": "FvgbwHq3mbJv",
        "colab_type": "code",
        "colab": {}
      },
      "source": [
        "x_vals = np.random.normal(1.0, 0.1, 200)\n",
        "y_vals = np.repeat(10.0, 200)"
      ],
      "execution_count": 28,
      "outputs": []
    },
    {
      "cell_type": "code",
      "metadata": {
        "id": "OkJtEI9hEuu0",
        "colab_type": "code",
        "colab": {}
      },
      "source": [
        "x_data = tf.placeholder(shape=[None, 1], dtype = tf.float32)\n",
        "y_target = tf.placeholder(shape=[None, 1], dtype=tf.float32)\n",
        "A = tf.Variable(tf.random_normal(shape=[1,1]))"
      ],
      "execution_count": 29,
      "outputs": []
    },
    {
      "cell_type": "code",
      "metadata": {
        "id": "Aqfzx5TPPKBT",
        "colab_type": "code",
        "colab": {}
      },
      "source": [
        "my_prediction = tf.matmul(x_data, A)"
      ],
      "execution_count": 30,
      "outputs": []
    },
    {
      "cell_type": "code",
      "metadata": {
        "id": "KaWS5fKCPMTy",
        "colab_type": "code",
        "colab": {}
      },
      "source": [
        "loss = tf.reduce_mean(tf.square(my_prediction-y_target))"
      ],
      "execution_count": 31,
      "outputs": []
    },
    {
      "cell_type": "code",
      "metadata": {
        "id": "JSVevVFAmoue",
        "colab_type": "code",
        "colab": {}
      },
      "source": [
        "my_optimizer = tf.train.GradientDescentOptimizer(learning_rate=0.025)\n",
        "train_step = my_optimizer.minimize(loss)"
      ],
      "execution_count": 32,
      "outputs": []
    },
    {
      "cell_type": "code",
      "metadata": {
        "id": "5lF0KuqRB0Cw",
        "colab_type": "code",
        "colab": {}
      },
      "source": [
        "init = tf.global_variables_initializer()"
      ],
      "execution_count": 33,
      "outputs": []
    },
    {
      "cell_type": "code",
      "metadata": {
        "id": "onQN1h1qB11F",
        "colab_type": "code",
        "colab": {}
      },
      "source": [
        "session.run(init)"
      ],
      "execution_count": 34,
      "outputs": []
    },
    {
      "cell_type": "code",
      "metadata": {
        "id": "7L3w47a13T0N",
        "colab_type": "code",
        "colab": {
          "base_uri": "https://localhost:8080/",
          "height": 1000
        },
        "outputId": "75a9f4ad-8172-46e6-f88a-5f6f860ab5a6"
      },
      "source": [
        "loss_batch = []\n",
        "for i in range(200):\n",
        "    rand_index = np.random.choice(200, size = batch_size)\n",
        "    rand_x = np.transpose([x_vals[rand_index]])\n",
        "    rand_y = np.transpose([y_vals[rand_index]])\n",
        "    session.run(train_step, feed_dict={x_data:rand_x, y_target:rand_y})\n",
        "    if (i+1)%5 == 0:\n",
        "        print(\"Paso #\"+str(i+1)+' A='+str(session.run(A)))\n",
        "        temp_loss = session.run(loss, feed_dict={x_data:rand_x, y_target:rand_y})\n",
        "        print(\"Loss: \"+str(temp_loss))\n",
        "        loss_batch.append(temp_loss)"
      ],
      "execution_count": 35,
      "outputs": [
        {
          "output_type": "stream",
          "text": [
            "Paso #5 A=[[2.2339423]]\n",
            "Loss: 59.610184\n",
            "Paso #10 A=[[3.991985]]\n",
            "Loss: 36.626617\n",
            "Paso #15 A=[[5.346913]]\n",
            "Loss: 23.966354\n",
            "Paso #20 A=[[6.380229]]\n",
            "Loss: 13.4728365\n",
            "Paso #25 A=[[7.1810207]]\n",
            "Loss: 9.937557\n",
            "Paso #30 A=[[7.804082]]\n",
            "Loss: 5.1019993\n",
            "Paso #35 A=[[8.264724]]\n",
            "Loss: 3.4351108\n",
            "Paso #40 A=[[8.645336]]\n",
            "Loss: 2.6545243\n",
            "Paso #45 A=[[8.936667]]\n",
            "Loss: 1.7046368\n",
            "Paso #50 A=[[9.146639]]\n",
            "Loss: 1.3305316\n",
            "Paso #55 A=[[9.2965555]]\n",
            "Loss: 1.4583042\n",
            "Paso #60 A=[[9.424828]]\n",
            "Loss: 1.1166731\n",
            "Paso #65 A=[[9.526845]]\n",
            "Loss: 1.151485\n",
            "Paso #70 A=[[9.625617]]\n",
            "Loss: 0.8224942\n",
            "Paso #75 A=[[9.671308]]\n",
            "Loss: 1.3243887\n",
            "Paso #80 A=[[9.735083]]\n",
            "Loss: 1.0626152\n",
            "Paso #85 A=[[9.769479]]\n",
            "Loss: 1.090676\n",
            "Paso #90 A=[[9.8153715]]\n",
            "Loss: 1.1622324\n",
            "Paso #95 A=[[9.840416]]\n",
            "Loss: 1.0255852\n",
            "Paso #100 A=[[9.839465]]\n",
            "Loss: 1.185034\n",
            "Paso #105 A=[[9.827633]]\n",
            "Loss: 1.4387181\n",
            "Paso #110 A=[[9.84294]]\n",
            "Loss: 1.0328616\n",
            "Paso #115 A=[[9.844725]]\n",
            "Loss: 1.2885311\n",
            "Paso #120 A=[[9.86895]]\n",
            "Loss: 1.332847\n",
            "Paso #125 A=[[9.885101]]\n",
            "Loss: 0.92433\n",
            "Paso #130 A=[[9.877537]]\n",
            "Loss: 1.1400412\n",
            "Paso #135 A=[[9.867549]]\n",
            "Loss: 1.3589743\n",
            "Paso #140 A=[[9.887937]]\n",
            "Loss: 0.7524145\n",
            "Paso #145 A=[[9.899039]]\n",
            "Loss: 1.121454\n",
            "Paso #150 A=[[9.848148]]\n",
            "Loss: 1.4760873\n",
            "Paso #155 A=[[9.832761]]\n",
            "Loss: 1.5370779\n",
            "Paso #160 A=[[9.804152]]\n",
            "Loss: 0.90753096\n",
            "Paso #165 A=[[9.809589]]\n",
            "Loss: 0.94398344\n",
            "Paso #170 A=[[9.811003]]\n",
            "Loss: 0.71303177\n",
            "Paso #175 A=[[9.856404]]\n",
            "Loss: 1.0135723\n",
            "Paso #180 A=[[9.856046]]\n",
            "Loss: 1.015712\n",
            "Paso #185 A=[[9.838729]]\n",
            "Loss: 1.3377469\n",
            "Paso #190 A=[[9.832402]]\n",
            "Loss: 0.7200145\n",
            "Paso #195 A=[[9.838456]]\n",
            "Loss: 0.9853796\n",
            "Paso #200 A=[[9.826066]]\n",
            "Loss: 0.78113043\n"
          ],
          "name": "stdout"
        }
      ]
    },
    {
      "cell_type": "code",
      "metadata": {
        "id": "0i7Vcc083U7X",
        "colab_type": "code",
        "colab": {
          "base_uri": "https://localhost:8080/",
          "height": 1000
        },
        "outputId": "876300e9-ec77-4462-b7a7-847f22ac126a"
      },
      "source": [
        "loss_stochastic = []\n",
        "for i in range(200):\n",
        "    rand_index = np.random.choice(200, size=1)\n",
        "    rand_x = [x_vals[rand_index]]\n",
        "    rand_y = [y_vals[rand_index]]\n",
        "    session.run(train_step, feed_dict={x_data:rand_x, y_target:rand_y})\n",
        "    if (i+1)%5 == 0:\n",
        "        print(\"Paso #\"+str(i+1)+' A='+str(session.run(A)))\n",
        "        temp_loss = session.run(loss, feed_dict={x_data:rand_x, y_target:rand_y})\n",
        "        print(\"Loss: \"+str(temp_loss))\n",
        "        loss_stochastic.append(temp_loss)"
      ],
      "execution_count": 36,
      "outputs": [
        {
          "output_type": "stream",
          "text": [
            "Paso #5 A=[[9.822548]]\n",
            "Loss: 1.306095\n",
            "Paso #10 A=[[9.913481]]\n",
            "Loss: 4.263664\n",
            "Paso #15 A=[[9.929444]]\n",
            "Loss: 0.2324218\n",
            "Paso #20 A=[[9.990671]]\n",
            "Loss: 0.18895\n",
            "Paso #25 A=[[9.67467]]\n",
            "Loss: 0.048279345\n",
            "Paso #30 A=[[9.826653]]\n",
            "Loss: 0.03350666\n",
            "Paso #35 A=[[9.770918]]\n",
            "Loss: 0.52272564\n",
            "Paso #40 A=[[9.80481]]\n",
            "Loss: 0.4195787\n",
            "Paso #45 A=[[9.919539]]\n",
            "Loss: 0.32678974\n",
            "Paso #50 A=[[9.980842]]\n",
            "Loss: 0.23024853\n",
            "Paso #55 A=[[10.091979]]\n",
            "Loss: 0.11403413\n",
            "Paso #60 A=[[10.186948]]\n",
            "Loss: 1.7620951\n",
            "Paso #65 A=[[10.099575]]\n",
            "Loss: 0.16161354\n",
            "Paso #70 A=[[9.8389635]]\n",
            "Loss: 2.0983255\n",
            "Paso #75 A=[[9.922165]]\n",
            "Loss: 3.061552\n",
            "Paso #80 A=[[9.638828]]\n",
            "Loss: 0.060784828\n",
            "Paso #85 A=[[9.618076]]\n",
            "Loss: 0.041006003\n",
            "Paso #90 A=[[9.703458]]\n",
            "Loss: 2.8761318\n",
            "Paso #95 A=[[9.70563]]\n",
            "Loss: 0.34558064\n",
            "Paso #100 A=[[9.933331]]\n",
            "Loss: 0.06714515\n",
            "Paso #105 A=[[10.035288]]\n",
            "Loss: 2.7412343\n",
            "Paso #110 A=[[10.108631]]\n",
            "Loss: 0.026956573\n",
            "Paso #115 A=[[10.212598]]\n",
            "Loss: 1.5660449\n",
            "Paso #120 A=[[10.122065]]\n",
            "Loss: 0.059564605\n",
            "Paso #125 A=[[9.952239]]\n",
            "Loss: 0.6665628\n",
            "Paso #130 A=[[9.974446]]\n",
            "Loss: 0.6763466\n",
            "Paso #135 A=[[10.028855]]\n",
            "Loss: 1.8581717\n",
            "Paso #140 A=[[9.9467]]\n",
            "Loss: 1.4509861\n",
            "Paso #145 A=[[9.809718]]\n",
            "Loss: 1.1030552\n",
            "Paso #150 A=[[9.6905]]\n",
            "Loss: 0.114499636\n",
            "Paso #155 A=[[9.645688]]\n",
            "Loss: 0.29288986\n",
            "Paso #160 A=[[9.691981]]\n",
            "Loss: 0.24581482\n",
            "Paso #165 A=[[9.743885]]\n",
            "Loss: 0.5478905\n",
            "Paso #170 A=[[9.957968]]\n",
            "Loss: 0.57016057\n",
            "Paso #175 A=[[9.933222]]\n",
            "Loss: 0.23152612\n",
            "Paso #180 A=[[9.888058]]\n",
            "Loss: 2.7174783\n",
            "Paso #185 A=[[10.003026]]\n",
            "Loss: 0.16637607\n",
            "Paso #190 A=[[9.79588]]\n",
            "Loss: 0.11306683\n",
            "Paso #195 A=[[9.818767]]\n",
            "Loss: 0.10579666\n",
            "Paso #200 A=[[9.785187]]\n",
            "Loss: 1.3905153\n"
          ],
          "name": "stdout"
        }
      ]
    },
    {
      "cell_type": "code",
      "metadata": {
        "id": "VxrVnxRU3XPL",
        "colab_type": "code",
        "colab": {
          "base_uri": "https://localhost:8080/",
          "height": 265
        },
        "outputId": "a1fc9390-6982-4dc5-9ce6-bc8e45beae98"
      },
      "source": [
        "plt.plot(range(0,200,5), loss_stochastic, 'b-', label = \"Entrenamiento estocástico\")\n",
        "plt.plot(range(0,200,5), loss_batch, 'r--', label = \"Entrenamiento por bloques de tamaño 25\")\n",
        "plt.legend(loc=\"upper right\", prop={'size':10})\n",
        "plt.show()"
      ],
      "execution_count": 37,
      "outputs": [
        {
          "output_type": "display_data",
          "data": {
            "image/png": "[encoded data removed]",
            "text/plain": [
              "<Figure size 432x288 with 1 Axes>"
            ]
          },
          "metadata": {
            "tags": [],
            "needs_background": "light"
          }
        }
      ]
    }
  ]
}