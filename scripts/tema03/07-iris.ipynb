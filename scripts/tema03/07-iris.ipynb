{
 "cells": [
  {
   "cell_type": "markdown",
   "metadata": {},
   "source": [
    "# Clasificación de la especie *Iris Setosa*"
   ]
  },
  {
   "cell_type": "code",
   "execution_count": 1,
   "metadata": {},
   "outputs": [
    {
     "name": "stderr",
     "output_type": "stream",
     "text": [
      "/anaconda3/lib/python3.5/importlib/_bootstrap.py:222: RuntimeWarning: numpy.dtype size changed, may indicate binary incompatibility. Expected 96, got 88\n",
      "  return f(*args, **kwds)\n",
      "/anaconda3/lib/python3.5/importlib/_bootstrap.py:222: RuntimeWarning: compiletime version 3.6 of module 'tensorflow.python.framework.fast_tensor_util' does not match runtime version 3.5\n",
      "  return f(*args, **kwds)\n",
      "/anaconda3/lib/python3.5/importlib/_bootstrap.py:222: RuntimeWarning: numpy.dtype size changed, may indicate binary incompatibility. Expected 96, got 88\n",
      "  return f(*args, **kwds)\n"
     ]
    }
   ],
   "source": [
    "import matplotlib.pyplot as plt\n",
    "import numpy as np\n",
    "from sklearn import datasets\n",
    "import tensorflow as tf\n",
    "session = tf.Session()"
   ]
  },
  {
   "cell_type": "markdown",
   "metadata": {},
   "source": [
    "### Carga y manipulación de datos"
   ]
  },
  {
   "cell_type": "code",
   "execution_count": 2,
   "metadata": {},
   "outputs": [],
   "source": [
    "iris = datasets.load_iris()\n",
    "binary_target = np.array([1.0 if x == 0 else 0.0 for x in iris.target])\n",
    "iris_2d = np.array([[x[2], x[3]] for x in iris.data])"
   ]
  },
  {
   "cell_type": "markdown",
   "metadata": {},
   "source": [
    "### Declarar variables"
   ]
  },
  {
   "cell_type": "code",
   "execution_count": 26,
   "metadata": {},
   "outputs": [],
   "source": [
    "batch_size = 20\n",
    "x1_data = tf.placeholder(shape = [None, 1], dtype = tf.float32)\n",
    "x2_data = tf.placeholder(shape = [None, 1], dtype = tf.float32)\n",
    "y_target = tf.placeholder(shape = [None, 1], dtype = tf.float32)"
   ]
  },
  {
   "cell_type": "markdown",
   "metadata": {},
   "source": [
    "### Crear el modelo\n",
    "$$x_2 = Ax_1+b \\Rightarrow x_2-Ax_1-b=0$$"
   ]
  },
  {
   "cell_type": "code",
   "execution_count": 40,
   "metadata": {},
   "outputs": [],
   "source": [
    "A = tf.Variable(tf.random_normal(shape=[1,1]))\n",
    "b = tf.Variable(tf.random_normal(shape=[1,1]))"
   ]
  },
  {
   "cell_type": "code",
   "execution_count": 41,
   "metadata": {},
   "outputs": [],
   "source": [
    "my_mult = tf.matmul(x2_data, A)\n",
    "my_add = tf.add(my_mult, b)\n",
    "my_prediction = tf.subtract(x1_data, my_add)"
   ]
  },
  {
   "cell_type": "markdown",
   "metadata": {},
   "source": [
    "### Función de pérdidas y propagación hacia atrás"
   ]
  },
  {
   "cell_type": "code",
   "execution_count": 42,
   "metadata": {},
   "outputs": [],
   "source": [
    "xentropy = tf.nn.sigmoid_cross_entropy_with_logits(logits=my_prediction, labels=y_target)\n",
    "my_optimizer = tf.train.GradientDescentOptimizer(learning_rate=0.05)\n",
    "train_step = my_optimizer.minimize(xentropy)"
   ]
  },
  {
   "cell_type": "markdown",
   "metadata": {},
   "source": [
    "### Inicializar las variables"
   ]
  },
  {
   "cell_type": "code",
   "execution_count": 43,
   "metadata": {},
   "outputs": [],
   "source": [
    "init = tf.global_variables_initializer()\n",
    "session.run(init)"
   ]
  },
  {
   "cell_type": "markdown",
   "metadata": {},
   "source": [
    "## Entrenar el modelo"
   ]
  },
  {
   "cell_type": "code",
   "execution_count": 44,
   "metadata": {},
   "outputs": [
    {
     "name": "stdout",
     "output_type": "stream",
     "text": [
      "Paso #100, A=[[7.285269]], b =[[-2.2866375]]\n",
      "Paso #200, A=[[8.647172]], b =[[-3.4601538]]\n",
      "Paso #300, A=[[9.582458]], b =[[-4.157134]]\n",
      "Paso #400, A=[[10.128266]], b =[[-4.7171583]]\n",
      "Paso #500, A=[[10.6830845]], b =[[-5.098879]]\n",
      "Paso #600, A=[[11.158635]], b =[[-5.3337417]]\n",
      "Paso #700, A=[[11.464624]], b =[[-5.6964493]]\n",
      "Paso #800, A=[[11.789551]], b =[[-5.9467206]]\n",
      "Paso #900, A=[[12.062026]], b =[[-6.17947]]\n",
      "Paso #1000, A=[[12.368184]], b =[[-6.3189073]]\n"
     ]
    }
   ],
   "source": [
    "for i in range(1000):\n",
    "    rand_idx = np.random.choice(len(iris_2d), size=batch_size)\n",
    "    rand_x = iris_2d[rand_idx]\n",
    "    rand_x1 = np.array([[x[0]] for x in rand_x])\n",
    "    rand_x2 = np.array([[x[1]] for x in rand_x])\n",
    "    rand_y = np.array([[y] for y in binary_target[rand_idx]])\n",
    "    session.run(train_step, feed_dict={x1_data:rand_x1, x2_data:rand_x2, y_target:rand_y})\n",
    "    if(i+1)%100==0:\n",
    "        print('Paso #'+str(i+1)+\", A=\"+str(session.run(A))+\", b =\"+str(session.run(b)))"
   ]
  },
  {
   "cell_type": "markdown",
   "metadata": {},
   "source": [
    "### Modelo final"
   ]
  },
  {
   "cell_type": "code",
   "execution_count": 45,
   "metadata": {},
   "outputs": [],
   "source": [
    "[[slope]] = session.run(A)\n",
    "[[intercept]] = session.run(b)"
   ]
  },
  {
   "cell_type": "markdown",
   "metadata": {},
   "source": [
    "#### Representación de la separación"
   ]
  },
  {
   "cell_type": "code",
   "execution_count": 46,
   "metadata": {},
   "outputs": [],
   "source": [
    "x = np.linspace(0,3,num = 100)\n",
    "abline_values = []\n",
    "for i in x:\n",
    "    abline_values.append(slope*i+intercept)\n",
    "    \n",
    "setosa_x = [a[1] for i,a in enumerate(iris_2d) if binary_target[i]==1]\n",
    "setosa_y = [a[0] for i,a in enumerate(iris_2d) if binary_target[i]==1]\n",
    "\n",
    "no_setosa_x = [a[1] for i,a in enumerate(iris_2d) if binary_target[i]==0]\n",
    "no_setosa_y = [a[0] for i,a in enumerate(iris_2d) if binary_target[i]==0]"
   ]
  },
  {
   "cell_type": "code",
   "execution_count": 48,
   "metadata": {},
   "outputs": [
    {
     "data": {
      "image/png": "[encoded data removed]",
      "text/plain": [
       "<Figure size 432x288 with 1 Axes>"
      ]
     },
     "metadata": {
      "needs_background": "light"
     },
     "output_type": "display_data"
    }
   ],
   "source": [
    "plt.plot(setosa_x, setosa_y, 'rx', ms=10, mew=2, label='Setosa')\n",
    "plt.plot(no_setosa_x, no_setosa_y, 'ro', label = \"No setosa\")\n",
    "plt.plot(x, abline_values, 'b-')\n",
    "plt.suptitle('Separación lineal de las Setosas', fontsize = 18)\n",
    "plt.xlabel(\"Longitud de los Pétalos\")\n",
    "plt.ylabel(\"Anchura de los Pétalos\")\n",
    "plt.legend(\"lower right\")\n",
    "plt.xlim([0,2.75])\n",
    "plt.ylim([0, 7.5])\n",
    "plt.show()"
   ]
  },
  {
   "cell_type": "code",
   "execution_count": null,
   "metadata": {},
   "outputs": [],
   "source": []
  }
 ],
 "metadata": {
  "kernelspec": {
   "display_name": "Python 3",
   "language": "python",
   "name": "python3"
  },
  "language_info": {
   "codemirror_mode": {
    "name": "ipython",
    "version": 3
   },
   "file_extension": ".py",
   "mimetype": "text/x-python",
   "name": "python",
   "nbconvert_exporter": "python",
   "pygments_lexer": "ipython3",
   "version": "3.5.5"
  }
 },
 "nbformat": 4,
 "nbformat_minor": 2
}
