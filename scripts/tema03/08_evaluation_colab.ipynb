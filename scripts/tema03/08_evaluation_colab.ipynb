{
  "nbformat": 4,
  "nbformat_minor": 0,
  "metadata": {
    "colab": {
      "name": "08-evaluation_colab.ipynb",
      "provenance": [],
      "collapsed_sections": []
    },
    "kernelspec": {
      "display_name": "Python 3",
      "language": "python",
      "name": "python3"
    },
    "language_info": {
      "codemirror_mode": {
        "name": "ipython",
        "version": 3
      },
      "file_extension": ".py",
      "mimetype": "text/x-python",
      "name": "python",
      "nbconvert_exporter": "python",
      "pygments_lexer": "ipython3",
      "version": "3.8.3"
    },
    "accelerator": "GPU"
  },
  "cells": [
    {
      "cell_type": "markdown",
      "metadata": {
        "colab_type": "text",
        "id": "KdUFcDsdzRyw"
      },
      "source": [
        "# Clonamos el repositorio para obtener los dataSet"
      ]
    },
    {
      "cell_type": "code",
      "metadata": {
        "colab_type": "code",
        "id": "mHReFf3_y9ms",
        "colab": {}
      },
      "source": [
        "!git clone https://github.com/joanby/tensorflow.git"
      ],
      "execution_count": null,
      "outputs": []
    },
    {
      "cell_type": "markdown",
      "metadata": {
        "colab_type": "text",
        "id": "vNKZXgtKzU2x"
      },
      "source": [
        "# Damos acceso a nuestro Drive"
      ]
    },
    {
      "cell_type": "code",
      "metadata": {
        "colab_type": "code",
        "id": "5gu7KWnzzUQ0",
        "colab": {}
      },
      "source": [
        "from google.colab import drive\n",
        "drive.mount('/content/drive')"
      ],
      "execution_count": null,
      "outputs": []
    },
    {
      "cell_type": "markdown",
      "metadata": {
        "colab_type": "text",
        "id": "1gUxIkHWzfHV"
      },
      "source": [
        "# Test it"
      ]
    },
    {
      "cell_type": "code",
      "metadata": {
        "colab_type": "code",
        "id": "mIQt3jBMzYRE",
        "colab": {}
      },
      "source": [
        "!ls '/content/drive/My Drive' "
      ],
      "execution_count": null,
      "outputs": []
    },
    {
      "cell_type": "markdown",
      "metadata": {
        "colab_type": "text",
        "id": "mHsK36uN0XB-"
      },
      "source": [
        "# Google colab tools"
      ]
    },
    {
      "cell_type": "code",
      "metadata": {
        "colab_type": "code",
        "id": "kTzwfUPWzrm4",
        "colab": {}
      },
      "source": [
        "from google.colab import files # Para manejar los archivos y, por ejemplo, exportar a su navegador\n",
        "import glob # Para manejar los archivos y, por ejemplo, exportar a su navegador\n",
        "from google.colab import drive # Montar tu Google drive"
      ],
      "execution_count": 1,
      "outputs": []
    },
    {
      "cell_type": "markdown",
      "metadata": {
        "id": "yQQ8nLiMY6wM",
        "colab_type": "text"
      },
      "source": [
        "##Especificando la versión de TensorFlow\n",
        "\n",
        "Ejecutando \"importar tensorflow\" importará la versión por defecto (actualmente 2.x). Puedes usar la 1.x ejecutando una celda con la \"versión mágica de tensorflow\" **antes de ejecutar \"importar tensorflow\".\n",
        "\n",
        "### Si no funciona hacer el pip install\n"
      ]
    },
    {
      "cell_type": "code",
      "metadata": {
        "id": "1j---G3ZY6wN",
        "colab_type": "code",
        "colab": {
          "base_uri": "https://localhost:8080/",
          "height": 34
        },
        "outputId": "ee4ba2b4-62c8-4689-b1bb-9aedba6b5a29"
      },
      "source": [
        "#!pip install tensorflow==1.14\n",
        "%tensorflow_version 1.x"
      ],
      "execution_count": 2,
      "outputs": [
        {
          "output_type": "stream",
          "text": [
            "TensorFlow 1.x selected.\n"
          ],
          "name": "stdout"
        }
      ]
    },
    {
      "cell_type": "markdown",
      "metadata": {
        "id": "S-OIfuWLujbt",
        "colab_type": "text"
      },
      "source": [
        "# Importar Tensorflow"
      ]
    },
    {
      "cell_type": "code",
      "metadata": {
        "id": "OPSus73fumtP",
        "colab_type": "code",
        "colab": {
          "base_uri": "https://localhost:8080/",
          "height": 34
        },
        "outputId": "7f9bda2e-8bc7-4773-b898-151e4c53710f"
      },
      "source": [
        "import tensorflow as tf\n",
        "print(tf.__version__)\n",
        "import matplotlib.pyplot as plt"
      ],
      "execution_count": 3,
      "outputs": [
        {
          "output_type": "stream",
          "text": [
            "1.15.2\n"
          ],
          "name": "stdout"
        }
      ]
    },
    {
      "cell_type": "code",
      "metadata": {
        "id": "VQheSGsEBdD3",
        "colab_type": "code",
        "colab": {}
      },
      "source": [
        "session = tf.Session()"
      ],
      "execution_count": 4,
      "outputs": []
    },
    {
      "cell_type": "markdown",
      "metadata": {
        "id": "qzlBylUEmQJ0",
        "colab_type": "text"
      },
      "source": [
        "# Caso de regresión"
      ]
    },
    {
      "cell_type": "code",
      "metadata": {
        "id": "AwPNJepKmJAJ",
        "colab_type": "code",
        "colab": {}
      },
      "source": [
        "import numpy as np\n",
        "import matplotlib.pyplot as plt\n",
        "from sklearn import datasets"
      ],
      "execution_count": 5,
      "outputs": []
    },
    {
      "cell_type": "code",
      "metadata": {
        "id": "FvgbwHq3mbJv",
        "colab_type": "code",
        "colab": {}
      },
      "source": [
        "x_vals = np.random.normal(1.0, 0.1, 200)\n",
        "y_vals = np.repeat(10.0, 200)\n",
        "\n",
        "x_data = tf.placeholder(shape = [None, 1], dtype = tf.float32)\n",
        "y_target = tf.placeholder(shape = [None, 1], dtype = tf.float32)\n",
        "\n",
        "batch_size = 25"
      ],
      "execution_count": 6,
      "outputs": []
    },
    {
      "cell_type": "code",
      "metadata": {
        "id": "OkJtEI9hEuu0",
        "colab_type": "code",
        "colab": {}
      },
      "source": [
        "train_idx = np.random.choice(len(x_vals), size=round(len(x_vals)*0.8),replace=False)"
      ],
      "execution_count": 7,
      "outputs": []
    },
    {
      "cell_type": "code",
      "metadata": {
        "id": "Aqfzx5TPPKBT",
        "colab_type": "code",
        "colab": {
          "base_uri": "https://localhost:8080/",
          "height": 238
        },
        "outputId": "a4ace266-3da7-4a33-dd6d-6bf15d462607"
      },
      "source": [
        "train_idx"
      ],
      "execution_count": 8,
      "outputs": [
        {
          "output_type": "execute_result",
          "data": {
            "text/plain": [
              "array([ 97,  12, 121,  41,  61, 198, 190, 100, 199,  24,  45,  94, 193,\n",
              "       157,  31, 107, 156, 135, 130,   5,  35, 148, 151, 134, 194,  14,\n",
              "       127, 154,  90,  84,   2, 144,  39,  32, 184, 152,  67, 115,  54,\n",
              "       189,  47, 106,  22, 105, 112, 175, 102,  63, 155, 147,  36,  52,\n",
              "        40, 139, 150,  96, 110, 174,  16,  43,  66, 126,  46,  88, 117,\n",
              "       166,  10, 140, 133,  91, 136,  83,  27,  99, 120,  13,  53,  64,\n",
              "        98, 187,  75, 182,  20,  71,   7, 165, 183, 188, 123,  74, 173,\n",
              "        65,  85, 146,  49, 103,  68, 168,  69,  79,   8, 163, 119,  72,\n",
              "       145, 180,  93,  37, 170,   6,  55,   4, 118,   9,  44,  57, 111,\n",
              "        34,   0, 143, 114,  18, 171, 176,  30, 161, 195, 137, 104,  42,\n",
              "        95, 141,  21,  11,  73, 113,  17, 192, 116,  82,  87,  76,   1,\n",
              "        51,   3,  56, 108,  92,  81, 138, 128, 131, 162,  26, 167, 181,\n",
              "        78,  28,  62, 158])"
            ]
          },
          "metadata": {
            "tags": []
          },
          "execution_count": 8
        }
      ]
    },
    {
      "cell_type": "code",
      "metadata": {
        "id": "KaWS5fKCPMTy",
        "colab_type": "code",
        "colab": {}
      },
      "source": [
        "test_idx = np.array(list(set(range(len(x_vals)))-set(train_idx)))"
      ],
      "execution_count": 9,
      "outputs": []
    },
    {
      "cell_type": "code",
      "metadata": {
        "id": "JSVevVFAmoue",
        "colab_type": "code",
        "colab": {
          "base_uri": "https://localhost:8080/",
          "height": 85
        },
        "outputId": "4de904fd-e5d3-4731-c46e-e1bb27bbed18"
      },
      "source": [
        "test_idx"
      ],
      "execution_count": 10,
      "outputs": [
        {
          "output_type": "execute_result",
          "data": {
            "text/plain": [
              "array([129, 132, 142,  15,  19, 149,  23,  25, 153,  29, 159, 160,  33,\n",
              "       164,  38, 169, 172,  48, 177,  50, 178, 179, 185,  58,  59,  60,\n",
              "       186, 191, 196, 197,  70,  77,  80,  86,  89, 101, 109, 122, 124,\n",
              "       125])"
            ]
          },
          "metadata": {
            "tags": []
          },
          "execution_count": 10
        }
      ]
    },
    {
      "cell_type": "code",
      "metadata": {
        "id": "onQN1h1qB11F",
        "colab_type": "code",
        "colab": {}
      },
      "source": [
        "x_vals_train = x_vals[train_idx]\n",
        "x_vals_test = x_vals[test_idx]\n",
        "y_vals_train = y_vals[train_idx]\n",
        "y_vals_test = y_vals[test_idx]\n",
        "A = tf.Variable(tf.random_normal(shape=[1,1]))"
      ],
      "execution_count": 11,
      "outputs": []
    },
    {
      "cell_type": "code",
      "metadata": {
        "id": "Q9V3JA_4AYq7",
        "colab_type": "code",
        "colab": {}
      },
      "source": [
        "my_prediction = tf.matmul(x_data, A)\n",
        "loss = tf.reduce_mean(tf.square(my_prediction-y_target))\n",
        "my_optim = tf.train.GradientDescentOptimizer(learning_rate=0.02)\n",
        "train_step = my_optim.minimize(loss)\n",
        "init = tf.global_variables_initializer()\n",
        "session.run(init)"
      ],
      "execution_count": 12,
      "outputs": []
    },
    {
      "cell_type": "code",
      "metadata": {
        "id": "7L3w47a13T0N",
        "colab_type": "code",
        "colab": {
          "base_uri": "https://localhost:8080/",
          "height": 187
        },
        "outputId": "59798f38-9b73-47e9-ce58-791c5e5c4dba"
      },
      "source": [
        "for i in range(200):\n",
        "    rand_idx = np.random.choice(len(x_vals_train), size=batch_size)\n",
        "    rand_x = np.transpose([x_vals_train[rand_idx]])\n",
        "    rand_y = np.transpose([y_vals_train[rand_idx]])\n",
        "    session.run(train_step, feed_dict={x_data : rand_x, y_target: rand_y})\n",
        "    if (i+1)%20==0:\n",
        "        print('Paso #'+str(i+1)+ \", A=\"+str(session.run(A))+\", Loss =\"+\n",
        "              str(session.run(loss, feed_dict={x_data:rand_x, y_target:rand_y})))"
      ],
      "execution_count": 13,
      "outputs": [
        {
          "output_type": "stream",
          "text": [
            "Paso #20, A=[[5.481493]], Loss =20.154736\n",
            "Paso #40, A=[[7.951936]], Loss =4.6937103\n",
            "Paso #60, A=[[9.019494]], Loss =1.694028\n",
            "Paso #80, A=[[9.515437]], Loss =1.2979201\n",
            "Paso #100, A=[[9.67077]], Loss =1.0891398\n",
            "Paso #120, A=[[9.784968]], Loss =1.801633\n",
            "Paso #140, A=[[9.826122]], Loss =1.4360211\n",
            "Paso #160, A=[[9.846118]], Loss =0.9284189\n",
            "Paso #180, A=[[9.872354]], Loss =0.88420653\n",
            "Paso #200, A=[[9.85401]], Loss =0.83248764\n"
          ],
          "name": "stdout"
        }
      ]
    },
    {
      "cell_type": "markdown",
      "metadata": {
        "id": "07bwERiT_gkl",
        "colab_type": "text"
      },
      "source": [
        "#### Evaluación del modelo con MSE"
      ]
    },
    {
      "cell_type": "code",
      "metadata": {
        "id": "0i7Vcc083U7X",
        "colab_type": "code",
        "colab": {
          "base_uri": "https://localhost:8080/",
          "height": 51
        },
        "outputId": "92e58f6f-3246-416a-ee88-50f3c48061da"
      },
      "source": [
        "mse_train = session.run(loss, feed_dict={x_data: np.transpose([x_vals_train]), y_target: np.transpose([y_vals_train])})\n",
        "mse_test = session.run(loss, feed_dict={x_data: np.transpose([x_vals_test]), y_target: np.transpose([y_vals_test])})\n",
        "print(\"MSE en el conjunto de entrenamiento \"+str(np.round(mse_train, 3)))\n",
        "print(\"MSE en el conjunto de testing \"+str(np.round(mse_test, 3)))"
      ],
      "execution_count": 14,
      "outputs": [
        {
          "output_type": "stream",
          "text": [
            "MSE en el conjunto de entrenamiento 0.972\n",
            "MSE en el conjunto de testing 1.046\n"
          ],
          "name": "stdout"
        }
      ]
    },
    {
      "cell_type": "markdown",
      "metadata": {
        "id": "LfmOm80q_jtW",
        "colab_type": "text"
      },
      "source": [
        "# Caso de clasificación"
      ]
    },
    {
      "cell_type": "code",
      "metadata": {
        "id": "VxrVnxRU3XPL",
        "colab_type": "code",
        "colab": {}
      },
      "source": [
        "from tensorflow.python.framework import ops\n",
        "ops.reset_default_graph()\n",
        "session = tf.Session()"
      ],
      "execution_count": 15,
      "outputs": []
    },
    {
      "cell_type": "code",
      "metadata": {
        "id": "z6mQRX6a_lCS",
        "colab_type": "code",
        "colab": {}
      },
      "source": [
        "batch_size = 25\n",
        "x_vals = np.concatenate((np.random.normal(-2,1,100), np.random.normal(2,1,100)))\n",
        "y_vals = np.concatenate((np.repeat(0.0, 100), np.repeat(1.0,100)))\n",
        "\n",
        "x_data = tf.placeholder(shape=[1,None], dtype=tf.float32)\n",
        "y_target = tf.placeholder(shape=[1,None], dtype = tf.float32)"
      ],
      "execution_count": 16,
      "outputs": []
    },
    {
      "cell_type": "code",
      "metadata": {
        "id": "HLH3ctU4AmV4",
        "colab_type": "code",
        "colab": {}
      },
      "source": [
        "train_idx = np.random.choice(len(x_vals), size=round(len(x_vals)*0.8), replace=False)\n",
        "test_idx = np.array(list(set(range(len(x_vals)))-set(train_idx)))"
      ],
      "execution_count": 17,
      "outputs": []
    },
    {
      "cell_type": "code",
      "metadata": {
        "id": "K0wQBE9rAnWw",
        "colab_type": "code",
        "colab": {}
      },
      "source": [
        "x_vals_train = x_vals[train_idx]\n",
        "x_vals_test = x_vals[test_idx]\n",
        "y_vals_train = y_vals[train_idx]\n",
        "y_vals_test = y_vals[test_idx]\n",
        "A = tf.Variable(tf.random_normal(mean=10, shape=[1]))"
      ],
      "execution_count": 18,
      "outputs": []
    },
    {
      "cell_type": "code",
      "metadata": {
        "id": "tUs90_oMAoR0",
        "colab_type": "code",
        "colab": {}
      },
      "source": [
        "my_prediction = tf.add(x_data, A)\n",
        "init = tf.global_variables_initializer()\n",
        "session.run(init)"
      ],
      "execution_count": 19,
      "outputs": []
    },
    {
      "cell_type": "code",
      "metadata": {
        "id": "N8B5rVT7ApsH",
        "colab_type": "code",
        "colab": {
          "base_uri": "https://localhost:8080/",
          "height": 88
        },
        "outputId": "632f22ae-94d0-431a-f593-9589a589140e"
      },
      "source": [
        "xentropy = tf.reduce_mean(tf.nn.sigmoid_cross_entropy_with_logits(logits=my_prediction, labels=y_target))\n",
        "my_optim = tf.train.GradientDescentOptimizer(learning_rate=0.05)\n",
        "train_step = my_optim.minimize(xentropy)"
      ],
      "execution_count": 20,
      "outputs": [
        {
          "output_type": "stream",
          "text": [
            "WARNING:tensorflow:From /tensorflow-1.15.2/python3.6/tensorflow_core/python/ops/nn_impl.py:183: where (from tensorflow.python.ops.array_ops) is deprecated and will be removed in a future version.\n",
            "Instructions for updating:\n",
            "Use tf.where in 2.0, which has the same broadcast rule as np.where\n"
          ],
          "name": "stdout"
        }
      ]
    },
    {
      "cell_type": "code",
      "metadata": {
        "id": "4LdooxiUAq3I",
        "colab_type": "code",
        "colab": {
          "base_uri": "https://localhost:8080/",
          "height": 357
        },
        "outputId": "da7b978b-8a9a-41d8-ad29-677c55fa82a2"
      },
      "source": [
        "for i in range(2000):\n",
        "    rand_idx = np.random.choice(len(x_vals_train), size=batch_size)\n",
        "    rand_x = [x_vals_train[rand_idx]]\n",
        "    rand_y = [y_vals_train[rand_idx]]\n",
        "    session.run(train_step, feed_dict={x_data:rand_x, y_target:rand_y})\n",
        "    if(i+1)%100==0:\n",
        "        print(\"Paso #\"+str(i+1)+\", A = \"+str(session.run(A))+\n",
        "             \"Loss = \"+str(session.run(xentropy, feed_dict={x_data: rand_x, y_target:rand_y})))"
      ],
      "execution_count": 21,
      "outputs": [
        {
          "output_type": "stream",
          "text": [
            "Paso #100, A = [7.4133763]Loss = 2.770218\n",
            "Paso #200, A = [5.151876]Loss = 1.2969798\n",
            "Paso #300, A = [3.1860955]Loss = 0.6271861\n",
            "Paso #400, A = [1.8424941]Loss = 0.43281788\n",
            "Paso #500, A = [1.0733563]Loss = 0.16931373\n",
            "Paso #600, A = [0.6632928]Loss = 0.17186055\n",
            "Paso #700, A = [0.39850894]Loss = 0.15941544\n",
            "Paso #800, A = [0.23690085]Loss = 0.13279936\n",
            "Paso #900, A = [0.1516972]Loss = 0.18727393\n",
            "Paso #1000, A = [0.13098848]Loss = 0.16112445\n",
            "Paso #1100, A = [0.1146476]Loss = 0.15355343\n",
            "Paso #1200, A = [0.09206461]Loss = 0.20157658\n",
            "Paso #1300, A = [0.07863934]Loss = 0.15408449\n",
            "Paso #1400, A = [0.06676366]Loss = 0.15899839\n",
            "Paso #1500, A = [0.05774665]Loss = 0.16127124\n",
            "Paso #1600, A = [0.04599117]Loss = 0.13358898\n",
            "Paso #1700, A = [0.06700746]Loss = 0.21750745\n",
            "Paso #1800, A = [0.07839369]Loss = 0.17875454\n",
            "Paso #1900, A = [0.09060813]Loss = 0.17815506\n",
            "Paso #2000, A = [0.0842086]Loss = 0.17414902\n"
          ],
          "name": "stdout"
        }
      ]
    },
    {
      "cell_type": "markdown",
      "metadata": {
        "id": "vevATX0zAtHy",
        "colab_type": "text"
      },
      "source": [
        "#### Evaluar el modelo con la precisión (Accuracy)"
      ]
    },
    {
      "cell_type": "code",
      "metadata": {
        "id": "sLioerKDArux",
        "colab_type": "code",
        "colab": {}
      },
      "source": [
        "y_prediction = tf.squeeze(tf.round(tf.nn.sigmoid(tf.add(x_data, A))))\n",
        "correct_prediction = tf.equal(y_prediction, y_target)\n",
        "accuracy = tf.reduce_mean(tf.cast(correct_prediction, tf.float32))"
      ],
      "execution_count": 22,
      "outputs": []
    },
    {
      "cell_type": "code",
      "metadata": {
        "id": "GhO-G2pOAupi",
        "colab_type": "code",
        "colab": {}
      },
      "source": [
        "acc_train = session.run(accuracy, feed_dict={x_data:[x_vals_train], y_target: [y_vals_train]})\n",
        "acc_test = session.run(accuracy, feed_dict={x_data:[x_vals_test], y_target: [y_vals_test]})"
      ],
      "execution_count": 23,
      "outputs": []
    },
    {
      "cell_type": "code",
      "metadata": {
        "id": "MGVptMvaAvko",
        "colab_type": "code",
        "colab": {
          "base_uri": "https://localhost:8080/",
          "height": 51
        },
        "outputId": "3b63486e-c445-45b1-b3c4-05a059d81869"
      },
      "source": [
        "print(\"Precisión en el conjunto de entrenamiento: \"+str(acc_train))\n",
        "print(\"Precisión en el conjunto de testing: \"+ str(acc_test))"
      ],
      "execution_count": 24,
      "outputs": [
        {
          "output_type": "stream",
          "text": [
            "Precisión en el conjunto de entrenamiento: 0.975\n",
            "Precisión en el conjunto de testing: 0.975\n"
          ],
          "name": "stdout"
        }
      ]
    },
    {
      "cell_type": "markdown",
      "metadata": {
        "id": "5PkxPE6DAySq",
        "colab_type": "text"
      },
      "source": [
        "#### Visualización de los modelos"
      ]
    },
    {
      "cell_type": "code",
      "metadata": {
        "id": "jFUBgdThAxqD",
        "colab_type": "code",
        "colab": {
          "base_uri": "https://localhost:8080/",
          "height": 34
        },
        "outputId": "2353d2ae-66d5-4845-8d49-288691dd204e"
      },
      "source": [
        "A_result = session.run(A)\n",
        "A_result"
      ],
      "execution_count": 25,
      "outputs": [
        {
          "output_type": "execute_result",
          "data": {
            "text/plain": [
              "array([0.0842086], dtype=float32)"
            ]
          },
          "metadata": {
            "tags": []
          },
          "execution_count": 25
        }
      ]
    },
    {
      "cell_type": "code",
      "metadata": {
        "id": "CitkeH0EAwp_",
        "colab_type": "code",
        "colab": {
          "base_uri": "https://localhost:8080/",
          "height": 281
        },
        "outputId": "25e88761-ee6b-449c-f314-0fdd2ac6e19e"
      },
      "source": [
        "bins = np.linspace(-5,5,50)\n",
        "plt.hist(x_vals[0:100], bins, alpha=0.5, label = \"N(-2,1)\", color=\"red\")\n",
        "plt.hist(x_vals[100:200], bins, alpha=0.5, label=\"N(2,1)\", color=\"yellow\")\n",
        "plt.plot((A_result, A_result), (0, 10), \"k--\", linewidth = 4, label = \"A \"+str(np.round(A_result,2)))\n",
        "plt.legend(loc=\"upper right\")\n",
        "plt.title(\"Clasificador Binario de Precisión \"+str(np.round(acc_train,2)))\n",
        "plt.show()"
      ],
      "execution_count": 26,
      "outputs": [
        {
          "output_type": "display_data",
          "data": {
            "image/png": "[encoded data removed]",
            "text/plain": [
              "<Figure size 432x288 with 1 Axes>"
            ]
          },
          "metadata": {
            "tags": [],
            "needs_background": "light"
          }
        }
      ]
    }
  ]
}