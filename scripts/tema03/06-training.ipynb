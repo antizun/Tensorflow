{
 "cells": [
  {
   "cell_type": "markdown",
   "metadata": {},
   "source": [
    "# Entrenamiento estocástico y por bloques"
   ]
  },
  {
   "cell_type": "code",
   "execution_count": 23,
   "metadata": {},
   "outputs": [],
   "source": [
    "import numpy as np\n",
    "import matplotlib.pyplot as plt\n",
    "import tensorflow as tf\n",
    "session = tf.Session()"
   ]
  },
  {
   "cell_type": "code",
   "execution_count": 2,
   "metadata": {},
   "outputs": [],
   "source": [
    "batch_size = 25"
   ]
  },
  {
   "cell_type": "code",
   "execution_count": 3,
   "metadata": {},
   "outputs": [],
   "source": [
    "x_vals = np.random.normal(1.0, 0.1, 200)\n",
    "y_vals = np.repeat(10.0, 200)"
   ]
  },
  {
   "cell_type": "code",
   "execution_count": 16,
   "metadata": {},
   "outputs": [],
   "source": [
    "x_data = tf.placeholder(shape=[None, 1], dtype = tf.float32)\n",
    "y_target = tf.placeholder(shape=[None, 1], dtype=tf.float32)\n",
    "A = tf.Variable(tf.random_normal(shape=[1,1]))"
   ]
  },
  {
   "cell_type": "code",
   "execution_count": 17,
   "metadata": {},
   "outputs": [],
   "source": [
    "my_prediction = tf.matmul(x_data, A)"
   ]
  },
  {
   "cell_type": "code",
   "execution_count": 18,
   "metadata": {},
   "outputs": [],
   "source": [
    "loss = tf.reduce_mean(tf.square(my_prediction-y_target))"
   ]
  },
  {
   "cell_type": "code",
   "execution_count": 19,
   "metadata": {},
   "outputs": [],
   "source": [
    "my_optimizer = tf.train.GradientDescentOptimizer(learning_rate=0.025)\n",
    "train_step = my_optimizer.minimize(loss)"
   ]
  },
  {
   "cell_type": "code",
   "execution_count": 20,
   "metadata": {},
   "outputs": [],
   "source": [
    "init = tf.global_variables_initializer()"
   ]
  },
  {
   "cell_type": "code",
   "execution_count": 21,
   "metadata": {},
   "outputs": [],
   "source": [
    "session.run(init)"
   ]
  },
  {
   "cell_type": "code",
   "execution_count": 13,
   "metadata": {},
   "outputs": [
    {
     "name": "stdout",
     "output_type": "stream",
     "text": [
      "Paso #5 A=[[1.5466158]]\n",
      "Loss: 71.72997\n",
      "Paso #10 A=[[3.4607847]]\n",
      "Loss: 42.500683\n",
      "Paso #15 A=[[4.9370623]]\n",
      "Loss: 24.722448\n",
      "Paso #20 A=[[6.0674796]]\n",
      "Loss: 13.995347\n",
      "Paso #25 A=[[6.942403]]\n",
      "Loss: 8.976261\n",
      "Paso #30 A=[[7.598681]]\n",
      "Loss: 5.148073\n",
      "Paso #35 A=[[8.106969]]\n",
      "Loss: 3.3567538\n",
      "Paso #40 A=[[8.51929]]\n",
      "Loss: 2.806497\n",
      "Paso #45 A=[[8.831427]]\n",
      "Loss: 2.0926802\n",
      "Paso #50 A=[[9.062699]]\n",
      "Loss: 1.432271\n",
      "Paso #55 A=[[9.237102]]\n",
      "Loss: 1.735643\n",
      "Paso #60 A=[[9.382525]]\n",
      "Loss: 0.5055558\n",
      "Paso #65 A=[[9.50833]]\n",
      "Loss: 0.6689747\n",
      "Paso #70 A=[[9.580933]]\n",
      "Loss: 1.6290693\n",
      "Paso #75 A=[[9.598646]]\n",
      "Loss: 0.9758271\n",
      "Paso #80 A=[[9.655508]]\n",
      "Loss: 1.1856046\n",
      "Paso #85 A=[[9.683915]]\n",
      "Loss: 0.566765\n",
      "Paso #90 A=[[9.745023]]\n",
      "Loss: 0.8608786\n",
      "Paso #95 A=[[9.779896]]\n",
      "Loss: 0.8311683\n",
      "Paso #100 A=[[9.768602]]\n",
      "Loss: 0.92747325\n",
      "Paso #105 A=[[9.791717]]\n",
      "Loss: 0.78940964\n",
      "Paso #110 A=[[9.818828]]\n",
      "Loss: 0.91894895\n",
      "Paso #115 A=[[9.815668]]\n",
      "Loss: 0.57458705\n",
      "Paso #120 A=[[9.794432]]\n",
      "Loss: 1.1544502\n",
      "Paso #125 A=[[9.8257475]]\n",
      "Loss: 0.88461244\n",
      "Paso #130 A=[[9.845233]]\n",
      "Loss: 0.895453\n",
      "Paso #135 A=[[9.876106]]\n",
      "Loss: 1.063237\n",
      "Paso #140 A=[[9.8611]]\n",
      "Loss: 0.9793796\n",
      "Paso #145 A=[[9.812614]]\n",
      "Loss: 0.7108177\n",
      "Paso #150 A=[[9.806386]]\n",
      "Loss: 1.0411971\n",
      "Paso #155 A=[[9.821903]]\n",
      "Loss: 0.6974621\n",
      "Paso #160 A=[[9.856872]]\n",
      "Loss: 0.9781287\n",
      "Paso #165 A=[[9.8755665]]\n",
      "Loss: 0.611065\n",
      "Paso #170 A=[[9.861614]]\n",
      "Loss: 0.96494424\n",
      "Paso #175 A=[[9.850355]]\n",
      "Loss: 0.9479613\n",
      "Paso #180 A=[[9.877644]]\n",
      "Loss: 0.9597711\n",
      "Paso #185 A=[[9.875615]]\n",
      "Loss: 1.1853809\n",
      "Paso #190 A=[[9.865932]]\n",
      "Loss: 0.52487695\n",
      "Paso #195 A=[[9.843469]]\n",
      "Loss: 1.0243608\n",
      "Paso #200 A=[[9.850228]]\n",
      "Loss: 0.6797914\n"
     ]
    }
   ],
   "source": [
    "loss_batch = []\n",
    "for i in range(200):\n",
    "    rand_index = np.random.choice(200, size = batch_size)\n",
    "    rand_x = np.transpose([x_vals[rand_index]])\n",
    "    rand_y = np.transpose([y_vals[rand_index]])\n",
    "    session.run(train_step, feed_dict={x_data:rand_x, y_target:rand_y})\n",
    "    if (i+1)%5 == 0:\n",
    "        print(\"Paso #\"+str(i+1)+' A='+str(session.run(A)))\n",
    "        temp_loss = session.run(loss, feed_dict={x_data:rand_x, y_target:rand_y})\n",
    "        print(\"Loss: \"+str(temp_loss))\n",
    "        loss_batch.append(temp_loss)"
   ]
  },
  {
   "cell_type": "code",
   "execution_count": 22,
   "metadata": {},
   "outputs": [
    {
     "name": "stdout",
     "output_type": "stream",
     "text": [
      "Paso #5 A=[[2.8386068]]\n",
      "Loss: 47.227375\n",
      "Paso #10 A=[[4.4447517]]\n",
      "Loss: 35.52379\n",
      "Paso #15 A=[[5.691227]]\n",
      "Loss: 19.955452\n",
      "Paso #20 A=[[6.6577764]]\n",
      "Loss: 13.694222\n",
      "Paso #25 A=[[7.337201]]\n",
      "Loss: 4.6583633\n",
      "Paso #30 A=[[7.8782945]]\n",
      "Loss: 6.98701\n",
      "Paso #35 A=[[8.31216]]\n",
      "Loss: 3.61737\n",
      "Paso #40 A=[[8.672001]]\n",
      "Loss: 0.5675826\n",
      "Paso #45 A=[[8.926746]]\n",
      "Loss: 0.16416308\n",
      "Paso #50 A=[[8.986436]]\n",
      "Loss: 0.37651172\n",
      "Paso #55 A=[[9.271205]]\n",
      "Loss: 0.09251802\n",
      "Paso #60 A=[[9.382527]]\n",
      "Loss: 0.00820007\n",
      "Paso #65 A=[[9.377138]]\n",
      "Loss: 0.0030787715\n",
      "Paso #70 A=[[9.321789]]\n",
      "Loss: 2.4218476\n",
      "Paso #75 A=[[9.33372]]\n",
      "Loss: 0.40372807\n",
      "Paso #80 A=[[9.482349]]\n",
      "Loss: 1.1347523\n",
      "Paso #85 A=[[9.697457]]\n",
      "Loss: 0.014201307\n",
      "Paso #90 A=[[9.695352]]\n",
      "Loss: 0.09368313\n",
      "Paso #95 A=[[9.715504]]\n",
      "Loss: 0.44331262\n",
      "Paso #100 A=[[9.683683]]\n",
      "Loss: 0.8665652\n",
      "Paso #105 A=[[9.506012]]\n",
      "Loss: 3.8073099\n",
      "Paso #110 A=[[9.626891]]\n",
      "Loss: 1.4817065\n",
      "Paso #115 A=[[9.750645]]\n",
      "Loss: 0.27113193\n",
      "Paso #120 A=[[9.827995]]\n",
      "Loss: 2.5600774\n",
      "Paso #125 A=[[9.819887]]\n",
      "Loss: 1.2211251\n",
      "Paso #130 A=[[9.79694]]\n",
      "Loss: 0.3819818\n",
      "Paso #135 A=[[9.734194]]\n",
      "Loss: 5.0091343\n",
      "Paso #140 A=[[9.690486]]\n",
      "Loss: 0.12529379\n",
      "Paso #145 A=[[9.785814]]\n",
      "Loss: 0.7067607\n",
      "Paso #150 A=[[9.858509]]\n",
      "Loss: 0.45173645\n",
      "Paso #155 A=[[9.8497505]]\n",
      "Loss: 1.8487976\n",
      "Paso #160 A=[[9.866417]]\n",
      "Loss: 0.0006113237\n",
      "Paso #165 A=[[9.911884]]\n",
      "Loss: 2.5308368\n",
      "Paso #170 A=[[9.861527]]\n",
      "Loss: 0.029198779\n",
      "Paso #175 A=[[9.719164]]\n",
      "Loss: 4.9249086\n",
      "Paso #180 A=[[9.639772]]\n",
      "Loss: 0.0059223413\n",
      "Paso #185 A=[[9.734347]]\n",
      "Loss: 0.8283254\n",
      "Paso #190 A=[[9.790854]]\n",
      "Loss: 5.4126263\n",
      "Paso #195 A=[[9.931627]]\n",
      "Loss: 0.49591616\n",
      "Paso #200 A=[[9.829694]]\n",
      "Loss: 0.33047456\n"
     ]
    }
   ],
   "source": [
    "loss_stochastic = []\n",
    "for i in range(200):\n",
    "    rand_index = np.random.choice(200, size=1)\n",
    "    rand_x = [x_vals[rand_index]]\n",
    "    rand_y = [y_vals[rand_index]]\n",
    "    session.run(train_step, feed_dict={x_data:rand_x, y_target:rand_y})\n",
    "    if (i+1)%5 == 0:\n",
    "        print(\"Paso #\"+str(i+1)+' A='+str(session.run(A)))\n",
    "        temp_loss = session.run(loss, feed_dict={x_data:rand_x, y_target:rand_y})\n",
    "        print(\"Loss: \"+str(temp_loss))\n",
    "        loss_stochastic.append(temp_loss)"
   ]
  },
  {
   "cell_type": "code",
   "execution_count": 24,
   "metadata": {},
   "outputs": [
    {
     "data": {
      "image/png": "[encoded data removed]",
      "text/plain": [
       "<Figure size 432x288 with 1 Axes>"
      ]
     },
     "metadata": {
      "needs_background": "light"
     },
     "output_type": "display_data"
    }
   ],
   "source": [
    "plt.plot(range(0,200,5), loss_stochastic, 'b-', label = \"Entrenamiento estocástico\")\n",
    "plt.plot(range(0,200,5), loss_batch, 'r--', label = \"Entrenamiento por bloques de tamaño 25\")\n",
    "plt.legend(loc=\"upper right\", prop={'size':10})\n",
    "plt.show()"
   ]
  },
  {
   "cell_type": "code",
   "execution_count": null,
   "metadata": {},
   "outputs": [],
   "source": []
  }
 ],
 "metadata": {
  "kernelspec": {
   "display_name": "Python 3",
   "language": "python",
   "name": "python3"
  },
  "language_info": {
   "codemirror_mode": {
    "name": "ipython",
    "version": 3
   },
   "file_extension": ".py",
   "mimetype": "text/x-python",
   "name": "python",
   "nbconvert_exporter": "python",
   "pygments_lexer": "ipython3",
   "version": "3.5.5"
  }
 },
 "nbformat": 4,
 "nbformat_minor": 2
}
